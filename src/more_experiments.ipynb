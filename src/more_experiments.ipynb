{
 "metadata": {
  "language_info": {
   "codemirror_mode": {
    "name": "ipython",
    "version": 3
   },
   "file_extension": ".py",
   "mimetype": "text/x-python",
   "name": "python",
   "nbconvert_exporter": "python",
   "pygments_lexer": "ipython3",
   "version": "3.7.9-final"
  },
  "orig_nbformat": 2,
  "kernelspec": {
   "name": "python3",
   "display_name": "Python 3",
   "language": "python"
  }
 },
 "nbformat": 4,
 "nbformat_minor": 2,
 "cells": [
  {
   "cell_type": "code",
   "execution_count": 5,
   "metadata": {},
   "outputs": [],
   "source": [
    "from read_write import *\n",
    "import read_write as rw\n",
    "from pathlib import Path\n",
    "# from filter_tests import *\n",
    "from create_trace import *\n",
    "from validate_trace import *"
   ]
  },
  {
   "source": [
    "## Testing"
   ],
   "cell_type": "markdown",
   "metadata": {}
  },
  {
   "cell_type": "code",
   "execution_count": null,
   "metadata": {},
   "outputs": [],
   "source": [
    "vv_folder_path = Path(\"\")\n",
    "\n",
    "process_automatic_tests(vv_folder_path, version_num, srs_prefix=\"TC\")"
   ]
  },
  {
   "cell_type": "code",
   "execution_count": 2,
   "metadata": {},
   "outputs": [],
   "source": [
    "as_run_path = \"../data/ER2228014 v51 ATT1 Manual As-Runs.docx\"\n",
    "as_run_df, invalid_as_run = process_as_run_tests(as_run_path, srs_prefix=\"TC\")"
   ]
  },
  {
   "cell_type": "code",
   "execution_count": 3,
   "metadata": {},
   "outputs": [
    {
     "output_type": "execute_result",
     "data": {
      "text/plain": [
       "     PRD  SRS ID  Method                                          Test Name  \\\n",
       "0    NaN     NaN  Manual  PRD US13044 SRS TC12480 TC12574 Verify Subscri...   \n",
       "1    NaN     NaN  Manual  PRD US13044 SRS TC12480 TC12574 Verify Subscri...   \n",
       "2    NaN     NaN  Manual  PRD US13044 SRS TC12480 TC12575 Verify Subscri...   \n",
       "3    NaN     NaN  Manual  PRD US13044 SRS TC12480 TC12575 Verify Subscri...   \n",
       "4    NaN     NaN  Manual  PRD US13044 SRS TC12480 TC12576 Verify Subscri...   \n",
       "..   ...     ...     ...                                                ...   \n",
       "125  NaN     NaN  Manual  PRD US1693 SRS TC2654 TC2672 TC2673 TC2674 Pan...   \n",
       "126  NaN     NaN  Manual  PRD US1693 SRS TC2654 TC2672 TC2673 TC2674 Pan...   \n",
       "127  NaN     NaN  Manual  PRD US1693 SRS TC2654 TC2672 TC2673 TC2674 Pan...   \n",
       "128  NaN     NaN  Manual  PRD US1693 SRS TC2654 TC2672 TC2673 TC2674 Pan...   \n",
       "129  NaN     NaN  Manual  PRD US14059 SRS TC5939 - Pan and Zoom Oxygen a...   \n",
       "\n",
       "    V&V Test Report    TC ID Test Status   Release  Name      Owner  \\\n",
       "0       2228014 v51  TC12480      Passed  1.33.0.1   NaN  320034800   \n",
       "1       2228014 v51  TC12574      Passed  1.33.0.1   NaN  320034800   \n",
       "2       2228014 v51  TC12480      Passed  1.33.0.1   NaN  320034800   \n",
       "3       2228014 v51  TC12575      Passed  1.33.0.1   NaN  320034800   \n",
       "4       2228014 v51  TC12480      Passed  1.33.0.1   NaN  320034800   \n",
       "..              ...      ...         ...       ...   ...        ...   \n",
       "125     2228014 v51   TC2654      Passed  1.33.0.3   NaN  320023172   \n",
       "126     2228014 v51   TC2672      Passed  1.33.0.3   NaN  320023172   \n",
       "127     2228014 v51   TC2673      Passed  1.33.0.3   NaN  320023172   \n",
       "128     2228014 v51   TC2674      Passed  1.33.0.3   NaN  320023172   \n",
       "129     2228014 v51   TC5939      Passed  1.33.0.3   NaN  320023172   \n",
       "\n",
       "    Application  \n",
       "0      Sapphire  \n",
       "1      Sapphire  \n",
       "2      Sapphire  \n",
       "3      Sapphire  \n",
       "4      Sapphire  \n",
       "..          ...  \n",
       "125    Sapphire  \n",
       "126    Sapphire  \n",
       "127    Sapphire  \n",
       "128    Sapphire  \n",
       "129    Sapphire  \n",
       "\n",
       "[130 rows x 11 columns]"
      ],
      "text/html": "<div>\n<style scoped>\n    .dataframe tbody tr th:only-of-type {\n        vertical-align: middle;\n    }\n\n    .dataframe tbody tr th {\n        vertical-align: top;\n    }\n\n    .dataframe thead th {\n        text-align: right;\n    }\n</style>\n<table border=\"1\" class=\"dataframe\">\n  <thead>\n    <tr style=\"text-align: right;\">\n      <th></th>\n      <th>PRD</th>\n      <th>SRS ID</th>\n      <th>Method</th>\n      <th>Test Name</th>\n      <th>V&amp;V Test Report</th>\n      <th>TC ID</th>\n      <th>Test Status</th>\n      <th>Release</th>\n      <th>Name</th>\n      <th>Owner</th>\n      <th>Application</th>\n    </tr>\n  </thead>\n  <tbody>\n    <tr>\n      <th>0</th>\n      <td>NaN</td>\n      <td>NaN</td>\n      <td>Manual</td>\n      <td>PRD US13044 SRS TC12480 TC12574 Verify Subscri...</td>\n      <td>2228014 v51</td>\n      <td>TC12480</td>\n      <td>Passed</td>\n      <td>1.33.0.1</td>\n      <td>NaN</td>\n      <td>320034800</td>\n      <td>Sapphire</td>\n    </tr>\n    <tr>\n      <th>1</th>\n      <td>NaN</td>\n      <td>NaN</td>\n      <td>Manual</td>\n      <td>PRD US13044 SRS TC12480 TC12574 Verify Subscri...</td>\n      <td>2228014 v51</td>\n      <td>TC12574</td>\n      <td>Passed</td>\n      <td>1.33.0.1</td>\n      <td>NaN</td>\n      <td>320034800</td>\n      <td>Sapphire</td>\n    </tr>\n    <tr>\n      <th>2</th>\n      <td>NaN</td>\n      <td>NaN</td>\n      <td>Manual</td>\n      <td>PRD US13044 SRS TC12480 TC12575 Verify Subscri...</td>\n      <td>2228014 v51</td>\n      <td>TC12480</td>\n      <td>Passed</td>\n      <td>1.33.0.1</td>\n      <td>NaN</td>\n      <td>320034800</td>\n      <td>Sapphire</td>\n    </tr>\n    <tr>\n      <th>3</th>\n      <td>NaN</td>\n      <td>NaN</td>\n      <td>Manual</td>\n      <td>PRD US13044 SRS TC12480 TC12575 Verify Subscri...</td>\n      <td>2228014 v51</td>\n      <td>TC12575</td>\n      <td>Passed</td>\n      <td>1.33.0.1</td>\n      <td>NaN</td>\n      <td>320034800</td>\n      <td>Sapphire</td>\n    </tr>\n    <tr>\n      <th>4</th>\n      <td>NaN</td>\n      <td>NaN</td>\n      <td>Manual</td>\n      <td>PRD US13044 SRS TC12480 TC12576 Verify Subscri...</td>\n      <td>2228014 v51</td>\n      <td>TC12480</td>\n      <td>Passed</td>\n      <td>1.33.0.1</td>\n      <td>NaN</td>\n      <td>320034800</td>\n      <td>Sapphire</td>\n    </tr>\n    <tr>\n      <th>...</th>\n      <td>...</td>\n      <td>...</td>\n      <td>...</td>\n      <td>...</td>\n      <td>...</td>\n      <td>...</td>\n      <td>...</td>\n      <td>...</td>\n      <td>...</td>\n      <td>...</td>\n      <td>...</td>\n    </tr>\n    <tr>\n      <th>125</th>\n      <td>NaN</td>\n      <td>NaN</td>\n      <td>Manual</td>\n      <td>PRD US1693 SRS TC2654 TC2672 TC2673 TC2674 Pan...</td>\n      <td>2228014 v51</td>\n      <td>TC2654</td>\n      <td>Passed</td>\n      <td>1.33.0.3</td>\n      <td>NaN</td>\n      <td>320023172</td>\n      <td>Sapphire</td>\n    </tr>\n    <tr>\n      <th>126</th>\n      <td>NaN</td>\n      <td>NaN</td>\n      <td>Manual</td>\n      <td>PRD US1693 SRS TC2654 TC2672 TC2673 TC2674 Pan...</td>\n      <td>2228014 v51</td>\n      <td>TC2672</td>\n      <td>Passed</td>\n      <td>1.33.0.3</td>\n      <td>NaN</td>\n      <td>320023172</td>\n      <td>Sapphire</td>\n    </tr>\n    <tr>\n      <th>127</th>\n      <td>NaN</td>\n      <td>NaN</td>\n      <td>Manual</td>\n      <td>PRD US1693 SRS TC2654 TC2672 TC2673 TC2674 Pan...</td>\n      <td>2228014 v51</td>\n      <td>TC2673</td>\n      <td>Passed</td>\n      <td>1.33.0.3</td>\n      <td>NaN</td>\n      <td>320023172</td>\n      <td>Sapphire</td>\n    </tr>\n    <tr>\n      <th>128</th>\n      <td>NaN</td>\n      <td>NaN</td>\n      <td>Manual</td>\n      <td>PRD US1693 SRS TC2654 TC2672 TC2673 TC2674 Pan...</td>\n      <td>2228014 v51</td>\n      <td>TC2674</td>\n      <td>Passed</td>\n      <td>1.33.0.3</td>\n      <td>NaN</td>\n      <td>320023172</td>\n      <td>Sapphire</td>\n    </tr>\n    <tr>\n      <th>129</th>\n      <td>NaN</td>\n      <td>NaN</td>\n      <td>Manual</td>\n      <td>PRD US14059 SRS TC5939 - Pan and Zoom Oxygen a...</td>\n      <td>2228014 v51</td>\n      <td>TC5939</td>\n      <td>Passed</td>\n      <td>1.33.0.3</td>\n      <td>NaN</td>\n      <td>320023172</td>\n      <td>Sapphire</td>\n    </tr>\n  </tbody>\n</table>\n<p>130 rows × 11 columns</p>\n</div>"
     },
     "metadata": {},
     "execution_count": 3
    }
   ],
   "source": [
    "as_run_df"
   ]
  },
  {
   "cell_type": "code",
   "execution_count": 4,
   "metadata": {},
   "outputs": [
    {
     "output_type": "execute_result",
     "data": {
      "text/plain": [
       "[                                                Error: Test Name  Run ID  \\\n",
       " 17   Name not found in ../data/ER2228014 v51 ATT1 M...             52522   \n",
       " 30   Name not found in ../data/ER2228014 v51 ATT1 M...             52575   \n",
       " 83   Name not found in ../data/ER2228014 v51 ATT1 M...             52529   \n",
       " 114  Name not found in ../data/ER2228014 v51 ATT1 M...             52645   \n",
       " 116  Name not found in ../data/ER2228014 v51 ATT1 M...             52646   \n",
       " 118  Name not found in ../data/ER2228014 v51 ATT1 M...             52641   \n",
       " \n",
       "     Test Status   Release   Application      Owner V&V Test Report  \n",
       " 17       Failed  1.33.0.1  Sapphire PSC     sahdal     2228014 v51  \n",
       " 30       Failed  1.33.0.1      Sapphire   vnavanee     2228014 v51  \n",
       " 83       Failed  1.33.0.1      Sapphire  320030270     2228014 v51  \n",
       " 114      Passed  1.33.0.2      Sapphire  320023172     2228014 v51  \n",
       " 116      Passed  1.33.0.2      Sapphire  320023172     2228014 v51  \n",
       " 118      Failed  1.33.0.2      Sapphire  310254525     2228014 v51  ,\n",
       "                             Error:  \\\n",
       " 4    Manual test not part of trace   \n",
       " 5    Manual test not part of trace   \n",
       " 8    Manual test not part of trace   \n",
       " 9    Manual test not part of trace   \n",
       " 10   Manual test not part of trace   \n",
       " ..                             ...   \n",
       " 130  Manual test not part of trace   \n",
       " 131  Manual test not part of trace   \n",
       " 132  Manual test not part of trace   \n",
       " 133  Manual test not part of trace   \n",
       " 134  Manual test not part of trace   \n",
       " \n",
       "                                              Test Name  Run ID Test Status  \\\n",
       " 4                                   Toggle off - F5890   52526      Passed   \n",
       " 5      F6176 Patients and Tasks Reports Sticky Headers   52541      Passed   \n",
       " 8    F4329 - Publishing the Equipment and Accessori...   52562      Passed   \n",
       " 9    F4329 - EA to CO migration for  the Equipment ...   52567      Passed   \n",
       " 10   F4329 - Publishing Connectivity (HUB) in Kafka...   52571      Passed   \n",
       " ..                                                 ...     ...         ...   \n",
       " 130        EU Toggle and Configuration Regression Test   52685      Passed   \n",
       " 131  UC US45400 MaskSelector tablet app integration...   52698      Passed   \n",
       " 132  UC US45400 MaskSelector tablet app integration...   52699      Passed   \n",
       " 133  UC US45400 MaskSelector tablet app integration...   52700      Passed   \n",
       " 134                                  F5056 Toggle Test   52701      Passed   \n",
       " \n",
       "       Release Application      Owner V&V Test Report  \n",
       " 4    1.33.0.1    Sapphire     sahdal     2228014 v51  \n",
       " 5    1.33.0.1    Sapphire   ffulcome     2228014 v51  \n",
       " 8    1.33.0.1    Sapphire  320020080     2228014 v51  \n",
       " 9    1.33.0.1    Sapphire  320020080     2228014 v51  \n",
       " 10   1.33.0.1    Sapphire  320020080     2228014 v51  \n",
       " ..        ...         ...        ...             ...  \n",
       " 130  1.33.0.3    Sapphire     sahdal     2228014 v51  \n",
       " 131  1.33.0.5    Sapphire   mjayaram     2228014 v51  \n",
       " 132  1.33.0.5    Sapphire   mjayaram     2228014 v51  \n",
       " 133  1.33.0.5    Sapphire   mjayaram     2228014 v51  \n",
       " 134  1.33.0.5    Sapphire   vnavanee     2228014 v51  \n",
       " \n",
       " [67 rows x 8 columns]]"
      ]
     },
     "metadata": {},
     "execution_count": 4
    }
   ],
   "source": [
    "invalid_as_run"
   ]
  },
  {
   "cell_type": "code",
   "execution_count": 2,
   "metadata": {},
   "outputs": [],
   "source": [
    "from pathlib import Path\n",
    "import re"
   ]
  },
  {
   "source": [
    "## rx"
   ],
   "cell_type": "markdown",
   "metadata": {}
  },
  {
   "cell_type": "code",
   "execution_count": 4,
   "metadata": {},
   "outputs": [
    {
     "output_type": "stream",
     "name": "stdout",
     "text": [
      "Loading Rx test files from ../data/ER2228014 v51 ATT2 Automated as-run/1.33.0/Rx\n"
     ]
    },
    {
     "output_type": "execute_result",
     "data": {
      "text/plain": [
       "                                               Test Name Test Status Release  \\\n",
       "0      RxDeviceAvailable DreamStation Auto CPAP devic...      Passed  1.33.0   \n",
       "1      RxAttributeAvailable DreamStation Auto CPAP de...      Passed  1.33.0   \n",
       "2      TC400 TC708 RxDefaults TC400 TC708 DreamStatio...      Passed  1.33.0   \n",
       "3      TC401 RxSettingOrder TC401 DreamStation Auto C...      Passed  1.33.0   \n",
       "4      TC395 TC396 TC708 RxRangeAndScale RxCreate TC3...      Passed  1.33.0   \n",
       "...                                                  ...         ...     ...   \n",
       "23883  TC396 TC575 TC708 RxMaxInteractions AutoTrialM...      Passed  1.33.0   \n",
       "23884  TC396 TC575 TC708 RxMaxInteractions TC396 TC57...      Passed  1.33.0   \n",
       "23885  TC395 TC396 TC708 RxRangeAndScale RxCreate TC3...      Passed  1.33.0   \n",
       "23886  TC707 RxSaveEdited Random TC707 DreamStation G...      Passed  1.33.0   \n",
       "23887  TC396 TC575 TC708 RxSetInteractions EZStart on...      Passed  1.33.0   \n",
       "\n",
       "      V&V Test Report   RC  Owner  \\\n",
       "0         2228014 v51  RC3   Jeff   \n",
       "1         2228014 v51  RC3   Jeff   \n",
       "2         2228014 v51  RC3   Jeff   \n",
       "3         2228014 v51  RC3   Jeff   \n",
       "4         2228014 v51  RC3   Jeff   \n",
       "...               ...  ...    ...   \n",
       "23883     2228014 v51  RC3  Nihar   \n",
       "23884     2228014 v51  RC3  Nihar   \n",
       "23885     2228014 v51  RC3  Nihar   \n",
       "23886     2228014 v51  RC3  Nihar   \n",
       "23887     2228014 v51  RC3  Nihar   \n",
       "\n",
       "                                               File Path  \n",
       "0      ..\\data\\ER2228014 v51 ATT2 Automated as-run\\1....  \n",
       "1      ..\\data\\ER2228014 v51 ATT2 Automated as-run\\1....  \n",
       "2      ..\\data\\ER2228014 v51 ATT2 Automated as-run\\1....  \n",
       "3      ..\\data\\ER2228014 v51 ATT2 Automated as-run\\1....  \n",
       "4      ..\\data\\ER2228014 v51 ATT2 Automated as-run\\1....  \n",
       "...                                                  ...  \n",
       "23883  ..\\data\\ER2228014 v51 ATT2 Automated as-run\\1....  \n",
       "23884  ..\\data\\ER2228014 v51 ATT2 Automated as-run\\1....  \n",
       "23885  ..\\data\\ER2228014 v51 ATT2 Automated as-run\\1....  \n",
       "23886  ..\\data\\ER2228014 v51 ATT2 Automated as-run\\1....  \n",
       "23887  ..\\data\\ER2228014 v51 ATT2 Automated as-run\\1....  \n",
       "\n",
       "[23888 rows x 7 columns]"
      ],
      "text/html": "<div>\n<style scoped>\n    .dataframe tbody tr th:only-of-type {\n        vertical-align: middle;\n    }\n\n    .dataframe tbody tr th {\n        vertical-align: top;\n    }\n\n    .dataframe thead th {\n        text-align: right;\n    }\n</style>\n<table border=\"1\" class=\"dataframe\">\n  <thead>\n    <tr style=\"text-align: right;\">\n      <th></th>\n      <th>Test Name</th>\n      <th>Test Status</th>\n      <th>Release</th>\n      <th>V&amp;V Test Report</th>\n      <th>RC</th>\n      <th>Owner</th>\n      <th>File Path</th>\n    </tr>\n  </thead>\n  <tbody>\n    <tr>\n      <th>0</th>\n      <td>RxDeviceAvailable DreamStation Auto CPAP devic...</td>\n      <td>Passed</td>\n      <td>1.33.0</td>\n      <td>2228014 v51</td>\n      <td>RC3</td>\n      <td>Jeff</td>\n      <td>..\\data\\ER2228014 v51 ATT2 Automated as-run\\1....</td>\n    </tr>\n    <tr>\n      <th>1</th>\n      <td>RxAttributeAvailable DreamStation Auto CPAP de...</td>\n      <td>Passed</td>\n      <td>1.33.0</td>\n      <td>2228014 v51</td>\n      <td>RC3</td>\n      <td>Jeff</td>\n      <td>..\\data\\ER2228014 v51 ATT2 Automated as-run\\1....</td>\n    </tr>\n    <tr>\n      <th>2</th>\n      <td>TC400 TC708 RxDefaults TC400 TC708 DreamStatio...</td>\n      <td>Passed</td>\n      <td>1.33.0</td>\n      <td>2228014 v51</td>\n      <td>RC3</td>\n      <td>Jeff</td>\n      <td>..\\data\\ER2228014 v51 ATT2 Automated as-run\\1....</td>\n    </tr>\n    <tr>\n      <th>3</th>\n      <td>TC401 RxSettingOrder TC401 DreamStation Auto C...</td>\n      <td>Passed</td>\n      <td>1.33.0</td>\n      <td>2228014 v51</td>\n      <td>RC3</td>\n      <td>Jeff</td>\n      <td>..\\data\\ER2228014 v51 ATT2 Automated as-run\\1....</td>\n    </tr>\n    <tr>\n      <th>4</th>\n      <td>TC395 TC396 TC708 RxRangeAndScale RxCreate TC3...</td>\n      <td>Passed</td>\n      <td>1.33.0</td>\n      <td>2228014 v51</td>\n      <td>RC3</td>\n      <td>Jeff</td>\n      <td>..\\data\\ER2228014 v51 ATT2 Automated as-run\\1....</td>\n    </tr>\n    <tr>\n      <th>...</th>\n      <td>...</td>\n      <td>...</td>\n      <td>...</td>\n      <td>...</td>\n      <td>...</td>\n      <td>...</td>\n      <td>...</td>\n    </tr>\n    <tr>\n      <th>23883</th>\n      <td>TC396 TC575 TC708 RxMaxInteractions AutoTrialM...</td>\n      <td>Passed</td>\n      <td>1.33.0</td>\n      <td>2228014 v51</td>\n      <td>RC3</td>\n      <td>Nihar</td>\n      <td>..\\data\\ER2228014 v51 ATT2 Automated as-run\\1....</td>\n    </tr>\n    <tr>\n      <th>23884</th>\n      <td>TC396 TC575 TC708 RxMaxInteractions TC396 TC57...</td>\n      <td>Passed</td>\n      <td>1.33.0</td>\n      <td>2228014 v51</td>\n      <td>RC3</td>\n      <td>Nihar</td>\n      <td>..\\data\\ER2228014 v51 ATT2 Automated as-run\\1....</td>\n    </tr>\n    <tr>\n      <th>23885</th>\n      <td>TC395 TC396 TC708 RxRangeAndScale RxCreate TC3...</td>\n      <td>Passed</td>\n      <td>1.33.0</td>\n      <td>2228014 v51</td>\n      <td>RC3</td>\n      <td>Nihar</td>\n      <td>..\\data\\ER2228014 v51 ATT2 Automated as-run\\1....</td>\n    </tr>\n    <tr>\n      <th>23886</th>\n      <td>TC707 RxSaveEdited Random TC707 DreamStation G...</td>\n      <td>Passed</td>\n      <td>1.33.0</td>\n      <td>2228014 v51</td>\n      <td>RC3</td>\n      <td>Nihar</td>\n      <td>..\\data\\ER2228014 v51 ATT2 Automated as-run\\1....</td>\n    </tr>\n    <tr>\n      <th>23887</th>\n      <td>TC396 TC575 TC708 RxSetInteractions EZStart on...</td>\n      <td>Passed</td>\n      <td>1.33.0</td>\n      <td>2228014 v51</td>\n      <td>RC3</td>\n      <td>Nihar</td>\n      <td>..\\data\\ER2228014 v51 ATT2 Automated as-run\\1....</td>\n    </tr>\n  </tbody>\n</table>\n<p>23888 rows × 7 columns</p>\n</div>"
     },
     "metadata": {},
     "execution_count": 4
    }
   ],
   "source": [
    "rx_df = read_rx_tests(\"../data/ER2228014 v51 ATT2 Automated as-run/1.33.0/Rx\")\n",
    "rx_df"
   ]
  },
  {
   "cell_type": "code",
   "execution_count": 8,
   "metadata": {},
   "outputs": [
    {
     "output_type": "execute_result",
     "data": {
      "text/plain": [
       "                                               Test Name Test Status Release  \\\n",
       "0      TC6281 F3288_Visit_Summary_From_AmWell.checkAi...      Passed  1.33.0   \n",
       "1      TC6281 F3288_Visit_Summary_From_AmWell.checkNo...      Passed  1.33.0   \n",
       "2      TC5871 F3288_Visit_Summary_From_AmWell.duplica...      Passed  1.33.0   \n",
       "3      TC6282 F3288_Visit_Summary_From_AmWell.checkAm...      Passed  1.33.0   \n",
       "4      TC5867 TC5868 TC5869 TC5872 TC5873 TC5874 TC58...      Passed  1.33.0   \n",
       "...                                                  ...         ...     ...   \n",
       "23883  TC396 TC575 TC708 RxMaxInteractions AutoTrialM...      Passed  1.33.0   \n",
       "23884  TC396 TC575 TC708 RxMaxInteractions TC396 TC57...      Passed  1.33.0   \n",
       "23885  TC395 TC396 TC708 RxRangeAndScale RxCreate TC3...      Passed  1.33.0   \n",
       "23886  TC707 RxSaveEdited Random TC707 DreamStation G...      Passed  1.33.0   \n",
       "23887  TC396 TC575 TC708 RxSetInteractions EZStart on...      Passed  1.33.0   \n",
       "\n",
       "      V&V Test Report   RC     Owner  \\\n",
       "0         2228014 v51  RC1  Akshitha   \n",
       "1         2228014 v51  RC1  Akshitha   \n",
       "2         2228014 v51  RC1  Akshitha   \n",
       "3         2228014 v51  RC1  Akshitha   \n",
       "4         2228014 v51  RC1  Akshitha   \n",
       "...               ...  ...       ...   \n",
       "23883     2228014 v51  RC3     Nihar   \n",
       "23884     2228014 v51  RC3     Nihar   \n",
       "23885     2228014 v51  RC3     Nihar   \n",
       "23886     2228014 v51  RC3     Nihar   \n",
       "23887     2228014 v51  RC3     Nihar   \n",
       "\n",
       "                                               File Path  \n",
       "0      ..\\data\\ER2228014 v51 ATT2 Automated as-run\\1....  \n",
       "1      ..\\data\\ER2228014 v51 ATT2 Automated as-run\\1....  \n",
       "2      ..\\data\\ER2228014 v51 ATT2 Automated as-run\\1....  \n",
       "3      ..\\data\\ER2228014 v51 ATT2 Automated as-run\\1....  \n",
       "4      ..\\data\\ER2228014 v51 ATT2 Automated as-run\\1....  \n",
       "...                                                  ...  \n",
       "23883  ..\\data\\ER2228014 v51 ATT2 Automated as-run\\1....  \n",
       "23884  ..\\data\\ER2228014 v51 ATT2 Automated as-run\\1....  \n",
       "23885  ..\\data\\ER2228014 v51 ATT2 Automated as-run\\1....  \n",
       "23886  ..\\data\\ER2228014 v51 ATT2 Automated as-run\\1....  \n",
       "23887  ..\\data\\ER2228014 v51 ATT2 Automated as-run\\1....  \n",
       "\n",
       "[34033 rows x 7 columns]"
      ],
      "text/html": "<div>\n<style scoped>\n    .dataframe tbody tr th:only-of-type {\n        vertical-align: middle;\n    }\n\n    .dataframe tbody tr th {\n        vertical-align: top;\n    }\n\n    .dataframe thead th {\n        text-align: right;\n    }\n</style>\n<table border=\"1\" class=\"dataframe\">\n  <thead>\n    <tr style=\"text-align: right;\">\n      <th></th>\n      <th>Test Name</th>\n      <th>Test Status</th>\n      <th>Release</th>\n      <th>V&amp;V Test Report</th>\n      <th>RC</th>\n      <th>Owner</th>\n      <th>File Path</th>\n    </tr>\n  </thead>\n  <tbody>\n    <tr>\n      <th>0</th>\n      <td>TC6281 F3288_Visit_Summary_From_AmWell.checkAi...</td>\n      <td>Passed</td>\n      <td>1.33.0</td>\n      <td>2228014 v51</td>\n      <td>RC1</td>\n      <td>Akshitha</td>\n      <td>..\\data\\ER2228014 v51 ATT2 Automated as-run\\1....</td>\n    </tr>\n    <tr>\n      <th>1</th>\n      <td>TC6281 F3288_Visit_Summary_From_AmWell.checkNo...</td>\n      <td>Passed</td>\n      <td>1.33.0</td>\n      <td>2228014 v51</td>\n      <td>RC1</td>\n      <td>Akshitha</td>\n      <td>..\\data\\ER2228014 v51 ATT2 Automated as-run\\1....</td>\n    </tr>\n    <tr>\n      <th>2</th>\n      <td>TC5871 F3288_Visit_Summary_From_AmWell.duplica...</td>\n      <td>Passed</td>\n      <td>1.33.0</td>\n      <td>2228014 v51</td>\n      <td>RC1</td>\n      <td>Akshitha</td>\n      <td>..\\data\\ER2228014 v51 ATT2 Automated as-run\\1....</td>\n    </tr>\n    <tr>\n      <th>3</th>\n      <td>TC6282 F3288_Visit_Summary_From_AmWell.checkAm...</td>\n      <td>Passed</td>\n      <td>1.33.0</td>\n      <td>2228014 v51</td>\n      <td>RC1</td>\n      <td>Akshitha</td>\n      <td>..\\data\\ER2228014 v51 ATT2 Automated as-run\\1....</td>\n    </tr>\n    <tr>\n      <th>4</th>\n      <td>TC5867 TC5868 TC5869 TC5872 TC5873 TC5874 TC58...</td>\n      <td>Passed</td>\n      <td>1.33.0</td>\n      <td>2228014 v51</td>\n      <td>RC1</td>\n      <td>Akshitha</td>\n      <td>..\\data\\ER2228014 v51 ATT2 Automated as-run\\1....</td>\n    </tr>\n    <tr>\n      <th>...</th>\n      <td>...</td>\n      <td>...</td>\n      <td>...</td>\n      <td>...</td>\n      <td>...</td>\n      <td>...</td>\n      <td>...</td>\n    </tr>\n    <tr>\n      <th>23883</th>\n      <td>TC396 TC575 TC708 RxMaxInteractions AutoTrialM...</td>\n      <td>Passed</td>\n      <td>1.33.0</td>\n      <td>2228014 v51</td>\n      <td>RC3</td>\n      <td>Nihar</td>\n      <td>..\\data\\ER2228014 v51 ATT2 Automated as-run\\1....</td>\n    </tr>\n    <tr>\n      <th>23884</th>\n      <td>TC396 TC575 TC708 RxMaxInteractions TC396 TC57...</td>\n      <td>Passed</td>\n      <td>1.33.0</td>\n      <td>2228014 v51</td>\n      <td>RC3</td>\n      <td>Nihar</td>\n      <td>..\\data\\ER2228014 v51 ATT2 Automated as-run\\1....</td>\n    </tr>\n    <tr>\n      <th>23885</th>\n      <td>TC395 TC396 TC708 RxRangeAndScale RxCreate TC3...</td>\n      <td>Passed</td>\n      <td>1.33.0</td>\n      <td>2228014 v51</td>\n      <td>RC3</td>\n      <td>Nihar</td>\n      <td>..\\data\\ER2228014 v51 ATT2 Automated as-run\\1....</td>\n    </tr>\n    <tr>\n      <th>23886</th>\n      <td>TC707 RxSaveEdited Random TC707 DreamStation G...</td>\n      <td>Passed</td>\n      <td>1.33.0</td>\n      <td>2228014 v51</td>\n      <td>RC3</td>\n      <td>Nihar</td>\n      <td>..\\data\\ER2228014 v51 ATT2 Automated as-run\\1....</td>\n    </tr>\n    <tr>\n      <th>23887</th>\n      <td>TC396 TC575 TC708 RxSetInteractions EZStart on...</td>\n      <td>Passed</td>\n      <td>1.33.0</td>\n      <td>2228014 v51</td>\n      <td>RC3</td>\n      <td>Nihar</td>\n      <td>..\\data\\ER2228014 v51 ATT2 Automated as-run\\1....</td>\n    </tr>\n  </tbody>\n</table>\n<p>34033 rows × 7 columns</p>\n</div>"
     },
     "metadata": {},
     "execution_count": 8
    }
   ],
   "source": [
    "pd.concat([api_df, rx_df])"
   ]
  },
  {
   "source": [
    "## Rest api"
   ],
   "cell_type": "markdown",
   "metadata": {}
  },
  {
   "cell_type": "code",
   "execution_count": 5,
   "metadata": {},
   "outputs": [
    {
     "output_type": "stream",
     "name": "stdout",
     "text": [
      "Loading api test files from ../data/ER2228014 v51 ATT2 Automated as-run/1.33.0/RestApiTests\n"
     ]
    }
   ],
   "source": [
    "api_df = read_rest_api_tests(\"../data/ER2228014 v51 ATT2 Automated as-run/1.33.0/RestApiTests\")"
   ]
  },
  {
   "cell_type": "code",
   "execution_count": 6,
   "metadata": {},
   "outputs": [
    {
     "output_type": "execute_result",
     "data": {
      "text/plain": [
       "                                               Test Name Test Status Release  \\\n",
       "0      TC6281 F3288_Visit_Summary_From_AmWell.checkAi...      Passed  1.33.0   \n",
       "1      TC6281 F3288_Visit_Summary_From_AmWell.checkNo...      Passed  1.33.0   \n",
       "2      TC5871 F3288_Visit_Summary_From_AmWell.duplica...      Passed  1.33.0   \n",
       "3      TC6282 F3288_Visit_Summary_From_AmWell.checkAm...      Passed  1.33.0   \n",
       "4      TC5867 TC5868 TC5869 TC5872 TC5873 TC5874 TC58...      Passed  1.33.0   \n",
       "...                                                  ...         ...     ...   \n",
       "10140  TC460 TC464 TC1126 TC1189 TC2149 F1533_Trilogy...      Passed  1.33.0   \n",
       "10141  TC460 TC464 TC1126 TC1189 TC2148 F1533_Trilogy...      Passed  1.33.0   \n",
       "10142  TC460 TC464 TC1126 TC1189 TC2146 F1533_Trilogy...      Passed  1.33.0   \n",
       "10143  TC237 TC2069 TC2542 tests.task.compliance.F251...      Passed  1.33.0   \n",
       "10144  TC2331 tests.task.F2514_Compliance_Rule.Compli...      Passed  1.33.0   \n",
       "\n",
       "      V&V Test Report   RC     Owner  \\\n",
       "0         2228014 v51  RC1  Akshitha   \n",
       "1         2228014 v51  RC1  Akshitha   \n",
       "2         2228014 v51  RC1  Akshitha   \n",
       "3         2228014 v51  RC1  Akshitha   \n",
       "4         2228014 v51  RC1  Akshitha   \n",
       "...               ...  ...       ...   \n",
       "10140     2228014 v51  RC4    Mardis   \n",
       "10141     2228014 v51  RC4    Mardis   \n",
       "10142     2228014 v51  RC4    Mardis   \n",
       "10143     2228014 v51  RC4    Mardis   \n",
       "10144     2228014 v51  RC4    Mardis   \n",
       "\n",
       "                                               File Path  \n",
       "0      ..\\data\\ER2228014 v51 ATT2 Automated as-run\\1....  \n",
       "1      ..\\data\\ER2228014 v51 ATT2 Automated as-run\\1....  \n",
       "2      ..\\data\\ER2228014 v51 ATT2 Automated as-run\\1....  \n",
       "3      ..\\data\\ER2228014 v51 ATT2 Automated as-run\\1....  \n",
       "4      ..\\data\\ER2228014 v51 ATT2 Automated as-run\\1....  \n",
       "...                                                  ...  \n",
       "10140  ..\\data\\ER2228014 v51 ATT2 Automated as-run\\1....  \n",
       "10141  ..\\data\\ER2228014 v51 ATT2 Automated as-run\\1....  \n",
       "10142  ..\\data\\ER2228014 v51 ATT2 Automated as-run\\1....  \n",
       "10143  ..\\data\\ER2228014 v51 ATT2 Automated as-run\\1....  \n",
       "10144  ..\\data\\ER2228014 v51 ATT2 Automated as-run\\1....  \n",
       "\n",
       "[10145 rows x 7 columns]"
      ],
      "text/html": "<div>\n<style scoped>\n    .dataframe tbody tr th:only-of-type {\n        vertical-align: middle;\n    }\n\n    .dataframe tbody tr th {\n        vertical-align: top;\n    }\n\n    .dataframe thead th {\n        text-align: right;\n    }\n</style>\n<table border=\"1\" class=\"dataframe\">\n  <thead>\n    <tr style=\"text-align: right;\">\n      <th></th>\n      <th>Test Name</th>\n      <th>Test Status</th>\n      <th>Release</th>\n      <th>V&amp;V Test Report</th>\n      <th>RC</th>\n      <th>Owner</th>\n      <th>File Path</th>\n    </tr>\n  </thead>\n  <tbody>\n    <tr>\n      <th>0</th>\n      <td>TC6281 F3288_Visit_Summary_From_AmWell.checkAi...</td>\n      <td>Passed</td>\n      <td>1.33.0</td>\n      <td>2228014 v51</td>\n      <td>RC1</td>\n      <td>Akshitha</td>\n      <td>..\\data\\ER2228014 v51 ATT2 Automated as-run\\1....</td>\n    </tr>\n    <tr>\n      <th>1</th>\n      <td>TC6281 F3288_Visit_Summary_From_AmWell.checkNo...</td>\n      <td>Passed</td>\n      <td>1.33.0</td>\n      <td>2228014 v51</td>\n      <td>RC1</td>\n      <td>Akshitha</td>\n      <td>..\\data\\ER2228014 v51 ATT2 Automated as-run\\1....</td>\n    </tr>\n    <tr>\n      <th>2</th>\n      <td>TC5871 F3288_Visit_Summary_From_AmWell.duplica...</td>\n      <td>Passed</td>\n      <td>1.33.0</td>\n      <td>2228014 v51</td>\n      <td>RC1</td>\n      <td>Akshitha</td>\n      <td>..\\data\\ER2228014 v51 ATT2 Automated as-run\\1....</td>\n    </tr>\n    <tr>\n      <th>3</th>\n      <td>TC6282 F3288_Visit_Summary_From_AmWell.checkAm...</td>\n      <td>Passed</td>\n      <td>1.33.0</td>\n      <td>2228014 v51</td>\n      <td>RC1</td>\n      <td>Akshitha</td>\n      <td>..\\data\\ER2228014 v51 ATT2 Automated as-run\\1....</td>\n    </tr>\n    <tr>\n      <th>4</th>\n      <td>TC5867 TC5868 TC5869 TC5872 TC5873 TC5874 TC58...</td>\n      <td>Passed</td>\n      <td>1.33.0</td>\n      <td>2228014 v51</td>\n      <td>RC1</td>\n      <td>Akshitha</td>\n      <td>..\\data\\ER2228014 v51 ATT2 Automated as-run\\1....</td>\n    </tr>\n    <tr>\n      <th>...</th>\n      <td>...</td>\n      <td>...</td>\n      <td>...</td>\n      <td>...</td>\n      <td>...</td>\n      <td>...</td>\n      <td>...</td>\n    </tr>\n    <tr>\n      <th>10140</th>\n      <td>TC460 TC464 TC1126 TC1189 TC2149 F1533_Trilogy...</td>\n      <td>Passed</td>\n      <td>1.33.0</td>\n      <td>2228014 v51</td>\n      <td>RC4</td>\n      <td>Mardis</td>\n      <td>..\\data\\ER2228014 v51 ATT2 Automated as-run\\1....</td>\n    </tr>\n    <tr>\n      <th>10141</th>\n      <td>TC460 TC464 TC1126 TC1189 TC2148 F1533_Trilogy...</td>\n      <td>Passed</td>\n      <td>1.33.0</td>\n      <td>2228014 v51</td>\n      <td>RC4</td>\n      <td>Mardis</td>\n      <td>..\\data\\ER2228014 v51 ATT2 Automated as-run\\1....</td>\n    </tr>\n    <tr>\n      <th>10142</th>\n      <td>TC460 TC464 TC1126 TC1189 TC2146 F1533_Trilogy...</td>\n      <td>Passed</td>\n      <td>1.33.0</td>\n      <td>2228014 v51</td>\n      <td>RC4</td>\n      <td>Mardis</td>\n      <td>..\\data\\ER2228014 v51 ATT2 Automated as-run\\1....</td>\n    </tr>\n    <tr>\n      <th>10143</th>\n      <td>TC237 TC2069 TC2542 tests.task.compliance.F251...</td>\n      <td>Passed</td>\n      <td>1.33.0</td>\n      <td>2228014 v51</td>\n      <td>RC4</td>\n      <td>Mardis</td>\n      <td>..\\data\\ER2228014 v51 ATT2 Automated as-run\\1....</td>\n    </tr>\n    <tr>\n      <th>10144</th>\n      <td>TC2331 tests.task.F2514_Compliance_Rule.Compli...</td>\n      <td>Passed</td>\n      <td>1.33.0</td>\n      <td>2228014 v51</td>\n      <td>RC4</td>\n      <td>Mardis</td>\n      <td>..\\data\\ER2228014 v51 ATT2 Automated as-run\\1....</td>\n    </tr>\n  </tbody>\n</table>\n<p>10145 rows × 7 columns</p>\n</div>"
     },
     "metadata": {},
     "execution_count": 6
    }
   ],
   "source": [
    "api_df"
   ]
  },
  {
   "cell_type": "code",
   "execution_count": null,
   "metadata": {},
   "outputs": [],
   "source": [
    "invalid_dfs = []\n",
    "\n",
    "api_df, invalid_df = filter_status(api_df)\n",
    "if len(invalid_df) > 0:\n",
    "    invalid_df.insert(0, \"Error:\", f\"Rest API test entry invalid status for trace\")\n",
    "    invalid_dfs.append(invalid_df)\n",
    "invalid_df"
   ]
  },
  {
   "cell_type": "code",
   "execution_count": null,
   "metadata": {},
   "outputs": [],
   "source": [
    "api_df"
   ]
  },
  {
   "cell_type": "code",
   "execution_count": null,
   "metadata": {},
   "outputs": [],
   "source": [
    "invalid_df = api_df.loc[~api_df[\"Test Name\"].str[0:2].isin([\"TC\", \"ES\"])]\n",
    "invalid_df.insert(0, \"Error:\", \"Automatic test not part of trace\")\n",
    "invalid_dfs.append(invalid_df)\n",
    "invalid_df"
   ]
  },
  {
   "cell_type": "code",
   "execution_count": null,
   "metadata": {},
   "outputs": [],
   "source": [
    "api_df = api_df.loc[api_df[\"Test Name\"].str[0:2].isin([\"TC\", \"ES\"])]\n",
    "api_df"
   ]
  },
  {
   "cell_type": "code",
   "execution_count": null,
   "metadata": {},
   "outputs": [],
   "source": [
    "# ---------------------------------\n",
    "# Formatting and filling in columns\n",
    "# ---------------------------------\n",
    "new_trace = []\n",
    "for row in api_df.values:\n",
    "    test_name = row[0]\n",
    "\n",
    "    tcs = re.findall(\"TC[0-9]+\", test_name)\n",
    "    # prds = re.findall(f\"{srs_prefix}[0-9]+\", test_name)\n",
    "\n",
    "    # for prd in prds:\n",
    "    for tc in tcs:\n",
    "        entry = {\n",
    "            \"PRD\": np.nan, # TODO: Fix by finding out where prd can be looked up\n",
    "            \"SRS ID\": np.nan, # TODO: Fix by finding out where SRS ID (ESA) can be looked up\n",
    "            \"Method\": \"Automatic\",\n",
    "            \"Test Name\": test_name,\n",
    "            \"V&V Test Report\": row[3],\n",
    "            \"TC ID\": tc,\n",
    "            \"Test Status\": row[1],\n",
    "            \"Release\": row[2],\n",
    "            \"Name\": np.nan, # TODO: Fix by finding out where name can be looked up\n",
    "            \"Owner\": row[5],\n",
    "            \"Application\": \"Sapphire\" # TODO: These may not all be sapphire; may need to fix\n",
    "        }\n",
    "        new_trace.append(entry)\n",
    "pd.DataFrame(new_trace)"
   ]
  },
  {
   "source": [
    "## manual as runs"
   ],
   "cell_type": "markdown",
   "metadata": {}
  },
  {
   "cell_type": "code",
   "execution_count": null,
   "metadata": {},
   "outputs": [],
   "source": [
    "version_num = \"1.33.0\""
   ]
  },
  {
   "cell_type": "code",
   "execution_count": null,
   "metadata": {},
   "outputs": [],
   "source": [
    "as_run_path = \"../data/ER2228014 v51 ATT1 Manual As-Runs.docx\"\n",
    "file_name = Path(as_run_path).stem\n",
    "as_run_df = read_as_run_tests(as_run_path)\n",
    "as_run_df"
   ]
  },
  {
   "cell_type": "code",
   "execution_count": null,
   "metadata": {},
   "outputs": [],
   "source": [
    "# Filter out all the invalid entries\n",
    "invalid_dfs = []\n",
    "\n",
    "# Filter out if Test Status != \"Passed\" or \"Failed\"\n",
    "as_run_df, invalid_df = filter_status(as_run_df)\n",
    "if len(invalid_df) > 0:\n",
    "    invalid_dfs.append(invalid_df)\n",
    "\n",
    "# Filter out any tests with blank names (name wasnt in original document; just the run id)\n",
    "invalid_df = as_run_df.loc[as_run_df[\"Test Name\"].isin([\"\"])]\n",
    "invalid_df.insert(0, \"Error:\", f\"Name not found in {file_name}\")\n",
    "invalid_dfs.append(invalid_df)\n",
    "invalid_df"
   ]
  },
  {
   "cell_type": "code",
   "execution_count": null,
   "metadata": {},
   "outputs": [],
   "source": [
    "as_run_df = as_run_df.loc[~as_run_df[\"Test Name\"].isin([\"\"])]\n",
    "as_run_df"
   ]
  },
  {
   "cell_type": "code",
   "execution_count": null,
   "metadata": {},
   "outputs": [],
   "source": [
    "invalid_df = as_run_df.loc[~as_run_df[\"Test Name\"].str[0:3].isin([\"PRD\", \"SRS\"])]\n",
    "invalid_df.insert(0, \"Error:\", \"Manual test not part of trace\")\n",
    "invalid_dfs.append(invalid_df)\n",
    "invalid_df"
   ]
  },
  {
   "cell_type": "code",
   "execution_count": null,
   "metadata": {},
   "outputs": [],
   "source": [
    "as_run_df = as_run_df.loc[as_run_df[\"Test Name\"].str[0:3].isin([\"PRD\", \"SRS\"])]\n",
    "as_run_df"
   ]
  },
  {
   "cell_type": "code",
   "execution_count": null,
   "metadata": {},
   "outputs": [],
   "source": [
    "# Test Name,\tRun ID,\tTest Status,\tRelease,\tApplication,\tV&V Test Report\n",
    "new_col_names = [\"PRD\", \"SRS ID\", \"Method\", \"Test Name\", \"V&V Test Report\", \"TC ID\", \"Test Status\", \"Release\", \"Name\", \"Owner\", \"Application\"]"
   ]
  },
  {
   "cell_type": "code",
   "execution_count": null,
   "metadata": {},
   "outputs": [],
   "source": [
    "co_trace = read_trace(\"../data/ER 2228015 v42 ATT1 Sapphire 1.32 Trace Matrix.xlsx\", \"CO\")\n",
    "# psc_trace = read_trace(\"../data/ER 2228015 v42 ATT1 Sapphire 1.32 Trace Matrix.xlsx\", \"PSC\")"
   ]
  },
  {
   "cell_type": "code",
   "execution_count": null,
   "metadata": {},
   "outputs": [],
   "source": [
    "as_run_df.values[0]"
   ]
  },
  {
   "cell_type": "code",
   "execution_count": null,
   "metadata": {},
   "outputs": [],
   "source": [
    "srs_prefix = \"TC\"\n",
    "\n",
    "# Search for test name in previous trace\n",
    "new_trace = []\n",
    "for row in as_run_df.values:\n",
    "    test_name = row[0]\n",
    "\n",
    "    tcs = re.findall(\"TC[0-9]+\", test_name)\n",
    "    prds = re.findall(f\"{srs_prefix}[0-9]+\", test_name)\n",
    "\n",
    "    for prd in prds:\n",
    "        for tc in tcs:\n",
    "            entry = {\n",
    "                \"PRD\": prd,\n",
    "                \"SRS ID\": np.nan,\n",
    "                \"Method\": \"Manual\",\n",
    "                \"Test Name\": test_name,\n",
    "                \"V&V Test Report\": row[6],\n",
    "                \"TC ID\": tc,\n",
    "                \"Test Status\": row[2],\n",
    "                \"Release\": row[3],\n",
    "                \"Name\": np.nan,\n",
    "                \"Owner\": row[5],\n",
    "                \"Application\": row[4]\n",
    "            }\n",
    "            new_trace.append(entry)\n",
    "\n",
    "    # Search for test name in prev co trace\n",
    "    # matched_row = co_trace.loc[co_trace[\"Test Name\"].isin([test_name])]\n",
    "    # print(matched_row)\n",
    "    # if len(matched_row) > 0:\n",
    "    #     # if there's a match, populate missing columns\n",
    "    #     prd = \n",
    "    # else:\n",
    "\n",
    "    # break\n",
    "pd.DataFrame(new_trace)"
   ]
  },
  {
   "cell_type": "code",
   "execution_count": null,
   "metadata": {},
   "outputs": [],
   "source": []
  },
  {
   "cell_type": "code",
   "execution_count": null,
   "metadata": {},
   "outputs": [],
   "source": [
    "for s in as_run_df[\"Test Name\"].values:\n",
    "    prd = re.findall(\"US[0-9]+\", s)\n",
    "    if len(prd) == 0:\n",
    "        print(f\"hi: {s}\")\n",
    "    print(prd)"
   ]
  },
  {
   "cell_type": "code",
   "execution_count": null,
   "metadata": {},
   "outputs": [],
   "source": [
    "as_run_df.loc[as_run_df[\"Test Name\"] == \"SRS TC7521 TC7523 Timeframe Filters\"]"
   ]
  },
  {
   "source": [
    "## helpin tools"
   ],
   "cell_type": "markdown",
   "metadata": {}
  },
  {
   "cell_type": "code",
   "execution_count": null,
   "metadata": {},
   "outputs": [],
   "source": [
    "# invalid_df[\"Test Name\"] = f\"ERROR: No name for this test found in {file_name}\"\n",
    "shared = as_run_df.loc[as_run_df[\"Test Name\"].isin(co_trace[\"Test Name\"].values)]\n",
    "print(len(shared))\n",
    "shared"
   ]
  },
  {
   "cell_type": "code",
   "execution_count": null,
   "metadata": {},
   "outputs": [],
   "source": [
    "shared = as_run_df.loc[as_run_df[\"Test Name\"].isin(psc_trace[\"Test Name\"].values)]\n",
    "print(len(shared))\n",
    "shared"
   ]
  },
  {
   "cell_type": "code",
   "execution_count": null,
   "metadata": {},
   "outputs": [],
   "source": [
    "co_trace.loc[co_trace[\"Test Name\"].isin(shared[\"Test Name\"].values)]"
   ]
  },
  {
   "cell_type": "code",
   "execution_count": null,
   "metadata": {},
   "outputs": [],
   "source": [
    "set([s.split(\" \")[0] for s in manual.test_name.values])"
   ]
  },
  {
   "cell_type": "code",
   "execution_count": null,
   "metadata": {},
   "outputs": [],
   "source": [
    "file_path = \"../data/ER2228014 v51 ATT1 Manual As-Runs.docx\""
   ]
  },
  {
   "cell_type": "code",
   "execution_count": null,
   "metadata": {},
   "outputs": [],
   "source": [
    "v_v = \"ER2228014v51\""
   ]
  },
  {
   "cell_type": "code",
   "execution_count": null,
   "metadata": {},
   "outputs": [],
   "source": [
    "v_idx = v_v.find(\"v\")\n",
    "if v_v[v_idx - 1] != \" \":\n",
    "    v_v = v_v[:v_idx] + \" \" + v_v[v_idx:]"
   ]
  },
  {
   "cell_type": "code",
   "execution_count": null,
   "metadata": {},
   "outputs": [],
   "source": [
    "v_v"
   ]
  },
  {
   "cell_type": "code",
   "execution_count": null,
   "metadata": {},
   "outputs": [],
   "source": [
    "with open(file_path, 'rb') as f:\n",
    "    document = Document(f)"
   ]
  },
  {
   "cell_type": "code",
   "execution_count": null,
   "metadata": {},
   "outputs": [],
   "source": [
    "# Get the test names\n",
    "# (Need to iterate separately because theyre technically separate \"paragraphs\")\n",
    "test_names = []\n",
    "run_ids = []\n",
    "# For each \"paragraph\" in the document,\n",
    "for i, paragraph in enumerate(document.paragraphs):\n",
    "    # Find lines that have \"Run ID\" in them\n",
    "    if \"Run ID:\" in paragraph.text:\n",
    "        # The line before that has the test name\n",
    "        test_names.append(document.paragraphs[i-1].text)\n",
    "        # Also store the run_id (for error log)\n",
    "        run_id = int(paragraph.text.replace(\"Run ID:\", \"\"))\n",
    "        run_ids.append(run_id)"
   ]
  },
  {
   "cell_type": "code",
   "execution_count": null,
   "metadata": {},
   "outputs": [],
   "source": [
    "print(len(run_ids))\n",
    "run_ids[0:10]"
   ]
  },
  {
   "cell_type": "code",
   "execution_count": null,
   "metadata": {},
   "outputs": [],
   "source": [
    "print(len(test_names))\n",
    "test_names[0:10]"
   ]
  },
  {
   "cell_type": "code",
   "execution_count": null,
   "metadata": {},
   "outputs": [],
   "source": [
    "# Get the table info\n",
    "data = []\n",
    "\n",
    "# For each table in the document:\n",
    "entry_idx = 0\n",
    "for table in document.tables:\n",
    "    # If the first few cells belong to a test, it's probably a test description table\n",
    "    if table.cell(0,0).text == \"Status:\" and table.cell(1,2).text == \"1. Product\":\n",
    "        # Extract the test info from table\n",
    "        # Get PRD \n",
    "        data.append({\n",
    "            \"Test Name\": test_names[entry_idx],\n",
    "            \"Run ID\": run_ids[entry_idx],\n",
    "            \"Test Status\": table.cell(0,1).text,\n",
    "            \"Release\":table.cell(2,1).text,\n",
    "            \"Application\": table.cell(1,3).text,\n",
    "        })\n",
    "\n",
    "        entry_idx += 1\n",
    "        # statuses.append()\n",
    "        # products.append(table.cell(1,1).text)\n",
    "\n",
    "# # Make sure same number of test names and statuses\n",
    "# assert len(test_names) == len(statuses), \"Error: Couldn't parse same number of test names and test statuses.\\n# test names: {len(test_names)}, # statuses: {len(statuses)}\"\n",
    "\n",
    "# make a dataframe for outputting\n",
    "df = pd.DataFrame(data)\n",
    "df"
   ]
  },
  {
   "cell_type": "code",
   "execution_count": null,
   "metadata": {},
   "outputs": [],
   "source": [
    "len(test_names)"
   ]
  },
  {
   "cell_type": "code",
   "execution_count": null,
   "metadata": {},
   "outputs": [],
   "source": [
    "df = read_performance_test_results_by_tc(\"../data/ER2228014 v51 ATT2 Automated as-run/1.33.0/PerformanceTests/PerformanceTestResultsByTC_2020_10_12.xlsx\")\n",
    "df"
   ]
  },
  {
   "cell_type": "code",
   "execution_count": null,
   "metadata": {},
   "outputs": [],
   "source": [
    "valid, invalid = filter_tests(df)\n",
    "valid"
   ]
  },
  {
   "cell_type": "code",
   "execution_count": null,
   "metadata": {},
   "outputs": [],
   "source": [
    "valid"
   ]
  },
  {
   "cell_type": "code",
   "execution_count": null,
   "metadata": {},
   "outputs": [],
   "source": [
    "invalid"
   ]
  },
  {
   "cell_type": "code",
   "execution_count": null,
   "metadata": {},
   "outputs": [],
   "source": [
    "rx = read_rx_tests(\"../data/ER2228014 v51 ATT2 Automated as-run/1.33.0/Rx\")\n",
    "rx"
   ]
  },
  {
   "cell_type": "code",
   "execution_count": null,
   "metadata": {},
   "outputs": [],
   "source": [
    "valid, invalid = filter_tests(rx)\n",
    "valid"
   ]
  },
  {
   "cell_type": "code",
   "execution_count": null,
   "metadata": {},
   "outputs": [],
   "source": [
    "invalid"
   ]
  },
  {
   "cell_type": "code",
   "execution_count": null,
   "metadata": {},
   "outputs": [],
   "source": [
    "api = read_rest_api_tests(\"../data/ER2228014 v51 ATT2 Automated as-run/1.33.0/RestApiTests\")\n",
    "api"
   ]
  },
  {
   "cell_type": "code",
   "execution_count": null,
   "metadata": {},
   "outputs": [],
   "source": [
    "\"PASSED\".lower().capitalize()"
   ]
  },
  {
   "cell_type": "code",
   "execution_count": null,
   "metadata": {},
   "outputs": [],
   "source": [
    "folder_path = Path(\"../data/ER2228014 v51 ATT2 Automated as-run/1.33.0/Rx\")\n",
    "print(f\"Loading Rx test files from {folder_path}\")\n",
    "if isinstance(folder_path, str):\n",
    "    folder_path = Path(folder_path)\n",
    "\n",
    "# Read all .txt files recursively in the folders\n",
    "file_list = [file_name for file_name in folder_path.rglob(\"*.txt\") if \"__MACOSX\" not in str(file_name)]\n",
    "\n",
    "# Load in the data from each file, add to a single list\n",
    "data = []"
   ]
  },
  {
   "cell_type": "code",
   "execution_count": null,
   "metadata": {},
   "outputs": [],
   "source": [
    "file_list"
   ]
  },
  {
   "cell_type": "code",
   "execution_count": null,
   "metadata": {},
   "outputs": [],
   "source": [
    "file_path = file_list[0]\n",
    "lines = file_path.read_text().split(\"\\n\")\n",
    "lines[0:10]"
   ]
  },
  {
   "cell_type": "code",
   "execution_count": null,
   "metadata": {},
   "outputs": [],
   "source": [
    "_read_rx_txt(file_list[1])"
   ]
  },
  {
   "cell_type": "code",
   "execution_count": null,
   "metadata": {},
   "outputs": [],
   "source": [
    "def _read_rx_txt(file_path, return_df=True):\n",
    "    \"\"\"Reads in a single Rx automatic test .txt file.\n",
    "\n",
    "    Mostly just for the `read_rx_tests()` method. Usually won't need to call yourself\n",
    "\n",
    "    Args:\n",
    "        file_path (String): path to the .txt file\n",
    "        return_df (bool, optional): If true, returns pandas dataframe. Else dict. Defaults to True.\n",
    "\n",
    "    Returns:\n",
    "        pd.DataFrame or dict: Test names and corresponding statuses\n",
    "    \"\"\"\n",
    "    # If receive str, convert to pathlib object\n",
    "    if isinstance(file_path, str):\n",
    "        file_path = Path(file_path)\n",
    "\n",
    "    # Read in file using pathlib method, split on new line symbols\n",
    "    lines = file_path.read_text().split(\"\\n\")\n",
    "\n",
    "    # Remove blank lines\n",
    "    lines = [line for line in lines if len(line) > 0]\n",
    "\n",
    "    data = []\n",
    "    for line in lines:\n",
    "        if len(line) < 2:\n",
    "            continue \n",
    "        # split on the | char; should only be one of them\n",
    "        line_data = line.split(\"|\")\n",
    "\n",
    "        # For some reason if theres multiple of that char, only consider the last one\n",
    "        if len(line_data) > 2:\n",
    "            print(f\"found line with multiple '|' chars: {line}\")\n",
    "            line_data = \"\".join(line_data[:-1]) + [line_data[-1]]\n",
    "        \n",
    "        # Get relevant data for other columns\n",
    "        base_folder_idx = [i for i, s in enumerate(file_path.parts) if \"Rx\" in str(s)][0]\n",
    "        \n",
    "        # Store data in list\n",
    "        data.append({\n",
    "            'test_name':line_data[0],\n",
    "            'status':line_data[1],\n",
    "            'rc': file_path.parts[base_folder_idx + 1],\n",
    "            'name': file_path.parts[base_folder_idx + 2],\n",
    "            'file_name': str(file_path)\n",
    "        })\n",
    "\n",
    "    if return_df:\n",
    "        return pd.DataFrame(data)\n",
    "    else:\n",
    "        return data"
   ]
  },
  {
   "cell_type": "code",
   "execution_count": null,
   "metadata": {},
   "outputs": [],
   "source": [
    "# Create a path object (from pathlib) for the vv root folder.\n",
    "vv_folder_path = Path(\"../data/ER2228014 v51 ATT2 Automated as-run\")\n",
    "\n",
    "# Get the correct folder for the provided version number.\n",
    "version_path = [x for x in vv_folder_path.iterdir() if x.is_dir() and x.name == version_num][0]\n",
    "version_path"
   ]
  },
  {
   "cell_type": "code",
   "execution_count": null,
   "metadata": {},
   "outputs": [],
   "source": [
    "v_v = re.findall(\"ER[0-9]+ v[0-9]+\", vv_folder_path.name)[0].replace(\"ER\", \"\")\n",
    "v_v"
   ]
  },
  {
   "cell_type": "code",
   "execution_count": null,
   "metadata": {},
   "outputs": [],
   "source": [
    "re.match(\"ER[0-9]+ v[0-9]+\", p.stem).string"
   ]
  },
  {
   "cell_type": "code",
   "execution_count": null,
   "metadata": {},
   "outputs": [],
   "source": [
    "version_path / \"RestApiTests\""
   ]
  },
  {
   "cell_type": "code",
   "execution_count": null,
   "metadata": {},
   "outputs": [],
   "source": [
    "data=read_manual_tests(\"../data/ER2228014 v51 ATT1 Manual As-Runs.docx\")"
   ]
  },
  {
   "cell_type": "code",
   "execution_count": null,
   "metadata": {},
   "outputs": [],
   "source": [
    "data"
   ]
  },
  {
   "cell_type": "code",
   "execution_count": null,
   "metadata": {},
   "outputs": [],
   "source": [
    "df = df[\"V&V Test Report\"] = \"\"\n",
    "df"
   ]
  },
  {
   "cell_type": "code",
   "execution_count": null,
   "metadata": {},
   "outputs": [],
   "source": [
    "df = read_rally_output(\"../data/Non Obsolete TC_1.33.csv\")\n",
    "df"
   ]
  },
  {
   "cell_type": "code",
   "execution_count": null,
   "metadata": {},
   "outputs": [],
   "source": [
    "# \"PRD Trace\", \"SRS ID (blank)\", \"Method\", \"Name\", \"V&V(blank)\", \"TC ID (SRS ID)\", \"Status\", \"TC Maj Release\", \"Description\", \"Created By\", \"Application\"\n",
    "df.columns"
   ]
  },
  {
   "cell_type": "code",
   "execution_count": null,
   "metadata": {},
   "outputs": [],
   "source": [
    "old_col_names = ['Formatted ID', 'Name', 'Work Product', 'Type', 'Priority', 'Owner',\n",
    "       'Method', 'Results', 'Last Build', 'Last Run', 'Application',\n",
    "       'Defect Status', 'Additional Detail', 'Display Color', 'Created By',\n",
    "       'Creation Date', 'Defects', 'Description', 'Discussion',\n",
    "       'Group/Project', 'Last Update Date', 'Modified Desc',\n",
    "       'Modified Name Text', 'New/Modified/Obs', 'Notes', 'Objective',\n",
    "       'Planned Feature', 'PRD Trace', 'Project', 'Ready', 'Risk', 'Risk CM',\n",
    "       'Status', 'Steps', 'Tags', 'TC Maj Release', 'TC PI', 'Test Folder',\n",
    "       'Test Sets', 'Use Case Trace']\n",
    "\n",
    "new_col_names = [\"PRD\", \"SRS ID\", \"Method\", \"Test Name\", \"V&V Test Report\", \"TC ID\", \"Test Status\", \"Release\", \"Name\", \"Owner\", \"Application\"]"
   ]
  },
  {
   "cell_type": "code",
   "execution_count": null,
   "metadata": {},
   "outputs": [],
   "source": [
    "reorder = [\"PRD Trace\", \"Method\", \"Name\", \"Formatted ID\", \"Status\", \"TC Maj Release\", \"Description\", \"Created By\", \"Application\"]\n",
    "\n",
    "# Get the columns in the desired output order\n",
    "reordered = df[reorder]\n",
    "\n",
    "# TODO: Fix logic so that these columns are correctly populated. for now, blank columns filled with 'NaN'\n",
    "reordered.insert(loc=1, column=\"SRS ID\", value=np.nan)\n",
    "reordered.insert(loc=4, column=\"V&V Test Report\", value=np.nan)\n",
    "reordered"
   ]
  },
  {
   "cell_type": "code",
   "execution_count": null,
   "metadata": {},
   "outputs": [],
   "source": [
    "# Rename the columns to desired output format\n",
    "new_col_names = [\"PRD\", \"SRS ID\", \"Method\", \"Test Name\", \"V&V Test Report\", \"TC ID\", \"Test Status\", \"Release\", \"Name\", \"Owner\", \"Application\"]\n",
    "\n",
    "reordered.columns = new_col_names\n",
    "reordered"
   ]
  },
  {
   "cell_type": "code",
   "execution_count": null,
   "metadata": {},
   "outputs": [],
   "source": [
    "# Upgrade to sapphire\n",
    "reordered = reordered.replace([\"Data Migration\", \"Event Horizon\", \"Billing Integration\"], \"Sapphire\")"
   ]
  },
  {
   "cell_type": "code",
   "execution_count": null,
   "metadata": {},
   "outputs": [],
   "source": [
    "co_trace = reordered.loc[reordered[\"Application\"].isin([\"Sapphire and PSC\", \"Sapphire\"])]\n",
    "co_trace"
   ]
  },
  {
   "cell_type": "code",
   "execution_count": null,
   "metadata": {},
   "outputs": [],
   "source": [
    "psc_trace = reordered.loc[reordered[\"Application\"].isin([\"PSC\", \"Sapphire and PSC\"])]\n",
    "psc_trace"
   ]
  },
  {
   "cell_type": "code",
   "execution_count": null,
   "metadata": {},
   "outputs": [],
   "source": []
  },
  {
   "cell_type": "code",
   "execution_count": null,
   "metadata": {},
   "outputs": [],
   "source": [
    "valid_manual_tests, invalid_manual_tests = check_manual(\"../data/ER2228014 v51 ATT1 Manual As-Runs.docx\")"
   ]
  },
  {
   "cell_type": "code",
   "execution_count": null,
   "metadata": {},
   "outputs": [],
   "source": [
    "valid_manual_tests"
   ]
  },
  {
   "cell_type": "code",
   "execution_count": null,
   "metadata": {},
   "outputs": [],
   "source": [
    "invalid_manual_tests"
   ]
  },
  {
   "cell_type": "code",
   "execution_count": null,
   "metadata": {},
   "outputs": [],
   "source": [
    "len(invalid_manual_tests)"
   ]
  },
  {
   "cell_type": "code",
   "execution_count": null,
   "metadata": {},
   "outputs": [],
   "source": [
    "folder_path = \"../data/RestApiTests\"\n",
    "valid_api, invalid_api = check_rest_api(folder_path)"
   ]
  },
  {
   "cell_type": "code",
   "execution_count": null,
   "metadata": {},
   "outputs": [],
   "source": [
    "valid_api"
   ]
  },
  {
   "cell_type": "code",
   "execution_count": null,
   "metadata": {},
   "outputs": [],
   "source": [
    "invalid_api"
   ]
  },
  {
   "cell_type": "code",
   "execution_count": null,
   "metadata": {},
   "outputs": [],
   "source": [
    "valid_performance, invalid_performance = check_performance_tests(\"../data/PerformanceTestResultsByTC_2020_10_12.xlsx\")"
   ]
  },
  {
   "cell_type": "code",
   "execution_count": null,
   "metadata": {},
   "outputs": [],
   "source": [
    "valid_performance"
   ]
  },
  {
   "cell_type": "code",
   "execution_count": null,
   "metadata": {},
   "outputs": [],
   "source": [
    "invalid_performance"
   ]
  },
  {
   "cell_type": "code",
   "execution_count": null,
   "metadata": {},
   "outputs": [],
   "source": [
    "valid_component, invalid_component = check_component_tests(\"../data/1.33 MSGateway.docx\")"
   ]
  },
  {
   "cell_type": "code",
   "execution_count": null,
   "metadata": {},
   "outputs": [],
   "source": [
    "valid_component"
   ]
  },
  {
   "cell_type": "code",
   "execution_count": null,
   "metadata": {},
   "outputs": [],
   "source": [
    "invalid_component"
   ]
  },
  {
   "cell_type": "code",
   "execution_count": null,
   "metadata": {},
   "outputs": [],
   "source": [
    "trace = read_trace(\"../data/ER 2228015 v42 ATT1 Sapphire 1.32 Trace Matrix.xlsx\", \"CO\")\n",
    "prd_prefix = \"US\"\n",
    "srs_prefix = \"TC\"\n",
    "\n",
    "obs_srs_file_path = \"../data/Obsolete SRS_Test Cases_11.16 pull.csv\"\n",
    "obs_srs=pd.read_csv(obs_srs_file_path)\n",
    "obs_srs_list=obs_srs[\"Formatted ID\"].unique()\n",
    "\n",
    "active_prd = pd.read_excel(\"../data/1.33 PRD.xlsx\")\n",
    "active_prd_list = active_prd[\"ID\"].unique()\n",
    "active_prd_list = active_prd_list[~pd.isnull(active_prd_list)]"
   ]
  },
  {
   "cell_type": "code",
   "execution_count": null,
   "metadata": {},
   "outputs": [],
   "source": [
    "prd_result, invalid_prd = check_prd_has_srs(trace, prd_prefix, srs_prefix)"
   ]
  },
  {
   "cell_type": "code",
   "execution_count": null,
   "metadata": {},
   "outputs": [],
   "source": [
    "prd_result"
   ]
  },
  {
   "cell_type": "code",
   "execution_count": null,
   "metadata": {},
   "outputs": [],
   "source": [
    "invalid_prd"
   ]
  },
  {
   "cell_type": "code",
   "execution_count": null,
   "metadata": {},
   "outputs": [],
   "source": [
    "check_prd_ref_by_srs_exists(trace, active_prd_list, prd_prefix, srs_prefix)"
   ]
  },
  {
   "cell_type": "code",
   "execution_count": null,
   "metadata": {},
   "outputs": [],
   "source": [
    "valid, invalid = check_srs_has_test(trace, prd_prefix, srs_prefix)"
   ]
  },
  {
   "cell_type": "code",
   "execution_count": null,
   "metadata": {},
   "outputs": [],
   "source": [
    "a = pd.DataFrame([{\"hi\":3, \"hi2\":2}, {\"hi\":4, \"hi2\":5}])\n",
    "a"
   ]
  },
  {
   "cell_type": "code",
   "execution_count": null,
   "metadata": {},
   "outputs": [],
   "source": [
    "import numpy as np\n",
    "for item in a['hi']:\n",
    "    item = str(item)\n",
    "    if len(item) <= 5:\n",
    "        item = np.nan"
   ]
  },
  {
   "cell_type": "code",
   "execution_count": null,
   "metadata": {},
   "outputs": [],
   "source": [
    "a"
   ]
  },
  {
   "cell_type": "code",
   "execution_count": null,
   "metadata": {},
   "outputs": [],
   "source": [
    "trace"
   ]
  },
  {
   "cell_type": "code",
   "execution_count": null,
   "metadata": {},
   "outputs": [],
   "source": [
    "trace.loc[trace['PRD'].str.startswith(prd_prefix)]"
   ]
  },
  {
   "cell_type": "code",
   "execution_count": null,
   "metadata": {},
   "outputs": [],
   "source": [
    "trace.loc[trace['Test Name'].str.startswith(srs_prefix)]"
   ]
  },
  {
   "cell_type": "code",
   "execution_count": null,
   "metadata": {},
   "outputs": [],
   "source": [
    "read"
   ]
  }
 ]
}