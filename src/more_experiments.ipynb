{
 "metadata": {
  "language_info": {
   "codemirror_mode": {
    "name": "ipython",
    "version": 3
   },
   "file_extension": ".py",
   "mimetype": "text/x-python",
   "name": "python",
   "nbconvert_exporter": "python",
   "pygments_lexer": "ipython3",
   "version": "3.7.9-final"
  },
  "orig_nbformat": 2,
  "kernelspec": {
   "name": "python3",
   "display_name": "Python 3",
   "language": "python"
  }
 },
 "nbformat": 4,
 "nbformat_minor": 2,
 "cells": [
  {
   "cell_type": "code",
   "execution_count": 15,
   "metadata": {},
   "outputs": [],
   "source": [
    "from read_write import *\n",
    "import read_write as rw\n",
    "from filter_tests import *\n",
    "from validate_trace import *"
   ]
  },
  {
   "cell_type": "code",
   "execution_count": 16,
   "metadata": {},
   "outputs": [],
   "source": [
    "from pathlib import Path\n",
    "import re"
   ]
  },
  {
   "cell_type": "code",
   "execution_count": 17,
   "metadata": {},
   "outputs": [],
   "source": [
    "version_num = \"1.33.0\""
   ]
  },
  {
   "cell_type": "code",
   "execution_count": 19,
   "metadata": {},
   "outputs": [
    {
     "output_type": "execute_result",
     "data": {
      "text/plain": [
       "                                             test_name  status V&V Test Report\n",
       "0    PRD US13044 SRS TC12480 TC12574 Verify Subscri...  Passed     2228014 v51\n",
       "1    PRD US13044 SRS TC12480 TC12575 Verify Subscri...  Passed     2228014 v51\n",
       "2    PRD US13044 SRS TC12480 TC12576 Verify Subscri...  Passed     2228014 v51\n",
       "3    PRD US13044 SRS TC12480 TC12580 Verify Subscri...  Passed     2228014 v51\n",
       "4                                   Toggle off - F5890  Passed     2228014 v51\n",
       "..                                                 ...     ...             ...\n",
       "130        EU Toggle and Configuration Regression Test  Passed     2228014 v51\n",
       "131  UC US45400 MaskSelector tablet app integration...  Passed     2228014 v51\n",
       "132  UC US45400 MaskSelector tablet app integration...  Passed     2228014 v51\n",
       "133  UC US45400 MaskSelector tablet app integration...  Passed     2228014 v51\n",
       "134                                  F5056 Toggle Test  Passed     2228014 v51\n",
       "\n",
       "[135 rows x 3 columns]"
      ],
      "text/html": "<div>\n<style scoped>\n    .dataframe tbody tr th:only-of-type {\n        vertical-align: middle;\n    }\n\n    .dataframe tbody tr th {\n        vertical-align: top;\n    }\n\n    .dataframe thead th {\n        text-align: right;\n    }\n</style>\n<table border=\"1\" class=\"dataframe\">\n  <thead>\n    <tr style=\"text-align: right;\">\n      <th></th>\n      <th>test_name</th>\n      <th>status</th>\n      <th>V&amp;V Test Report</th>\n    </tr>\n  </thead>\n  <tbody>\n    <tr>\n      <th>0</th>\n      <td>PRD US13044 SRS TC12480 TC12574 Verify Subscri...</td>\n      <td>Passed</td>\n      <td>2228014 v51</td>\n    </tr>\n    <tr>\n      <th>1</th>\n      <td>PRD US13044 SRS TC12480 TC12575 Verify Subscri...</td>\n      <td>Passed</td>\n      <td>2228014 v51</td>\n    </tr>\n    <tr>\n      <th>2</th>\n      <td>PRD US13044 SRS TC12480 TC12576 Verify Subscri...</td>\n      <td>Passed</td>\n      <td>2228014 v51</td>\n    </tr>\n    <tr>\n      <th>3</th>\n      <td>PRD US13044 SRS TC12480 TC12580 Verify Subscri...</td>\n      <td>Passed</td>\n      <td>2228014 v51</td>\n    </tr>\n    <tr>\n      <th>4</th>\n      <td>Toggle off - F5890</td>\n      <td>Passed</td>\n      <td>2228014 v51</td>\n    </tr>\n    <tr>\n      <th>...</th>\n      <td>...</td>\n      <td>...</td>\n      <td>...</td>\n    </tr>\n    <tr>\n      <th>130</th>\n      <td>EU Toggle and Configuration Regression Test</td>\n      <td>Passed</td>\n      <td>2228014 v51</td>\n    </tr>\n    <tr>\n      <th>131</th>\n      <td>UC US45400 MaskSelector tablet app integration...</td>\n      <td>Passed</td>\n      <td>2228014 v51</td>\n    </tr>\n    <tr>\n      <th>132</th>\n      <td>UC US45400 MaskSelector tablet app integration...</td>\n      <td>Passed</td>\n      <td>2228014 v51</td>\n    </tr>\n    <tr>\n      <th>133</th>\n      <td>UC US45400 MaskSelector tablet app integration...</td>\n      <td>Passed</td>\n      <td>2228014 v51</td>\n    </tr>\n    <tr>\n      <th>134</th>\n      <td>F5056 Toggle Test</td>\n      <td>Passed</td>\n      <td>2228014 v51</td>\n    </tr>\n  </tbody>\n</table>\n<p>135 rows × 3 columns</p>\n</div>"
     },
     "metadata": {},
     "execution_count": 19
    }
   ],
   "source": [
    "read_manual_tests(\"../data/ER2228014 v51 ATT1 Manual As-Runs.docx\")"
   ]
  },
  {
   "cell_type": "code",
   "execution_count": null,
   "metadata": {},
   "outputs": [],
   "source": [
    "file_path = \"../data/ER2228014 v51 ATT1 Manual As-Runs.docx\""
   ]
  },
  {
   "cell_type": "code",
   "execution_count": null,
   "metadata": {},
   "outputs": [],
   "source": [
    "with open(file_path, 'rb') as f:\n",
    "    document = Document(f)\n",
    "\n",
    "# Get the table info\n",
    "data = []\n",
    "\n",
    "# Get the test names\n",
    "# (Need to iterate separately because theyre technically separate \"paragraphs\")\n",
    "test_names = []\n",
    "# For each \"paragraph\" in the document,\n",
    "for paragraph in document.paragraphs:\n",
    "    # Find lines that have \"Run ID\" in them\n",
    "    if \"Run ID:\" in paragraph.text:\n",
    "        # The line before that has the test name\n",
    "        test_names.append(document.paragraphs[i-1].text)\n",
    "\n",
    "# For each table in the document:\n",
    "for i, table in enumerate(document.tables):\n",
    "    # If the first few cells belong to a test, it's probably a test description table\n",
    "    if table.cell(0,0).text == \"Status:\" and table.cell(1,1).text == \"1. Product\":\n",
    "        # Extract the test info from table\n",
    "        data.append({\n",
    "            \"Test Name\":test_names[i]\n",
    "        })\n",
    "        # statuses.append(table.cell(0,1).text)\n",
    "        # products.append(table.cell(1,1).text)\n",
    "\n",
    "# Make sure we've aligned test names and test data correctly\n",
    "assert i == len(test_names) - 1, \"Error: Parsing Manual As-Runs doc failed; likely code needs more robust parsing for this document\"\n",
    "\n",
    "# # Make sure same number of test names and statuses\n",
    "# assert len(test_names) == len(statuses), \"Error: Couldn't parse same number of test names and test statuses.\\n# test names: {len(test_names)}, # statuses: {len(statuses)}\"\n",
    "\n",
    "# make a dataframe for outputting\n",
    "df = pd.DataFrame({\"Test Name\":test_names, \"Test Status\":statuses})\n",
    "\n",
    "# Also add the V&V Test Report info by extracting it from file name\n",
    "file_name = Path(file_path).stem\n",
    "v_v = re.findall(\"ER[0-9]+ v[0-9]+\", file_name)[0].replace(\"ER\", \"\")\n",
    "df[\"V&V Test Report\"] = v_v"
   ]
  },
  {
   "cell_type": "code",
   "execution_count": 4,
   "metadata": {},
   "outputs": [
    {
     "output_type": "execute_result",
     "data": {
      "text/plain": [
       "             TC(s) and Script name Test Status  \\\n",
       "0   TC10051 patient record display      Passed   \n",
       "1     TC10051 patient list display      Passed   \n",
       "2          TC10052 Business report      Failed   \n",
       "3   TC10051 patient search display      Passed   \n",
       "4          TC10054 Waveform Report      Passed   \n",
       "5           TC10054 Trilogy Report      Passed   \n",
       "6                TC10054 O2 Report      Passed   \n",
       "7          TC10051 Document Upload      Passed   \n",
       "8           TC10051 Task List view      Passed   \n",
       "9          TC10053 SD Card Uploads      Passed   \n",
       "10    TC10054 Sleep Summary Report      Failed   \n",
       "11    TC10054 Sleep Detail  Report      Failed   \n",
       "\n",
       "                                                Notes  \n",
       "0   Response time is right at SLA, however.  Needs...  \n",
       "1                                                None  \n",
       "2   Viewing the report passes, export fails DE6069...  \n",
       "3                                                None  \n",
       "4   PASS / Slightly high - needs to be investigate...  \n",
       "5                                                None  \n",
       "6   PASS / Slightly high - needs to be investigate...  \n",
       "7                                                None  \n",
       "8                                                None  \n",
       "9                                                None  \n",
       "10                                             DE5602  \n",
       "11                                             DE5602  "
      ],
      "text/html": "<div>\n<style scoped>\n    .dataframe tbody tr th:only-of-type {\n        vertical-align: middle;\n    }\n\n    .dataframe tbody tr th {\n        vertical-align: top;\n    }\n\n    .dataframe thead th {\n        text-align: right;\n    }\n</style>\n<table border=\"1\" class=\"dataframe\">\n  <thead>\n    <tr style=\"text-align: right;\">\n      <th></th>\n      <th>TC(s) and Script name</th>\n      <th>Test Status</th>\n      <th>Notes</th>\n    </tr>\n  </thead>\n  <tbody>\n    <tr>\n      <th>0</th>\n      <td>TC10051 patient record display</td>\n      <td>Passed</td>\n      <td>Response time is right at SLA, however.  Needs...</td>\n    </tr>\n    <tr>\n      <th>1</th>\n      <td>TC10051 patient list display</td>\n      <td>Passed</td>\n      <td>None</td>\n    </tr>\n    <tr>\n      <th>2</th>\n      <td>TC10052 Business report</td>\n      <td>Failed</td>\n      <td>Viewing the report passes, export fails DE6069...</td>\n    </tr>\n    <tr>\n      <th>3</th>\n      <td>TC10051 patient search display</td>\n      <td>Passed</td>\n      <td>None</td>\n    </tr>\n    <tr>\n      <th>4</th>\n      <td>TC10054 Waveform Report</td>\n      <td>Passed</td>\n      <td>PASS / Slightly high - needs to be investigate...</td>\n    </tr>\n    <tr>\n      <th>5</th>\n      <td>TC10054 Trilogy Report</td>\n      <td>Passed</td>\n      <td>None</td>\n    </tr>\n    <tr>\n      <th>6</th>\n      <td>TC10054 O2 Report</td>\n      <td>Passed</td>\n      <td>PASS / Slightly high - needs to be investigate...</td>\n    </tr>\n    <tr>\n      <th>7</th>\n      <td>TC10051 Document Upload</td>\n      <td>Passed</td>\n      <td>None</td>\n    </tr>\n    <tr>\n      <th>8</th>\n      <td>TC10051 Task List view</td>\n      <td>Passed</td>\n      <td>None</td>\n    </tr>\n    <tr>\n      <th>9</th>\n      <td>TC10053 SD Card Uploads</td>\n      <td>Passed</td>\n      <td>None</td>\n    </tr>\n    <tr>\n      <th>10</th>\n      <td>TC10054 Sleep Summary Report</td>\n      <td>Failed</td>\n      <td>DE5602</td>\n    </tr>\n    <tr>\n      <th>11</th>\n      <td>TC10054 Sleep Detail  Report</td>\n      <td>Failed</td>\n      <td>DE5602</td>\n    </tr>\n  </tbody>\n</table>\n</div>"
     },
     "metadata": {},
     "execution_count": 4
    }
   ],
   "source": [
    "df = read_performance_test_results_by_tc(\"../data/ER2228014 v51 ATT2 Automated as-run/1.33.0/PerformanceTests/PerformanceTestResultsByTC_2020_10_12.xlsx\")\n",
    "df"
   ]
  },
  {
   "cell_type": "code",
   "execution_count": 9,
   "metadata": {},
   "outputs": [],
   "source": [
    "valid, invalid = filter_tests(df)\n",
    "valid"
   ]
  },
  {
   "cell_type": "code",
   "execution_count": 10,
   "metadata": {},
   "outputs": [
    {
     "output_type": "execute_result",
     "data": {
      "text/plain": [
       "             TC(s) and Script name Test Status  \\\n",
       "0   TC10051 patient record display      Passed   \n",
       "1     TC10051 patient list display      Passed   \n",
       "2          TC10052 Business report      Failed   \n",
       "3   TC10051 patient search display      Passed   \n",
       "4          TC10054 Waveform Report      Passed   \n",
       "5           TC10054 Trilogy Report      Passed   \n",
       "6                TC10054 O2 Report      Passed   \n",
       "7          TC10051 Document Upload      Passed   \n",
       "8           TC10051 Task List view      Passed   \n",
       "9          TC10053 SD Card Uploads      Passed   \n",
       "10    TC10054 Sleep Summary Report      Failed   \n",
       "11    TC10054 Sleep Detail  Report      Failed   \n",
       "\n",
       "                                                Notes  \n",
       "0   Response time is right at SLA, however.  Needs...  \n",
       "1                                                None  \n",
       "2   Viewing the report passes, export fails DE6069...  \n",
       "3                                                None  \n",
       "4   PASS / Slightly high - needs to be investigate...  \n",
       "5                                                None  \n",
       "6   PASS / Slightly high - needs to be investigate...  \n",
       "7                                                None  \n",
       "8                                                None  \n",
       "9                                                None  \n",
       "10                                             DE5602  \n",
       "11                                             DE5602  "
      ],
      "text/html": "<div>\n<style scoped>\n    .dataframe tbody tr th:only-of-type {\n        vertical-align: middle;\n    }\n\n    .dataframe tbody tr th {\n        vertical-align: top;\n    }\n\n    .dataframe thead th {\n        text-align: right;\n    }\n</style>\n<table border=\"1\" class=\"dataframe\">\n  <thead>\n    <tr style=\"text-align: right;\">\n      <th></th>\n      <th>TC(s) and Script name</th>\n      <th>Test Status</th>\n      <th>Notes</th>\n    </tr>\n  </thead>\n  <tbody>\n    <tr>\n      <th>0</th>\n      <td>TC10051 patient record display</td>\n      <td>Passed</td>\n      <td>Response time is right at SLA, however.  Needs...</td>\n    </tr>\n    <tr>\n      <th>1</th>\n      <td>TC10051 patient list display</td>\n      <td>Passed</td>\n      <td>None</td>\n    </tr>\n    <tr>\n      <th>2</th>\n      <td>TC10052 Business report</td>\n      <td>Failed</td>\n      <td>Viewing the report passes, export fails DE6069...</td>\n    </tr>\n    <tr>\n      <th>3</th>\n      <td>TC10051 patient search display</td>\n      <td>Passed</td>\n      <td>None</td>\n    </tr>\n    <tr>\n      <th>4</th>\n      <td>TC10054 Waveform Report</td>\n      <td>Passed</td>\n      <td>PASS / Slightly high - needs to be investigate...</td>\n    </tr>\n    <tr>\n      <th>5</th>\n      <td>TC10054 Trilogy Report</td>\n      <td>Passed</td>\n      <td>None</td>\n    </tr>\n    <tr>\n      <th>6</th>\n      <td>TC10054 O2 Report</td>\n      <td>Passed</td>\n      <td>PASS / Slightly high - needs to be investigate...</td>\n    </tr>\n    <tr>\n      <th>7</th>\n      <td>TC10051 Document Upload</td>\n      <td>Passed</td>\n      <td>None</td>\n    </tr>\n    <tr>\n      <th>8</th>\n      <td>TC10051 Task List view</td>\n      <td>Passed</td>\n      <td>None</td>\n    </tr>\n    <tr>\n      <th>9</th>\n      <td>TC10053 SD Card Uploads</td>\n      <td>Passed</td>\n      <td>None</td>\n    </tr>\n    <tr>\n      <th>10</th>\n      <td>TC10054 Sleep Summary Report</td>\n      <td>Failed</td>\n      <td>DE5602</td>\n    </tr>\n    <tr>\n      <th>11</th>\n      <td>TC10054 Sleep Detail  Report</td>\n      <td>Failed</td>\n      <td>DE5602</td>\n    </tr>\n  </tbody>\n</table>\n</div>"
     },
     "metadata": {},
     "execution_count": 10
    }
   ],
   "source": [
    "valid"
   ]
  },
  {
   "cell_type": "code",
   "execution_count": 11,
   "metadata": {},
   "outputs": [
    {
     "output_type": "execute_result",
     "data": {
      "text/plain": [
       "Empty DataFrame\n",
       "Columns: [TC(s) and Script name, Test Status, Notes]\n",
       "Index: []"
      ],
      "text/html": "<div>\n<style scoped>\n    .dataframe tbody tr th:only-of-type {\n        vertical-align: middle;\n    }\n\n    .dataframe tbody tr th {\n        vertical-align: top;\n    }\n\n    .dataframe thead th {\n        text-align: right;\n    }\n</style>\n<table border=\"1\" class=\"dataframe\">\n  <thead>\n    <tr style=\"text-align: right;\">\n      <th></th>\n      <th>TC(s) and Script name</th>\n      <th>Test Status</th>\n      <th>Notes</th>\n    </tr>\n  </thead>\n  <tbody>\n  </tbody>\n</table>\n</div>"
     },
     "metadata": {},
     "execution_count": 11
    }
   ],
   "source": [
    "invalid"
   ]
  },
  {
   "cell_type": "code",
   "execution_count": 12,
   "metadata": {},
   "outputs": [
    {
     "output_type": "stream",
     "name": "stdout",
     "text": [
      "Loading Rx test files from ../data/ER2228014 v51 ATT2 Automated as-run/1.33.0/Rx\n"
     ]
    },
    {
     "output_type": "execute_result",
     "data": {
      "text/plain": [
       "                                               Test Name Test Status Release  \\\n",
       "0      RxDeviceAvailable DreamStation Auto CPAP devic...      Passed  1.33.0   \n",
       "1      RxAttributeAvailable DreamStation Auto CPAP de...      Passed  1.33.0   \n",
       "2      TC400 TC708 RxDefaults TC400 TC708 DreamStatio...      Passed  1.33.0   \n",
       "3      TC401 RxSettingOrder TC401 DreamStation Auto C...      Passed  1.33.0   \n",
       "4      TC395 TC396 TC708 RxRangeAndScale RxCreate TC3...      Passed  1.33.0   \n",
       "...                                                  ...         ...     ...   \n",
       "23883  TC396 TC575 TC708 RxMaxInteractions AutoTrialM...      Passed  1.33.0   \n",
       "23884  TC396 TC575 TC708 RxMaxInteractions TC396 TC57...      Passed  1.33.0   \n",
       "23885  TC395 TC396 TC708 RxRangeAndScale RxCreate TC3...      Passed  1.33.0   \n",
       "23886  TC707 RxSaveEdited Random TC707 DreamStation G...      Passed  1.33.0   \n",
       "23887  TC396 TC575 TC708 RxSetInteractions EZStart on...      Passed  1.33.0   \n",
       "\n",
       "      V&V Test Report   RC  Owner  \\\n",
       "0         2228014 v51  RC3   Jeff   \n",
       "1         2228014 v51  RC3   Jeff   \n",
       "2         2228014 v51  RC3   Jeff   \n",
       "3         2228014 v51  RC3   Jeff   \n",
       "4         2228014 v51  RC3   Jeff   \n",
       "...               ...  ...    ...   \n",
       "23883     2228014 v51  RC3  Nihar   \n",
       "23884     2228014 v51  RC3  Nihar   \n",
       "23885     2228014 v51  RC3  Nihar   \n",
       "23886     2228014 v51  RC3  Nihar   \n",
       "23887     2228014 v51  RC3  Nihar   \n",
       "\n",
       "                                               File Path  \n",
       "0      ..\\data\\ER2228014 v51 ATT2 Automated as-run\\1....  \n",
       "1      ..\\data\\ER2228014 v51 ATT2 Automated as-run\\1....  \n",
       "2      ..\\data\\ER2228014 v51 ATT2 Automated as-run\\1....  \n",
       "3      ..\\data\\ER2228014 v51 ATT2 Automated as-run\\1....  \n",
       "4      ..\\data\\ER2228014 v51 ATT2 Automated as-run\\1....  \n",
       "...                                                  ...  \n",
       "23883  ..\\data\\ER2228014 v51 ATT2 Automated as-run\\1....  \n",
       "23884  ..\\data\\ER2228014 v51 ATT2 Automated as-run\\1....  \n",
       "23885  ..\\data\\ER2228014 v51 ATT2 Automated as-run\\1....  \n",
       "23886  ..\\data\\ER2228014 v51 ATT2 Automated as-run\\1....  \n",
       "23887  ..\\data\\ER2228014 v51 ATT2 Automated as-run\\1....  \n",
       "\n",
       "[23888 rows x 7 columns]"
      ],
      "text/html": "<div>\n<style scoped>\n    .dataframe tbody tr th:only-of-type {\n        vertical-align: middle;\n    }\n\n    .dataframe tbody tr th {\n        vertical-align: top;\n    }\n\n    .dataframe thead th {\n        text-align: right;\n    }\n</style>\n<table border=\"1\" class=\"dataframe\">\n  <thead>\n    <tr style=\"text-align: right;\">\n      <th></th>\n      <th>Test Name</th>\n      <th>Test Status</th>\n      <th>Release</th>\n      <th>V&amp;V Test Report</th>\n      <th>RC</th>\n      <th>Owner</th>\n      <th>File Path</th>\n    </tr>\n  </thead>\n  <tbody>\n    <tr>\n      <th>0</th>\n      <td>RxDeviceAvailable DreamStation Auto CPAP devic...</td>\n      <td>Passed</td>\n      <td>1.33.0</td>\n      <td>2228014 v51</td>\n      <td>RC3</td>\n      <td>Jeff</td>\n      <td>..\\data\\ER2228014 v51 ATT2 Automated as-run\\1....</td>\n    </tr>\n    <tr>\n      <th>1</th>\n      <td>RxAttributeAvailable DreamStation Auto CPAP de...</td>\n      <td>Passed</td>\n      <td>1.33.0</td>\n      <td>2228014 v51</td>\n      <td>RC3</td>\n      <td>Jeff</td>\n      <td>..\\data\\ER2228014 v51 ATT2 Automated as-run\\1....</td>\n    </tr>\n    <tr>\n      <th>2</th>\n      <td>TC400 TC708 RxDefaults TC400 TC708 DreamStatio...</td>\n      <td>Passed</td>\n      <td>1.33.0</td>\n      <td>2228014 v51</td>\n      <td>RC3</td>\n      <td>Jeff</td>\n      <td>..\\data\\ER2228014 v51 ATT2 Automated as-run\\1....</td>\n    </tr>\n    <tr>\n      <th>3</th>\n      <td>TC401 RxSettingOrder TC401 DreamStation Auto C...</td>\n      <td>Passed</td>\n      <td>1.33.0</td>\n      <td>2228014 v51</td>\n      <td>RC3</td>\n      <td>Jeff</td>\n      <td>..\\data\\ER2228014 v51 ATT2 Automated as-run\\1....</td>\n    </tr>\n    <tr>\n      <th>4</th>\n      <td>TC395 TC396 TC708 RxRangeAndScale RxCreate TC3...</td>\n      <td>Passed</td>\n      <td>1.33.0</td>\n      <td>2228014 v51</td>\n      <td>RC3</td>\n      <td>Jeff</td>\n      <td>..\\data\\ER2228014 v51 ATT2 Automated as-run\\1....</td>\n    </tr>\n    <tr>\n      <th>...</th>\n      <td>...</td>\n      <td>...</td>\n      <td>...</td>\n      <td>...</td>\n      <td>...</td>\n      <td>...</td>\n      <td>...</td>\n    </tr>\n    <tr>\n      <th>23883</th>\n      <td>TC396 TC575 TC708 RxMaxInteractions AutoTrialM...</td>\n      <td>Passed</td>\n      <td>1.33.0</td>\n      <td>2228014 v51</td>\n      <td>RC3</td>\n      <td>Nihar</td>\n      <td>..\\data\\ER2228014 v51 ATT2 Automated as-run\\1....</td>\n    </tr>\n    <tr>\n      <th>23884</th>\n      <td>TC396 TC575 TC708 RxMaxInteractions TC396 TC57...</td>\n      <td>Passed</td>\n      <td>1.33.0</td>\n      <td>2228014 v51</td>\n      <td>RC3</td>\n      <td>Nihar</td>\n      <td>..\\data\\ER2228014 v51 ATT2 Automated as-run\\1....</td>\n    </tr>\n    <tr>\n      <th>23885</th>\n      <td>TC395 TC396 TC708 RxRangeAndScale RxCreate TC3...</td>\n      <td>Passed</td>\n      <td>1.33.0</td>\n      <td>2228014 v51</td>\n      <td>RC3</td>\n      <td>Nihar</td>\n      <td>..\\data\\ER2228014 v51 ATT2 Automated as-run\\1....</td>\n    </tr>\n    <tr>\n      <th>23886</th>\n      <td>TC707 RxSaveEdited Random TC707 DreamStation G...</td>\n      <td>Passed</td>\n      <td>1.33.0</td>\n      <td>2228014 v51</td>\n      <td>RC3</td>\n      <td>Nihar</td>\n      <td>..\\data\\ER2228014 v51 ATT2 Automated as-run\\1....</td>\n    </tr>\n    <tr>\n      <th>23887</th>\n      <td>TC396 TC575 TC708 RxSetInteractions EZStart on...</td>\n      <td>Passed</td>\n      <td>1.33.0</td>\n      <td>2228014 v51</td>\n      <td>RC3</td>\n      <td>Nihar</td>\n      <td>..\\data\\ER2228014 v51 ATT2 Automated as-run\\1....</td>\n    </tr>\n  </tbody>\n</table>\n<p>23888 rows × 7 columns</p>\n</div>"
     },
     "metadata": {},
     "execution_count": 12
    }
   ],
   "source": [
    "rx = read_rx_tests(\"../data/ER2228014 v51 ATT2 Automated as-run/1.33.0/Rx\")\n",
    "rx"
   ]
  },
  {
   "cell_type": "code",
   "execution_count": 13,
   "metadata": {},
   "outputs": [
    {
     "output_type": "execute_result",
     "data": {
      "text/plain": [
       "                                               Test Name Test Status Release  \\\n",
       "0      RxDeviceAvailable DreamStation Auto CPAP devic...      Passed  1.33.0   \n",
       "1      RxAttributeAvailable DreamStation Auto CPAP de...      Passed  1.33.0   \n",
       "2      TC400 TC708 RxDefaults TC400 TC708 DreamStatio...      Passed  1.33.0   \n",
       "3      TC401 RxSettingOrder TC401 DreamStation Auto C...      Passed  1.33.0   \n",
       "4      TC395 TC396 TC708 RxRangeAndScale RxCreate TC3...      Passed  1.33.0   \n",
       "...                                                  ...         ...     ...   \n",
       "23883  TC396 TC575 TC708 RxMaxInteractions AutoTrialM...      Passed  1.33.0   \n",
       "23884  TC396 TC575 TC708 RxMaxInteractions TC396 TC57...      Passed  1.33.0   \n",
       "23885  TC395 TC396 TC708 RxRangeAndScale RxCreate TC3...      Passed  1.33.0   \n",
       "23886  TC707 RxSaveEdited Random TC707 DreamStation G...      Passed  1.33.0   \n",
       "23887  TC396 TC575 TC708 RxSetInteractions EZStart on...      Passed  1.33.0   \n",
       "\n",
       "      V&V Test Report   RC  Owner  \\\n",
       "0         2228014 v51  RC3   Jeff   \n",
       "1         2228014 v51  RC3   Jeff   \n",
       "2         2228014 v51  RC3   Jeff   \n",
       "3         2228014 v51  RC3   Jeff   \n",
       "4         2228014 v51  RC3   Jeff   \n",
       "...               ...  ...    ...   \n",
       "23883     2228014 v51  RC3  Nihar   \n",
       "23884     2228014 v51  RC3  Nihar   \n",
       "23885     2228014 v51  RC3  Nihar   \n",
       "23886     2228014 v51  RC3  Nihar   \n",
       "23887     2228014 v51  RC3  Nihar   \n",
       "\n",
       "                                               File Path  \n",
       "0      ..\\data\\ER2228014 v51 ATT2 Automated as-run\\1....  \n",
       "1      ..\\data\\ER2228014 v51 ATT2 Automated as-run\\1....  \n",
       "2      ..\\data\\ER2228014 v51 ATT2 Automated as-run\\1....  \n",
       "3      ..\\data\\ER2228014 v51 ATT2 Automated as-run\\1....  \n",
       "4      ..\\data\\ER2228014 v51 ATT2 Automated as-run\\1....  \n",
       "...                                                  ...  \n",
       "23883  ..\\data\\ER2228014 v51 ATT2 Automated as-run\\1....  \n",
       "23884  ..\\data\\ER2228014 v51 ATT2 Automated as-run\\1....  \n",
       "23885  ..\\data\\ER2228014 v51 ATT2 Automated as-run\\1....  \n",
       "23886  ..\\data\\ER2228014 v51 ATT2 Automated as-run\\1....  \n",
       "23887  ..\\data\\ER2228014 v51 ATT2 Automated as-run\\1....  \n",
       "\n",
       "[23859 rows x 7 columns]"
      ],
      "text/html": "<div>\n<style scoped>\n    .dataframe tbody tr th:only-of-type {\n        vertical-align: middle;\n    }\n\n    .dataframe tbody tr th {\n        vertical-align: top;\n    }\n\n    .dataframe thead th {\n        text-align: right;\n    }\n</style>\n<table border=\"1\" class=\"dataframe\">\n  <thead>\n    <tr style=\"text-align: right;\">\n      <th></th>\n      <th>Test Name</th>\n      <th>Test Status</th>\n      <th>Release</th>\n      <th>V&amp;V Test Report</th>\n      <th>RC</th>\n      <th>Owner</th>\n      <th>File Path</th>\n    </tr>\n  </thead>\n  <tbody>\n    <tr>\n      <th>0</th>\n      <td>RxDeviceAvailable DreamStation Auto CPAP devic...</td>\n      <td>Passed</td>\n      <td>1.33.0</td>\n      <td>2228014 v51</td>\n      <td>RC3</td>\n      <td>Jeff</td>\n      <td>..\\data\\ER2228014 v51 ATT2 Automated as-run\\1....</td>\n    </tr>\n    <tr>\n      <th>1</th>\n      <td>RxAttributeAvailable DreamStation Auto CPAP de...</td>\n      <td>Passed</td>\n      <td>1.33.0</td>\n      <td>2228014 v51</td>\n      <td>RC3</td>\n      <td>Jeff</td>\n      <td>..\\data\\ER2228014 v51 ATT2 Automated as-run\\1....</td>\n    </tr>\n    <tr>\n      <th>2</th>\n      <td>TC400 TC708 RxDefaults TC400 TC708 DreamStatio...</td>\n      <td>Passed</td>\n      <td>1.33.0</td>\n      <td>2228014 v51</td>\n      <td>RC3</td>\n      <td>Jeff</td>\n      <td>..\\data\\ER2228014 v51 ATT2 Automated as-run\\1....</td>\n    </tr>\n    <tr>\n      <th>3</th>\n      <td>TC401 RxSettingOrder TC401 DreamStation Auto C...</td>\n      <td>Passed</td>\n      <td>1.33.0</td>\n      <td>2228014 v51</td>\n      <td>RC3</td>\n      <td>Jeff</td>\n      <td>..\\data\\ER2228014 v51 ATT2 Automated as-run\\1....</td>\n    </tr>\n    <tr>\n      <th>4</th>\n      <td>TC395 TC396 TC708 RxRangeAndScale RxCreate TC3...</td>\n      <td>Passed</td>\n      <td>1.33.0</td>\n      <td>2228014 v51</td>\n      <td>RC3</td>\n      <td>Jeff</td>\n      <td>..\\data\\ER2228014 v51 ATT2 Automated as-run\\1....</td>\n    </tr>\n    <tr>\n      <th>...</th>\n      <td>...</td>\n      <td>...</td>\n      <td>...</td>\n      <td>...</td>\n      <td>...</td>\n      <td>...</td>\n      <td>...</td>\n    </tr>\n    <tr>\n      <th>23883</th>\n      <td>TC396 TC575 TC708 RxMaxInteractions AutoTrialM...</td>\n      <td>Passed</td>\n      <td>1.33.0</td>\n      <td>2228014 v51</td>\n      <td>RC3</td>\n      <td>Nihar</td>\n      <td>..\\data\\ER2228014 v51 ATT2 Automated as-run\\1....</td>\n    </tr>\n    <tr>\n      <th>23884</th>\n      <td>TC396 TC575 TC708 RxMaxInteractions TC396 TC57...</td>\n      <td>Passed</td>\n      <td>1.33.0</td>\n      <td>2228014 v51</td>\n      <td>RC3</td>\n      <td>Nihar</td>\n      <td>..\\data\\ER2228014 v51 ATT2 Automated as-run\\1....</td>\n    </tr>\n    <tr>\n      <th>23885</th>\n      <td>TC395 TC396 TC708 RxRangeAndScale RxCreate TC3...</td>\n      <td>Passed</td>\n      <td>1.33.0</td>\n      <td>2228014 v51</td>\n      <td>RC3</td>\n      <td>Nihar</td>\n      <td>..\\data\\ER2228014 v51 ATT2 Automated as-run\\1....</td>\n    </tr>\n    <tr>\n      <th>23886</th>\n      <td>TC707 RxSaveEdited Random TC707 DreamStation G...</td>\n      <td>Passed</td>\n      <td>1.33.0</td>\n      <td>2228014 v51</td>\n      <td>RC3</td>\n      <td>Nihar</td>\n      <td>..\\data\\ER2228014 v51 ATT2 Automated as-run\\1....</td>\n    </tr>\n    <tr>\n      <th>23887</th>\n      <td>TC396 TC575 TC708 RxSetInteractions EZStart on...</td>\n      <td>Passed</td>\n      <td>1.33.0</td>\n      <td>2228014 v51</td>\n      <td>RC3</td>\n      <td>Nihar</td>\n      <td>..\\data\\ER2228014 v51 ATT2 Automated as-run\\1....</td>\n    </tr>\n  </tbody>\n</table>\n<p>23859 rows × 7 columns</p>\n</div>"
     },
     "metadata": {},
     "execution_count": 13
    }
   ],
   "source": [
    "valid, invalid = filter_tests(rx)\n",
    "valid"
   ]
  },
  {
   "cell_type": "code",
   "execution_count": 14,
   "metadata": {},
   "outputs": [
    {
     "output_type": "execute_result",
     "data": {
      "text/plain": [
       "                                              Test Name   Test Status Release  \\\n",
       "5697  TC9395 TC395 TC396 TC708 RxRangeAndScale RxEdi...  Inconclusive  1.33.0   \n",
       "5700  TC9395 TC402 TC706 RxSave Maximum TC402 TC706 ...  Inconclusive  1.33.0   \n",
       "5701  TC9395 TC402 TC706 RxSave Random TC402 TC706 B...  Inconclusive  1.33.0   \n",
       "5702  TC9395 TC707 RxSaveEdited TC707 BiPAP A40 Pro ...  Inconclusive  1.33.0   \n",
       "5786  TC9397 TC395 TC396 TC708 RxRangeAndScale RxEdi...  Inconclusive  1.33.0   \n",
       "5789  TC9397 TC402 TC706 RxSave Maximum TC402 TC706 ...  Inconclusive  1.33.0   \n",
       "5790  TC9397 TC402 TC706 RxSave Random TC402 TC706 B...  Inconclusive  1.33.0   \n",
       "5949  TC9402 TC395 TC396 TC708 RxRangeAndScale RxEdi...  Inconclusive  1.33.0   \n",
       "5952  TC9402 TC402 TC706 RxSave Maximum TC402 TC706 ...  Inconclusive  1.33.0   \n",
       "5954  TC9402 TC707 RxSaveEdited TC707 BiPAP A40 Pro ...  Inconclusive  1.33.0   \n",
       "6040  TC9400 TC402 TC706 RxSave Maximum TC402 TC706 ...  Inconclusive  1.33.0   \n",
       "6041  TC9400 TC402 TC706 RxSave Random TC402 TC706 B...  Inconclusive  1.33.0   \n",
       "6042  TC9400 TC707 RxSaveEdited TC707 BiPAP A40 Pro ...  Inconclusive  1.33.0   \n",
       "6115  TC9409 TC402 TC706 RxSave Maximum TC402 TC706 ...  Inconclusive  1.33.0   \n",
       "6116  TC9409 TC402 TC706 RxSave Random TC402 TC706 B...  Inconclusive  1.33.0   \n",
       "6202  TC9406 TC395 TC396 TC708 RxRangeAndScale RxEdi...  Inconclusive  1.33.0   \n",
       "6205  TC9406 TC402 TC706 RxSave Maximum TC402 TC706 ...  Inconclusive  1.33.0   \n",
       "6206  TC9406 TC402 TC706 RxSave Random TC402 TC706 B...  Inconclusive  1.33.0   \n",
       "6207  TC9406 TC707 RxSaveEdited Random TC707 BiPAP A...  Inconclusive  1.33.0   \n",
       "6328  TC9404 TC395 TC396 TC708 RxRangeAndScale RxEdi...  Inconclusive  1.33.0   \n",
       "6331  TC9404 TC402 TC706 RxSave Maximum TC402 TC706 ...  Inconclusive  1.33.0   \n",
       "6333  TC9404 TC707 RxSaveEdited Random TC707 BiPAP A...  Inconclusive  1.33.0   \n",
       "6446  TC1499 TC12018 TC402 TC706 RxSave Maximum TC40...  Inconclusive  1.33.0   \n",
       "6533  TC1501 TC12018 TC395 TC396 TC708 RxRangeAndSca...  Inconclusive  1.33.0   \n",
       "6536  TC1501 TC12018 TC402 TC706 RxSave Maximum TC40...  Inconclusive  1.33.0   \n",
       "6537  TC1501 TC12018 TC402 TC706 RxSave Random TC402...  Inconclusive  1.33.0   \n",
       "6659  TC1504 TC12018 TC395 TC396 TC708 RxRangeAndSca...  Inconclusive  1.33.0   \n",
       "6662  TC1504 TC12018 TC402 TC706 RxSave Maximum TC40...  Inconclusive  1.33.0   \n",
       "6663  TC1504 TC12018 TC402 TC706 RxSave Random TC402...  Inconclusive  1.33.0   \n",
       "\n",
       "     V&V Test Report   RC Owner  \\\n",
       "5697     2228014 v51  RC3  Jeff   \n",
       "5700     2228014 v51  RC3  Jeff   \n",
       "5701     2228014 v51  RC3  Jeff   \n",
       "5702     2228014 v51  RC3  Jeff   \n",
       "5786     2228014 v51  RC3  Jeff   \n",
       "5789     2228014 v51  RC3  Jeff   \n",
       "5790     2228014 v51  RC3  Jeff   \n",
       "5949     2228014 v51  RC3  Jeff   \n",
       "5952     2228014 v51  RC3  Jeff   \n",
       "5954     2228014 v51  RC3  Jeff   \n",
       "6040     2228014 v51  RC3  Jeff   \n",
       "6041     2228014 v51  RC3  Jeff   \n",
       "6042     2228014 v51  RC3  Jeff   \n",
       "6115     2228014 v51  RC3  Jeff   \n",
       "6116     2228014 v51  RC3  Jeff   \n",
       "6202     2228014 v51  RC3  Jeff   \n",
       "6205     2228014 v51  RC3  Jeff   \n",
       "6206     2228014 v51  RC3  Jeff   \n",
       "6207     2228014 v51  RC3  Jeff   \n",
       "6328     2228014 v51  RC3  Jeff   \n",
       "6331     2228014 v51  RC3  Jeff   \n",
       "6333     2228014 v51  RC3  Jeff   \n",
       "6446     2228014 v51  RC3  Jeff   \n",
       "6533     2228014 v51  RC3  Jeff   \n",
       "6536     2228014 v51  RC3  Jeff   \n",
       "6537     2228014 v51  RC3  Jeff   \n",
       "6659     2228014 v51  RC3  Jeff   \n",
       "6662     2228014 v51  RC3  Jeff   \n",
       "6663     2228014 v51  RC3  Jeff   \n",
       "\n",
       "                                              File Path  \n",
       "5697  ..\\data\\ER2228014 v51 ATT2 Automated as-run\\1....  \n",
       "5700  ..\\data\\ER2228014 v51 ATT2 Automated as-run\\1....  \n",
       "5701  ..\\data\\ER2228014 v51 ATT2 Automated as-run\\1....  \n",
       "5702  ..\\data\\ER2228014 v51 ATT2 Automated as-run\\1....  \n",
       "5786  ..\\data\\ER2228014 v51 ATT2 Automated as-run\\1....  \n",
       "5789  ..\\data\\ER2228014 v51 ATT2 Automated as-run\\1....  \n",
       "5790  ..\\data\\ER2228014 v51 ATT2 Automated as-run\\1....  \n",
       "5949  ..\\data\\ER2228014 v51 ATT2 Automated as-run\\1....  \n",
       "5952  ..\\data\\ER2228014 v51 ATT2 Automated as-run\\1....  \n",
       "5954  ..\\data\\ER2228014 v51 ATT2 Automated as-run\\1....  \n",
       "6040  ..\\data\\ER2228014 v51 ATT2 Automated as-run\\1....  \n",
       "6041  ..\\data\\ER2228014 v51 ATT2 Automated as-run\\1....  \n",
       "6042  ..\\data\\ER2228014 v51 ATT2 Automated as-run\\1....  \n",
       "6115  ..\\data\\ER2228014 v51 ATT2 Automated as-run\\1....  \n",
       "6116  ..\\data\\ER2228014 v51 ATT2 Automated as-run\\1....  \n",
       "6202  ..\\data\\ER2228014 v51 ATT2 Automated as-run\\1....  \n",
       "6205  ..\\data\\ER2228014 v51 ATT2 Automated as-run\\1....  \n",
       "6206  ..\\data\\ER2228014 v51 ATT2 Automated as-run\\1....  \n",
       "6207  ..\\data\\ER2228014 v51 ATT2 Automated as-run\\1....  \n",
       "6328  ..\\data\\ER2228014 v51 ATT2 Automated as-run\\1....  \n",
       "6331  ..\\data\\ER2228014 v51 ATT2 Automated as-run\\1....  \n",
       "6333  ..\\data\\ER2228014 v51 ATT2 Automated as-run\\1....  \n",
       "6446  ..\\data\\ER2228014 v51 ATT2 Automated as-run\\1....  \n",
       "6533  ..\\data\\ER2228014 v51 ATT2 Automated as-run\\1....  \n",
       "6536  ..\\data\\ER2228014 v51 ATT2 Automated as-run\\1....  \n",
       "6537  ..\\data\\ER2228014 v51 ATT2 Automated as-run\\1....  \n",
       "6659  ..\\data\\ER2228014 v51 ATT2 Automated as-run\\1....  \n",
       "6662  ..\\data\\ER2228014 v51 ATT2 Automated as-run\\1....  \n",
       "6663  ..\\data\\ER2228014 v51 ATT2 Automated as-run\\1....  "
      ],
      "text/html": "<div>\n<style scoped>\n    .dataframe tbody tr th:only-of-type {\n        vertical-align: middle;\n    }\n\n    .dataframe tbody tr th {\n        vertical-align: top;\n    }\n\n    .dataframe thead th {\n        text-align: right;\n    }\n</style>\n<table border=\"1\" class=\"dataframe\">\n  <thead>\n    <tr style=\"text-align: right;\">\n      <th></th>\n      <th>Test Name</th>\n      <th>Test Status</th>\n      <th>Release</th>\n      <th>V&amp;V Test Report</th>\n      <th>RC</th>\n      <th>Owner</th>\n      <th>File Path</th>\n    </tr>\n  </thead>\n  <tbody>\n    <tr>\n      <th>5697</th>\n      <td>TC9395 TC395 TC396 TC708 RxRangeAndScale RxEdi...</td>\n      <td>Inconclusive</td>\n      <td>1.33.0</td>\n      <td>2228014 v51</td>\n      <td>RC3</td>\n      <td>Jeff</td>\n      <td>..\\data\\ER2228014 v51 ATT2 Automated as-run\\1....</td>\n    </tr>\n    <tr>\n      <th>5700</th>\n      <td>TC9395 TC402 TC706 RxSave Maximum TC402 TC706 ...</td>\n      <td>Inconclusive</td>\n      <td>1.33.0</td>\n      <td>2228014 v51</td>\n      <td>RC3</td>\n      <td>Jeff</td>\n      <td>..\\data\\ER2228014 v51 ATT2 Automated as-run\\1....</td>\n    </tr>\n    <tr>\n      <th>5701</th>\n      <td>TC9395 TC402 TC706 RxSave Random TC402 TC706 B...</td>\n      <td>Inconclusive</td>\n      <td>1.33.0</td>\n      <td>2228014 v51</td>\n      <td>RC3</td>\n      <td>Jeff</td>\n      <td>..\\data\\ER2228014 v51 ATT2 Automated as-run\\1....</td>\n    </tr>\n    <tr>\n      <th>5702</th>\n      <td>TC9395 TC707 RxSaveEdited TC707 BiPAP A40 Pro ...</td>\n      <td>Inconclusive</td>\n      <td>1.33.0</td>\n      <td>2228014 v51</td>\n      <td>RC3</td>\n      <td>Jeff</td>\n      <td>..\\data\\ER2228014 v51 ATT2 Automated as-run\\1....</td>\n    </tr>\n    <tr>\n      <th>5786</th>\n      <td>TC9397 TC395 TC396 TC708 RxRangeAndScale RxEdi...</td>\n      <td>Inconclusive</td>\n      <td>1.33.0</td>\n      <td>2228014 v51</td>\n      <td>RC3</td>\n      <td>Jeff</td>\n      <td>..\\data\\ER2228014 v51 ATT2 Automated as-run\\1....</td>\n    </tr>\n    <tr>\n      <th>5789</th>\n      <td>TC9397 TC402 TC706 RxSave Maximum TC402 TC706 ...</td>\n      <td>Inconclusive</td>\n      <td>1.33.0</td>\n      <td>2228014 v51</td>\n      <td>RC3</td>\n      <td>Jeff</td>\n      <td>..\\data\\ER2228014 v51 ATT2 Automated as-run\\1....</td>\n    </tr>\n    <tr>\n      <th>5790</th>\n      <td>TC9397 TC402 TC706 RxSave Random TC402 TC706 B...</td>\n      <td>Inconclusive</td>\n      <td>1.33.0</td>\n      <td>2228014 v51</td>\n      <td>RC3</td>\n      <td>Jeff</td>\n      <td>..\\data\\ER2228014 v51 ATT2 Automated as-run\\1....</td>\n    </tr>\n    <tr>\n      <th>5949</th>\n      <td>TC9402 TC395 TC396 TC708 RxRangeAndScale RxEdi...</td>\n      <td>Inconclusive</td>\n      <td>1.33.0</td>\n      <td>2228014 v51</td>\n      <td>RC3</td>\n      <td>Jeff</td>\n      <td>..\\data\\ER2228014 v51 ATT2 Automated as-run\\1....</td>\n    </tr>\n    <tr>\n      <th>5952</th>\n      <td>TC9402 TC402 TC706 RxSave Maximum TC402 TC706 ...</td>\n      <td>Inconclusive</td>\n      <td>1.33.0</td>\n      <td>2228014 v51</td>\n      <td>RC3</td>\n      <td>Jeff</td>\n      <td>..\\data\\ER2228014 v51 ATT2 Automated as-run\\1....</td>\n    </tr>\n    <tr>\n      <th>5954</th>\n      <td>TC9402 TC707 RxSaveEdited TC707 BiPAP A40 Pro ...</td>\n      <td>Inconclusive</td>\n      <td>1.33.0</td>\n      <td>2228014 v51</td>\n      <td>RC3</td>\n      <td>Jeff</td>\n      <td>..\\data\\ER2228014 v51 ATT2 Automated as-run\\1....</td>\n    </tr>\n    <tr>\n      <th>6040</th>\n      <td>TC9400 TC402 TC706 RxSave Maximum TC402 TC706 ...</td>\n      <td>Inconclusive</td>\n      <td>1.33.0</td>\n      <td>2228014 v51</td>\n      <td>RC3</td>\n      <td>Jeff</td>\n      <td>..\\data\\ER2228014 v51 ATT2 Automated as-run\\1....</td>\n    </tr>\n    <tr>\n      <th>6041</th>\n      <td>TC9400 TC402 TC706 RxSave Random TC402 TC706 B...</td>\n      <td>Inconclusive</td>\n      <td>1.33.0</td>\n      <td>2228014 v51</td>\n      <td>RC3</td>\n      <td>Jeff</td>\n      <td>..\\data\\ER2228014 v51 ATT2 Automated as-run\\1....</td>\n    </tr>\n    <tr>\n      <th>6042</th>\n      <td>TC9400 TC707 RxSaveEdited TC707 BiPAP A40 Pro ...</td>\n      <td>Inconclusive</td>\n      <td>1.33.0</td>\n      <td>2228014 v51</td>\n      <td>RC3</td>\n      <td>Jeff</td>\n      <td>..\\data\\ER2228014 v51 ATT2 Automated as-run\\1....</td>\n    </tr>\n    <tr>\n      <th>6115</th>\n      <td>TC9409 TC402 TC706 RxSave Maximum TC402 TC706 ...</td>\n      <td>Inconclusive</td>\n      <td>1.33.0</td>\n      <td>2228014 v51</td>\n      <td>RC3</td>\n      <td>Jeff</td>\n      <td>..\\data\\ER2228014 v51 ATT2 Automated as-run\\1....</td>\n    </tr>\n    <tr>\n      <th>6116</th>\n      <td>TC9409 TC402 TC706 RxSave Random TC402 TC706 B...</td>\n      <td>Inconclusive</td>\n      <td>1.33.0</td>\n      <td>2228014 v51</td>\n      <td>RC3</td>\n      <td>Jeff</td>\n      <td>..\\data\\ER2228014 v51 ATT2 Automated as-run\\1....</td>\n    </tr>\n    <tr>\n      <th>6202</th>\n      <td>TC9406 TC395 TC396 TC708 RxRangeAndScale RxEdi...</td>\n      <td>Inconclusive</td>\n      <td>1.33.0</td>\n      <td>2228014 v51</td>\n      <td>RC3</td>\n      <td>Jeff</td>\n      <td>..\\data\\ER2228014 v51 ATT2 Automated as-run\\1....</td>\n    </tr>\n    <tr>\n      <th>6205</th>\n      <td>TC9406 TC402 TC706 RxSave Maximum TC402 TC706 ...</td>\n      <td>Inconclusive</td>\n      <td>1.33.0</td>\n      <td>2228014 v51</td>\n      <td>RC3</td>\n      <td>Jeff</td>\n      <td>..\\data\\ER2228014 v51 ATT2 Automated as-run\\1....</td>\n    </tr>\n    <tr>\n      <th>6206</th>\n      <td>TC9406 TC402 TC706 RxSave Random TC402 TC706 B...</td>\n      <td>Inconclusive</td>\n      <td>1.33.0</td>\n      <td>2228014 v51</td>\n      <td>RC3</td>\n      <td>Jeff</td>\n      <td>..\\data\\ER2228014 v51 ATT2 Automated as-run\\1....</td>\n    </tr>\n    <tr>\n      <th>6207</th>\n      <td>TC9406 TC707 RxSaveEdited Random TC707 BiPAP A...</td>\n      <td>Inconclusive</td>\n      <td>1.33.0</td>\n      <td>2228014 v51</td>\n      <td>RC3</td>\n      <td>Jeff</td>\n      <td>..\\data\\ER2228014 v51 ATT2 Automated as-run\\1....</td>\n    </tr>\n    <tr>\n      <th>6328</th>\n      <td>TC9404 TC395 TC396 TC708 RxRangeAndScale RxEdi...</td>\n      <td>Inconclusive</td>\n      <td>1.33.0</td>\n      <td>2228014 v51</td>\n      <td>RC3</td>\n      <td>Jeff</td>\n      <td>..\\data\\ER2228014 v51 ATT2 Automated as-run\\1....</td>\n    </tr>\n    <tr>\n      <th>6331</th>\n      <td>TC9404 TC402 TC706 RxSave Maximum TC402 TC706 ...</td>\n      <td>Inconclusive</td>\n      <td>1.33.0</td>\n      <td>2228014 v51</td>\n      <td>RC3</td>\n      <td>Jeff</td>\n      <td>..\\data\\ER2228014 v51 ATT2 Automated as-run\\1....</td>\n    </tr>\n    <tr>\n      <th>6333</th>\n      <td>TC9404 TC707 RxSaveEdited Random TC707 BiPAP A...</td>\n      <td>Inconclusive</td>\n      <td>1.33.0</td>\n      <td>2228014 v51</td>\n      <td>RC3</td>\n      <td>Jeff</td>\n      <td>..\\data\\ER2228014 v51 ATT2 Automated as-run\\1....</td>\n    </tr>\n    <tr>\n      <th>6446</th>\n      <td>TC1499 TC12018 TC402 TC706 RxSave Maximum TC40...</td>\n      <td>Inconclusive</td>\n      <td>1.33.0</td>\n      <td>2228014 v51</td>\n      <td>RC3</td>\n      <td>Jeff</td>\n      <td>..\\data\\ER2228014 v51 ATT2 Automated as-run\\1....</td>\n    </tr>\n    <tr>\n      <th>6533</th>\n      <td>TC1501 TC12018 TC395 TC396 TC708 RxRangeAndSca...</td>\n      <td>Inconclusive</td>\n      <td>1.33.0</td>\n      <td>2228014 v51</td>\n      <td>RC3</td>\n      <td>Jeff</td>\n      <td>..\\data\\ER2228014 v51 ATT2 Automated as-run\\1....</td>\n    </tr>\n    <tr>\n      <th>6536</th>\n      <td>TC1501 TC12018 TC402 TC706 RxSave Maximum TC40...</td>\n      <td>Inconclusive</td>\n      <td>1.33.0</td>\n      <td>2228014 v51</td>\n      <td>RC3</td>\n      <td>Jeff</td>\n      <td>..\\data\\ER2228014 v51 ATT2 Automated as-run\\1....</td>\n    </tr>\n    <tr>\n      <th>6537</th>\n      <td>TC1501 TC12018 TC402 TC706 RxSave Random TC402...</td>\n      <td>Inconclusive</td>\n      <td>1.33.0</td>\n      <td>2228014 v51</td>\n      <td>RC3</td>\n      <td>Jeff</td>\n      <td>..\\data\\ER2228014 v51 ATT2 Automated as-run\\1....</td>\n    </tr>\n    <tr>\n      <th>6659</th>\n      <td>TC1504 TC12018 TC395 TC396 TC708 RxRangeAndSca...</td>\n      <td>Inconclusive</td>\n      <td>1.33.0</td>\n      <td>2228014 v51</td>\n      <td>RC3</td>\n      <td>Jeff</td>\n      <td>..\\data\\ER2228014 v51 ATT2 Automated as-run\\1....</td>\n    </tr>\n    <tr>\n      <th>6662</th>\n      <td>TC1504 TC12018 TC402 TC706 RxSave Maximum TC40...</td>\n      <td>Inconclusive</td>\n      <td>1.33.0</td>\n      <td>2228014 v51</td>\n      <td>RC3</td>\n      <td>Jeff</td>\n      <td>..\\data\\ER2228014 v51 ATT2 Automated as-run\\1....</td>\n    </tr>\n    <tr>\n      <th>6663</th>\n      <td>TC1504 TC12018 TC402 TC706 RxSave Random TC402...</td>\n      <td>Inconclusive</td>\n      <td>1.33.0</td>\n      <td>2228014 v51</td>\n      <td>RC3</td>\n      <td>Jeff</td>\n      <td>..\\data\\ER2228014 v51 ATT2 Automated as-run\\1....</td>\n    </tr>\n  </tbody>\n</table>\n</div>"
     },
     "metadata": {},
     "execution_count": 14
    }
   ],
   "source": [
    "invalid"
   ]
  },
  {
   "cell_type": "code",
   "execution_count": 6,
   "metadata": {},
   "outputs": [
    {
     "output_type": "stream",
     "name": "stdout",
     "text": [
      "Loading api test files from ../data/ER2228014 v51 ATT2 Automated as-run/1.33.0/RestApiTests\n"
     ]
    },
    {
     "output_type": "execute_result",
     "data": {
      "text/plain": [
       "                                               test_name  status version_num  \\\n",
       "0      TC6281 F3288_Visit_Summary_From_AmWell.checkAi...  passed      1.33.0   \n",
       "1      TC6281 F3288_Visit_Summary_From_AmWell.checkNo...  passed      1.33.0   \n",
       "2      TC5871 F3288_Visit_Summary_From_AmWell.duplica...  passed      1.33.0   \n",
       "3      TC6282 F3288_Visit_Summary_From_AmWell.checkAm...  passed      1.33.0   \n",
       "4      TC5867 TC5868 TC5869 TC5872 TC5873 TC5874 TC58...  passed      1.33.0   \n",
       "...                                                  ...     ...         ...   \n",
       "10140  TC460 TC464 TC1126 TC1189 TC2149 F1533_Trilogy...  passed      1.33.0   \n",
       "10141  TC460 TC464 TC1126 TC1189 TC2148 F1533_Trilogy...  passed      1.33.0   \n",
       "10142  TC460 TC464 TC1126 TC1189 TC2146 F1533_Trilogy...  passed      1.33.0   \n",
       "10143  TC237 TC2069 TC2542 tests.task.compliance.F251...  passed      1.33.0   \n",
       "10144  TC2331 tests.task.F2514_Compliance_Rule.Compli...  passed      1.33.0   \n",
       "\n",
       "               v_v   rc      name  \\\n",
       "0      2228014 v51  RC1  Akshitha   \n",
       "1      2228014 v51  RC1  Akshitha   \n",
       "2      2228014 v51  RC1  Akshitha   \n",
       "3      2228014 v51  RC1  Akshitha   \n",
       "4      2228014 v51  RC1  Akshitha   \n",
       "...            ...  ...       ...   \n",
       "10140  2228014 v51  RC4    Mardis   \n",
       "10141  2228014 v51  RC4    Mardis   \n",
       "10142  2228014 v51  RC4    Mardis   \n",
       "10143  2228014 v51  RC4    Mardis   \n",
       "10144  2228014 v51  RC4    Mardis   \n",
       "\n",
       "                                               file_name  \n",
       "0      ..\\data\\ER2228014 v51 ATT2 Automated as-run\\1....  \n",
       "1      ..\\data\\ER2228014 v51 ATT2 Automated as-run\\1....  \n",
       "2      ..\\data\\ER2228014 v51 ATT2 Automated as-run\\1....  \n",
       "3      ..\\data\\ER2228014 v51 ATT2 Automated as-run\\1....  \n",
       "4      ..\\data\\ER2228014 v51 ATT2 Automated as-run\\1....  \n",
       "...                                                  ...  \n",
       "10140  ..\\data\\ER2228014 v51 ATT2 Automated as-run\\1....  \n",
       "10141  ..\\data\\ER2228014 v51 ATT2 Automated as-run\\1....  \n",
       "10142  ..\\data\\ER2228014 v51 ATT2 Automated as-run\\1....  \n",
       "10143  ..\\data\\ER2228014 v51 ATT2 Automated as-run\\1....  \n",
       "10144  ..\\data\\ER2228014 v51 ATT2 Automated as-run\\1....  \n",
       "\n",
       "[10145 rows x 7 columns]"
      ],
      "text/html": "<div>\n<style scoped>\n    .dataframe tbody tr th:only-of-type {\n        vertical-align: middle;\n    }\n\n    .dataframe tbody tr th {\n        vertical-align: top;\n    }\n\n    .dataframe thead th {\n        text-align: right;\n    }\n</style>\n<table border=\"1\" class=\"dataframe\">\n  <thead>\n    <tr style=\"text-align: right;\">\n      <th></th>\n      <th>test_name</th>\n      <th>status</th>\n      <th>version_num</th>\n      <th>v_v</th>\n      <th>rc</th>\n      <th>name</th>\n      <th>file_name</th>\n    </tr>\n  </thead>\n  <tbody>\n    <tr>\n      <th>0</th>\n      <td>TC6281 F3288_Visit_Summary_From_AmWell.checkAi...</td>\n      <td>passed</td>\n      <td>1.33.0</td>\n      <td>2228014 v51</td>\n      <td>RC1</td>\n      <td>Akshitha</td>\n      <td>..\\data\\ER2228014 v51 ATT2 Automated as-run\\1....</td>\n    </tr>\n    <tr>\n      <th>1</th>\n      <td>TC6281 F3288_Visit_Summary_From_AmWell.checkNo...</td>\n      <td>passed</td>\n      <td>1.33.0</td>\n      <td>2228014 v51</td>\n      <td>RC1</td>\n      <td>Akshitha</td>\n      <td>..\\data\\ER2228014 v51 ATT2 Automated as-run\\1....</td>\n    </tr>\n    <tr>\n      <th>2</th>\n      <td>TC5871 F3288_Visit_Summary_From_AmWell.duplica...</td>\n      <td>passed</td>\n      <td>1.33.0</td>\n      <td>2228014 v51</td>\n      <td>RC1</td>\n      <td>Akshitha</td>\n      <td>..\\data\\ER2228014 v51 ATT2 Automated as-run\\1....</td>\n    </tr>\n    <tr>\n      <th>3</th>\n      <td>TC6282 F3288_Visit_Summary_From_AmWell.checkAm...</td>\n      <td>passed</td>\n      <td>1.33.0</td>\n      <td>2228014 v51</td>\n      <td>RC1</td>\n      <td>Akshitha</td>\n      <td>..\\data\\ER2228014 v51 ATT2 Automated as-run\\1....</td>\n    </tr>\n    <tr>\n      <th>4</th>\n      <td>TC5867 TC5868 TC5869 TC5872 TC5873 TC5874 TC58...</td>\n      <td>passed</td>\n      <td>1.33.0</td>\n      <td>2228014 v51</td>\n      <td>RC1</td>\n      <td>Akshitha</td>\n      <td>..\\data\\ER2228014 v51 ATT2 Automated as-run\\1....</td>\n    </tr>\n    <tr>\n      <th>...</th>\n      <td>...</td>\n      <td>...</td>\n      <td>...</td>\n      <td>...</td>\n      <td>...</td>\n      <td>...</td>\n      <td>...</td>\n    </tr>\n    <tr>\n      <th>10140</th>\n      <td>TC460 TC464 TC1126 TC1189 TC2149 F1533_Trilogy...</td>\n      <td>passed</td>\n      <td>1.33.0</td>\n      <td>2228014 v51</td>\n      <td>RC4</td>\n      <td>Mardis</td>\n      <td>..\\data\\ER2228014 v51 ATT2 Automated as-run\\1....</td>\n    </tr>\n    <tr>\n      <th>10141</th>\n      <td>TC460 TC464 TC1126 TC1189 TC2148 F1533_Trilogy...</td>\n      <td>passed</td>\n      <td>1.33.0</td>\n      <td>2228014 v51</td>\n      <td>RC4</td>\n      <td>Mardis</td>\n      <td>..\\data\\ER2228014 v51 ATT2 Automated as-run\\1....</td>\n    </tr>\n    <tr>\n      <th>10142</th>\n      <td>TC460 TC464 TC1126 TC1189 TC2146 F1533_Trilogy...</td>\n      <td>passed</td>\n      <td>1.33.0</td>\n      <td>2228014 v51</td>\n      <td>RC4</td>\n      <td>Mardis</td>\n      <td>..\\data\\ER2228014 v51 ATT2 Automated as-run\\1....</td>\n    </tr>\n    <tr>\n      <th>10143</th>\n      <td>TC237 TC2069 TC2542 tests.task.compliance.F251...</td>\n      <td>passed</td>\n      <td>1.33.0</td>\n      <td>2228014 v51</td>\n      <td>RC4</td>\n      <td>Mardis</td>\n      <td>..\\data\\ER2228014 v51 ATT2 Automated as-run\\1....</td>\n    </tr>\n    <tr>\n      <th>10144</th>\n      <td>TC2331 tests.task.F2514_Compliance_Rule.Compli...</td>\n      <td>passed</td>\n      <td>1.33.0</td>\n      <td>2228014 v51</td>\n      <td>RC4</td>\n      <td>Mardis</td>\n      <td>..\\data\\ER2228014 v51 ATT2 Automated as-run\\1....</td>\n    </tr>\n  </tbody>\n</table>\n<p>10145 rows × 7 columns</p>\n</div>"
     },
     "metadata": {},
     "execution_count": 6
    }
   ],
   "source": [
    "api = read_rest_api_tests(\"../data/ER2228014 v51 ATT2 Automated as-run/1.33.0/RestApiTests\")\n",
    "api"
   ]
  },
  {
   "cell_type": "code",
   "execution_count": 10,
   "metadata": {},
   "outputs": [
    {
     "output_type": "execute_result",
     "data": {
      "text/plain": [
       "'Passed'"
      ]
     },
     "metadata": {},
     "execution_count": 10
    }
   ],
   "source": [
    "\"PASSED\".lower().capitalize()"
   ]
  },
  {
   "cell_type": "code",
   "execution_count": 43,
   "metadata": {},
   "outputs": [
    {
     "output_type": "stream",
     "name": "stdout",
     "text": [
      "Loading Rx test files from ..\\data\\ER2228014 v51 ATT2 Automated as-run\\1.33.0\\Rx\n"
     ]
    }
   ],
   "source": [
    "folder_path = Path(\"../data/ER2228014 v51 ATT2 Automated as-run/1.33.0/Rx\")\n",
    "print(f\"Loading Rx test files from {folder_path}\")\n",
    "if isinstance(folder_path, str):\n",
    "    folder_path = Path(folder_path)\n",
    "\n",
    "# Read all .txt files recursively in the folders\n",
    "file_list = [file_name for file_name in folder_path.rglob(\"*.txt\") if \"__MACOSX\" not in str(file_name)]\n",
    "\n",
    "# Load in the data from each file, add to a single list\n",
    "data = []"
   ]
  },
  {
   "cell_type": "code",
   "execution_count": 52,
   "metadata": {},
   "outputs": [
    {
     "output_type": "execute_result",
     "data": {
      "text/plain": [
       "[WindowsPath('../data/ER2228014 v51 ATT2 Automated as-run/1.33.0/Rx/RC3/Jeff/1.33_rx_jeff.txt'),\n",
       " WindowsPath('../data/ER2228014 v51 ATT2 Automated as-run/1.33.0/Rx/RC3/Nihar/1.33_rx_nihar.txt')]"
      ]
     },
     "metadata": {},
     "execution_count": 52
    }
   ],
   "source": [
    "file_list"
   ]
  },
  {
   "cell_type": "code",
   "execution_count": 47,
   "metadata": {},
   "outputs": [
    {
     "output_type": "execute_result",
     "data": {
      "text/plain": [
       "['RxDeviceAvailable DreamStation Auto CPAP device AutoCPAP mode A-Flex attribute All (USA, PRI, FRA, GLP, GUF, MTQ, REU, PYF, CHN, HKG, MAC, BRA, DEU, JPN) market Device Availability test|Passed',\n",
       " 'RxAttributeAvailable DreamStation Auto CPAP device AutoCPAP mode A-Flex attribute All (USA, PRI, FRA, GLP, GUF, MTQ, REU, PYF, CHN, HKG, MAC, BRA, DEU, JPN) market Attribute Availability test|Passed',\n",
       " 'TC400 TC708 RxDefaults TC400 TC708 DreamStation Auto CPAP device AutoCPAP mode A-Flex attribute All (USA, PRI, FRA, GLP, GUF, MTQ, REU, PYF, CHN, HKG, MAC, BRA, DEU, JPN) market Defaults test|Passed',\n",
       " 'TC401 RxSettingOrder TC401 DreamStation Auto CPAP device AutoCPAP mode A-Flex attribute All (USA, PRI, FRA, GLP, GUF, MTQ, REU, PYF, CHN, HKG, MAC, BRA, DEU, JPN) market Setting Order test|Passed',\n",
       " 'TC395 TC396 TC708 RxRangeAndScale RxCreate TC395 TC396 TC708 DreamStation Auto CPAP device AutoCPAP mode A-Flex attribute All (USA, PRI, FRA, GLP, GUF, MTQ, REU, PYF, CHN, HKG, MAC, BRA, DEU, JPN) market Range and Scale on Create Rx test|Passed',\n",
       " 'TC395 TC396 TC708 RxRangeAndScale RxEdit TC395 TC396 TC708 DreamStation Auto CPAP device AutoCPAP mode A-Flex attribute All (USA, PRI, FRA, GLP, GUF, MTQ, REU, PYF, CHN, HKG, MAC, BRA, DEU, JPN) market Range and Scale on Edit Rx test|Passed',\n",
       " 'TC402 TC706 RxSave Default TC402 TC706 DreamStation Auto CPAP device AutoCPAP mode A-Flex attribute All (USA, PRI, FRA, GLP, GUF, MTQ, REU, PYF, CHN, HKG, MAC, BRA, DEU, JPN) market Save Settings test|Passed',\n",
       " 'TC402 TC706 RxSave Minimum TC402 TC706 DreamStation Auto CPAP device AutoCPAP mode A-Flex attribute All (USA, PRI, FRA, GLP, GUF, MTQ, REU, PYF, CHN, HKG, MAC, BRA, DEU, JPN) market Save Settings test|Passed',\n",
       " 'TC402 TC706 RxSave Maximum TC402 TC706 DreamStation Auto CPAP device AutoCPAP mode A-Flex attribute All (USA, PRI, FRA, GLP, GUF, MTQ, REU, PYF, CHN, HKG, MAC, BRA, DEU, JPN) market Save Settings test|Passed',\n",
       " 'TC402 TC706 RxSave Random TC402 TC706 DreamStation Auto CPAP device AutoCPAP mode A-Flex attribute All (USA, PRI, FRA, GLP, GUF, MTQ, REU, PYF, CHN, HKG, MAC, BRA, DEU, JPN) market Save Settings test|Passed']"
      ]
     },
     "metadata": {},
     "execution_count": 47
    }
   ],
   "source": [
    "file_path = file_list[0]\n",
    "lines = file_path.read_text().split(\"\\n\")\n",
    "lines[0:10]"
   ]
  },
  {
   "cell_type": "code",
   "execution_count": 56,
   "metadata": {},
   "outputs": [
    {
     "output_type": "execute_result",
     "data": {
      "text/plain": [
       "                                               test_name  status   rc   name  \\\n",
       "0      TC1367 TC12093 TC12094 TC12095 TC12096 TC12097...  Passed  RC3  Nihar   \n",
       "1      TC1367 TC12093 TC12094 TC12095 TC12096 TC12097...  Passed  RC3  Nihar   \n",
       "2      TC1367 TC12093 TC12094 TC12095 TC12096 TC12097...  Passed  RC3  Nihar   \n",
       "3      TC1367 TC12093 TC12094 TC12095 TC12096 TC12097...  Passed  RC3  Nihar   \n",
       "4      TC1367 TC12093 TC12094 TC12095 TC12096 TC12097...  Passed  RC3  Nihar   \n",
       "...                                                  ...     ...  ...    ...   \n",
       "17138  TC396 TC575 TC708 RxMaxInteractions AutoTrialM...  Passed  RC3  Nihar   \n",
       "17139  TC396 TC575 TC708 RxMaxInteractions TC396 TC57...  Passed  RC3  Nihar   \n",
       "17140  TC395 TC396 TC708 RxRangeAndScale RxCreate TC3...  Passed  RC3  Nihar   \n",
       "17141  TC707 RxSaveEdited Random TC707 DreamStation G...  Passed  RC3  Nihar   \n",
       "17142  TC396 TC575 TC708 RxSetInteractions EZStart on...  Passed  RC3  Nihar   \n",
       "\n",
       "                                               file_name  \n",
       "0      ..\\data\\ER2228014 v51 ATT2 Automated as-run\\1....  \n",
       "1      ..\\data\\ER2228014 v51 ATT2 Automated as-run\\1....  \n",
       "2      ..\\data\\ER2228014 v51 ATT2 Automated as-run\\1....  \n",
       "3      ..\\data\\ER2228014 v51 ATT2 Automated as-run\\1....  \n",
       "4      ..\\data\\ER2228014 v51 ATT2 Automated as-run\\1....  \n",
       "...                                                  ...  \n",
       "17138  ..\\data\\ER2228014 v51 ATT2 Automated as-run\\1....  \n",
       "17139  ..\\data\\ER2228014 v51 ATT2 Automated as-run\\1....  \n",
       "17140  ..\\data\\ER2228014 v51 ATT2 Automated as-run\\1....  \n",
       "17141  ..\\data\\ER2228014 v51 ATT2 Automated as-run\\1....  \n",
       "17142  ..\\data\\ER2228014 v51 ATT2 Automated as-run\\1....  \n",
       "\n",
       "[17143 rows x 5 columns]"
      ],
      "text/html": "<div>\n<style scoped>\n    .dataframe tbody tr th:only-of-type {\n        vertical-align: middle;\n    }\n\n    .dataframe tbody tr th {\n        vertical-align: top;\n    }\n\n    .dataframe thead th {\n        text-align: right;\n    }\n</style>\n<table border=\"1\" class=\"dataframe\">\n  <thead>\n    <tr style=\"text-align: right;\">\n      <th></th>\n      <th>test_name</th>\n      <th>status</th>\n      <th>rc</th>\n      <th>name</th>\n      <th>file_name</th>\n    </tr>\n  </thead>\n  <tbody>\n    <tr>\n      <th>0</th>\n      <td>TC1367 TC12093 TC12094 TC12095 TC12096 TC12097...</td>\n      <td>Passed</td>\n      <td>RC3</td>\n      <td>Nihar</td>\n      <td>..\\data\\ER2228014 v51 ATT2 Automated as-run\\1....</td>\n    </tr>\n    <tr>\n      <th>1</th>\n      <td>TC1367 TC12093 TC12094 TC12095 TC12096 TC12097...</td>\n      <td>Passed</td>\n      <td>RC3</td>\n      <td>Nihar</td>\n      <td>..\\data\\ER2228014 v51 ATT2 Automated as-run\\1....</td>\n    </tr>\n    <tr>\n      <th>2</th>\n      <td>TC1367 TC12093 TC12094 TC12095 TC12096 TC12097...</td>\n      <td>Passed</td>\n      <td>RC3</td>\n      <td>Nihar</td>\n      <td>..\\data\\ER2228014 v51 ATT2 Automated as-run\\1....</td>\n    </tr>\n    <tr>\n      <th>3</th>\n      <td>TC1367 TC12093 TC12094 TC12095 TC12096 TC12097...</td>\n      <td>Passed</td>\n      <td>RC3</td>\n      <td>Nihar</td>\n      <td>..\\data\\ER2228014 v51 ATT2 Automated as-run\\1....</td>\n    </tr>\n    <tr>\n      <th>4</th>\n      <td>TC1367 TC12093 TC12094 TC12095 TC12096 TC12097...</td>\n      <td>Passed</td>\n      <td>RC3</td>\n      <td>Nihar</td>\n      <td>..\\data\\ER2228014 v51 ATT2 Automated as-run\\1....</td>\n    </tr>\n    <tr>\n      <th>...</th>\n      <td>...</td>\n      <td>...</td>\n      <td>...</td>\n      <td>...</td>\n      <td>...</td>\n    </tr>\n    <tr>\n      <th>17138</th>\n      <td>TC396 TC575 TC708 RxMaxInteractions AutoTrialM...</td>\n      <td>Passed</td>\n      <td>RC3</td>\n      <td>Nihar</td>\n      <td>..\\data\\ER2228014 v51 ATT2 Automated as-run\\1....</td>\n    </tr>\n    <tr>\n      <th>17139</th>\n      <td>TC396 TC575 TC708 RxMaxInteractions TC396 TC57...</td>\n      <td>Passed</td>\n      <td>RC3</td>\n      <td>Nihar</td>\n      <td>..\\data\\ER2228014 v51 ATT2 Automated as-run\\1....</td>\n    </tr>\n    <tr>\n      <th>17140</th>\n      <td>TC395 TC396 TC708 RxRangeAndScale RxCreate TC3...</td>\n      <td>Passed</td>\n      <td>RC3</td>\n      <td>Nihar</td>\n      <td>..\\data\\ER2228014 v51 ATT2 Automated as-run\\1....</td>\n    </tr>\n    <tr>\n      <th>17141</th>\n      <td>TC707 RxSaveEdited Random TC707 DreamStation G...</td>\n      <td>Passed</td>\n      <td>RC3</td>\n      <td>Nihar</td>\n      <td>..\\data\\ER2228014 v51 ATT2 Automated as-run\\1....</td>\n    </tr>\n    <tr>\n      <th>17142</th>\n      <td>TC396 TC575 TC708 RxSetInteractions EZStart on...</td>\n      <td>Passed</td>\n      <td>RC3</td>\n      <td>Nihar</td>\n      <td>..\\data\\ER2228014 v51 ATT2 Automated as-run\\1....</td>\n    </tr>\n  </tbody>\n</table>\n<p>17143 rows × 5 columns</p>\n</div>"
     },
     "metadata": {},
     "execution_count": 56
    }
   ],
   "source": [
    "_read_rx_txt(file_list[1])"
   ]
  },
  {
   "cell_type": "code",
   "execution_count": 55,
   "metadata": {},
   "outputs": [],
   "source": [
    "def _read_rx_txt(file_path, return_df=True):\n",
    "    \"\"\"Reads in a single Rx automatic test .txt file.\n",
    "\n",
    "    Mostly just for the `read_rx_tests()` method. Usually won't need to call yourself\n",
    "\n",
    "    Args:\n",
    "        file_path (String): path to the .txt file\n",
    "        return_df (bool, optional): If true, returns pandas dataframe. Else dict. Defaults to True.\n",
    "\n",
    "    Returns:\n",
    "        pd.DataFrame or dict: Test names and corresponding statuses\n",
    "    \"\"\"\n",
    "    # If receive str, convert to pathlib object\n",
    "    if isinstance(file_path, str):\n",
    "        file_path = Path(file_path)\n",
    "\n",
    "    # Read in file using pathlib method, split on new line symbols\n",
    "    lines = file_path.read_text().split(\"\\n\")\n",
    "\n",
    "    # Remove blank lines\n",
    "    lines = [line for line in lines if len(line) > 0]\n",
    "\n",
    "    data = []\n",
    "    for line in lines:\n",
    "        if len(line) < 2:\n",
    "            continue \n",
    "        # split on the | char; should only be one of them\n",
    "        line_data = line.split(\"|\")\n",
    "\n",
    "        # For some reason if theres multiple of that char, only consider the last one\n",
    "        if len(line_data) > 2:\n",
    "            print(f\"found line with multiple '|' chars: {line}\")\n",
    "            line_data = \"\".join(line_data[:-1]) + [line_data[-1]]\n",
    "        \n",
    "        # Get relevant data for other columns\n",
    "        base_folder_idx = [i for i, s in enumerate(file_path.parts) if \"Rx\" in str(s)][0]\n",
    "        \n",
    "        # Store data in list\n",
    "        data.append({\n",
    "            'test_name':line_data[0],\n",
    "            'status':line_data[1],\n",
    "            'rc': file_path.parts[base_folder_idx + 1],\n",
    "            'name': file_path.parts[base_folder_idx + 2],\n",
    "            'file_name': str(file_path)\n",
    "        })\n",
    "\n",
    "    if return_df:\n",
    "        return pd.DataFrame(data)\n",
    "    else:\n",
    "        return data"
   ]
  },
  {
   "cell_type": "code",
   "execution_count": 38,
   "metadata": {},
   "outputs": [
    {
     "output_type": "execute_result",
     "data": {
      "text/plain": [
       "WindowsPath('../data/ER2228014 v51 ATT2 Automated as-run/1.33.0')"
      ]
     },
     "metadata": {},
     "execution_count": 38
    }
   ],
   "source": [
    "# Create a path object (from pathlib) for the vv root folder.\n",
    "vv_folder_path = Path(\"../data/ER2228014 v51 ATT2 Automated as-run\")\n",
    "\n",
    "# Get the correct folder for the provided version number.\n",
    "version_path = [x for x in vv_folder_path.iterdir() if x.is_dir() and x.name == version_num][0]\n",
    "version_path"
   ]
  },
  {
   "cell_type": "code",
   "execution_count": 37,
   "metadata": {},
   "outputs": [
    {
     "output_type": "execute_result",
     "data": {
      "text/plain": [
       "'2228014 v51'"
      ]
     },
     "metadata": {},
     "execution_count": 37
    }
   ],
   "source": [
    "v_v = re.findall(\"ER[0-9]+ v[0-9]+\", vv_folder_path.name)[0].replace(\"ER\", \"\")\n",
    "v_v"
   ]
  },
  {
   "cell_type": "code",
   "execution_count": 4,
   "metadata": {},
   "outputs": [
    {
     "output_type": "execute_result",
     "data": {
      "text/plain": [
       "'ER2228014 v51 ATT1 Manual As-Runs'"
      ]
     },
     "metadata": {},
     "execution_count": 4
    }
   ],
   "source": [
    "re.match(\"ER[0-9]+ v[0-9]+\", p.stem).string"
   ]
  },
  {
   "cell_type": "code",
   "execution_count": 39,
   "metadata": {},
   "outputs": [
    {
     "output_type": "execute_result",
     "data": {
      "text/plain": [
       "WindowsPath('../data/ER2228014 v51 ATT2 Automated as-run/1.33.0/RestApiTests')"
      ]
     },
     "metadata": {},
     "execution_count": 39
    }
   ],
   "source": [
    "version_path / \"RestApiTests\""
   ]
  },
  {
   "cell_type": "code",
   "execution_count": 7,
   "metadata": {},
   "outputs": [],
   "source": [
    "data=read_manual_tests(\"../data/ER2228014 v51 ATT1 Manual As-Runs.docx\")"
   ]
  },
  {
   "cell_type": "code",
   "execution_count": 8,
   "metadata": {},
   "outputs": [
    {
     "output_type": "execute_result",
     "data": {
      "text/plain": [
       "                                             test_name  status\n",
       "0    PRD US13044 SRS TC12480 TC12574 Verify Subscri...  Passed\n",
       "1    PRD US13044 SRS TC12480 TC12575 Verify Subscri...  Passed\n",
       "2    PRD US13044 SRS TC12480 TC12576 Verify Subscri...  Passed\n",
       "3    PRD US13044 SRS TC12480 TC12580 Verify Subscri...  Passed\n",
       "4                                   Toggle off - F5890  Passed\n",
       "..                                                 ...     ...\n",
       "130        EU Toggle and Configuration Regression Test  Passed\n",
       "131  UC US45400 MaskSelector tablet app integration...  Passed\n",
       "132  UC US45400 MaskSelector tablet app integration...  Passed\n",
       "133  UC US45400 MaskSelector tablet app integration...  Passed\n",
       "134                                  F5056 Toggle Test  Passed\n",
       "\n",
       "[135 rows x 2 columns]"
      ],
      "text/html": "<div>\n<style scoped>\n    .dataframe tbody tr th:only-of-type {\n        vertical-align: middle;\n    }\n\n    .dataframe tbody tr th {\n        vertical-align: top;\n    }\n\n    .dataframe thead th {\n        text-align: right;\n    }\n</style>\n<table border=\"1\" class=\"dataframe\">\n  <thead>\n    <tr style=\"text-align: right;\">\n      <th></th>\n      <th>test_name</th>\n      <th>status</th>\n    </tr>\n  </thead>\n  <tbody>\n    <tr>\n      <th>0</th>\n      <td>PRD US13044 SRS TC12480 TC12574 Verify Subscri...</td>\n      <td>Passed</td>\n    </tr>\n    <tr>\n      <th>1</th>\n      <td>PRD US13044 SRS TC12480 TC12575 Verify Subscri...</td>\n      <td>Passed</td>\n    </tr>\n    <tr>\n      <th>2</th>\n      <td>PRD US13044 SRS TC12480 TC12576 Verify Subscri...</td>\n      <td>Passed</td>\n    </tr>\n    <tr>\n      <th>3</th>\n      <td>PRD US13044 SRS TC12480 TC12580 Verify Subscri...</td>\n      <td>Passed</td>\n    </tr>\n    <tr>\n      <th>4</th>\n      <td>Toggle off - F5890</td>\n      <td>Passed</td>\n    </tr>\n    <tr>\n      <th>...</th>\n      <td>...</td>\n      <td>...</td>\n    </tr>\n    <tr>\n      <th>130</th>\n      <td>EU Toggle and Configuration Regression Test</td>\n      <td>Passed</td>\n    </tr>\n    <tr>\n      <th>131</th>\n      <td>UC US45400 MaskSelector tablet app integration...</td>\n      <td>Passed</td>\n    </tr>\n    <tr>\n      <th>132</th>\n      <td>UC US45400 MaskSelector tablet app integration...</td>\n      <td>Passed</td>\n    </tr>\n    <tr>\n      <th>133</th>\n      <td>UC US45400 MaskSelector tablet app integration...</td>\n      <td>Passed</td>\n    </tr>\n    <tr>\n      <th>134</th>\n      <td>F5056 Toggle Test</td>\n      <td>Passed</td>\n    </tr>\n  </tbody>\n</table>\n<p>135 rows × 2 columns</p>\n</div>"
     },
     "metadata": {},
     "execution_count": 8
    }
   ],
   "source": [
    "data"
   ]
  },
  {
   "cell_type": "code",
   "execution_count": 16,
   "metadata": {},
   "outputs": [
    {
     "output_type": "execute_result",
     "data": {
      "text/plain": [
       "   Formatted ID                                               Name  \\\n",
       "0         TC941  The system shall support authorizing external ...   \n",
       "1        TC1325  The system shall provide the ability to assign...   \n",
       "2        TC1699  The system shall support generating performanc...   \n",
       "3        TC1713  When the Performance Check report is viewed fr...   \n",
       "4        TC2068  Only the priority, start of compliance period,...   \n",
       "5        TC4226  The About page shall contain the correct elements   \n",
       "6        TC2974  The system shall have the ability to display t...   \n",
       "7       TC12574  The Patient Equipment Subscription shall conta...   \n",
       "8       TC12575  The Patient Accessories Subscription shall con...   \n",
       "9       TC12576  The Patient Task Notes Subscription shall cont...   \n",
       "10      TC12580  The Patient Activity Notes Subscription shall ...   \n",
       "11      TC12058  The system shall support syncing of assignment...   \n",
       "12      TC12573  When a patient that doesn’t exist in EA is tra...   \n",
       "13      TC12060  The system shall support syncing of manual res...   \n",
       "14      TC12420  Compliance rules shall have a setting that rem...   \n",
       "15      TC12551  When the \"\"auto dismiss not compliant tasks\"\" ...   \n",
       "16      TC12432  The system shall provide a visual indicator fo...   \n",
       "17      TC12433  The system shall display the mask suggestion r...   \n",
       "18      TC12434  The system shall provide the ability to assign...   \n",
       "19      TC12324  The system shall auto assign care team locatio...   \n",
       "20      TC12570  The system shall present a confirmation to the...   \n",
       "21      TC12549  When transferring a patient from an external l...   \n",
       "22      TC12438  The system shall provide the ability for a use...   \n",
       "23      TC12439  When a patient is transferred the system shall...   \n",
       "24      TC12569  When a patient is transferred the system shall...   \n",
       "25      TC12642  When transferring a patient, the system shall ...   \n",
       "26      TC12440  The system shall record a patient transfer fro...   \n",
       "27      TC12632  The Mask Selector Gateway shall support resett...   \n",
       "28      TC12633  Mask Selector Gateway shall support retrieval ...   \n",
       "29      TC12634  Mask Selector Gateway shall support providing ...   \n",
       "30      TC12635  Mask Selector Gateway shall support updating t...   \n",
       "31      TC12636  Mask Selector Gateway shall support user creation   \n",
       "32      TC12637  A Mask Selector Clinician user shall have the ...   \n",
       "33      TC12638  A Mask Selector Clinical Administrator user sh...   \n",
       "34      TC12639  The system shall support creation of users for...   \n",
       "35      TC12640  The system shall provide an ability to configu...   \n",
       "36      TC12641  The system shall provide an ability to configu...   \n",
       "37      TC12705  The platform shall support logging out the use...   \n",
       "38      TC12706  The platform shall allow the authorized users ...   \n",
       "\n",
       "                                         Work Product        Type  Priority  \\\n",
       "0                      US1659: External Authorization  Acceptance       NaN   \n",
       "1   US11119: Unplanned: (R1.5) Create a new user r...  Acceptance       NaN   \n",
       "2   US8741: [Continued] Support Dreamstation ASV d...  Acceptance       NaN   \n",
       "3                       US3019: Display device health  Acceptance       NaN   \n",
       "4   US9988: As a company admin, I want to be able ...  Acceptance       NaN   \n",
       "5   US36546: [R.128] Update About page to include ...  Acceptance       NaN   \n",
       "6   US21415: [Agreement] Physician access agreemen...  Acceptance       NaN   \n",
       "7   US38736: Add setting fields to EMR Sleep Data ...  Acceptance       NaN   \n",
       "8   US38736: Add setting fields to EMR Sleep Data ...  Acceptance       NaN   \n",
       "9   US38736: Add setting fields to EMR Sleep Data ...  Acceptance       NaN   \n",
       "10  US38736: Add setting fields to EMR Sleep Data ...  Acceptance       NaN   \n",
       "11                       US38635: Create requirements  Acceptance       NaN   \n",
       "12  US44511: EH will not sync patients with \"\"Tran...  Acceptance       NaN   \n",
       "13                       US38635: Create requirements  Acceptance       NaN   \n",
       "14  US42601: Compliance Rule Configuration (DEP on...  Acceptance       NaN   \n",
       "15  US42601: Compliance Rule Configuration (DEP on...  Acceptance       NaN   \n",
       "16  US41764: Mask Selector Indicator Icon on the P...  Acceptance       NaN   \n",
       "17  US41766: [AC:1] Mask Suggestions Field with po...  Acceptance       NaN   \n",
       "18  US42012: [AC:2] Mask suggestions assigned as a...  Acceptance       NaN   \n",
       "19  US42002: Care Team The source location of the ...  Acceptance       NaN   \n",
       "20  US42002: Care Team The source location of the ...  Acceptance       NaN   \n",
       "21               US42990: UI - Patient Transfer Modal  Acceptance       NaN   \n",
       "22  US42075: UI - Patient Transfer Button (Transfe...  Acceptance       NaN   \n",
       "23  US42004: Fields on the source patient location...  Acceptance       NaN   \n",
       "24  US42004: Fields on the source patient location...  Acceptance       NaN   \n",
       "25               US42990: UI - Patient Transfer Modal  Acceptance       NaN   \n",
       "26  US41786: UI - New Patient Activity Log Entry a...  Acceptance       NaN   \n",
       "27              US32438: External Application Support  Acceptance       NaN   \n",
       "28              US32438: External Application Support  Acceptance       NaN   \n",
       "29              US32438: External Application Support  Acceptance       NaN   \n",
       "30              US32438: External Application Support  Acceptance       NaN   \n",
       "31              US32438: External Application Support  Acceptance       NaN   \n",
       "32                            US1551: Permission Sets  Acceptance       NaN   \n",
       "33                            US1551: Permission Sets  Acceptance       NaN   \n",
       "34              US32438: External Application Support  Acceptance       NaN   \n",
       "35                         US7871: Feature Enablement  Acceptance       NaN   \n",
       "36                         US7871: Feature Enablement  Acceptance       NaN   \n",
       "37              US32438: External Application Support  Acceptance       NaN   \n",
       "38              US32438: External Application Support  Acceptance       NaN   \n",
       "\n",
       "                         Owner     Method  Results  Last Build   Last Run  \\\n",
       "0                  Kelly Keefe  Automated       54      6924.0  9/14/2018   \n",
       "1   Carlos Jauquicoa Martinena  Automated      234      6924.0  9/14/2018   \n",
       "2                      Veena N     Manual        0         NaN        NaN   \n",
       "3                      Veena N     Manual        0         NaN        NaN   \n",
       "4                 smalagari001  Automated        0         NaN        NaN   \n",
       "5               Frank Fulcomer     Manual        0         NaN        NaN   \n",
       "6                  Kelly Keefe  Automated        0         NaN        NaN   \n",
       "7                  james.landy     Manual        0         NaN        NaN   \n",
       "8                  james.landy     Manual        0         NaN        NaN   \n",
       "9                  james.landy     Manual        0         NaN        NaN   \n",
       "10                 james.landy     Manual        0         NaN        NaN   \n",
       "11                  Vibha Giri     Manual        0         NaN        NaN   \n",
       "12              Mani Jayaraman     Manual        0         NaN        NaN   \n",
       "13                  Vibha Giri     Manual        0         NaN        NaN   \n",
       "14  Carlos Jauquicoa Martinena  Automated        0         NaN        NaN   \n",
       "15  Carlos Jauquicoa Martinena  Automated        0         NaN        NaN   \n",
       "16              Mani Jayaraman  Automated        0         NaN        NaN   \n",
       "17              Mani Jayaraman  Automated        0         NaN        NaN   \n",
       "18              Mani Jayaraman  Automated        0         NaN        NaN   \n",
       "19              Mani Jayaraman     Manual        0         NaN        NaN   \n",
       "20              Mani Jayaraman     Manual        0         NaN        NaN   \n",
       "21              Mani Jayaraman     Manual        0         NaN        NaN   \n",
       "22              Mani Jayaraman     Manual        0         NaN        NaN   \n",
       "23              Mani Jayaraman     Manual        0         NaN        NaN   \n",
       "24              Mani Jayaraman     Manual        0         NaN        NaN   \n",
       "25              Mani Jayaraman     Manual        0         NaN        NaN   \n",
       "26              Mani Jayaraman     Manual        0         NaN        NaN   \n",
       "27             Edison Caldwell  Automated        0         NaN        NaN   \n",
       "28             Edison Caldwell  Automated        0         NaN        NaN   \n",
       "29             Edison Caldwell  Automated        0         NaN        NaN   \n",
       "30             Edison Caldwell  Automated        0         NaN        NaN   \n",
       "31             Edison Caldwell  Automated        0         NaN        NaN   \n",
       "32             Edison Caldwell  Automated        0         NaN        NaN   \n",
       "33             Edison Caldwell  Automated        0         NaN        NaN   \n",
       "34             Edison Caldwell  Automated        0         NaN        NaN   \n",
       "35             Edison Caldwell  Automated        0         NaN        NaN   \n",
       "36             Edison Caldwell  Automated        0         NaN        NaN   \n",
       "37             Edison Caldwell  Automated        0         NaN        NaN   \n",
       "38             Edison Caldwell  Automated        0         NaN        NaN   \n",
       "\n",
       "    ... Risk CM        Status  Steps Tags TC Maj Release     TC PI  \\\n",
       "0   ...    True  Test Written      0  NaN          R1.33     PI 11   \n",
       "1   ...    True  Test Written      0  NaN          R1.33     PI 11   \n",
       "2   ...   False  Test Written      0  NaN          R1.33      PI 8   \n",
       "3   ...   False  Test Written      0  NaN          R1.33      PI 6   \n",
       "4   ...   False  Test Written      0  NaN          R1.33     PI 10   \n",
       "5   ...    True   Not Started      0  NaN          R1.33  PI 19.04   \n",
       "6   ...   False  Test Written      0  NaN          R1.33     PI 10   \n",
       "7   ...   False   Not Started      0  NaN          R1.33       NaN   \n",
       "8   ...   False   Not Started      0  NaN          R1.33       NaN   \n",
       "9   ...   False   Not Started      0  NaN          R1.33       NaN   \n",
       "10  ...   False   Not Started      0  NaN          R1.33       NaN   \n",
       "11  ...   False  Test Written      0  NaN          R1.33  PI 20.02   \n",
       "12  ...   False  Test Written      0  NaN          R1.33       NaN   \n",
       "13  ...   False  Test Written      0  NaN          R1.33  PI 20.02   \n",
       "14  ...   False   Not Started      0  NaN          R1.33       NaN   \n",
       "15  ...   False   Not Started      0  NaN          R1.33       NaN   \n",
       "16  ...   False   Not Started      0  NaN          R1.33       NaN   \n",
       "17  ...    True   Not Started      0  NaN          R1.33       NaN   \n",
       "18  ...    True   Not Started      0  NaN          R1.33       NaN   \n",
       "19  ...   False   Not Started      0  NaN          R1.33       NaN   \n",
       "20  ...   False   Not Started      0  NaN          R1.33       NaN   \n",
       "21  ...   False   Not Started      0  NaN          R1.33       NaN   \n",
       "22  ...   False   Not Started      0  NaN          R1.33       NaN   \n",
       "23  ...   False   Not Started      0  NaN          R1.33       NaN   \n",
       "24  ...   False   Not Started      0  NaN          R1.33       NaN   \n",
       "25  ...   False   Not Started      0  NaN          R1.33       NaN   \n",
       "26  ...   False   Not Started      0  NaN          R1.33       NaN   \n",
       "27  ...   False  Test Written      0  NaN          R1.33       NaN   \n",
       "28  ...   False  Test Written      0  NaN          R1.33       NaN   \n",
       "29  ...   False  Test Written      0  NaN          R1.33       NaN   \n",
       "30  ...   False  Test Written      0  NaN          R1.33       NaN   \n",
       "31  ...   False  Test Written      0  NaN          R1.33       NaN   \n",
       "32  ...   False  Test Written      0  NaN          R1.33       NaN   \n",
       "33  ...   False  Test Written      0  NaN          R1.33       NaN   \n",
       "34  ...   False  Test Written      0  NaN          R1.33       NaN   \n",
       "35  ...   False  Test Written      0  NaN          R1.33       NaN   \n",
       "36  ...   False  Test Written      0  NaN          R1.33       NaN   \n",
       "37  ...    True  Test Written      0  NaN          R1.33       NaN   \n",
       "38  ...    True  Test Written      0  NaN          R1.33       NaN   \n",
       "\n",
       "                                          Test Folder Test Sets  \\\n",
       "0                       TF90: External Authorizations         0   \n",
       "1                                      TF11: Add User         0   \n",
       "2   TF145: DreamStation Device Family Performance ...         0   \n",
       "3   TF145: DreamStation Device Family Performance ...         0   \n",
       "4               TF98: Compliance rule - Configuration         0   \n",
       "5          TF127: Labeling / Privacy Notice / Tracing         0   \n",
       "6                          TF119: Business Agreements         0   \n",
       "7                      TF277: Billing Services Access         0   \n",
       "8                      TF277: Billing Services Access         0   \n",
       "9                      TF277: Billing Services Access         0   \n",
       "10                     TF277: Billing Services Access         0   \n",
       "11                   TF87: Sapphire-EA Sync: Patients         0   \n",
       "12                   TF87: Sapphire-EA Sync: Patients         0   \n",
       "13                   TF87: Sapphire-EA Sync: Patients         0   \n",
       "14              TF98: Compliance rule - Configuration         0   \n",
       "15              TF98: Compliance rule - Configuration         0   \n",
       "16                    TF178: Add non-device Equipment         0   \n",
       "17                    TF178: Add non-device Equipment         0   \n",
       "18                    TF178: Add non-device Equipment         0   \n",
       "19                           TF1329: Patient Transfer         0   \n",
       "20                           TF1329: Patient Transfer         0   \n",
       "21                           TF1329: Patient Transfer         0   \n",
       "22                           TF1329: Patient Transfer         0   \n",
       "23                           TF1329: Patient Transfer         0   \n",
       "24                           TF1329: Patient Transfer         0   \n",
       "25                           TF1329: Patient Transfer         0   \n",
       "26                           TF1329: Patient Transfer         0   \n",
       "27                     TF277: Billing Services Access         0   \n",
       "28                     TF277: Billing Services Access         0   \n",
       "29                     TF277: Billing Services Access         0   \n",
       "30                     TF277: Billing Services Access         0   \n",
       "31                     TF277: Billing Services Access         0   \n",
       "32                              TF1327: Mask Selector         0   \n",
       "33                              TF1327: Mask Selector         0   \n",
       "34                              TF1327: Mask Selector         0   \n",
       "35                              TF1327: Mask Selector         0   \n",
       "36                              TF1327: Mask Selector         0   \n",
       "37                                   TF1348: Platform         0   \n",
       "38                                   TF1348: Platform         0   \n",
       "\n",
       "    Use Case Trace  V&V  \n",
       "0              NaN   hi  \n",
       "1              NaN   hi  \n",
       "2              NaN   hi  \n",
       "3              NaN   hi  \n",
       "4              NaN   hi  \n",
       "5              NaN   hi  \n",
       "6              NaN   hi  \n",
       "7              NaN   hi  \n",
       "8              NaN   hi  \n",
       "9              NaN   hi  \n",
       "10             NaN   hi  \n",
       "11             NaN   hi  \n",
       "12             NaN   hi  \n",
       "13             NaN   hi  \n",
       "14             NaN   hi  \n",
       "15             NaN   hi  \n",
       "16             NaN   hi  \n",
       "17             NaN   hi  \n",
       "18             NaN   hi  \n",
       "19             NaN   hi  \n",
       "20             NaN   hi  \n",
       "21             NaN   hi  \n",
       "22             NaN   hi  \n",
       "23             NaN   hi  \n",
       "24             NaN   hi  \n",
       "25             NaN   hi  \n",
       "26             NaN   hi  \n",
       "27         US45400   hi  \n",
       "28         US45400   hi  \n",
       "29         US45400   hi  \n",
       "30         US45400   hi  \n",
       "31         US45400   hi  \n",
       "32             NaN   hi  \n",
       "33             NaN   hi  \n",
       "34             NaN   hi  \n",
       "35             NaN   hi  \n",
       "36             NaN   hi  \n",
       "37             NaN   hi  \n",
       "38             NaN   hi  \n",
       "\n",
       "[39 rows x 41 columns]"
      ],
      "text/html": "<div>\n<style scoped>\n    .dataframe tbody tr th:only-of-type {\n        vertical-align: middle;\n    }\n\n    .dataframe tbody tr th {\n        vertical-align: top;\n    }\n\n    .dataframe thead th {\n        text-align: right;\n    }\n</style>\n<table border=\"1\" class=\"dataframe\">\n  <thead>\n    <tr style=\"text-align: right;\">\n      <th></th>\n      <th>Formatted ID</th>\n      <th>Name</th>\n      <th>Work Product</th>\n      <th>Type</th>\n      <th>Priority</th>\n      <th>Owner</th>\n      <th>Method</th>\n      <th>Results</th>\n      <th>Last Build</th>\n      <th>Last Run</th>\n      <th>...</th>\n      <th>Risk CM</th>\n      <th>Status</th>\n      <th>Steps</th>\n      <th>Tags</th>\n      <th>TC Maj Release</th>\n      <th>TC PI</th>\n      <th>Test Folder</th>\n      <th>Test Sets</th>\n      <th>Use Case Trace</th>\n      <th>V&amp;V</th>\n    </tr>\n  </thead>\n  <tbody>\n    <tr>\n      <th>0</th>\n      <td>TC941</td>\n      <td>The system shall support authorizing external ...</td>\n      <td>US1659: External Authorization</td>\n      <td>Acceptance</td>\n      <td>NaN</td>\n      <td>Kelly Keefe</td>\n      <td>Automated</td>\n      <td>54</td>\n      <td>6924.0</td>\n      <td>9/14/2018</td>\n      <td>...</td>\n      <td>True</td>\n      <td>Test Written</td>\n      <td>0</td>\n      <td>NaN</td>\n      <td>R1.33</td>\n      <td>PI 11</td>\n      <td>TF90: External Authorizations</td>\n      <td>0</td>\n      <td>NaN</td>\n      <td>hi</td>\n    </tr>\n    <tr>\n      <th>1</th>\n      <td>TC1325</td>\n      <td>The system shall provide the ability to assign...</td>\n      <td>US11119: Unplanned: (R1.5) Create a new user r...</td>\n      <td>Acceptance</td>\n      <td>NaN</td>\n      <td>Carlos Jauquicoa Martinena</td>\n      <td>Automated</td>\n      <td>234</td>\n      <td>6924.0</td>\n      <td>9/14/2018</td>\n      <td>...</td>\n      <td>True</td>\n      <td>Test Written</td>\n      <td>0</td>\n      <td>NaN</td>\n      <td>R1.33</td>\n      <td>PI 11</td>\n      <td>TF11: Add User</td>\n      <td>0</td>\n      <td>NaN</td>\n      <td>hi</td>\n    </tr>\n    <tr>\n      <th>2</th>\n      <td>TC1699</td>\n      <td>The system shall support generating performanc...</td>\n      <td>US8741: [Continued] Support Dreamstation ASV d...</td>\n      <td>Acceptance</td>\n      <td>NaN</td>\n      <td>Veena N</td>\n      <td>Manual</td>\n      <td>0</td>\n      <td>NaN</td>\n      <td>NaN</td>\n      <td>...</td>\n      <td>False</td>\n      <td>Test Written</td>\n      <td>0</td>\n      <td>NaN</td>\n      <td>R1.33</td>\n      <td>PI 8</td>\n      <td>TF145: DreamStation Device Family Performance ...</td>\n      <td>0</td>\n      <td>NaN</td>\n      <td>hi</td>\n    </tr>\n    <tr>\n      <th>3</th>\n      <td>TC1713</td>\n      <td>When the Performance Check report is viewed fr...</td>\n      <td>US3019: Display device health</td>\n      <td>Acceptance</td>\n      <td>NaN</td>\n      <td>Veena N</td>\n      <td>Manual</td>\n      <td>0</td>\n      <td>NaN</td>\n      <td>NaN</td>\n      <td>...</td>\n      <td>False</td>\n      <td>Test Written</td>\n      <td>0</td>\n      <td>NaN</td>\n      <td>R1.33</td>\n      <td>PI 6</td>\n      <td>TF145: DreamStation Device Family Performance ...</td>\n      <td>0</td>\n      <td>NaN</td>\n      <td>hi</td>\n    </tr>\n    <tr>\n      <th>4</th>\n      <td>TC2068</td>\n      <td>Only the priority, start of compliance period,...</td>\n      <td>US9988: As a company admin, I want to be able ...</td>\n      <td>Acceptance</td>\n      <td>NaN</td>\n      <td>smalagari001</td>\n      <td>Automated</td>\n      <td>0</td>\n      <td>NaN</td>\n      <td>NaN</td>\n      <td>...</td>\n      <td>False</td>\n      <td>Test Written</td>\n      <td>0</td>\n      <td>NaN</td>\n      <td>R1.33</td>\n      <td>PI 10</td>\n      <td>TF98: Compliance rule - Configuration</td>\n      <td>0</td>\n      <td>NaN</td>\n      <td>hi</td>\n    </tr>\n    <tr>\n      <th>5</th>\n      <td>TC4226</td>\n      <td>The About page shall contain the correct elements</td>\n      <td>US36546: [R.128] Update About page to include ...</td>\n      <td>Acceptance</td>\n      <td>NaN</td>\n      <td>Frank Fulcomer</td>\n      <td>Manual</td>\n      <td>0</td>\n      <td>NaN</td>\n      <td>NaN</td>\n      <td>...</td>\n      <td>True</td>\n      <td>Not Started</td>\n      <td>0</td>\n      <td>NaN</td>\n      <td>R1.33</td>\n      <td>PI 19.04</td>\n      <td>TF127: Labeling / Privacy Notice / Tracing</td>\n      <td>0</td>\n      <td>NaN</td>\n      <td>hi</td>\n    </tr>\n    <tr>\n      <th>6</th>\n      <td>TC2974</td>\n      <td>The system shall have the ability to display t...</td>\n      <td>US21415: [Agreement] Physician access agreemen...</td>\n      <td>Acceptance</td>\n      <td>NaN</td>\n      <td>Kelly Keefe</td>\n      <td>Automated</td>\n      <td>0</td>\n      <td>NaN</td>\n      <td>NaN</td>\n      <td>...</td>\n      <td>False</td>\n      <td>Test Written</td>\n      <td>0</td>\n      <td>NaN</td>\n      <td>R1.33</td>\n      <td>PI 10</td>\n      <td>TF119: Business Agreements</td>\n      <td>0</td>\n      <td>NaN</td>\n      <td>hi</td>\n    </tr>\n    <tr>\n      <th>7</th>\n      <td>TC12574</td>\n      <td>The Patient Equipment Subscription shall conta...</td>\n      <td>US38736: Add setting fields to EMR Sleep Data ...</td>\n      <td>Acceptance</td>\n      <td>NaN</td>\n      <td>james.landy</td>\n      <td>Manual</td>\n      <td>0</td>\n      <td>NaN</td>\n      <td>NaN</td>\n      <td>...</td>\n      <td>False</td>\n      <td>Not Started</td>\n      <td>0</td>\n      <td>NaN</td>\n      <td>R1.33</td>\n      <td>NaN</td>\n      <td>TF277: Billing Services Access</td>\n      <td>0</td>\n      <td>NaN</td>\n      <td>hi</td>\n    </tr>\n    <tr>\n      <th>8</th>\n      <td>TC12575</td>\n      <td>The Patient Accessories Subscription shall con...</td>\n      <td>US38736: Add setting fields to EMR Sleep Data ...</td>\n      <td>Acceptance</td>\n      <td>NaN</td>\n      <td>james.landy</td>\n      <td>Manual</td>\n      <td>0</td>\n      <td>NaN</td>\n      <td>NaN</td>\n      <td>...</td>\n      <td>False</td>\n      <td>Not Started</td>\n      <td>0</td>\n      <td>NaN</td>\n      <td>R1.33</td>\n      <td>NaN</td>\n      <td>TF277: Billing Services Access</td>\n      <td>0</td>\n      <td>NaN</td>\n      <td>hi</td>\n    </tr>\n    <tr>\n      <th>9</th>\n      <td>TC12576</td>\n      <td>The Patient Task Notes Subscription shall cont...</td>\n      <td>US38736: Add setting fields to EMR Sleep Data ...</td>\n      <td>Acceptance</td>\n      <td>NaN</td>\n      <td>james.landy</td>\n      <td>Manual</td>\n      <td>0</td>\n      <td>NaN</td>\n      <td>NaN</td>\n      <td>...</td>\n      <td>False</td>\n      <td>Not Started</td>\n      <td>0</td>\n      <td>NaN</td>\n      <td>R1.33</td>\n      <td>NaN</td>\n      <td>TF277: Billing Services Access</td>\n      <td>0</td>\n      <td>NaN</td>\n      <td>hi</td>\n    </tr>\n    <tr>\n      <th>10</th>\n      <td>TC12580</td>\n      <td>The Patient Activity Notes Subscription shall ...</td>\n      <td>US38736: Add setting fields to EMR Sleep Data ...</td>\n      <td>Acceptance</td>\n      <td>NaN</td>\n      <td>james.landy</td>\n      <td>Manual</td>\n      <td>0</td>\n      <td>NaN</td>\n      <td>NaN</td>\n      <td>...</td>\n      <td>False</td>\n      <td>Not Started</td>\n      <td>0</td>\n      <td>NaN</td>\n      <td>R1.33</td>\n      <td>NaN</td>\n      <td>TF277: Billing Services Access</td>\n      <td>0</td>\n      <td>NaN</td>\n      <td>hi</td>\n    </tr>\n    <tr>\n      <th>11</th>\n      <td>TC12058</td>\n      <td>The system shall support syncing of assignment...</td>\n      <td>US38635: Create requirements</td>\n      <td>Acceptance</td>\n      <td>NaN</td>\n      <td>Vibha Giri</td>\n      <td>Manual</td>\n      <td>0</td>\n      <td>NaN</td>\n      <td>NaN</td>\n      <td>...</td>\n      <td>False</td>\n      <td>Test Written</td>\n      <td>0</td>\n      <td>NaN</td>\n      <td>R1.33</td>\n      <td>PI 20.02</td>\n      <td>TF87: Sapphire-EA Sync: Patients</td>\n      <td>0</td>\n      <td>NaN</td>\n      <td>hi</td>\n    </tr>\n    <tr>\n      <th>12</th>\n      <td>TC12573</td>\n      <td>When a patient that doesn’t exist in EA is tra...</td>\n      <td>US44511: EH will not sync patients with \"\"Tran...</td>\n      <td>Acceptance</td>\n      <td>NaN</td>\n      <td>Mani Jayaraman</td>\n      <td>Manual</td>\n      <td>0</td>\n      <td>NaN</td>\n      <td>NaN</td>\n      <td>...</td>\n      <td>False</td>\n      <td>Test Written</td>\n      <td>0</td>\n      <td>NaN</td>\n      <td>R1.33</td>\n      <td>NaN</td>\n      <td>TF87: Sapphire-EA Sync: Patients</td>\n      <td>0</td>\n      <td>NaN</td>\n      <td>hi</td>\n    </tr>\n    <tr>\n      <th>13</th>\n      <td>TC12060</td>\n      <td>The system shall support syncing of manual res...</td>\n      <td>US38635: Create requirements</td>\n      <td>Acceptance</td>\n      <td>NaN</td>\n      <td>Vibha Giri</td>\n      <td>Manual</td>\n      <td>0</td>\n      <td>NaN</td>\n      <td>NaN</td>\n      <td>...</td>\n      <td>False</td>\n      <td>Test Written</td>\n      <td>0</td>\n      <td>NaN</td>\n      <td>R1.33</td>\n      <td>PI 20.02</td>\n      <td>TF87: Sapphire-EA Sync: Patients</td>\n      <td>0</td>\n      <td>NaN</td>\n      <td>hi</td>\n    </tr>\n    <tr>\n      <th>14</th>\n      <td>TC12420</td>\n      <td>Compliance rules shall have a setting that rem...</td>\n      <td>US42601: Compliance Rule Configuration (DEP on...</td>\n      <td>Acceptance</td>\n      <td>NaN</td>\n      <td>Carlos Jauquicoa Martinena</td>\n      <td>Automated</td>\n      <td>0</td>\n      <td>NaN</td>\n      <td>NaN</td>\n      <td>...</td>\n      <td>False</td>\n      <td>Not Started</td>\n      <td>0</td>\n      <td>NaN</td>\n      <td>R1.33</td>\n      <td>NaN</td>\n      <td>TF98: Compliance rule - Configuration</td>\n      <td>0</td>\n      <td>NaN</td>\n      <td>hi</td>\n    </tr>\n    <tr>\n      <th>15</th>\n      <td>TC12551</td>\n      <td>When the \"\"auto dismiss not compliant tasks\"\" ...</td>\n      <td>US42601: Compliance Rule Configuration (DEP on...</td>\n      <td>Acceptance</td>\n      <td>NaN</td>\n      <td>Carlos Jauquicoa Martinena</td>\n      <td>Automated</td>\n      <td>0</td>\n      <td>NaN</td>\n      <td>NaN</td>\n      <td>...</td>\n      <td>False</td>\n      <td>Not Started</td>\n      <td>0</td>\n      <td>NaN</td>\n      <td>R1.33</td>\n      <td>NaN</td>\n      <td>TF98: Compliance rule - Configuration</td>\n      <td>0</td>\n      <td>NaN</td>\n      <td>hi</td>\n    </tr>\n    <tr>\n      <th>16</th>\n      <td>TC12432</td>\n      <td>The system shall provide a visual indicator fo...</td>\n      <td>US41764: Mask Selector Indicator Icon on the P...</td>\n      <td>Acceptance</td>\n      <td>NaN</td>\n      <td>Mani Jayaraman</td>\n      <td>Automated</td>\n      <td>0</td>\n      <td>NaN</td>\n      <td>NaN</td>\n      <td>...</td>\n      <td>False</td>\n      <td>Not Started</td>\n      <td>0</td>\n      <td>NaN</td>\n      <td>R1.33</td>\n      <td>NaN</td>\n      <td>TF178: Add non-device Equipment</td>\n      <td>0</td>\n      <td>NaN</td>\n      <td>hi</td>\n    </tr>\n    <tr>\n      <th>17</th>\n      <td>TC12433</td>\n      <td>The system shall display the mask suggestion r...</td>\n      <td>US41766: [AC:1] Mask Suggestions Field with po...</td>\n      <td>Acceptance</td>\n      <td>NaN</td>\n      <td>Mani Jayaraman</td>\n      <td>Automated</td>\n      <td>0</td>\n      <td>NaN</td>\n      <td>NaN</td>\n      <td>...</td>\n      <td>True</td>\n      <td>Not Started</td>\n      <td>0</td>\n      <td>NaN</td>\n      <td>R1.33</td>\n      <td>NaN</td>\n      <td>TF178: Add non-device Equipment</td>\n      <td>0</td>\n      <td>NaN</td>\n      <td>hi</td>\n    </tr>\n    <tr>\n      <th>18</th>\n      <td>TC12434</td>\n      <td>The system shall provide the ability to assign...</td>\n      <td>US42012: [AC:2] Mask suggestions assigned as a...</td>\n      <td>Acceptance</td>\n      <td>NaN</td>\n      <td>Mani Jayaraman</td>\n      <td>Automated</td>\n      <td>0</td>\n      <td>NaN</td>\n      <td>NaN</td>\n      <td>...</td>\n      <td>True</td>\n      <td>Not Started</td>\n      <td>0</td>\n      <td>NaN</td>\n      <td>R1.33</td>\n      <td>NaN</td>\n      <td>TF178: Add non-device Equipment</td>\n      <td>0</td>\n      <td>NaN</td>\n      <td>hi</td>\n    </tr>\n    <tr>\n      <th>19</th>\n      <td>TC12324</td>\n      <td>The system shall auto assign care team locatio...</td>\n      <td>US42002: Care Team The source location of the ...</td>\n      <td>Acceptance</td>\n      <td>NaN</td>\n      <td>Mani Jayaraman</td>\n      <td>Manual</td>\n      <td>0</td>\n      <td>NaN</td>\n      <td>NaN</td>\n      <td>...</td>\n      <td>False</td>\n      <td>Not Started</td>\n      <td>0</td>\n      <td>NaN</td>\n      <td>R1.33</td>\n      <td>NaN</td>\n      <td>TF1329: Patient Transfer</td>\n      <td>0</td>\n      <td>NaN</td>\n      <td>hi</td>\n    </tr>\n    <tr>\n      <th>20</th>\n      <td>TC12570</td>\n      <td>The system shall present a confirmation to the...</td>\n      <td>US42002: Care Team The source location of the ...</td>\n      <td>Acceptance</td>\n      <td>NaN</td>\n      <td>Mani Jayaraman</td>\n      <td>Manual</td>\n      <td>0</td>\n      <td>NaN</td>\n      <td>NaN</td>\n      <td>...</td>\n      <td>False</td>\n      <td>Not Started</td>\n      <td>0</td>\n      <td>NaN</td>\n      <td>R1.33</td>\n      <td>NaN</td>\n      <td>TF1329: Patient Transfer</td>\n      <td>0</td>\n      <td>NaN</td>\n      <td>hi</td>\n    </tr>\n    <tr>\n      <th>21</th>\n      <td>TC12549</td>\n      <td>When transferring a patient from an external l...</td>\n      <td>US42990: UI - Patient Transfer Modal</td>\n      <td>Acceptance</td>\n      <td>NaN</td>\n      <td>Mani Jayaraman</td>\n      <td>Manual</td>\n      <td>0</td>\n      <td>NaN</td>\n      <td>NaN</td>\n      <td>...</td>\n      <td>False</td>\n      <td>Not Started</td>\n      <td>0</td>\n      <td>NaN</td>\n      <td>R1.33</td>\n      <td>NaN</td>\n      <td>TF1329: Patient Transfer</td>\n      <td>0</td>\n      <td>NaN</td>\n      <td>hi</td>\n    </tr>\n    <tr>\n      <th>22</th>\n      <td>TC12438</td>\n      <td>The system shall provide the ability for a use...</td>\n      <td>US42075: UI - Patient Transfer Button (Transfe...</td>\n      <td>Acceptance</td>\n      <td>NaN</td>\n      <td>Mani Jayaraman</td>\n      <td>Manual</td>\n      <td>0</td>\n      <td>NaN</td>\n      <td>NaN</td>\n      <td>...</td>\n      <td>False</td>\n      <td>Not Started</td>\n      <td>0</td>\n      <td>NaN</td>\n      <td>R1.33</td>\n      <td>NaN</td>\n      <td>TF1329: Patient Transfer</td>\n      <td>0</td>\n      <td>NaN</td>\n      <td>hi</td>\n    </tr>\n    <tr>\n      <th>23</th>\n      <td>TC12439</td>\n      <td>When a patient is transferred the system shall...</td>\n      <td>US42004: Fields on the source patient location...</td>\n      <td>Acceptance</td>\n      <td>NaN</td>\n      <td>Mani Jayaraman</td>\n      <td>Manual</td>\n      <td>0</td>\n      <td>NaN</td>\n      <td>NaN</td>\n      <td>...</td>\n      <td>False</td>\n      <td>Not Started</td>\n      <td>0</td>\n      <td>NaN</td>\n      <td>R1.33</td>\n      <td>NaN</td>\n      <td>TF1329: Patient Transfer</td>\n      <td>0</td>\n      <td>NaN</td>\n      <td>hi</td>\n    </tr>\n    <tr>\n      <th>24</th>\n      <td>TC12569</td>\n      <td>When a patient is transferred the system shall...</td>\n      <td>US42004: Fields on the source patient location...</td>\n      <td>Acceptance</td>\n      <td>NaN</td>\n      <td>Mani Jayaraman</td>\n      <td>Manual</td>\n      <td>0</td>\n      <td>NaN</td>\n      <td>NaN</td>\n      <td>...</td>\n      <td>False</td>\n      <td>Not Started</td>\n      <td>0</td>\n      <td>NaN</td>\n      <td>R1.33</td>\n      <td>NaN</td>\n      <td>TF1329: Patient Transfer</td>\n      <td>0</td>\n      <td>NaN</td>\n      <td>hi</td>\n    </tr>\n    <tr>\n      <th>25</th>\n      <td>TC12642</td>\n      <td>When transferring a patient, the system shall ...</td>\n      <td>US42990: UI - Patient Transfer Modal</td>\n      <td>Acceptance</td>\n      <td>NaN</td>\n      <td>Mani Jayaraman</td>\n      <td>Manual</td>\n      <td>0</td>\n      <td>NaN</td>\n      <td>NaN</td>\n      <td>...</td>\n      <td>False</td>\n      <td>Not Started</td>\n      <td>0</td>\n      <td>NaN</td>\n      <td>R1.33</td>\n      <td>NaN</td>\n      <td>TF1329: Patient Transfer</td>\n      <td>0</td>\n      <td>NaN</td>\n      <td>hi</td>\n    </tr>\n    <tr>\n      <th>26</th>\n      <td>TC12440</td>\n      <td>The system shall record a patient transfer fro...</td>\n      <td>US41786: UI - New Patient Activity Log Entry a...</td>\n      <td>Acceptance</td>\n      <td>NaN</td>\n      <td>Mani Jayaraman</td>\n      <td>Manual</td>\n      <td>0</td>\n      <td>NaN</td>\n      <td>NaN</td>\n      <td>...</td>\n      <td>False</td>\n      <td>Not Started</td>\n      <td>0</td>\n      <td>NaN</td>\n      <td>R1.33</td>\n      <td>NaN</td>\n      <td>TF1329: Patient Transfer</td>\n      <td>0</td>\n      <td>NaN</td>\n      <td>hi</td>\n    </tr>\n    <tr>\n      <th>27</th>\n      <td>TC12632</td>\n      <td>The Mask Selector Gateway shall support resett...</td>\n      <td>US32438: External Application Support</td>\n      <td>Acceptance</td>\n      <td>NaN</td>\n      <td>Edison Caldwell</td>\n      <td>Automated</td>\n      <td>0</td>\n      <td>NaN</td>\n      <td>NaN</td>\n      <td>...</td>\n      <td>False</td>\n      <td>Test Written</td>\n      <td>0</td>\n      <td>NaN</td>\n      <td>R1.33</td>\n      <td>NaN</td>\n      <td>TF277: Billing Services Access</td>\n      <td>0</td>\n      <td>US45400</td>\n      <td>hi</td>\n    </tr>\n    <tr>\n      <th>28</th>\n      <td>TC12633</td>\n      <td>Mask Selector Gateway shall support retrieval ...</td>\n      <td>US32438: External Application Support</td>\n      <td>Acceptance</td>\n      <td>NaN</td>\n      <td>Edison Caldwell</td>\n      <td>Automated</td>\n      <td>0</td>\n      <td>NaN</td>\n      <td>NaN</td>\n      <td>...</td>\n      <td>False</td>\n      <td>Test Written</td>\n      <td>0</td>\n      <td>NaN</td>\n      <td>R1.33</td>\n      <td>NaN</td>\n      <td>TF277: Billing Services Access</td>\n      <td>0</td>\n      <td>US45400</td>\n      <td>hi</td>\n    </tr>\n    <tr>\n      <th>29</th>\n      <td>TC12634</td>\n      <td>Mask Selector Gateway shall support providing ...</td>\n      <td>US32438: External Application Support</td>\n      <td>Acceptance</td>\n      <td>NaN</td>\n      <td>Edison Caldwell</td>\n      <td>Automated</td>\n      <td>0</td>\n      <td>NaN</td>\n      <td>NaN</td>\n      <td>...</td>\n      <td>False</td>\n      <td>Test Written</td>\n      <td>0</td>\n      <td>NaN</td>\n      <td>R1.33</td>\n      <td>NaN</td>\n      <td>TF277: Billing Services Access</td>\n      <td>0</td>\n      <td>US45400</td>\n      <td>hi</td>\n    </tr>\n    <tr>\n      <th>30</th>\n      <td>TC12635</td>\n      <td>Mask Selector Gateway shall support updating t...</td>\n      <td>US32438: External Application Support</td>\n      <td>Acceptance</td>\n      <td>NaN</td>\n      <td>Edison Caldwell</td>\n      <td>Automated</td>\n      <td>0</td>\n      <td>NaN</td>\n      <td>NaN</td>\n      <td>...</td>\n      <td>False</td>\n      <td>Test Written</td>\n      <td>0</td>\n      <td>NaN</td>\n      <td>R1.33</td>\n      <td>NaN</td>\n      <td>TF277: Billing Services Access</td>\n      <td>0</td>\n      <td>US45400</td>\n      <td>hi</td>\n    </tr>\n    <tr>\n      <th>31</th>\n      <td>TC12636</td>\n      <td>Mask Selector Gateway shall support user creation</td>\n      <td>US32438: External Application Support</td>\n      <td>Acceptance</td>\n      <td>NaN</td>\n      <td>Edison Caldwell</td>\n      <td>Automated</td>\n      <td>0</td>\n      <td>NaN</td>\n      <td>NaN</td>\n      <td>...</td>\n      <td>False</td>\n      <td>Test Written</td>\n      <td>0</td>\n      <td>NaN</td>\n      <td>R1.33</td>\n      <td>NaN</td>\n      <td>TF277: Billing Services Access</td>\n      <td>0</td>\n      <td>US45400</td>\n      <td>hi</td>\n    </tr>\n    <tr>\n      <th>32</th>\n      <td>TC12637</td>\n      <td>A Mask Selector Clinician user shall have the ...</td>\n      <td>US1551: Permission Sets</td>\n      <td>Acceptance</td>\n      <td>NaN</td>\n      <td>Edison Caldwell</td>\n      <td>Automated</td>\n      <td>0</td>\n      <td>NaN</td>\n      <td>NaN</td>\n      <td>...</td>\n      <td>False</td>\n      <td>Test Written</td>\n      <td>0</td>\n      <td>NaN</td>\n      <td>R1.33</td>\n      <td>NaN</td>\n      <td>TF1327: Mask Selector</td>\n      <td>0</td>\n      <td>NaN</td>\n      <td>hi</td>\n    </tr>\n    <tr>\n      <th>33</th>\n      <td>TC12638</td>\n      <td>A Mask Selector Clinical Administrator user sh...</td>\n      <td>US1551: Permission Sets</td>\n      <td>Acceptance</td>\n      <td>NaN</td>\n      <td>Edison Caldwell</td>\n      <td>Automated</td>\n      <td>0</td>\n      <td>NaN</td>\n      <td>NaN</td>\n      <td>...</td>\n      <td>False</td>\n      <td>Test Written</td>\n      <td>0</td>\n      <td>NaN</td>\n      <td>R1.33</td>\n      <td>NaN</td>\n      <td>TF1327: Mask Selector</td>\n      <td>0</td>\n      <td>NaN</td>\n      <td>hi</td>\n    </tr>\n    <tr>\n      <th>34</th>\n      <td>TC12639</td>\n      <td>The system shall support creation of users for...</td>\n      <td>US32438: External Application Support</td>\n      <td>Acceptance</td>\n      <td>NaN</td>\n      <td>Edison Caldwell</td>\n      <td>Automated</td>\n      <td>0</td>\n      <td>NaN</td>\n      <td>NaN</td>\n      <td>...</td>\n      <td>False</td>\n      <td>Test Written</td>\n      <td>0</td>\n      <td>NaN</td>\n      <td>R1.33</td>\n      <td>NaN</td>\n      <td>TF1327: Mask Selector</td>\n      <td>0</td>\n      <td>NaN</td>\n      <td>hi</td>\n    </tr>\n    <tr>\n      <th>35</th>\n      <td>TC12640</td>\n      <td>The system shall provide an ability to configu...</td>\n      <td>US7871: Feature Enablement</td>\n      <td>Acceptance</td>\n      <td>NaN</td>\n      <td>Edison Caldwell</td>\n      <td>Automated</td>\n      <td>0</td>\n      <td>NaN</td>\n      <td>NaN</td>\n      <td>...</td>\n      <td>False</td>\n      <td>Test Written</td>\n      <td>0</td>\n      <td>NaN</td>\n      <td>R1.33</td>\n      <td>NaN</td>\n      <td>TF1327: Mask Selector</td>\n      <td>0</td>\n      <td>NaN</td>\n      <td>hi</td>\n    </tr>\n    <tr>\n      <th>36</th>\n      <td>TC12641</td>\n      <td>The system shall provide an ability to configu...</td>\n      <td>US7871: Feature Enablement</td>\n      <td>Acceptance</td>\n      <td>NaN</td>\n      <td>Edison Caldwell</td>\n      <td>Automated</td>\n      <td>0</td>\n      <td>NaN</td>\n      <td>NaN</td>\n      <td>...</td>\n      <td>False</td>\n      <td>Test Written</td>\n      <td>0</td>\n      <td>NaN</td>\n      <td>R1.33</td>\n      <td>NaN</td>\n      <td>TF1327: Mask Selector</td>\n      <td>0</td>\n      <td>NaN</td>\n      <td>hi</td>\n    </tr>\n    <tr>\n      <th>37</th>\n      <td>TC12705</td>\n      <td>The platform shall support logging out the use...</td>\n      <td>US32438: External Application Support</td>\n      <td>Acceptance</td>\n      <td>NaN</td>\n      <td>Edison Caldwell</td>\n      <td>Automated</td>\n      <td>0</td>\n      <td>NaN</td>\n      <td>NaN</td>\n      <td>...</td>\n      <td>True</td>\n      <td>Test Written</td>\n      <td>0</td>\n      <td>NaN</td>\n      <td>R1.33</td>\n      <td>NaN</td>\n      <td>TF1348: Platform</td>\n      <td>0</td>\n      <td>NaN</td>\n      <td>hi</td>\n    </tr>\n    <tr>\n      <th>38</th>\n      <td>TC12706</td>\n      <td>The platform shall allow the authorized users ...</td>\n      <td>US32438: External Application Support</td>\n      <td>Acceptance</td>\n      <td>NaN</td>\n      <td>Edison Caldwell</td>\n      <td>Automated</td>\n      <td>0</td>\n      <td>NaN</td>\n      <td>NaN</td>\n      <td>...</td>\n      <td>True</td>\n      <td>Test Written</td>\n      <td>0</td>\n      <td>NaN</td>\n      <td>R1.33</td>\n      <td>NaN</td>\n      <td>TF1348: Platform</td>\n      <td>0</td>\n      <td>NaN</td>\n      <td>hi</td>\n    </tr>\n  </tbody>\n</table>\n<p>39 rows × 41 columns</p>\n</div>"
     },
     "metadata": {},
     "execution_count": 16
    }
   ],
   "source": [
    "df = df[\"V&V Test Report\"] = \"\"\n",
    "df"
   ]
  },
  {
   "cell_type": "code",
   "execution_count": 14,
   "metadata": {},
   "outputs": [
    {
     "output_type": "execute_result",
     "data": {
      "text/plain": [
       "   Formatted ID                                               Name  \\\n",
       "0         TC941  The system shall support authorizing external ...   \n",
       "1        TC1325  The system shall provide the ability to assign...   \n",
       "2        TC1699  The system shall support generating performanc...   \n",
       "3        TC1713  When the Performance Check report is viewed fr...   \n",
       "4        TC2068  Only the priority, start of compliance period,...   \n",
       "5        TC4226  The About page shall contain the correct elements   \n",
       "6        TC2974  The system shall have the ability to display t...   \n",
       "7       TC12574  The Patient Equipment Subscription shall conta...   \n",
       "8       TC12575  The Patient Accessories Subscription shall con...   \n",
       "9       TC12576  The Patient Task Notes Subscription shall cont...   \n",
       "10      TC12580  The Patient Activity Notes Subscription shall ...   \n",
       "11      TC12058  The system shall support syncing of assignment...   \n",
       "12      TC12573  When a patient that doesn’t exist in EA is tra...   \n",
       "13      TC12060  The system shall support syncing of manual res...   \n",
       "14      TC12420  Compliance rules shall have a setting that rem...   \n",
       "15      TC12551  When the \"\"auto dismiss not compliant tasks\"\" ...   \n",
       "16      TC12432  The system shall provide a visual indicator fo...   \n",
       "17      TC12433  The system shall display the mask suggestion r...   \n",
       "18      TC12434  The system shall provide the ability to assign...   \n",
       "19      TC12324  The system shall auto assign care team locatio...   \n",
       "20      TC12570  The system shall present a confirmation to the...   \n",
       "21      TC12549  When transferring a patient from an external l...   \n",
       "22      TC12438  The system shall provide the ability for a use...   \n",
       "23      TC12439  When a patient is transferred the system shall...   \n",
       "24      TC12569  When a patient is transferred the system shall...   \n",
       "25      TC12642  When transferring a patient, the system shall ...   \n",
       "26      TC12440  The system shall record a patient transfer fro...   \n",
       "27      TC12632  The Mask Selector Gateway shall support resett...   \n",
       "28      TC12633  Mask Selector Gateway shall support retrieval ...   \n",
       "29      TC12634  Mask Selector Gateway shall support providing ...   \n",
       "30      TC12635  Mask Selector Gateway shall support updating t...   \n",
       "31      TC12636  Mask Selector Gateway shall support user creation   \n",
       "32      TC12637  A Mask Selector Clinician user shall have the ...   \n",
       "33      TC12638  A Mask Selector Clinical Administrator user sh...   \n",
       "34      TC12639  The system shall support creation of users for...   \n",
       "35      TC12640  The system shall provide an ability to configu...   \n",
       "36      TC12641  The system shall provide an ability to configu...   \n",
       "37      TC12705  The platform shall support logging out the use...   \n",
       "38      TC12706  The platform shall allow the authorized users ...   \n",
       "\n",
       "                                         Work Product        Type  Priority  \\\n",
       "0                      US1659: External Authorization  Acceptance       NaN   \n",
       "1   US11119: Unplanned: (R1.5) Create a new user r...  Acceptance       NaN   \n",
       "2   US8741: [Continued] Support Dreamstation ASV d...  Acceptance       NaN   \n",
       "3                       US3019: Display device health  Acceptance       NaN   \n",
       "4   US9988: As a company admin, I want to be able ...  Acceptance       NaN   \n",
       "5   US36546: [R.128] Update About page to include ...  Acceptance       NaN   \n",
       "6   US21415: [Agreement] Physician access agreemen...  Acceptance       NaN   \n",
       "7   US38736: Add setting fields to EMR Sleep Data ...  Acceptance       NaN   \n",
       "8   US38736: Add setting fields to EMR Sleep Data ...  Acceptance       NaN   \n",
       "9   US38736: Add setting fields to EMR Sleep Data ...  Acceptance       NaN   \n",
       "10  US38736: Add setting fields to EMR Sleep Data ...  Acceptance       NaN   \n",
       "11                       US38635: Create requirements  Acceptance       NaN   \n",
       "12  US44511: EH will not sync patients with \"\"Tran...  Acceptance       NaN   \n",
       "13                       US38635: Create requirements  Acceptance       NaN   \n",
       "14  US42601: Compliance Rule Configuration (DEP on...  Acceptance       NaN   \n",
       "15  US42601: Compliance Rule Configuration (DEP on...  Acceptance       NaN   \n",
       "16  US41764: Mask Selector Indicator Icon on the P...  Acceptance       NaN   \n",
       "17  US41766: [AC:1] Mask Suggestions Field with po...  Acceptance       NaN   \n",
       "18  US42012: [AC:2] Mask suggestions assigned as a...  Acceptance       NaN   \n",
       "19  US42002: Care Team The source location of the ...  Acceptance       NaN   \n",
       "20  US42002: Care Team The source location of the ...  Acceptance       NaN   \n",
       "21               US42990: UI - Patient Transfer Modal  Acceptance       NaN   \n",
       "22  US42075: UI - Patient Transfer Button (Transfe...  Acceptance       NaN   \n",
       "23  US42004: Fields on the source patient location...  Acceptance       NaN   \n",
       "24  US42004: Fields on the source patient location...  Acceptance       NaN   \n",
       "25               US42990: UI - Patient Transfer Modal  Acceptance       NaN   \n",
       "26  US41786: UI - New Patient Activity Log Entry a...  Acceptance       NaN   \n",
       "27              US32438: External Application Support  Acceptance       NaN   \n",
       "28              US32438: External Application Support  Acceptance       NaN   \n",
       "29              US32438: External Application Support  Acceptance       NaN   \n",
       "30              US32438: External Application Support  Acceptance       NaN   \n",
       "31              US32438: External Application Support  Acceptance       NaN   \n",
       "32                            US1551: Permission Sets  Acceptance       NaN   \n",
       "33                            US1551: Permission Sets  Acceptance       NaN   \n",
       "34              US32438: External Application Support  Acceptance       NaN   \n",
       "35                         US7871: Feature Enablement  Acceptance       NaN   \n",
       "36                         US7871: Feature Enablement  Acceptance       NaN   \n",
       "37              US32438: External Application Support  Acceptance       NaN   \n",
       "38              US32438: External Application Support  Acceptance       NaN   \n",
       "\n",
       "                         Owner     Method  Results  Last Build   Last Run  \\\n",
       "0                  Kelly Keefe  Automated       54      6924.0  9/14/2018   \n",
       "1   Carlos Jauquicoa Martinena  Automated      234      6924.0  9/14/2018   \n",
       "2                      Veena N     Manual        0         NaN        NaN   \n",
       "3                      Veena N     Manual        0         NaN        NaN   \n",
       "4                 smalagari001  Automated        0         NaN        NaN   \n",
       "5               Frank Fulcomer     Manual        0         NaN        NaN   \n",
       "6                  Kelly Keefe  Automated        0         NaN        NaN   \n",
       "7                  james.landy     Manual        0         NaN        NaN   \n",
       "8                  james.landy     Manual        0         NaN        NaN   \n",
       "9                  james.landy     Manual        0         NaN        NaN   \n",
       "10                 james.landy     Manual        0         NaN        NaN   \n",
       "11                  Vibha Giri     Manual        0         NaN        NaN   \n",
       "12              Mani Jayaraman     Manual        0         NaN        NaN   \n",
       "13                  Vibha Giri     Manual        0         NaN        NaN   \n",
       "14  Carlos Jauquicoa Martinena  Automated        0         NaN        NaN   \n",
       "15  Carlos Jauquicoa Martinena  Automated        0         NaN        NaN   \n",
       "16              Mani Jayaraman  Automated        0         NaN        NaN   \n",
       "17              Mani Jayaraman  Automated        0         NaN        NaN   \n",
       "18              Mani Jayaraman  Automated        0         NaN        NaN   \n",
       "19              Mani Jayaraman     Manual        0         NaN        NaN   \n",
       "20              Mani Jayaraman     Manual        0         NaN        NaN   \n",
       "21              Mani Jayaraman     Manual        0         NaN        NaN   \n",
       "22              Mani Jayaraman     Manual        0         NaN        NaN   \n",
       "23              Mani Jayaraman     Manual        0         NaN        NaN   \n",
       "24              Mani Jayaraman     Manual        0         NaN        NaN   \n",
       "25              Mani Jayaraman     Manual        0         NaN        NaN   \n",
       "26              Mani Jayaraman     Manual        0         NaN        NaN   \n",
       "27             Edison Caldwell  Automated        0         NaN        NaN   \n",
       "28             Edison Caldwell  Automated        0         NaN        NaN   \n",
       "29             Edison Caldwell  Automated        0         NaN        NaN   \n",
       "30             Edison Caldwell  Automated        0         NaN        NaN   \n",
       "31             Edison Caldwell  Automated        0         NaN        NaN   \n",
       "32             Edison Caldwell  Automated        0         NaN        NaN   \n",
       "33             Edison Caldwell  Automated        0         NaN        NaN   \n",
       "34             Edison Caldwell  Automated        0         NaN        NaN   \n",
       "35             Edison Caldwell  Automated        0         NaN        NaN   \n",
       "36             Edison Caldwell  Automated        0         NaN        NaN   \n",
       "37             Edison Caldwell  Automated        0         NaN        NaN   \n",
       "38             Edison Caldwell  Automated        0         NaN        NaN   \n",
       "\n",
       "    ... Risk Risk CM        Status Steps Tags TC Maj Release     TC PI  \\\n",
       "0   ...  NaN    True  Test Written     0  NaN          R1.33     PI 11   \n",
       "1   ...  NaN    True  Test Written     0  NaN          R1.33     PI 11   \n",
       "2   ...  NaN   False  Test Written     0  NaN          R1.33      PI 8   \n",
       "3   ...  NaN   False  Test Written     0  NaN          R1.33      PI 6   \n",
       "4   ...  NaN   False  Test Written     0  NaN          R1.33     PI 10   \n",
       "5   ...  NaN    True   Not Started     0  NaN          R1.33  PI 19.04   \n",
       "6   ...  NaN   False  Test Written     0  NaN          R1.33     PI 10   \n",
       "7   ...  NaN   False   Not Started     0  NaN          R1.33       NaN   \n",
       "8   ...  NaN   False   Not Started     0  NaN          R1.33       NaN   \n",
       "9   ...  NaN   False   Not Started     0  NaN          R1.33       NaN   \n",
       "10  ...  NaN   False   Not Started     0  NaN          R1.33       NaN   \n",
       "11  ...  NaN   False  Test Written     0  NaN          R1.33  PI 20.02   \n",
       "12  ...  NaN   False  Test Written     0  NaN          R1.33       NaN   \n",
       "13  ...  NaN   False  Test Written     0  NaN          R1.33  PI 20.02   \n",
       "14  ...  NaN   False   Not Started     0  NaN          R1.33       NaN   \n",
       "15  ...  NaN   False   Not Started     0  NaN          R1.33       NaN   \n",
       "16  ...  NaN   False   Not Started     0  NaN          R1.33       NaN   \n",
       "17  ...  NaN    True   Not Started     0  NaN          R1.33       NaN   \n",
       "18  ...  NaN    True   Not Started     0  NaN          R1.33       NaN   \n",
       "19  ...  NaN   False   Not Started     0  NaN          R1.33       NaN   \n",
       "20  ...  NaN   False   Not Started     0  NaN          R1.33       NaN   \n",
       "21  ...  NaN   False   Not Started     0  NaN          R1.33       NaN   \n",
       "22  ...  NaN   False   Not Started     0  NaN          R1.33       NaN   \n",
       "23  ...  NaN   False   Not Started     0  NaN          R1.33       NaN   \n",
       "24  ...  NaN   False   Not Started     0  NaN          R1.33       NaN   \n",
       "25  ...  NaN   False   Not Started     0  NaN          R1.33       NaN   \n",
       "26  ...  NaN   False   Not Started     0  NaN          R1.33       NaN   \n",
       "27  ...  NaN   False  Test Written     0  NaN          R1.33       NaN   \n",
       "28  ...  NaN   False  Test Written     0  NaN          R1.33       NaN   \n",
       "29  ...  NaN   False  Test Written     0  NaN          R1.33       NaN   \n",
       "30  ...  NaN   False  Test Written     0  NaN          R1.33       NaN   \n",
       "31  ...  NaN   False  Test Written     0  NaN          R1.33       NaN   \n",
       "32  ...  NaN   False  Test Written     0  NaN          R1.33       NaN   \n",
       "33  ...  NaN   False  Test Written     0  NaN          R1.33       NaN   \n",
       "34  ...  NaN   False  Test Written     0  NaN          R1.33       NaN   \n",
       "35  ...  NaN   False  Test Written     0  NaN          R1.33       NaN   \n",
       "36  ...  NaN   False  Test Written     0  NaN          R1.33       NaN   \n",
       "37  ...  NaN    True  Test Written     0  NaN          R1.33       NaN   \n",
       "38  ...  NaN    True  Test Written     0  NaN          R1.33       NaN   \n",
       "\n",
       "                                          Test Folder  Test Sets  \\\n",
       "0                       TF90: External Authorizations          0   \n",
       "1                                      TF11: Add User          0   \n",
       "2   TF145: DreamStation Device Family Performance ...          0   \n",
       "3   TF145: DreamStation Device Family Performance ...          0   \n",
       "4               TF98: Compliance rule - Configuration          0   \n",
       "5          TF127: Labeling / Privacy Notice / Tracing          0   \n",
       "6                          TF119: Business Agreements          0   \n",
       "7                      TF277: Billing Services Access          0   \n",
       "8                      TF277: Billing Services Access          0   \n",
       "9                      TF277: Billing Services Access          0   \n",
       "10                     TF277: Billing Services Access          0   \n",
       "11                   TF87: Sapphire-EA Sync: Patients          0   \n",
       "12                   TF87: Sapphire-EA Sync: Patients          0   \n",
       "13                   TF87: Sapphire-EA Sync: Patients          0   \n",
       "14              TF98: Compliance rule - Configuration          0   \n",
       "15              TF98: Compliance rule - Configuration          0   \n",
       "16                    TF178: Add non-device Equipment          0   \n",
       "17                    TF178: Add non-device Equipment          0   \n",
       "18                    TF178: Add non-device Equipment          0   \n",
       "19                           TF1329: Patient Transfer          0   \n",
       "20                           TF1329: Patient Transfer          0   \n",
       "21                           TF1329: Patient Transfer          0   \n",
       "22                           TF1329: Patient Transfer          0   \n",
       "23                           TF1329: Patient Transfer          0   \n",
       "24                           TF1329: Patient Transfer          0   \n",
       "25                           TF1329: Patient Transfer          0   \n",
       "26                           TF1329: Patient Transfer          0   \n",
       "27                     TF277: Billing Services Access          0   \n",
       "28                     TF277: Billing Services Access          0   \n",
       "29                     TF277: Billing Services Access          0   \n",
       "30                     TF277: Billing Services Access          0   \n",
       "31                     TF277: Billing Services Access          0   \n",
       "32                              TF1327: Mask Selector          0   \n",
       "33                              TF1327: Mask Selector          0   \n",
       "34                              TF1327: Mask Selector          0   \n",
       "35                              TF1327: Mask Selector          0   \n",
       "36                              TF1327: Mask Selector          0   \n",
       "37                                   TF1348: Platform          0   \n",
       "38                                   TF1348: Platform          0   \n",
       "\n",
       "    Use Case Trace  \n",
       "0              NaN  \n",
       "1              NaN  \n",
       "2              NaN  \n",
       "3              NaN  \n",
       "4              NaN  \n",
       "5              NaN  \n",
       "6              NaN  \n",
       "7              NaN  \n",
       "8              NaN  \n",
       "9              NaN  \n",
       "10             NaN  \n",
       "11             NaN  \n",
       "12             NaN  \n",
       "13             NaN  \n",
       "14             NaN  \n",
       "15             NaN  \n",
       "16             NaN  \n",
       "17             NaN  \n",
       "18             NaN  \n",
       "19             NaN  \n",
       "20             NaN  \n",
       "21             NaN  \n",
       "22             NaN  \n",
       "23             NaN  \n",
       "24             NaN  \n",
       "25             NaN  \n",
       "26             NaN  \n",
       "27         US45400  \n",
       "28         US45400  \n",
       "29         US45400  \n",
       "30         US45400  \n",
       "31         US45400  \n",
       "32             NaN  \n",
       "33             NaN  \n",
       "34             NaN  \n",
       "35             NaN  \n",
       "36             NaN  \n",
       "37             NaN  \n",
       "38             NaN  \n",
       "\n",
       "[39 rows x 40 columns]"
      ],
      "text/html": "<div>\n<style scoped>\n    .dataframe tbody tr th:only-of-type {\n        vertical-align: middle;\n    }\n\n    .dataframe tbody tr th {\n        vertical-align: top;\n    }\n\n    .dataframe thead th {\n        text-align: right;\n    }\n</style>\n<table border=\"1\" class=\"dataframe\">\n  <thead>\n    <tr style=\"text-align: right;\">\n      <th></th>\n      <th>Formatted ID</th>\n      <th>Name</th>\n      <th>Work Product</th>\n      <th>Type</th>\n      <th>Priority</th>\n      <th>Owner</th>\n      <th>Method</th>\n      <th>Results</th>\n      <th>Last Build</th>\n      <th>Last Run</th>\n      <th>...</th>\n      <th>Risk</th>\n      <th>Risk CM</th>\n      <th>Status</th>\n      <th>Steps</th>\n      <th>Tags</th>\n      <th>TC Maj Release</th>\n      <th>TC PI</th>\n      <th>Test Folder</th>\n      <th>Test Sets</th>\n      <th>Use Case Trace</th>\n    </tr>\n  </thead>\n  <tbody>\n    <tr>\n      <th>0</th>\n      <td>TC941</td>\n      <td>The system shall support authorizing external ...</td>\n      <td>US1659: External Authorization</td>\n      <td>Acceptance</td>\n      <td>NaN</td>\n      <td>Kelly Keefe</td>\n      <td>Automated</td>\n      <td>54</td>\n      <td>6924.0</td>\n      <td>9/14/2018</td>\n      <td>...</td>\n      <td>NaN</td>\n      <td>True</td>\n      <td>Test Written</td>\n      <td>0</td>\n      <td>NaN</td>\n      <td>R1.33</td>\n      <td>PI 11</td>\n      <td>TF90: External Authorizations</td>\n      <td>0</td>\n      <td>NaN</td>\n    </tr>\n    <tr>\n      <th>1</th>\n      <td>TC1325</td>\n      <td>The system shall provide the ability to assign...</td>\n      <td>US11119: Unplanned: (R1.5) Create a new user r...</td>\n      <td>Acceptance</td>\n      <td>NaN</td>\n      <td>Carlos Jauquicoa Martinena</td>\n      <td>Automated</td>\n      <td>234</td>\n      <td>6924.0</td>\n      <td>9/14/2018</td>\n      <td>...</td>\n      <td>NaN</td>\n      <td>True</td>\n      <td>Test Written</td>\n      <td>0</td>\n      <td>NaN</td>\n      <td>R1.33</td>\n      <td>PI 11</td>\n      <td>TF11: Add User</td>\n      <td>0</td>\n      <td>NaN</td>\n    </tr>\n    <tr>\n      <th>2</th>\n      <td>TC1699</td>\n      <td>The system shall support generating performanc...</td>\n      <td>US8741: [Continued] Support Dreamstation ASV d...</td>\n      <td>Acceptance</td>\n      <td>NaN</td>\n      <td>Veena N</td>\n      <td>Manual</td>\n      <td>0</td>\n      <td>NaN</td>\n      <td>NaN</td>\n      <td>...</td>\n      <td>NaN</td>\n      <td>False</td>\n      <td>Test Written</td>\n      <td>0</td>\n      <td>NaN</td>\n      <td>R1.33</td>\n      <td>PI 8</td>\n      <td>TF145: DreamStation Device Family Performance ...</td>\n      <td>0</td>\n      <td>NaN</td>\n    </tr>\n    <tr>\n      <th>3</th>\n      <td>TC1713</td>\n      <td>When the Performance Check report is viewed fr...</td>\n      <td>US3019: Display device health</td>\n      <td>Acceptance</td>\n      <td>NaN</td>\n      <td>Veena N</td>\n      <td>Manual</td>\n      <td>0</td>\n      <td>NaN</td>\n      <td>NaN</td>\n      <td>...</td>\n      <td>NaN</td>\n      <td>False</td>\n      <td>Test Written</td>\n      <td>0</td>\n      <td>NaN</td>\n      <td>R1.33</td>\n      <td>PI 6</td>\n      <td>TF145: DreamStation Device Family Performance ...</td>\n      <td>0</td>\n      <td>NaN</td>\n    </tr>\n    <tr>\n      <th>4</th>\n      <td>TC2068</td>\n      <td>Only the priority, start of compliance period,...</td>\n      <td>US9988: As a company admin, I want to be able ...</td>\n      <td>Acceptance</td>\n      <td>NaN</td>\n      <td>smalagari001</td>\n      <td>Automated</td>\n      <td>0</td>\n      <td>NaN</td>\n      <td>NaN</td>\n      <td>...</td>\n      <td>NaN</td>\n      <td>False</td>\n      <td>Test Written</td>\n      <td>0</td>\n      <td>NaN</td>\n      <td>R1.33</td>\n      <td>PI 10</td>\n      <td>TF98: Compliance rule - Configuration</td>\n      <td>0</td>\n      <td>NaN</td>\n    </tr>\n    <tr>\n      <th>5</th>\n      <td>TC4226</td>\n      <td>The About page shall contain the correct elements</td>\n      <td>US36546: [R.128] Update About page to include ...</td>\n      <td>Acceptance</td>\n      <td>NaN</td>\n      <td>Frank Fulcomer</td>\n      <td>Manual</td>\n      <td>0</td>\n      <td>NaN</td>\n      <td>NaN</td>\n      <td>...</td>\n      <td>NaN</td>\n      <td>True</td>\n      <td>Not Started</td>\n      <td>0</td>\n      <td>NaN</td>\n      <td>R1.33</td>\n      <td>PI 19.04</td>\n      <td>TF127: Labeling / Privacy Notice / Tracing</td>\n      <td>0</td>\n      <td>NaN</td>\n    </tr>\n    <tr>\n      <th>6</th>\n      <td>TC2974</td>\n      <td>The system shall have the ability to display t...</td>\n      <td>US21415: [Agreement] Physician access agreemen...</td>\n      <td>Acceptance</td>\n      <td>NaN</td>\n      <td>Kelly Keefe</td>\n      <td>Automated</td>\n      <td>0</td>\n      <td>NaN</td>\n      <td>NaN</td>\n      <td>...</td>\n      <td>NaN</td>\n      <td>False</td>\n      <td>Test Written</td>\n      <td>0</td>\n      <td>NaN</td>\n      <td>R1.33</td>\n      <td>PI 10</td>\n      <td>TF119: Business Agreements</td>\n      <td>0</td>\n      <td>NaN</td>\n    </tr>\n    <tr>\n      <th>7</th>\n      <td>TC12574</td>\n      <td>The Patient Equipment Subscription shall conta...</td>\n      <td>US38736: Add setting fields to EMR Sleep Data ...</td>\n      <td>Acceptance</td>\n      <td>NaN</td>\n      <td>james.landy</td>\n      <td>Manual</td>\n      <td>0</td>\n      <td>NaN</td>\n      <td>NaN</td>\n      <td>...</td>\n      <td>NaN</td>\n      <td>False</td>\n      <td>Not Started</td>\n      <td>0</td>\n      <td>NaN</td>\n      <td>R1.33</td>\n      <td>NaN</td>\n      <td>TF277: Billing Services Access</td>\n      <td>0</td>\n      <td>NaN</td>\n    </tr>\n    <tr>\n      <th>8</th>\n      <td>TC12575</td>\n      <td>The Patient Accessories Subscription shall con...</td>\n      <td>US38736: Add setting fields to EMR Sleep Data ...</td>\n      <td>Acceptance</td>\n      <td>NaN</td>\n      <td>james.landy</td>\n      <td>Manual</td>\n      <td>0</td>\n      <td>NaN</td>\n      <td>NaN</td>\n      <td>...</td>\n      <td>NaN</td>\n      <td>False</td>\n      <td>Not Started</td>\n      <td>0</td>\n      <td>NaN</td>\n      <td>R1.33</td>\n      <td>NaN</td>\n      <td>TF277: Billing Services Access</td>\n      <td>0</td>\n      <td>NaN</td>\n    </tr>\n    <tr>\n      <th>9</th>\n      <td>TC12576</td>\n      <td>The Patient Task Notes Subscription shall cont...</td>\n      <td>US38736: Add setting fields to EMR Sleep Data ...</td>\n      <td>Acceptance</td>\n      <td>NaN</td>\n      <td>james.landy</td>\n      <td>Manual</td>\n      <td>0</td>\n      <td>NaN</td>\n      <td>NaN</td>\n      <td>...</td>\n      <td>NaN</td>\n      <td>False</td>\n      <td>Not Started</td>\n      <td>0</td>\n      <td>NaN</td>\n      <td>R1.33</td>\n      <td>NaN</td>\n      <td>TF277: Billing Services Access</td>\n      <td>0</td>\n      <td>NaN</td>\n    </tr>\n    <tr>\n      <th>10</th>\n      <td>TC12580</td>\n      <td>The Patient Activity Notes Subscription shall ...</td>\n      <td>US38736: Add setting fields to EMR Sleep Data ...</td>\n      <td>Acceptance</td>\n      <td>NaN</td>\n      <td>james.landy</td>\n      <td>Manual</td>\n      <td>0</td>\n      <td>NaN</td>\n      <td>NaN</td>\n      <td>...</td>\n      <td>NaN</td>\n      <td>False</td>\n      <td>Not Started</td>\n      <td>0</td>\n      <td>NaN</td>\n      <td>R1.33</td>\n      <td>NaN</td>\n      <td>TF277: Billing Services Access</td>\n      <td>0</td>\n      <td>NaN</td>\n    </tr>\n    <tr>\n      <th>11</th>\n      <td>TC12058</td>\n      <td>The system shall support syncing of assignment...</td>\n      <td>US38635: Create requirements</td>\n      <td>Acceptance</td>\n      <td>NaN</td>\n      <td>Vibha Giri</td>\n      <td>Manual</td>\n      <td>0</td>\n      <td>NaN</td>\n      <td>NaN</td>\n      <td>...</td>\n      <td>NaN</td>\n      <td>False</td>\n      <td>Test Written</td>\n      <td>0</td>\n      <td>NaN</td>\n      <td>R1.33</td>\n      <td>PI 20.02</td>\n      <td>TF87: Sapphire-EA Sync: Patients</td>\n      <td>0</td>\n      <td>NaN</td>\n    </tr>\n    <tr>\n      <th>12</th>\n      <td>TC12573</td>\n      <td>When a patient that doesn’t exist in EA is tra...</td>\n      <td>US44511: EH will not sync patients with \"\"Tran...</td>\n      <td>Acceptance</td>\n      <td>NaN</td>\n      <td>Mani Jayaraman</td>\n      <td>Manual</td>\n      <td>0</td>\n      <td>NaN</td>\n      <td>NaN</td>\n      <td>...</td>\n      <td>NaN</td>\n      <td>False</td>\n      <td>Test Written</td>\n      <td>0</td>\n      <td>NaN</td>\n      <td>R1.33</td>\n      <td>NaN</td>\n      <td>TF87: Sapphire-EA Sync: Patients</td>\n      <td>0</td>\n      <td>NaN</td>\n    </tr>\n    <tr>\n      <th>13</th>\n      <td>TC12060</td>\n      <td>The system shall support syncing of manual res...</td>\n      <td>US38635: Create requirements</td>\n      <td>Acceptance</td>\n      <td>NaN</td>\n      <td>Vibha Giri</td>\n      <td>Manual</td>\n      <td>0</td>\n      <td>NaN</td>\n      <td>NaN</td>\n      <td>...</td>\n      <td>NaN</td>\n      <td>False</td>\n      <td>Test Written</td>\n      <td>0</td>\n      <td>NaN</td>\n      <td>R1.33</td>\n      <td>PI 20.02</td>\n      <td>TF87: Sapphire-EA Sync: Patients</td>\n      <td>0</td>\n      <td>NaN</td>\n    </tr>\n    <tr>\n      <th>14</th>\n      <td>TC12420</td>\n      <td>Compliance rules shall have a setting that rem...</td>\n      <td>US42601: Compliance Rule Configuration (DEP on...</td>\n      <td>Acceptance</td>\n      <td>NaN</td>\n      <td>Carlos Jauquicoa Martinena</td>\n      <td>Automated</td>\n      <td>0</td>\n      <td>NaN</td>\n      <td>NaN</td>\n      <td>...</td>\n      <td>NaN</td>\n      <td>False</td>\n      <td>Not Started</td>\n      <td>0</td>\n      <td>NaN</td>\n      <td>R1.33</td>\n      <td>NaN</td>\n      <td>TF98: Compliance rule - Configuration</td>\n      <td>0</td>\n      <td>NaN</td>\n    </tr>\n    <tr>\n      <th>15</th>\n      <td>TC12551</td>\n      <td>When the \"\"auto dismiss not compliant tasks\"\" ...</td>\n      <td>US42601: Compliance Rule Configuration (DEP on...</td>\n      <td>Acceptance</td>\n      <td>NaN</td>\n      <td>Carlos Jauquicoa Martinena</td>\n      <td>Automated</td>\n      <td>0</td>\n      <td>NaN</td>\n      <td>NaN</td>\n      <td>...</td>\n      <td>NaN</td>\n      <td>False</td>\n      <td>Not Started</td>\n      <td>0</td>\n      <td>NaN</td>\n      <td>R1.33</td>\n      <td>NaN</td>\n      <td>TF98: Compliance rule - Configuration</td>\n      <td>0</td>\n      <td>NaN</td>\n    </tr>\n    <tr>\n      <th>16</th>\n      <td>TC12432</td>\n      <td>The system shall provide a visual indicator fo...</td>\n      <td>US41764: Mask Selector Indicator Icon on the P...</td>\n      <td>Acceptance</td>\n      <td>NaN</td>\n      <td>Mani Jayaraman</td>\n      <td>Automated</td>\n      <td>0</td>\n      <td>NaN</td>\n      <td>NaN</td>\n      <td>...</td>\n      <td>NaN</td>\n      <td>False</td>\n      <td>Not Started</td>\n      <td>0</td>\n      <td>NaN</td>\n      <td>R1.33</td>\n      <td>NaN</td>\n      <td>TF178: Add non-device Equipment</td>\n      <td>0</td>\n      <td>NaN</td>\n    </tr>\n    <tr>\n      <th>17</th>\n      <td>TC12433</td>\n      <td>The system shall display the mask suggestion r...</td>\n      <td>US41766: [AC:1] Mask Suggestions Field with po...</td>\n      <td>Acceptance</td>\n      <td>NaN</td>\n      <td>Mani Jayaraman</td>\n      <td>Automated</td>\n      <td>0</td>\n      <td>NaN</td>\n      <td>NaN</td>\n      <td>...</td>\n      <td>NaN</td>\n      <td>True</td>\n      <td>Not Started</td>\n      <td>0</td>\n      <td>NaN</td>\n      <td>R1.33</td>\n      <td>NaN</td>\n      <td>TF178: Add non-device Equipment</td>\n      <td>0</td>\n      <td>NaN</td>\n    </tr>\n    <tr>\n      <th>18</th>\n      <td>TC12434</td>\n      <td>The system shall provide the ability to assign...</td>\n      <td>US42012: [AC:2] Mask suggestions assigned as a...</td>\n      <td>Acceptance</td>\n      <td>NaN</td>\n      <td>Mani Jayaraman</td>\n      <td>Automated</td>\n      <td>0</td>\n      <td>NaN</td>\n      <td>NaN</td>\n      <td>...</td>\n      <td>NaN</td>\n      <td>True</td>\n      <td>Not Started</td>\n      <td>0</td>\n      <td>NaN</td>\n      <td>R1.33</td>\n      <td>NaN</td>\n      <td>TF178: Add non-device Equipment</td>\n      <td>0</td>\n      <td>NaN</td>\n    </tr>\n    <tr>\n      <th>19</th>\n      <td>TC12324</td>\n      <td>The system shall auto assign care team locatio...</td>\n      <td>US42002: Care Team The source location of the ...</td>\n      <td>Acceptance</td>\n      <td>NaN</td>\n      <td>Mani Jayaraman</td>\n      <td>Manual</td>\n      <td>0</td>\n      <td>NaN</td>\n      <td>NaN</td>\n      <td>...</td>\n      <td>NaN</td>\n      <td>False</td>\n      <td>Not Started</td>\n      <td>0</td>\n      <td>NaN</td>\n      <td>R1.33</td>\n      <td>NaN</td>\n      <td>TF1329: Patient Transfer</td>\n      <td>0</td>\n      <td>NaN</td>\n    </tr>\n    <tr>\n      <th>20</th>\n      <td>TC12570</td>\n      <td>The system shall present a confirmation to the...</td>\n      <td>US42002: Care Team The source location of the ...</td>\n      <td>Acceptance</td>\n      <td>NaN</td>\n      <td>Mani Jayaraman</td>\n      <td>Manual</td>\n      <td>0</td>\n      <td>NaN</td>\n      <td>NaN</td>\n      <td>...</td>\n      <td>NaN</td>\n      <td>False</td>\n      <td>Not Started</td>\n      <td>0</td>\n      <td>NaN</td>\n      <td>R1.33</td>\n      <td>NaN</td>\n      <td>TF1329: Patient Transfer</td>\n      <td>0</td>\n      <td>NaN</td>\n    </tr>\n    <tr>\n      <th>21</th>\n      <td>TC12549</td>\n      <td>When transferring a patient from an external l...</td>\n      <td>US42990: UI - Patient Transfer Modal</td>\n      <td>Acceptance</td>\n      <td>NaN</td>\n      <td>Mani Jayaraman</td>\n      <td>Manual</td>\n      <td>0</td>\n      <td>NaN</td>\n      <td>NaN</td>\n      <td>...</td>\n      <td>NaN</td>\n      <td>False</td>\n      <td>Not Started</td>\n      <td>0</td>\n      <td>NaN</td>\n      <td>R1.33</td>\n      <td>NaN</td>\n      <td>TF1329: Patient Transfer</td>\n      <td>0</td>\n      <td>NaN</td>\n    </tr>\n    <tr>\n      <th>22</th>\n      <td>TC12438</td>\n      <td>The system shall provide the ability for a use...</td>\n      <td>US42075: UI - Patient Transfer Button (Transfe...</td>\n      <td>Acceptance</td>\n      <td>NaN</td>\n      <td>Mani Jayaraman</td>\n      <td>Manual</td>\n      <td>0</td>\n      <td>NaN</td>\n      <td>NaN</td>\n      <td>...</td>\n      <td>NaN</td>\n      <td>False</td>\n      <td>Not Started</td>\n      <td>0</td>\n      <td>NaN</td>\n      <td>R1.33</td>\n      <td>NaN</td>\n      <td>TF1329: Patient Transfer</td>\n      <td>0</td>\n      <td>NaN</td>\n    </tr>\n    <tr>\n      <th>23</th>\n      <td>TC12439</td>\n      <td>When a patient is transferred the system shall...</td>\n      <td>US42004: Fields on the source patient location...</td>\n      <td>Acceptance</td>\n      <td>NaN</td>\n      <td>Mani Jayaraman</td>\n      <td>Manual</td>\n      <td>0</td>\n      <td>NaN</td>\n      <td>NaN</td>\n      <td>...</td>\n      <td>NaN</td>\n      <td>False</td>\n      <td>Not Started</td>\n      <td>0</td>\n      <td>NaN</td>\n      <td>R1.33</td>\n      <td>NaN</td>\n      <td>TF1329: Patient Transfer</td>\n      <td>0</td>\n      <td>NaN</td>\n    </tr>\n    <tr>\n      <th>24</th>\n      <td>TC12569</td>\n      <td>When a patient is transferred the system shall...</td>\n      <td>US42004: Fields on the source patient location...</td>\n      <td>Acceptance</td>\n      <td>NaN</td>\n      <td>Mani Jayaraman</td>\n      <td>Manual</td>\n      <td>0</td>\n      <td>NaN</td>\n      <td>NaN</td>\n      <td>...</td>\n      <td>NaN</td>\n      <td>False</td>\n      <td>Not Started</td>\n      <td>0</td>\n      <td>NaN</td>\n      <td>R1.33</td>\n      <td>NaN</td>\n      <td>TF1329: Patient Transfer</td>\n      <td>0</td>\n      <td>NaN</td>\n    </tr>\n    <tr>\n      <th>25</th>\n      <td>TC12642</td>\n      <td>When transferring a patient, the system shall ...</td>\n      <td>US42990: UI - Patient Transfer Modal</td>\n      <td>Acceptance</td>\n      <td>NaN</td>\n      <td>Mani Jayaraman</td>\n      <td>Manual</td>\n      <td>0</td>\n      <td>NaN</td>\n      <td>NaN</td>\n      <td>...</td>\n      <td>NaN</td>\n      <td>False</td>\n      <td>Not Started</td>\n      <td>0</td>\n      <td>NaN</td>\n      <td>R1.33</td>\n      <td>NaN</td>\n      <td>TF1329: Patient Transfer</td>\n      <td>0</td>\n      <td>NaN</td>\n    </tr>\n    <tr>\n      <th>26</th>\n      <td>TC12440</td>\n      <td>The system shall record a patient transfer fro...</td>\n      <td>US41786: UI - New Patient Activity Log Entry a...</td>\n      <td>Acceptance</td>\n      <td>NaN</td>\n      <td>Mani Jayaraman</td>\n      <td>Manual</td>\n      <td>0</td>\n      <td>NaN</td>\n      <td>NaN</td>\n      <td>...</td>\n      <td>NaN</td>\n      <td>False</td>\n      <td>Not Started</td>\n      <td>0</td>\n      <td>NaN</td>\n      <td>R1.33</td>\n      <td>NaN</td>\n      <td>TF1329: Patient Transfer</td>\n      <td>0</td>\n      <td>NaN</td>\n    </tr>\n    <tr>\n      <th>27</th>\n      <td>TC12632</td>\n      <td>The Mask Selector Gateway shall support resett...</td>\n      <td>US32438: External Application Support</td>\n      <td>Acceptance</td>\n      <td>NaN</td>\n      <td>Edison Caldwell</td>\n      <td>Automated</td>\n      <td>0</td>\n      <td>NaN</td>\n      <td>NaN</td>\n      <td>...</td>\n      <td>NaN</td>\n      <td>False</td>\n      <td>Test Written</td>\n      <td>0</td>\n      <td>NaN</td>\n      <td>R1.33</td>\n      <td>NaN</td>\n      <td>TF277: Billing Services Access</td>\n      <td>0</td>\n      <td>US45400</td>\n    </tr>\n    <tr>\n      <th>28</th>\n      <td>TC12633</td>\n      <td>Mask Selector Gateway shall support retrieval ...</td>\n      <td>US32438: External Application Support</td>\n      <td>Acceptance</td>\n      <td>NaN</td>\n      <td>Edison Caldwell</td>\n      <td>Automated</td>\n      <td>0</td>\n      <td>NaN</td>\n      <td>NaN</td>\n      <td>...</td>\n      <td>NaN</td>\n      <td>False</td>\n      <td>Test Written</td>\n      <td>0</td>\n      <td>NaN</td>\n      <td>R1.33</td>\n      <td>NaN</td>\n      <td>TF277: Billing Services Access</td>\n      <td>0</td>\n      <td>US45400</td>\n    </tr>\n    <tr>\n      <th>29</th>\n      <td>TC12634</td>\n      <td>Mask Selector Gateway shall support providing ...</td>\n      <td>US32438: External Application Support</td>\n      <td>Acceptance</td>\n      <td>NaN</td>\n      <td>Edison Caldwell</td>\n      <td>Automated</td>\n      <td>0</td>\n      <td>NaN</td>\n      <td>NaN</td>\n      <td>...</td>\n      <td>NaN</td>\n      <td>False</td>\n      <td>Test Written</td>\n      <td>0</td>\n      <td>NaN</td>\n      <td>R1.33</td>\n      <td>NaN</td>\n      <td>TF277: Billing Services Access</td>\n      <td>0</td>\n      <td>US45400</td>\n    </tr>\n    <tr>\n      <th>30</th>\n      <td>TC12635</td>\n      <td>Mask Selector Gateway shall support updating t...</td>\n      <td>US32438: External Application Support</td>\n      <td>Acceptance</td>\n      <td>NaN</td>\n      <td>Edison Caldwell</td>\n      <td>Automated</td>\n      <td>0</td>\n      <td>NaN</td>\n      <td>NaN</td>\n      <td>...</td>\n      <td>NaN</td>\n      <td>False</td>\n      <td>Test Written</td>\n      <td>0</td>\n      <td>NaN</td>\n      <td>R1.33</td>\n      <td>NaN</td>\n      <td>TF277: Billing Services Access</td>\n      <td>0</td>\n      <td>US45400</td>\n    </tr>\n    <tr>\n      <th>31</th>\n      <td>TC12636</td>\n      <td>Mask Selector Gateway shall support user creation</td>\n      <td>US32438: External Application Support</td>\n      <td>Acceptance</td>\n      <td>NaN</td>\n      <td>Edison Caldwell</td>\n      <td>Automated</td>\n      <td>0</td>\n      <td>NaN</td>\n      <td>NaN</td>\n      <td>...</td>\n      <td>NaN</td>\n      <td>False</td>\n      <td>Test Written</td>\n      <td>0</td>\n      <td>NaN</td>\n      <td>R1.33</td>\n      <td>NaN</td>\n      <td>TF277: Billing Services Access</td>\n      <td>0</td>\n      <td>US45400</td>\n    </tr>\n    <tr>\n      <th>32</th>\n      <td>TC12637</td>\n      <td>A Mask Selector Clinician user shall have the ...</td>\n      <td>US1551: Permission Sets</td>\n      <td>Acceptance</td>\n      <td>NaN</td>\n      <td>Edison Caldwell</td>\n      <td>Automated</td>\n      <td>0</td>\n      <td>NaN</td>\n      <td>NaN</td>\n      <td>...</td>\n      <td>NaN</td>\n      <td>False</td>\n      <td>Test Written</td>\n      <td>0</td>\n      <td>NaN</td>\n      <td>R1.33</td>\n      <td>NaN</td>\n      <td>TF1327: Mask Selector</td>\n      <td>0</td>\n      <td>NaN</td>\n    </tr>\n    <tr>\n      <th>33</th>\n      <td>TC12638</td>\n      <td>A Mask Selector Clinical Administrator user sh...</td>\n      <td>US1551: Permission Sets</td>\n      <td>Acceptance</td>\n      <td>NaN</td>\n      <td>Edison Caldwell</td>\n      <td>Automated</td>\n      <td>0</td>\n      <td>NaN</td>\n      <td>NaN</td>\n      <td>...</td>\n      <td>NaN</td>\n      <td>False</td>\n      <td>Test Written</td>\n      <td>0</td>\n      <td>NaN</td>\n      <td>R1.33</td>\n      <td>NaN</td>\n      <td>TF1327: Mask Selector</td>\n      <td>0</td>\n      <td>NaN</td>\n    </tr>\n    <tr>\n      <th>34</th>\n      <td>TC12639</td>\n      <td>The system shall support creation of users for...</td>\n      <td>US32438: External Application Support</td>\n      <td>Acceptance</td>\n      <td>NaN</td>\n      <td>Edison Caldwell</td>\n      <td>Automated</td>\n      <td>0</td>\n      <td>NaN</td>\n      <td>NaN</td>\n      <td>...</td>\n      <td>NaN</td>\n      <td>False</td>\n      <td>Test Written</td>\n      <td>0</td>\n      <td>NaN</td>\n      <td>R1.33</td>\n      <td>NaN</td>\n      <td>TF1327: Mask Selector</td>\n      <td>0</td>\n      <td>NaN</td>\n    </tr>\n    <tr>\n      <th>35</th>\n      <td>TC12640</td>\n      <td>The system shall provide an ability to configu...</td>\n      <td>US7871: Feature Enablement</td>\n      <td>Acceptance</td>\n      <td>NaN</td>\n      <td>Edison Caldwell</td>\n      <td>Automated</td>\n      <td>0</td>\n      <td>NaN</td>\n      <td>NaN</td>\n      <td>...</td>\n      <td>NaN</td>\n      <td>False</td>\n      <td>Test Written</td>\n      <td>0</td>\n      <td>NaN</td>\n      <td>R1.33</td>\n      <td>NaN</td>\n      <td>TF1327: Mask Selector</td>\n      <td>0</td>\n      <td>NaN</td>\n    </tr>\n    <tr>\n      <th>36</th>\n      <td>TC12641</td>\n      <td>The system shall provide an ability to configu...</td>\n      <td>US7871: Feature Enablement</td>\n      <td>Acceptance</td>\n      <td>NaN</td>\n      <td>Edison Caldwell</td>\n      <td>Automated</td>\n      <td>0</td>\n      <td>NaN</td>\n      <td>NaN</td>\n      <td>...</td>\n      <td>NaN</td>\n      <td>False</td>\n      <td>Test Written</td>\n      <td>0</td>\n      <td>NaN</td>\n      <td>R1.33</td>\n      <td>NaN</td>\n      <td>TF1327: Mask Selector</td>\n      <td>0</td>\n      <td>NaN</td>\n    </tr>\n    <tr>\n      <th>37</th>\n      <td>TC12705</td>\n      <td>The platform shall support logging out the use...</td>\n      <td>US32438: External Application Support</td>\n      <td>Acceptance</td>\n      <td>NaN</td>\n      <td>Edison Caldwell</td>\n      <td>Automated</td>\n      <td>0</td>\n      <td>NaN</td>\n      <td>NaN</td>\n      <td>...</td>\n      <td>NaN</td>\n      <td>True</td>\n      <td>Test Written</td>\n      <td>0</td>\n      <td>NaN</td>\n      <td>R1.33</td>\n      <td>NaN</td>\n      <td>TF1348: Platform</td>\n      <td>0</td>\n      <td>NaN</td>\n    </tr>\n    <tr>\n      <th>38</th>\n      <td>TC12706</td>\n      <td>The platform shall allow the authorized users ...</td>\n      <td>US32438: External Application Support</td>\n      <td>Acceptance</td>\n      <td>NaN</td>\n      <td>Edison Caldwell</td>\n      <td>Automated</td>\n      <td>0</td>\n      <td>NaN</td>\n      <td>NaN</td>\n      <td>...</td>\n      <td>NaN</td>\n      <td>True</td>\n      <td>Test Written</td>\n      <td>0</td>\n      <td>NaN</td>\n      <td>R1.33</td>\n      <td>NaN</td>\n      <td>TF1348: Platform</td>\n      <td>0</td>\n      <td>NaN</td>\n    </tr>\n  </tbody>\n</table>\n<p>39 rows × 40 columns</p>\n</div>"
     },
     "metadata": {},
     "execution_count": 14
    }
   ],
   "source": [
    "df = read_rally_output(\"../data/Non Obsolete TC_1.33.csv\")\n",
    "df"
   ]
  },
  {
   "cell_type": "code",
   "execution_count": 6,
   "metadata": {},
   "outputs": [
    {
     "output_type": "execute_result",
     "data": {
      "text/plain": [
       "Index(['Formatted ID', 'Name', 'Work Product', 'Type', 'Priority', 'Owner',\n",
       "       'Method', 'Results', 'Last Build', 'Last Run', 'Application',\n",
       "       'Defect Status', 'Additional Detail', 'Display Color', 'Created By',\n",
       "       'Creation Date', 'Defects', 'Description', 'Discussion',\n",
       "       'Group/Project', 'Last Update Date', 'Modified Desc',\n",
       "       'Modified Name Text', 'New/Modified/Obs', 'Notes', 'Objective',\n",
       "       'Planned Feature', 'PRD Trace', 'Project', 'Ready', 'Risk', 'Risk CM',\n",
       "       'Status', 'Steps', 'Tags', 'TC Maj Release', 'TC PI', 'Test Folder',\n",
       "       'Test Sets', 'Use Case Trace'],\n",
       "      dtype='object')"
      ]
     },
     "metadata": {},
     "execution_count": 6
    }
   ],
   "source": [
    "# \"PRD Trace\", \"SRS ID (blank)\", \"Method\", \"Name\", \"V&V(blank)\", \"TC ID (SRS ID)\", \"Status\", \"TC Maj Release\", \"Description\", \"Created By\", \"Application\"\n",
    "df.columns"
   ]
  },
  {
   "cell_type": "code",
   "execution_count": 6,
   "metadata": {},
   "outputs": [],
   "source": [
    "old_col_names = ['Formatted ID', 'Name', 'Work Product', 'Type', 'Priority', 'Owner',\n",
    "       'Method', 'Results', 'Last Build', 'Last Run', 'Application',\n",
    "       'Defect Status', 'Additional Detail', 'Display Color', 'Created By',\n",
    "       'Creation Date', 'Defects', 'Description', 'Discussion',\n",
    "       'Group/Project', 'Last Update Date', 'Modified Desc',\n",
    "       'Modified Name Text', 'New/Modified/Obs', 'Notes', 'Objective',\n",
    "       'Planned Feature', 'PRD Trace', 'Project', 'Ready', 'Risk', 'Risk CM',\n",
    "       'Status', 'Steps', 'Tags', 'TC Maj Release', 'TC PI', 'Test Folder',\n",
    "       'Test Sets', 'Use Case Trace']\n",
    "\n",
    "new_col_names = [\"PRD\", \"SRS ID\", \"Method\", \"Test Name\", \"V&V Test Report\", \"TC ID\", \"Test Status\", \"Release\", \"Name\", \"Owner\", \"Application\"]"
   ]
  },
  {
   "cell_type": "code",
   "execution_count": 17,
   "metadata": {},
   "outputs": [
    {
     "output_type": "execute_result",
     "data": {
      "text/plain": [
       "   PRD Trace  SRS ID     Method  \\\n",
       "0    US44174     NaN  Automated   \n",
       "1     US1549     NaN  Automated   \n",
       "2     US3019     NaN     Manual   \n",
       "3     US3019     NaN     Manual   \n",
       "4     US2419     NaN  Automated   \n",
       "5     US6138     NaN     Manual   \n",
       "6     US4013     NaN  Automated   \n",
       "7    US43751     NaN     Manual   \n",
       "8    US43751     NaN     Manual   \n",
       "9    US43751     NaN     Manual   \n",
       "10   US43751     NaN     Manual   \n",
       "11    US1560     NaN     Manual   \n",
       "12   US44174     NaN     Manual   \n",
       "13    US1560     NaN     Manual   \n",
       "14    US1683     NaN  Automated   \n",
       "15    US1683     NaN  Automated   \n",
       "16   US45409     NaN  Automated   \n",
       "17   US45409     NaN  Automated   \n",
       "18   US45409     NaN  Automated   \n",
       "19   US44174     NaN     Manual   \n",
       "20   US44174     NaN     Manual   \n",
       "21   US44174     NaN     Manual   \n",
       "22   US44174     NaN     Manual   \n",
       "23   US44174     NaN     Manual   \n",
       "24   US44174     NaN     Manual   \n",
       "25   US44174     NaN     Manual   \n",
       "26   US44174     NaN     Manual   \n",
       "27   US32438     NaN  Automated   \n",
       "28   US32438     NaN  Automated   \n",
       "29   US32438     NaN  Automated   \n",
       "30   US32438     NaN  Automated   \n",
       "31   US32438     NaN  Automated   \n",
       "32    US1551     NaN  Automated   \n",
       "33    US1551     NaN  Automated   \n",
       "34   US32438     NaN  Automated   \n",
       "35    US7871     NaN  Automated   \n",
       "36    US7871     NaN  Automated   \n",
       "37   US32438     NaN  Automated   \n",
       "38   US32438     NaN  Automated   \n",
       "\n",
       "                                                 Name  V&V Test Report  \\\n",
       "0   The system shall support authorizing external ...              NaN   \n",
       "1   The system shall provide the ability to assign...              NaN   \n",
       "2   The system shall support generating performanc...              NaN   \n",
       "3   When the Performance Check report is viewed fr...              NaN   \n",
       "4   Only the priority, start of compliance period,...              NaN   \n",
       "5   The About page shall contain the correct elements              NaN   \n",
       "6   The system shall have the ability to display t...              NaN   \n",
       "7   The Patient Equipment Subscription shall conta...              NaN   \n",
       "8   The Patient Accessories Subscription shall con...              NaN   \n",
       "9   The Patient Task Notes Subscription shall cont...              NaN   \n",
       "10  The Patient Activity Notes Subscription shall ...              NaN   \n",
       "11  The system shall support syncing of assignment...              NaN   \n",
       "12  When a patient that doesn’t exist in EA is tra...              NaN   \n",
       "13  The system shall support syncing of manual res...              NaN   \n",
       "14  Compliance rules shall have a setting that rem...              NaN   \n",
       "15  When the \"\"auto dismiss not compliant tasks\"\" ...              NaN   \n",
       "16  The system shall provide a visual indicator fo...              NaN   \n",
       "17  The system shall display the mask suggestion r...              NaN   \n",
       "18  The system shall provide the ability to assign...              NaN   \n",
       "19  The system shall auto assign care team locatio...              NaN   \n",
       "20  The system shall present a confirmation to the...              NaN   \n",
       "21  When transferring a patient from an external l...              NaN   \n",
       "22  The system shall provide the ability for a use...              NaN   \n",
       "23  When a patient is transferred the system shall...              NaN   \n",
       "24  When a patient is transferred the system shall...              NaN   \n",
       "25  When transferring a patient, the system shall ...              NaN   \n",
       "26  The system shall record a patient transfer fro...              NaN   \n",
       "27  The Mask Selector Gateway shall support resett...              NaN   \n",
       "28  Mask Selector Gateway shall support retrieval ...              NaN   \n",
       "29  Mask Selector Gateway shall support providing ...              NaN   \n",
       "30  Mask Selector Gateway shall support updating t...              NaN   \n",
       "31  Mask Selector Gateway shall support user creation              NaN   \n",
       "32  A Mask Selector Clinician user shall have the ...              NaN   \n",
       "33  A Mask Selector Clinical Administrator user sh...              NaN   \n",
       "34  The system shall support creation of users for...              NaN   \n",
       "35  The system shall provide an ability to configu...              NaN   \n",
       "36  The system shall provide an ability to configu...              NaN   \n",
       "37  The platform shall support logging out the use...              NaN   \n",
       "38  The platform shall allow the authorized users ...              NaN   \n",
       "\n",
       "   Formatted ID        Status TC Maj Release  \\\n",
       "0         TC941  Test Written          R1.33   \n",
       "1        TC1325  Test Written          R1.33   \n",
       "2        TC1699  Test Written          R1.33   \n",
       "3        TC1713  Test Written          R1.33   \n",
       "4        TC2068  Test Written          R1.33   \n",
       "5        TC4226   Not Started          R1.33   \n",
       "6        TC2974  Test Written          R1.33   \n",
       "7       TC12574   Not Started          R1.33   \n",
       "8       TC12575   Not Started          R1.33   \n",
       "9       TC12576   Not Started          R1.33   \n",
       "10      TC12580   Not Started          R1.33   \n",
       "11      TC12058  Test Written          R1.33   \n",
       "12      TC12573  Test Written          R1.33   \n",
       "13      TC12060  Test Written          R1.33   \n",
       "14      TC12420   Not Started          R1.33   \n",
       "15      TC12551   Not Started          R1.33   \n",
       "16      TC12432   Not Started          R1.33   \n",
       "17      TC12433   Not Started          R1.33   \n",
       "18      TC12434   Not Started          R1.33   \n",
       "19      TC12324   Not Started          R1.33   \n",
       "20      TC12570   Not Started          R1.33   \n",
       "21      TC12549   Not Started          R1.33   \n",
       "22      TC12438   Not Started          R1.33   \n",
       "23      TC12439   Not Started          R1.33   \n",
       "24      TC12569   Not Started          R1.33   \n",
       "25      TC12642   Not Started          R1.33   \n",
       "26      TC12440   Not Started          R1.33   \n",
       "27      TC12632  Test Written          R1.33   \n",
       "28      TC12633  Test Written          R1.33   \n",
       "29      TC12634  Test Written          R1.33   \n",
       "30      TC12635  Test Written          R1.33   \n",
       "31      TC12636  Test Written          R1.33   \n",
       "32      TC12637  Test Written          R1.33   \n",
       "33      TC12638  Test Written          R1.33   \n",
       "34      TC12639  Test Written          R1.33   \n",
       "35      TC12640  Test Written          R1.33   \n",
       "36      TC12641  Test Written          R1.33   \n",
       "37      TC12705  Test Written          R1.33   \n",
       "38      TC12706  Test Written          R1.33   \n",
       "\n",
       "                                          Description          Created By  \\\n",
       "0   Details:Following access levels are supported:...           Anoof Ali   \n",
       "1   Following roles are available for assignment: ...           Anoof Ali   \n",
       "2                                                 NaN              Dave W   \n",
       "3                                                 NaN              Dave W   \n",
       "4   Defaults 4 hours per day 70 Percent 30 Consecu...             Susan F   \n",
       "5   The About page shall contain the following:- P...             Susan F   \n",
       "6   List of Agreements: Care Orchestrator Agreemen...           Anoof Ali   \n",
       "7   The Fields are external services, patient id, ...         james.landy   \n",
       "8   The Fields are external services, accessory As...         james.landy   \n",
       "9   The Fields are patient id, task id, noteUUID, ...         james.landy   \n",
       "10  The Fields are external services, patient id, ...         james.landy   \n",
       "11  Following are synchronized from CO to EA:  Fin...  Revathi Annamreddy   \n",
       "12                                                NaN     Andy Ostinowsky   \n",
       "13                       Applicable to all countries.  Revathi Annamreddy   \n",
       "14                                                NaN     Andy Ostinowsky   \n",
       "15                                                NaN     Andy Ostinowsky   \n",
       "16   Details:Following pages shall display the vis...     Andy Ostinowsky   \n",
       "17   Following is displayed on the equipment page ...     Andy Ostinowsky   \n",
       "18        A mask suggestions from Mask Selector ca...     Andy Ostinowsky   \n",
       "19  Details: Location from where the patient was t...     Andy Ostinowsky   \n",
       "20  Details: The following information shall be di...     Andy Ostinowsky   \n",
       "21                                                NaN     Andy Ostinowsky   \n",
       "22  Details: 'Transfer Patient' option is availabl...     Andy Ostinowsky   \n",
       "23  Patient data that will not be transferred to t...     Andy Ostinowsky   \n",
       "24  The following patient data will be transferred...     Andy Ostinowsky   \n",
       "25  Details: The user must have permission to the ...     Andy Ostinowsky   \n",
       "26   The following information shall be included i...     Andy Ostinowsky   \n",
       "27  Password reset shall be available:   When user...    Yogini Choudhari   \n",
       "28  The system shall retrieve Mask selector and no...    Yogini Choudhari   \n",
       "29  Following user demographics shall be provided ...    Yogini Choudhari   \n",
       "30  Following user demographics shall be able to b...    Yogini Choudhari   \n",
       "31  Following are the required fields for user cre...    Yogini Choudhari   \n",
       "32  Following capabilities shall be available to t...    Yogini Choudhari   \n",
       "33  Following capabilities shall be available to t...    Yogini Choudhari   \n",
       "34  When add-on feature for Mask Selector tablet i...    Yogini Choudhari   \n",
       "35  Add-on feature on an organization is available...    Yogini Choudhari   \n",
       "36  The global settings shall be available for int...    Yogini Choudhari   \n",
       "37  Details: The current session in use for the us...    Yogini Choudhari   \n",
       "38  Details: The following are the required fields...    Yogini Choudhari   \n",
       "\n",
       "         Application  \n",
       "0   Sapphire and PSC  \n",
       "1   Sapphire and PSC  \n",
       "2           Sapphire  \n",
       "3           Sapphire  \n",
       "4   Sapphire and PSC  \n",
       "5           Sapphire  \n",
       "6                PSC  \n",
       "7    Billing Service  \n",
       "8    Billing Service  \n",
       "9    Billing Service  \n",
       "10   Billing Service  \n",
       "11     Event Horizon  \n",
       "12     Event Horizon  \n",
       "13     Event Horizon  \n",
       "14  Sapphire and PSC  \n",
       "15  Sapphire and PSC  \n",
       "16          Sapphire  \n",
       "17          Sapphire  \n",
       "18          Sapphire  \n",
       "19          Sapphire  \n",
       "20          Sapphire  \n",
       "21          Sapphire  \n",
       "22          Sapphire  \n",
       "23          Sapphire  \n",
       "24          Sapphire  \n",
       "25          Sapphire  \n",
       "26          Sapphire  \n",
       "27   Billing Service  \n",
       "28   Billing Service  \n",
       "29   Billing Service  \n",
       "30   Billing Service  \n",
       "31   Billing Service  \n",
       "32          Sapphire  \n",
       "33          Sapphire  \n",
       "34  Sapphire and PSC  \n",
       "35  Sapphire and PSC  \n",
       "36  Sapphire and PSC  \n",
       "37          Sapphire  \n",
       "38          Sapphire  "
      ],
      "text/html": "<div>\n<style scoped>\n    .dataframe tbody tr th:only-of-type {\n        vertical-align: middle;\n    }\n\n    .dataframe tbody tr th {\n        vertical-align: top;\n    }\n\n    .dataframe thead th {\n        text-align: right;\n    }\n</style>\n<table border=\"1\" class=\"dataframe\">\n  <thead>\n    <tr style=\"text-align: right;\">\n      <th></th>\n      <th>PRD Trace</th>\n      <th>SRS ID</th>\n      <th>Method</th>\n      <th>Name</th>\n      <th>V&amp;V Test Report</th>\n      <th>Formatted ID</th>\n      <th>Status</th>\n      <th>TC Maj Release</th>\n      <th>Description</th>\n      <th>Created By</th>\n      <th>Application</th>\n    </tr>\n  </thead>\n  <tbody>\n    <tr>\n      <th>0</th>\n      <td>US44174</td>\n      <td>NaN</td>\n      <td>Automated</td>\n      <td>The system shall support authorizing external ...</td>\n      <td>NaN</td>\n      <td>TC941</td>\n      <td>Test Written</td>\n      <td>R1.33</td>\n      <td>Details:Following access levels are supported:...</td>\n      <td>Anoof Ali</td>\n      <td>Sapphire and PSC</td>\n    </tr>\n    <tr>\n      <th>1</th>\n      <td>US1549</td>\n      <td>NaN</td>\n      <td>Automated</td>\n      <td>The system shall provide the ability to assign...</td>\n      <td>NaN</td>\n      <td>TC1325</td>\n      <td>Test Written</td>\n      <td>R1.33</td>\n      <td>Following roles are available for assignment: ...</td>\n      <td>Anoof Ali</td>\n      <td>Sapphire and PSC</td>\n    </tr>\n    <tr>\n      <th>2</th>\n      <td>US3019</td>\n      <td>NaN</td>\n      <td>Manual</td>\n      <td>The system shall support generating performanc...</td>\n      <td>NaN</td>\n      <td>TC1699</td>\n      <td>Test Written</td>\n      <td>R1.33</td>\n      <td>NaN</td>\n      <td>Dave W</td>\n      <td>Sapphire</td>\n    </tr>\n    <tr>\n      <th>3</th>\n      <td>US3019</td>\n      <td>NaN</td>\n      <td>Manual</td>\n      <td>When the Performance Check report is viewed fr...</td>\n      <td>NaN</td>\n      <td>TC1713</td>\n      <td>Test Written</td>\n      <td>R1.33</td>\n      <td>NaN</td>\n      <td>Dave W</td>\n      <td>Sapphire</td>\n    </tr>\n    <tr>\n      <th>4</th>\n      <td>US2419</td>\n      <td>NaN</td>\n      <td>Automated</td>\n      <td>Only the priority, start of compliance period,...</td>\n      <td>NaN</td>\n      <td>TC2068</td>\n      <td>Test Written</td>\n      <td>R1.33</td>\n      <td>Defaults 4 hours per day 70 Percent 30 Consecu...</td>\n      <td>Susan F</td>\n      <td>Sapphire and PSC</td>\n    </tr>\n    <tr>\n      <th>5</th>\n      <td>US6138</td>\n      <td>NaN</td>\n      <td>Manual</td>\n      <td>The About page shall contain the correct elements</td>\n      <td>NaN</td>\n      <td>TC4226</td>\n      <td>Not Started</td>\n      <td>R1.33</td>\n      <td>The About page shall contain the following:- P...</td>\n      <td>Susan F</td>\n      <td>Sapphire</td>\n    </tr>\n    <tr>\n      <th>6</th>\n      <td>US4013</td>\n      <td>NaN</td>\n      <td>Automated</td>\n      <td>The system shall have the ability to display t...</td>\n      <td>NaN</td>\n      <td>TC2974</td>\n      <td>Test Written</td>\n      <td>R1.33</td>\n      <td>List of Agreements: Care Orchestrator Agreemen...</td>\n      <td>Anoof Ali</td>\n      <td>PSC</td>\n    </tr>\n    <tr>\n      <th>7</th>\n      <td>US43751</td>\n      <td>NaN</td>\n      <td>Manual</td>\n      <td>The Patient Equipment Subscription shall conta...</td>\n      <td>NaN</td>\n      <td>TC12574</td>\n      <td>Not Started</td>\n      <td>R1.33</td>\n      <td>The Fields are external services, patient id, ...</td>\n      <td>james.landy</td>\n      <td>Billing Service</td>\n    </tr>\n    <tr>\n      <th>8</th>\n      <td>US43751</td>\n      <td>NaN</td>\n      <td>Manual</td>\n      <td>The Patient Accessories Subscription shall con...</td>\n      <td>NaN</td>\n      <td>TC12575</td>\n      <td>Not Started</td>\n      <td>R1.33</td>\n      <td>The Fields are external services, accessory As...</td>\n      <td>james.landy</td>\n      <td>Billing Service</td>\n    </tr>\n    <tr>\n      <th>9</th>\n      <td>US43751</td>\n      <td>NaN</td>\n      <td>Manual</td>\n      <td>The Patient Task Notes Subscription shall cont...</td>\n      <td>NaN</td>\n      <td>TC12576</td>\n      <td>Not Started</td>\n      <td>R1.33</td>\n      <td>The Fields are patient id, task id, noteUUID, ...</td>\n      <td>james.landy</td>\n      <td>Billing Service</td>\n    </tr>\n    <tr>\n      <th>10</th>\n      <td>US43751</td>\n      <td>NaN</td>\n      <td>Manual</td>\n      <td>The Patient Activity Notes Subscription shall ...</td>\n      <td>NaN</td>\n      <td>TC12580</td>\n      <td>Not Started</td>\n      <td>R1.33</td>\n      <td>The Fields are external services, patient id, ...</td>\n      <td>james.landy</td>\n      <td>Billing Service</td>\n    </tr>\n    <tr>\n      <th>11</th>\n      <td>US1560</td>\n      <td>NaN</td>\n      <td>Manual</td>\n      <td>The system shall support syncing of assignment...</td>\n      <td>NaN</td>\n      <td>TC12058</td>\n      <td>Test Written</td>\n      <td>R1.33</td>\n      <td>Following are synchronized from CO to EA:  Fin...</td>\n      <td>Revathi Annamreddy</td>\n      <td>Event Horizon</td>\n    </tr>\n    <tr>\n      <th>12</th>\n      <td>US44174</td>\n      <td>NaN</td>\n      <td>Manual</td>\n      <td>When a patient that doesn’t exist in EA is tra...</td>\n      <td>NaN</td>\n      <td>TC12573</td>\n      <td>Test Written</td>\n      <td>R1.33</td>\n      <td>NaN</td>\n      <td>Andy Ostinowsky</td>\n      <td>Event Horizon</td>\n    </tr>\n    <tr>\n      <th>13</th>\n      <td>US1560</td>\n      <td>NaN</td>\n      <td>Manual</td>\n      <td>The system shall support syncing of manual res...</td>\n      <td>NaN</td>\n      <td>TC12060</td>\n      <td>Test Written</td>\n      <td>R1.33</td>\n      <td>Applicable to all countries.</td>\n      <td>Revathi Annamreddy</td>\n      <td>Event Horizon</td>\n    </tr>\n    <tr>\n      <th>14</th>\n      <td>US1683</td>\n      <td>NaN</td>\n      <td>Automated</td>\n      <td>Compliance rules shall have a setting that rem...</td>\n      <td>NaN</td>\n      <td>TC12420</td>\n      <td>Not Started</td>\n      <td>R1.33</td>\n      <td>NaN</td>\n      <td>Andy Ostinowsky</td>\n      <td>Sapphire and PSC</td>\n    </tr>\n    <tr>\n      <th>15</th>\n      <td>US1683</td>\n      <td>NaN</td>\n      <td>Automated</td>\n      <td>When the \"\"auto dismiss not compliant tasks\"\" ...</td>\n      <td>NaN</td>\n      <td>TC12551</td>\n      <td>Not Started</td>\n      <td>R1.33</td>\n      <td>NaN</td>\n      <td>Andy Ostinowsky</td>\n      <td>Sapphire and PSC</td>\n    </tr>\n    <tr>\n      <th>16</th>\n      <td>US45409</td>\n      <td>NaN</td>\n      <td>Automated</td>\n      <td>The system shall provide a visual indicator fo...</td>\n      <td>NaN</td>\n      <td>TC12432</td>\n      <td>Not Started</td>\n      <td>R1.33</td>\n      <td>Details:Following pages shall display the vis...</td>\n      <td>Andy Ostinowsky</td>\n      <td>Sapphire</td>\n    </tr>\n    <tr>\n      <th>17</th>\n      <td>US45409</td>\n      <td>NaN</td>\n      <td>Automated</td>\n      <td>The system shall display the mask suggestion r...</td>\n      <td>NaN</td>\n      <td>TC12433</td>\n      <td>Not Started</td>\n      <td>R1.33</td>\n      <td>Following is displayed on the equipment page ...</td>\n      <td>Andy Ostinowsky</td>\n      <td>Sapphire</td>\n    </tr>\n    <tr>\n      <th>18</th>\n      <td>US45409</td>\n      <td>NaN</td>\n      <td>Automated</td>\n      <td>The system shall provide the ability to assign...</td>\n      <td>NaN</td>\n      <td>TC12434</td>\n      <td>Not Started</td>\n      <td>R1.33</td>\n      <td>A mask suggestions from Mask Selector ca...</td>\n      <td>Andy Ostinowsky</td>\n      <td>Sapphire</td>\n    </tr>\n    <tr>\n      <th>19</th>\n      <td>US44174</td>\n      <td>NaN</td>\n      <td>Manual</td>\n      <td>The system shall auto assign care team locatio...</td>\n      <td>NaN</td>\n      <td>TC12324</td>\n      <td>Not Started</td>\n      <td>R1.33</td>\n      <td>Details: Location from where the patient was t...</td>\n      <td>Andy Ostinowsky</td>\n      <td>Sapphire</td>\n    </tr>\n    <tr>\n      <th>20</th>\n      <td>US44174</td>\n      <td>NaN</td>\n      <td>Manual</td>\n      <td>The system shall present a confirmation to the...</td>\n      <td>NaN</td>\n      <td>TC12570</td>\n      <td>Not Started</td>\n      <td>R1.33</td>\n      <td>Details: The following information shall be di...</td>\n      <td>Andy Ostinowsky</td>\n      <td>Sapphire</td>\n    </tr>\n    <tr>\n      <th>21</th>\n      <td>US44174</td>\n      <td>NaN</td>\n      <td>Manual</td>\n      <td>When transferring a patient from an external l...</td>\n      <td>NaN</td>\n      <td>TC12549</td>\n      <td>Not Started</td>\n      <td>R1.33</td>\n      <td>NaN</td>\n      <td>Andy Ostinowsky</td>\n      <td>Sapphire</td>\n    </tr>\n    <tr>\n      <th>22</th>\n      <td>US44174</td>\n      <td>NaN</td>\n      <td>Manual</td>\n      <td>The system shall provide the ability for a use...</td>\n      <td>NaN</td>\n      <td>TC12438</td>\n      <td>Not Started</td>\n      <td>R1.33</td>\n      <td>Details: 'Transfer Patient' option is availabl...</td>\n      <td>Andy Ostinowsky</td>\n      <td>Sapphire</td>\n    </tr>\n    <tr>\n      <th>23</th>\n      <td>US44174</td>\n      <td>NaN</td>\n      <td>Manual</td>\n      <td>When a patient is transferred the system shall...</td>\n      <td>NaN</td>\n      <td>TC12439</td>\n      <td>Not Started</td>\n      <td>R1.33</td>\n      <td>Patient data that will not be transferred to t...</td>\n      <td>Andy Ostinowsky</td>\n      <td>Sapphire</td>\n    </tr>\n    <tr>\n      <th>24</th>\n      <td>US44174</td>\n      <td>NaN</td>\n      <td>Manual</td>\n      <td>When a patient is transferred the system shall...</td>\n      <td>NaN</td>\n      <td>TC12569</td>\n      <td>Not Started</td>\n      <td>R1.33</td>\n      <td>The following patient data will be transferred...</td>\n      <td>Andy Ostinowsky</td>\n      <td>Sapphire</td>\n    </tr>\n    <tr>\n      <th>25</th>\n      <td>US44174</td>\n      <td>NaN</td>\n      <td>Manual</td>\n      <td>When transferring a patient, the system shall ...</td>\n      <td>NaN</td>\n      <td>TC12642</td>\n      <td>Not Started</td>\n      <td>R1.33</td>\n      <td>Details: The user must have permission to the ...</td>\n      <td>Andy Ostinowsky</td>\n      <td>Sapphire</td>\n    </tr>\n    <tr>\n      <th>26</th>\n      <td>US44174</td>\n      <td>NaN</td>\n      <td>Manual</td>\n      <td>The system shall record a patient transfer fro...</td>\n      <td>NaN</td>\n      <td>TC12440</td>\n      <td>Not Started</td>\n      <td>R1.33</td>\n      <td>The following information shall be included i...</td>\n      <td>Andy Ostinowsky</td>\n      <td>Sapphire</td>\n    </tr>\n    <tr>\n      <th>27</th>\n      <td>US32438</td>\n      <td>NaN</td>\n      <td>Automated</td>\n      <td>The Mask Selector Gateway shall support resett...</td>\n      <td>NaN</td>\n      <td>TC12632</td>\n      <td>Test Written</td>\n      <td>R1.33</td>\n      <td>Password reset shall be available:   When user...</td>\n      <td>Yogini Choudhari</td>\n      <td>Billing Service</td>\n    </tr>\n    <tr>\n      <th>28</th>\n      <td>US32438</td>\n      <td>NaN</td>\n      <td>Automated</td>\n      <td>Mask Selector Gateway shall support retrieval ...</td>\n      <td>NaN</td>\n      <td>TC12633</td>\n      <td>Test Written</td>\n      <td>R1.33</td>\n      <td>The system shall retrieve Mask selector and no...</td>\n      <td>Yogini Choudhari</td>\n      <td>Billing Service</td>\n    </tr>\n    <tr>\n      <th>29</th>\n      <td>US32438</td>\n      <td>NaN</td>\n      <td>Automated</td>\n      <td>Mask Selector Gateway shall support providing ...</td>\n      <td>NaN</td>\n      <td>TC12634</td>\n      <td>Test Written</td>\n      <td>R1.33</td>\n      <td>Following user demographics shall be provided ...</td>\n      <td>Yogini Choudhari</td>\n      <td>Billing Service</td>\n    </tr>\n    <tr>\n      <th>30</th>\n      <td>US32438</td>\n      <td>NaN</td>\n      <td>Automated</td>\n      <td>Mask Selector Gateway shall support updating t...</td>\n      <td>NaN</td>\n      <td>TC12635</td>\n      <td>Test Written</td>\n      <td>R1.33</td>\n      <td>Following user demographics shall be able to b...</td>\n      <td>Yogini Choudhari</td>\n      <td>Billing Service</td>\n    </tr>\n    <tr>\n      <th>31</th>\n      <td>US32438</td>\n      <td>NaN</td>\n      <td>Automated</td>\n      <td>Mask Selector Gateway shall support user creation</td>\n      <td>NaN</td>\n      <td>TC12636</td>\n      <td>Test Written</td>\n      <td>R1.33</td>\n      <td>Following are the required fields for user cre...</td>\n      <td>Yogini Choudhari</td>\n      <td>Billing Service</td>\n    </tr>\n    <tr>\n      <th>32</th>\n      <td>US1551</td>\n      <td>NaN</td>\n      <td>Automated</td>\n      <td>A Mask Selector Clinician user shall have the ...</td>\n      <td>NaN</td>\n      <td>TC12637</td>\n      <td>Test Written</td>\n      <td>R1.33</td>\n      <td>Following capabilities shall be available to t...</td>\n      <td>Yogini Choudhari</td>\n      <td>Sapphire</td>\n    </tr>\n    <tr>\n      <th>33</th>\n      <td>US1551</td>\n      <td>NaN</td>\n      <td>Automated</td>\n      <td>A Mask Selector Clinical Administrator user sh...</td>\n      <td>NaN</td>\n      <td>TC12638</td>\n      <td>Test Written</td>\n      <td>R1.33</td>\n      <td>Following capabilities shall be available to t...</td>\n      <td>Yogini Choudhari</td>\n      <td>Sapphire</td>\n    </tr>\n    <tr>\n      <th>34</th>\n      <td>US32438</td>\n      <td>NaN</td>\n      <td>Automated</td>\n      <td>The system shall support creation of users for...</td>\n      <td>NaN</td>\n      <td>TC12639</td>\n      <td>Test Written</td>\n      <td>R1.33</td>\n      <td>When add-on feature for Mask Selector tablet i...</td>\n      <td>Yogini Choudhari</td>\n      <td>Sapphire and PSC</td>\n    </tr>\n    <tr>\n      <th>35</th>\n      <td>US7871</td>\n      <td>NaN</td>\n      <td>Automated</td>\n      <td>The system shall provide an ability to configu...</td>\n      <td>NaN</td>\n      <td>TC12640</td>\n      <td>Test Written</td>\n      <td>R1.33</td>\n      <td>Add-on feature on an organization is available...</td>\n      <td>Yogini Choudhari</td>\n      <td>Sapphire and PSC</td>\n    </tr>\n    <tr>\n      <th>36</th>\n      <td>US7871</td>\n      <td>NaN</td>\n      <td>Automated</td>\n      <td>The system shall provide an ability to configu...</td>\n      <td>NaN</td>\n      <td>TC12641</td>\n      <td>Test Written</td>\n      <td>R1.33</td>\n      <td>The global settings shall be available for int...</td>\n      <td>Yogini Choudhari</td>\n      <td>Sapphire and PSC</td>\n    </tr>\n    <tr>\n      <th>37</th>\n      <td>US32438</td>\n      <td>NaN</td>\n      <td>Automated</td>\n      <td>The platform shall support logging out the use...</td>\n      <td>NaN</td>\n      <td>TC12705</td>\n      <td>Test Written</td>\n      <td>R1.33</td>\n      <td>Details: The current session in use for the us...</td>\n      <td>Yogini Choudhari</td>\n      <td>Sapphire</td>\n    </tr>\n    <tr>\n      <th>38</th>\n      <td>US32438</td>\n      <td>NaN</td>\n      <td>Automated</td>\n      <td>The platform shall allow the authorized users ...</td>\n      <td>NaN</td>\n      <td>TC12706</td>\n      <td>Test Written</td>\n      <td>R1.33</td>\n      <td>Details: The following are the required fields...</td>\n      <td>Yogini Choudhari</td>\n      <td>Sapphire</td>\n    </tr>\n  </tbody>\n</table>\n</div>"
     },
     "metadata": {},
     "execution_count": 17
    }
   ],
   "source": [
    "reorder = [\"PRD Trace\", \"Method\", \"Name\", \"Formatted ID\", \"Status\", \"TC Maj Release\", \"Description\", \"Created By\", \"Application\"]\n",
    "\n",
    "# Get the columns in the desired output order\n",
    "reordered = df[reorder]\n",
    "\n",
    "# TODO: Fix logic so that these columns are correctly populated. for now, blank columns filled with 'NaN'\n",
    "reordered.insert(loc=1, column=\"SRS ID\", value=np.nan)\n",
    "reordered.insert(loc=4, column=\"V&V Test Report\", value=np.nan)\n",
    "reordered"
   ]
  },
  {
   "cell_type": "code",
   "execution_count": 19,
   "metadata": {},
   "outputs": [
    {
     "output_type": "execute_result",
     "data": {
      "text/plain": [
       "        PRD  SRS ID     Method  \\\n",
       "0   US44174     NaN  Automated   \n",
       "1    US1549     NaN  Automated   \n",
       "2    US3019     NaN     Manual   \n",
       "3    US3019     NaN     Manual   \n",
       "4    US2419     NaN  Automated   \n",
       "5    US6138     NaN     Manual   \n",
       "6    US4013     NaN  Automated   \n",
       "7   US43751     NaN     Manual   \n",
       "8   US43751     NaN     Manual   \n",
       "9   US43751     NaN     Manual   \n",
       "10  US43751     NaN     Manual   \n",
       "11   US1560     NaN     Manual   \n",
       "12  US44174     NaN     Manual   \n",
       "13   US1560     NaN     Manual   \n",
       "14   US1683     NaN  Automated   \n",
       "15   US1683     NaN  Automated   \n",
       "16  US45409     NaN  Automated   \n",
       "17  US45409     NaN  Automated   \n",
       "18  US45409     NaN  Automated   \n",
       "19  US44174     NaN     Manual   \n",
       "20  US44174     NaN     Manual   \n",
       "21  US44174     NaN     Manual   \n",
       "22  US44174     NaN     Manual   \n",
       "23  US44174     NaN     Manual   \n",
       "24  US44174     NaN     Manual   \n",
       "25  US44174     NaN     Manual   \n",
       "26  US44174     NaN     Manual   \n",
       "27  US32438     NaN  Automated   \n",
       "28  US32438     NaN  Automated   \n",
       "29  US32438     NaN  Automated   \n",
       "30  US32438     NaN  Automated   \n",
       "31  US32438     NaN  Automated   \n",
       "32   US1551     NaN  Automated   \n",
       "33   US1551     NaN  Automated   \n",
       "34  US32438     NaN  Automated   \n",
       "35   US7871     NaN  Automated   \n",
       "36   US7871     NaN  Automated   \n",
       "37  US32438     NaN  Automated   \n",
       "38  US32438     NaN  Automated   \n",
       "\n",
       "                                            Test Name  V&V Test Report  \\\n",
       "0   The system shall support authorizing external ...              NaN   \n",
       "1   The system shall provide the ability to assign...              NaN   \n",
       "2   The system shall support generating performanc...              NaN   \n",
       "3   When the Performance Check report is viewed fr...              NaN   \n",
       "4   Only the priority, start of compliance period,...              NaN   \n",
       "5   The About page shall contain the correct elements              NaN   \n",
       "6   The system shall have the ability to display t...              NaN   \n",
       "7   The Patient Equipment Subscription shall conta...              NaN   \n",
       "8   The Patient Accessories Subscription shall con...              NaN   \n",
       "9   The Patient Task Notes Subscription shall cont...              NaN   \n",
       "10  The Patient Activity Notes Subscription shall ...              NaN   \n",
       "11  The system shall support syncing of assignment...              NaN   \n",
       "12  When a patient that doesn’t exist in EA is tra...              NaN   \n",
       "13  The system shall support syncing of manual res...              NaN   \n",
       "14  Compliance rules shall have a setting that rem...              NaN   \n",
       "15  When the \"\"auto dismiss not compliant tasks\"\" ...              NaN   \n",
       "16  The system shall provide a visual indicator fo...              NaN   \n",
       "17  The system shall display the mask suggestion r...              NaN   \n",
       "18  The system shall provide the ability to assign...              NaN   \n",
       "19  The system shall auto assign care team locatio...              NaN   \n",
       "20  The system shall present a confirmation to the...              NaN   \n",
       "21  When transferring a patient from an external l...              NaN   \n",
       "22  The system shall provide the ability for a use...              NaN   \n",
       "23  When a patient is transferred the system shall...              NaN   \n",
       "24  When a patient is transferred the system shall...              NaN   \n",
       "25  When transferring a patient, the system shall ...              NaN   \n",
       "26  The system shall record a patient transfer fro...              NaN   \n",
       "27  The Mask Selector Gateway shall support resett...              NaN   \n",
       "28  Mask Selector Gateway shall support retrieval ...              NaN   \n",
       "29  Mask Selector Gateway shall support providing ...              NaN   \n",
       "30  Mask Selector Gateway shall support updating t...              NaN   \n",
       "31  Mask Selector Gateway shall support user creation              NaN   \n",
       "32  A Mask Selector Clinician user shall have the ...              NaN   \n",
       "33  A Mask Selector Clinical Administrator user sh...              NaN   \n",
       "34  The system shall support creation of users for...              NaN   \n",
       "35  The system shall provide an ability to configu...              NaN   \n",
       "36  The system shall provide an ability to configu...              NaN   \n",
       "37  The platform shall support logging out the use...              NaN   \n",
       "38  The platform shall allow the authorized users ...              NaN   \n",
       "\n",
       "      TC ID   Test Status Release  \\\n",
       "0     TC941  Test Written   R1.33   \n",
       "1    TC1325  Test Written   R1.33   \n",
       "2    TC1699  Test Written   R1.33   \n",
       "3    TC1713  Test Written   R1.33   \n",
       "4    TC2068  Test Written   R1.33   \n",
       "5    TC4226   Not Started   R1.33   \n",
       "6    TC2974  Test Written   R1.33   \n",
       "7   TC12574   Not Started   R1.33   \n",
       "8   TC12575   Not Started   R1.33   \n",
       "9   TC12576   Not Started   R1.33   \n",
       "10  TC12580   Not Started   R1.33   \n",
       "11  TC12058  Test Written   R1.33   \n",
       "12  TC12573  Test Written   R1.33   \n",
       "13  TC12060  Test Written   R1.33   \n",
       "14  TC12420   Not Started   R1.33   \n",
       "15  TC12551   Not Started   R1.33   \n",
       "16  TC12432   Not Started   R1.33   \n",
       "17  TC12433   Not Started   R1.33   \n",
       "18  TC12434   Not Started   R1.33   \n",
       "19  TC12324   Not Started   R1.33   \n",
       "20  TC12570   Not Started   R1.33   \n",
       "21  TC12549   Not Started   R1.33   \n",
       "22  TC12438   Not Started   R1.33   \n",
       "23  TC12439   Not Started   R1.33   \n",
       "24  TC12569   Not Started   R1.33   \n",
       "25  TC12642   Not Started   R1.33   \n",
       "26  TC12440   Not Started   R1.33   \n",
       "27  TC12632  Test Written   R1.33   \n",
       "28  TC12633  Test Written   R1.33   \n",
       "29  TC12634  Test Written   R1.33   \n",
       "30  TC12635  Test Written   R1.33   \n",
       "31  TC12636  Test Written   R1.33   \n",
       "32  TC12637  Test Written   R1.33   \n",
       "33  TC12638  Test Written   R1.33   \n",
       "34  TC12639  Test Written   R1.33   \n",
       "35  TC12640  Test Written   R1.33   \n",
       "36  TC12641  Test Written   R1.33   \n",
       "37  TC12705  Test Written   R1.33   \n",
       "38  TC12706  Test Written   R1.33   \n",
       "\n",
       "                                                 Name               Owner  \\\n",
       "0   Details:Following access levels are supported:...           Anoof Ali   \n",
       "1   Following roles are available for assignment: ...           Anoof Ali   \n",
       "2                                                 NaN              Dave W   \n",
       "3                                                 NaN              Dave W   \n",
       "4   Defaults 4 hours per day 70 Percent 30 Consecu...             Susan F   \n",
       "5   The About page shall contain the following:- P...             Susan F   \n",
       "6   List of Agreements: Care Orchestrator Agreemen...           Anoof Ali   \n",
       "7   The Fields are external services, patient id, ...         james.landy   \n",
       "8   The Fields are external services, accessory As...         james.landy   \n",
       "9   The Fields are patient id, task id, noteUUID, ...         james.landy   \n",
       "10  The Fields are external services, patient id, ...         james.landy   \n",
       "11  Following are synchronized from CO to EA:  Fin...  Revathi Annamreddy   \n",
       "12                                                NaN     Andy Ostinowsky   \n",
       "13                       Applicable to all countries.  Revathi Annamreddy   \n",
       "14                                                NaN     Andy Ostinowsky   \n",
       "15                                                NaN     Andy Ostinowsky   \n",
       "16   Details:Following pages shall display the vis...     Andy Ostinowsky   \n",
       "17   Following is displayed on the equipment page ...     Andy Ostinowsky   \n",
       "18        A mask suggestions from Mask Selector ca...     Andy Ostinowsky   \n",
       "19  Details: Location from where the patient was t...     Andy Ostinowsky   \n",
       "20  Details: The following information shall be di...     Andy Ostinowsky   \n",
       "21                                                NaN     Andy Ostinowsky   \n",
       "22  Details: 'Transfer Patient' option is availabl...     Andy Ostinowsky   \n",
       "23  Patient data that will not be transferred to t...     Andy Ostinowsky   \n",
       "24  The following patient data will be transferred...     Andy Ostinowsky   \n",
       "25  Details: The user must have permission to the ...     Andy Ostinowsky   \n",
       "26   The following information shall be included i...     Andy Ostinowsky   \n",
       "27  Password reset shall be available:   When user...    Yogini Choudhari   \n",
       "28  The system shall retrieve Mask selector and no...    Yogini Choudhari   \n",
       "29  Following user demographics shall be provided ...    Yogini Choudhari   \n",
       "30  Following user demographics shall be able to b...    Yogini Choudhari   \n",
       "31  Following are the required fields for user cre...    Yogini Choudhari   \n",
       "32  Following capabilities shall be available to t...    Yogini Choudhari   \n",
       "33  Following capabilities shall be available to t...    Yogini Choudhari   \n",
       "34  When add-on feature for Mask Selector tablet i...    Yogini Choudhari   \n",
       "35  Add-on feature on an organization is available...    Yogini Choudhari   \n",
       "36  The global settings shall be available for int...    Yogini Choudhari   \n",
       "37  Details: The current session in use for the us...    Yogini Choudhari   \n",
       "38  Details: The following are the required fields...    Yogini Choudhari   \n",
       "\n",
       "         Application  \n",
       "0   Sapphire and PSC  \n",
       "1   Sapphire and PSC  \n",
       "2           Sapphire  \n",
       "3           Sapphire  \n",
       "4   Sapphire and PSC  \n",
       "5           Sapphire  \n",
       "6                PSC  \n",
       "7    Billing Service  \n",
       "8    Billing Service  \n",
       "9    Billing Service  \n",
       "10   Billing Service  \n",
       "11     Event Horizon  \n",
       "12     Event Horizon  \n",
       "13     Event Horizon  \n",
       "14  Sapphire and PSC  \n",
       "15  Sapphire and PSC  \n",
       "16          Sapphire  \n",
       "17          Sapphire  \n",
       "18          Sapphire  \n",
       "19          Sapphire  \n",
       "20          Sapphire  \n",
       "21          Sapphire  \n",
       "22          Sapphire  \n",
       "23          Sapphire  \n",
       "24          Sapphire  \n",
       "25          Sapphire  \n",
       "26          Sapphire  \n",
       "27   Billing Service  \n",
       "28   Billing Service  \n",
       "29   Billing Service  \n",
       "30   Billing Service  \n",
       "31   Billing Service  \n",
       "32          Sapphire  \n",
       "33          Sapphire  \n",
       "34  Sapphire and PSC  \n",
       "35  Sapphire and PSC  \n",
       "36  Sapphire and PSC  \n",
       "37          Sapphire  \n",
       "38          Sapphire  "
      ],
      "text/html": "<div>\n<style scoped>\n    .dataframe tbody tr th:only-of-type {\n        vertical-align: middle;\n    }\n\n    .dataframe tbody tr th {\n        vertical-align: top;\n    }\n\n    .dataframe thead th {\n        text-align: right;\n    }\n</style>\n<table border=\"1\" class=\"dataframe\">\n  <thead>\n    <tr style=\"text-align: right;\">\n      <th></th>\n      <th>PRD</th>\n      <th>SRS ID</th>\n      <th>Method</th>\n      <th>Test Name</th>\n      <th>V&amp;V Test Report</th>\n      <th>TC ID</th>\n      <th>Test Status</th>\n      <th>Release</th>\n      <th>Name</th>\n      <th>Owner</th>\n      <th>Application</th>\n    </tr>\n  </thead>\n  <tbody>\n    <tr>\n      <th>0</th>\n      <td>US44174</td>\n      <td>NaN</td>\n      <td>Automated</td>\n      <td>The system shall support authorizing external ...</td>\n      <td>NaN</td>\n      <td>TC941</td>\n      <td>Test Written</td>\n      <td>R1.33</td>\n      <td>Details:Following access levels are supported:...</td>\n      <td>Anoof Ali</td>\n      <td>Sapphire and PSC</td>\n    </tr>\n    <tr>\n      <th>1</th>\n      <td>US1549</td>\n      <td>NaN</td>\n      <td>Automated</td>\n      <td>The system shall provide the ability to assign...</td>\n      <td>NaN</td>\n      <td>TC1325</td>\n      <td>Test Written</td>\n      <td>R1.33</td>\n      <td>Following roles are available for assignment: ...</td>\n      <td>Anoof Ali</td>\n      <td>Sapphire and PSC</td>\n    </tr>\n    <tr>\n      <th>2</th>\n      <td>US3019</td>\n      <td>NaN</td>\n      <td>Manual</td>\n      <td>The system shall support generating performanc...</td>\n      <td>NaN</td>\n      <td>TC1699</td>\n      <td>Test Written</td>\n      <td>R1.33</td>\n      <td>NaN</td>\n      <td>Dave W</td>\n      <td>Sapphire</td>\n    </tr>\n    <tr>\n      <th>3</th>\n      <td>US3019</td>\n      <td>NaN</td>\n      <td>Manual</td>\n      <td>When the Performance Check report is viewed fr...</td>\n      <td>NaN</td>\n      <td>TC1713</td>\n      <td>Test Written</td>\n      <td>R1.33</td>\n      <td>NaN</td>\n      <td>Dave W</td>\n      <td>Sapphire</td>\n    </tr>\n    <tr>\n      <th>4</th>\n      <td>US2419</td>\n      <td>NaN</td>\n      <td>Automated</td>\n      <td>Only the priority, start of compliance period,...</td>\n      <td>NaN</td>\n      <td>TC2068</td>\n      <td>Test Written</td>\n      <td>R1.33</td>\n      <td>Defaults 4 hours per day 70 Percent 30 Consecu...</td>\n      <td>Susan F</td>\n      <td>Sapphire and PSC</td>\n    </tr>\n    <tr>\n      <th>5</th>\n      <td>US6138</td>\n      <td>NaN</td>\n      <td>Manual</td>\n      <td>The About page shall contain the correct elements</td>\n      <td>NaN</td>\n      <td>TC4226</td>\n      <td>Not Started</td>\n      <td>R1.33</td>\n      <td>The About page shall contain the following:- P...</td>\n      <td>Susan F</td>\n      <td>Sapphire</td>\n    </tr>\n    <tr>\n      <th>6</th>\n      <td>US4013</td>\n      <td>NaN</td>\n      <td>Automated</td>\n      <td>The system shall have the ability to display t...</td>\n      <td>NaN</td>\n      <td>TC2974</td>\n      <td>Test Written</td>\n      <td>R1.33</td>\n      <td>List of Agreements: Care Orchestrator Agreemen...</td>\n      <td>Anoof Ali</td>\n      <td>PSC</td>\n    </tr>\n    <tr>\n      <th>7</th>\n      <td>US43751</td>\n      <td>NaN</td>\n      <td>Manual</td>\n      <td>The Patient Equipment Subscription shall conta...</td>\n      <td>NaN</td>\n      <td>TC12574</td>\n      <td>Not Started</td>\n      <td>R1.33</td>\n      <td>The Fields are external services, patient id, ...</td>\n      <td>james.landy</td>\n      <td>Billing Service</td>\n    </tr>\n    <tr>\n      <th>8</th>\n      <td>US43751</td>\n      <td>NaN</td>\n      <td>Manual</td>\n      <td>The Patient Accessories Subscription shall con...</td>\n      <td>NaN</td>\n      <td>TC12575</td>\n      <td>Not Started</td>\n      <td>R1.33</td>\n      <td>The Fields are external services, accessory As...</td>\n      <td>james.landy</td>\n      <td>Billing Service</td>\n    </tr>\n    <tr>\n      <th>9</th>\n      <td>US43751</td>\n      <td>NaN</td>\n      <td>Manual</td>\n      <td>The Patient Task Notes Subscription shall cont...</td>\n      <td>NaN</td>\n      <td>TC12576</td>\n      <td>Not Started</td>\n      <td>R1.33</td>\n      <td>The Fields are patient id, task id, noteUUID, ...</td>\n      <td>james.landy</td>\n      <td>Billing Service</td>\n    </tr>\n    <tr>\n      <th>10</th>\n      <td>US43751</td>\n      <td>NaN</td>\n      <td>Manual</td>\n      <td>The Patient Activity Notes Subscription shall ...</td>\n      <td>NaN</td>\n      <td>TC12580</td>\n      <td>Not Started</td>\n      <td>R1.33</td>\n      <td>The Fields are external services, patient id, ...</td>\n      <td>james.landy</td>\n      <td>Billing Service</td>\n    </tr>\n    <tr>\n      <th>11</th>\n      <td>US1560</td>\n      <td>NaN</td>\n      <td>Manual</td>\n      <td>The system shall support syncing of assignment...</td>\n      <td>NaN</td>\n      <td>TC12058</td>\n      <td>Test Written</td>\n      <td>R1.33</td>\n      <td>Following are synchronized from CO to EA:  Fin...</td>\n      <td>Revathi Annamreddy</td>\n      <td>Event Horizon</td>\n    </tr>\n    <tr>\n      <th>12</th>\n      <td>US44174</td>\n      <td>NaN</td>\n      <td>Manual</td>\n      <td>When a patient that doesn’t exist in EA is tra...</td>\n      <td>NaN</td>\n      <td>TC12573</td>\n      <td>Test Written</td>\n      <td>R1.33</td>\n      <td>NaN</td>\n      <td>Andy Ostinowsky</td>\n      <td>Event Horizon</td>\n    </tr>\n    <tr>\n      <th>13</th>\n      <td>US1560</td>\n      <td>NaN</td>\n      <td>Manual</td>\n      <td>The system shall support syncing of manual res...</td>\n      <td>NaN</td>\n      <td>TC12060</td>\n      <td>Test Written</td>\n      <td>R1.33</td>\n      <td>Applicable to all countries.</td>\n      <td>Revathi Annamreddy</td>\n      <td>Event Horizon</td>\n    </tr>\n    <tr>\n      <th>14</th>\n      <td>US1683</td>\n      <td>NaN</td>\n      <td>Automated</td>\n      <td>Compliance rules shall have a setting that rem...</td>\n      <td>NaN</td>\n      <td>TC12420</td>\n      <td>Not Started</td>\n      <td>R1.33</td>\n      <td>NaN</td>\n      <td>Andy Ostinowsky</td>\n      <td>Sapphire and PSC</td>\n    </tr>\n    <tr>\n      <th>15</th>\n      <td>US1683</td>\n      <td>NaN</td>\n      <td>Automated</td>\n      <td>When the \"\"auto dismiss not compliant tasks\"\" ...</td>\n      <td>NaN</td>\n      <td>TC12551</td>\n      <td>Not Started</td>\n      <td>R1.33</td>\n      <td>NaN</td>\n      <td>Andy Ostinowsky</td>\n      <td>Sapphire and PSC</td>\n    </tr>\n    <tr>\n      <th>16</th>\n      <td>US45409</td>\n      <td>NaN</td>\n      <td>Automated</td>\n      <td>The system shall provide a visual indicator fo...</td>\n      <td>NaN</td>\n      <td>TC12432</td>\n      <td>Not Started</td>\n      <td>R1.33</td>\n      <td>Details:Following pages shall display the vis...</td>\n      <td>Andy Ostinowsky</td>\n      <td>Sapphire</td>\n    </tr>\n    <tr>\n      <th>17</th>\n      <td>US45409</td>\n      <td>NaN</td>\n      <td>Automated</td>\n      <td>The system shall display the mask suggestion r...</td>\n      <td>NaN</td>\n      <td>TC12433</td>\n      <td>Not Started</td>\n      <td>R1.33</td>\n      <td>Following is displayed on the equipment page ...</td>\n      <td>Andy Ostinowsky</td>\n      <td>Sapphire</td>\n    </tr>\n    <tr>\n      <th>18</th>\n      <td>US45409</td>\n      <td>NaN</td>\n      <td>Automated</td>\n      <td>The system shall provide the ability to assign...</td>\n      <td>NaN</td>\n      <td>TC12434</td>\n      <td>Not Started</td>\n      <td>R1.33</td>\n      <td>A mask suggestions from Mask Selector ca...</td>\n      <td>Andy Ostinowsky</td>\n      <td>Sapphire</td>\n    </tr>\n    <tr>\n      <th>19</th>\n      <td>US44174</td>\n      <td>NaN</td>\n      <td>Manual</td>\n      <td>The system shall auto assign care team locatio...</td>\n      <td>NaN</td>\n      <td>TC12324</td>\n      <td>Not Started</td>\n      <td>R1.33</td>\n      <td>Details: Location from where the patient was t...</td>\n      <td>Andy Ostinowsky</td>\n      <td>Sapphire</td>\n    </tr>\n    <tr>\n      <th>20</th>\n      <td>US44174</td>\n      <td>NaN</td>\n      <td>Manual</td>\n      <td>The system shall present a confirmation to the...</td>\n      <td>NaN</td>\n      <td>TC12570</td>\n      <td>Not Started</td>\n      <td>R1.33</td>\n      <td>Details: The following information shall be di...</td>\n      <td>Andy Ostinowsky</td>\n      <td>Sapphire</td>\n    </tr>\n    <tr>\n      <th>21</th>\n      <td>US44174</td>\n      <td>NaN</td>\n      <td>Manual</td>\n      <td>When transferring a patient from an external l...</td>\n      <td>NaN</td>\n      <td>TC12549</td>\n      <td>Not Started</td>\n      <td>R1.33</td>\n      <td>NaN</td>\n      <td>Andy Ostinowsky</td>\n      <td>Sapphire</td>\n    </tr>\n    <tr>\n      <th>22</th>\n      <td>US44174</td>\n      <td>NaN</td>\n      <td>Manual</td>\n      <td>The system shall provide the ability for a use...</td>\n      <td>NaN</td>\n      <td>TC12438</td>\n      <td>Not Started</td>\n      <td>R1.33</td>\n      <td>Details: 'Transfer Patient' option is availabl...</td>\n      <td>Andy Ostinowsky</td>\n      <td>Sapphire</td>\n    </tr>\n    <tr>\n      <th>23</th>\n      <td>US44174</td>\n      <td>NaN</td>\n      <td>Manual</td>\n      <td>When a patient is transferred the system shall...</td>\n      <td>NaN</td>\n      <td>TC12439</td>\n      <td>Not Started</td>\n      <td>R1.33</td>\n      <td>Patient data that will not be transferred to t...</td>\n      <td>Andy Ostinowsky</td>\n      <td>Sapphire</td>\n    </tr>\n    <tr>\n      <th>24</th>\n      <td>US44174</td>\n      <td>NaN</td>\n      <td>Manual</td>\n      <td>When a patient is transferred the system shall...</td>\n      <td>NaN</td>\n      <td>TC12569</td>\n      <td>Not Started</td>\n      <td>R1.33</td>\n      <td>The following patient data will be transferred...</td>\n      <td>Andy Ostinowsky</td>\n      <td>Sapphire</td>\n    </tr>\n    <tr>\n      <th>25</th>\n      <td>US44174</td>\n      <td>NaN</td>\n      <td>Manual</td>\n      <td>When transferring a patient, the system shall ...</td>\n      <td>NaN</td>\n      <td>TC12642</td>\n      <td>Not Started</td>\n      <td>R1.33</td>\n      <td>Details: The user must have permission to the ...</td>\n      <td>Andy Ostinowsky</td>\n      <td>Sapphire</td>\n    </tr>\n    <tr>\n      <th>26</th>\n      <td>US44174</td>\n      <td>NaN</td>\n      <td>Manual</td>\n      <td>The system shall record a patient transfer fro...</td>\n      <td>NaN</td>\n      <td>TC12440</td>\n      <td>Not Started</td>\n      <td>R1.33</td>\n      <td>The following information shall be included i...</td>\n      <td>Andy Ostinowsky</td>\n      <td>Sapphire</td>\n    </tr>\n    <tr>\n      <th>27</th>\n      <td>US32438</td>\n      <td>NaN</td>\n      <td>Automated</td>\n      <td>The Mask Selector Gateway shall support resett...</td>\n      <td>NaN</td>\n      <td>TC12632</td>\n      <td>Test Written</td>\n      <td>R1.33</td>\n      <td>Password reset shall be available:   When user...</td>\n      <td>Yogini Choudhari</td>\n      <td>Billing Service</td>\n    </tr>\n    <tr>\n      <th>28</th>\n      <td>US32438</td>\n      <td>NaN</td>\n      <td>Automated</td>\n      <td>Mask Selector Gateway shall support retrieval ...</td>\n      <td>NaN</td>\n      <td>TC12633</td>\n      <td>Test Written</td>\n      <td>R1.33</td>\n      <td>The system shall retrieve Mask selector and no...</td>\n      <td>Yogini Choudhari</td>\n      <td>Billing Service</td>\n    </tr>\n    <tr>\n      <th>29</th>\n      <td>US32438</td>\n      <td>NaN</td>\n      <td>Automated</td>\n      <td>Mask Selector Gateway shall support providing ...</td>\n      <td>NaN</td>\n      <td>TC12634</td>\n      <td>Test Written</td>\n      <td>R1.33</td>\n      <td>Following user demographics shall be provided ...</td>\n      <td>Yogini Choudhari</td>\n      <td>Billing Service</td>\n    </tr>\n    <tr>\n      <th>30</th>\n      <td>US32438</td>\n      <td>NaN</td>\n      <td>Automated</td>\n      <td>Mask Selector Gateway shall support updating t...</td>\n      <td>NaN</td>\n      <td>TC12635</td>\n      <td>Test Written</td>\n      <td>R1.33</td>\n      <td>Following user demographics shall be able to b...</td>\n      <td>Yogini Choudhari</td>\n      <td>Billing Service</td>\n    </tr>\n    <tr>\n      <th>31</th>\n      <td>US32438</td>\n      <td>NaN</td>\n      <td>Automated</td>\n      <td>Mask Selector Gateway shall support user creation</td>\n      <td>NaN</td>\n      <td>TC12636</td>\n      <td>Test Written</td>\n      <td>R1.33</td>\n      <td>Following are the required fields for user cre...</td>\n      <td>Yogini Choudhari</td>\n      <td>Billing Service</td>\n    </tr>\n    <tr>\n      <th>32</th>\n      <td>US1551</td>\n      <td>NaN</td>\n      <td>Automated</td>\n      <td>A Mask Selector Clinician user shall have the ...</td>\n      <td>NaN</td>\n      <td>TC12637</td>\n      <td>Test Written</td>\n      <td>R1.33</td>\n      <td>Following capabilities shall be available to t...</td>\n      <td>Yogini Choudhari</td>\n      <td>Sapphire</td>\n    </tr>\n    <tr>\n      <th>33</th>\n      <td>US1551</td>\n      <td>NaN</td>\n      <td>Automated</td>\n      <td>A Mask Selector Clinical Administrator user sh...</td>\n      <td>NaN</td>\n      <td>TC12638</td>\n      <td>Test Written</td>\n      <td>R1.33</td>\n      <td>Following capabilities shall be available to t...</td>\n      <td>Yogini Choudhari</td>\n      <td>Sapphire</td>\n    </tr>\n    <tr>\n      <th>34</th>\n      <td>US32438</td>\n      <td>NaN</td>\n      <td>Automated</td>\n      <td>The system shall support creation of users for...</td>\n      <td>NaN</td>\n      <td>TC12639</td>\n      <td>Test Written</td>\n      <td>R1.33</td>\n      <td>When add-on feature for Mask Selector tablet i...</td>\n      <td>Yogini Choudhari</td>\n      <td>Sapphire and PSC</td>\n    </tr>\n    <tr>\n      <th>35</th>\n      <td>US7871</td>\n      <td>NaN</td>\n      <td>Automated</td>\n      <td>The system shall provide an ability to configu...</td>\n      <td>NaN</td>\n      <td>TC12640</td>\n      <td>Test Written</td>\n      <td>R1.33</td>\n      <td>Add-on feature on an organization is available...</td>\n      <td>Yogini Choudhari</td>\n      <td>Sapphire and PSC</td>\n    </tr>\n    <tr>\n      <th>36</th>\n      <td>US7871</td>\n      <td>NaN</td>\n      <td>Automated</td>\n      <td>The system shall provide an ability to configu...</td>\n      <td>NaN</td>\n      <td>TC12641</td>\n      <td>Test Written</td>\n      <td>R1.33</td>\n      <td>The global settings shall be available for int...</td>\n      <td>Yogini Choudhari</td>\n      <td>Sapphire and PSC</td>\n    </tr>\n    <tr>\n      <th>37</th>\n      <td>US32438</td>\n      <td>NaN</td>\n      <td>Automated</td>\n      <td>The platform shall support logging out the use...</td>\n      <td>NaN</td>\n      <td>TC12705</td>\n      <td>Test Written</td>\n      <td>R1.33</td>\n      <td>Details: The current session in use for the us...</td>\n      <td>Yogini Choudhari</td>\n      <td>Sapphire</td>\n    </tr>\n    <tr>\n      <th>38</th>\n      <td>US32438</td>\n      <td>NaN</td>\n      <td>Automated</td>\n      <td>The platform shall allow the authorized users ...</td>\n      <td>NaN</td>\n      <td>TC12706</td>\n      <td>Test Written</td>\n      <td>R1.33</td>\n      <td>Details: The following are the required fields...</td>\n      <td>Yogini Choudhari</td>\n      <td>Sapphire</td>\n    </tr>\n  </tbody>\n</table>\n</div>"
     },
     "metadata": {},
     "execution_count": 19
    }
   ],
   "source": [
    "# Rename the columns to desired output format\n",
    "new_col_names = [\"PRD\", \"SRS ID\", \"Method\", \"Test Name\", \"V&V Test Report\", \"TC ID\", \"Test Status\", \"Release\", \"Name\", \"Owner\", \"Application\"]\n",
    "\n",
    "reordered.columns = new_col_names\n",
    "reordered"
   ]
  },
  {
   "cell_type": "code",
   "execution_count": 27,
   "metadata": {},
   "outputs": [],
   "source": [
    "# Upgrade to sapphire\n",
    "reordered = reordered.replace([\"Data Migration\", \"Event Horizon\", \"Billing Integration\"], \"Sapphire\")"
   ]
  },
  {
   "cell_type": "code",
   "execution_count": 28,
   "metadata": {},
   "outputs": [
    {
     "output_type": "execute_result",
     "data": {
      "text/plain": [
       "        PRD  SRS ID     Method  \\\n",
       "0   US44174     NaN  Automated   \n",
       "1    US1549     NaN  Automated   \n",
       "2    US3019     NaN     Manual   \n",
       "3    US3019     NaN     Manual   \n",
       "4    US2419     NaN  Automated   \n",
       "5    US6138     NaN     Manual   \n",
       "11   US1560     NaN     Manual   \n",
       "12  US44174     NaN     Manual   \n",
       "13   US1560     NaN     Manual   \n",
       "14   US1683     NaN  Automated   \n",
       "15   US1683     NaN  Automated   \n",
       "16  US45409     NaN  Automated   \n",
       "17  US45409     NaN  Automated   \n",
       "18  US45409     NaN  Automated   \n",
       "19  US44174     NaN     Manual   \n",
       "20  US44174     NaN     Manual   \n",
       "21  US44174     NaN     Manual   \n",
       "22  US44174     NaN     Manual   \n",
       "23  US44174     NaN     Manual   \n",
       "24  US44174     NaN     Manual   \n",
       "25  US44174     NaN     Manual   \n",
       "26  US44174     NaN     Manual   \n",
       "32   US1551     NaN  Automated   \n",
       "33   US1551     NaN  Automated   \n",
       "34  US32438     NaN  Automated   \n",
       "35   US7871     NaN  Automated   \n",
       "36   US7871     NaN  Automated   \n",
       "37  US32438     NaN  Automated   \n",
       "38  US32438     NaN  Automated   \n",
       "\n",
       "                                            Test Name  V&V Test Report  \\\n",
       "0   The system shall support authorizing external ...              NaN   \n",
       "1   The system shall provide the ability to assign...              NaN   \n",
       "2   The system shall support generating performanc...              NaN   \n",
       "3   When the Performance Check report is viewed fr...              NaN   \n",
       "4   Only the priority, start of compliance period,...              NaN   \n",
       "5   The About page shall contain the correct elements              NaN   \n",
       "11  The system shall support syncing of assignment...              NaN   \n",
       "12  When a patient that doesn’t exist in EA is tra...              NaN   \n",
       "13  The system shall support syncing of manual res...              NaN   \n",
       "14  Compliance rules shall have a setting that rem...              NaN   \n",
       "15  When the \"\"auto dismiss not compliant tasks\"\" ...              NaN   \n",
       "16  The system shall provide a visual indicator fo...              NaN   \n",
       "17  The system shall display the mask suggestion r...              NaN   \n",
       "18  The system shall provide the ability to assign...              NaN   \n",
       "19  The system shall auto assign care team locatio...              NaN   \n",
       "20  The system shall present a confirmation to the...              NaN   \n",
       "21  When transferring a patient from an external l...              NaN   \n",
       "22  The system shall provide the ability for a use...              NaN   \n",
       "23  When a patient is transferred the system shall...              NaN   \n",
       "24  When a patient is transferred the system shall...              NaN   \n",
       "25  When transferring a patient, the system shall ...              NaN   \n",
       "26  The system shall record a patient transfer fro...              NaN   \n",
       "32  A Mask Selector Clinician user shall have the ...              NaN   \n",
       "33  A Mask Selector Clinical Administrator user sh...              NaN   \n",
       "34  The system shall support creation of users for...              NaN   \n",
       "35  The system shall provide an ability to configu...              NaN   \n",
       "36  The system shall provide an ability to configu...              NaN   \n",
       "37  The platform shall support logging out the use...              NaN   \n",
       "38  The platform shall allow the authorized users ...              NaN   \n",
       "\n",
       "      TC ID   Test Status Release  \\\n",
       "0     TC941  Test Written   R1.33   \n",
       "1    TC1325  Test Written   R1.33   \n",
       "2    TC1699  Test Written   R1.33   \n",
       "3    TC1713  Test Written   R1.33   \n",
       "4    TC2068  Test Written   R1.33   \n",
       "5    TC4226   Not Started   R1.33   \n",
       "11  TC12058  Test Written   R1.33   \n",
       "12  TC12573  Test Written   R1.33   \n",
       "13  TC12060  Test Written   R1.33   \n",
       "14  TC12420   Not Started   R1.33   \n",
       "15  TC12551   Not Started   R1.33   \n",
       "16  TC12432   Not Started   R1.33   \n",
       "17  TC12433   Not Started   R1.33   \n",
       "18  TC12434   Not Started   R1.33   \n",
       "19  TC12324   Not Started   R1.33   \n",
       "20  TC12570   Not Started   R1.33   \n",
       "21  TC12549   Not Started   R1.33   \n",
       "22  TC12438   Not Started   R1.33   \n",
       "23  TC12439   Not Started   R1.33   \n",
       "24  TC12569   Not Started   R1.33   \n",
       "25  TC12642   Not Started   R1.33   \n",
       "26  TC12440   Not Started   R1.33   \n",
       "32  TC12637  Test Written   R1.33   \n",
       "33  TC12638  Test Written   R1.33   \n",
       "34  TC12639  Test Written   R1.33   \n",
       "35  TC12640  Test Written   R1.33   \n",
       "36  TC12641  Test Written   R1.33   \n",
       "37  TC12705  Test Written   R1.33   \n",
       "38  TC12706  Test Written   R1.33   \n",
       "\n",
       "                                                 Name               Owner  \\\n",
       "0   Details:Following access levels are supported:...           Anoof Ali   \n",
       "1   Following roles are available for assignment: ...           Anoof Ali   \n",
       "2                                                 NaN              Dave W   \n",
       "3                                                 NaN              Dave W   \n",
       "4   Defaults 4 hours per day 70 Percent 30 Consecu...             Susan F   \n",
       "5   The About page shall contain the following:- P...             Susan F   \n",
       "11  Following are synchronized from CO to EA:  Fin...  Revathi Annamreddy   \n",
       "12                                                NaN     Andy Ostinowsky   \n",
       "13                       Applicable to all countries.  Revathi Annamreddy   \n",
       "14                                                NaN     Andy Ostinowsky   \n",
       "15                                                NaN     Andy Ostinowsky   \n",
       "16   Details:Following pages shall display the vis...     Andy Ostinowsky   \n",
       "17   Following is displayed on the equipment page ...     Andy Ostinowsky   \n",
       "18        A mask suggestions from Mask Selector ca...     Andy Ostinowsky   \n",
       "19  Details: Location from where the patient was t...     Andy Ostinowsky   \n",
       "20  Details: The following information shall be di...     Andy Ostinowsky   \n",
       "21                                                NaN     Andy Ostinowsky   \n",
       "22  Details: 'Transfer Patient' option is availabl...     Andy Ostinowsky   \n",
       "23  Patient data that will not be transferred to t...     Andy Ostinowsky   \n",
       "24  The following patient data will be transferred...     Andy Ostinowsky   \n",
       "25  Details: The user must have permission to the ...     Andy Ostinowsky   \n",
       "26   The following information shall be included i...     Andy Ostinowsky   \n",
       "32  Following capabilities shall be available to t...    Yogini Choudhari   \n",
       "33  Following capabilities shall be available to t...    Yogini Choudhari   \n",
       "34  When add-on feature for Mask Selector tablet i...    Yogini Choudhari   \n",
       "35  Add-on feature on an organization is available...    Yogini Choudhari   \n",
       "36  The global settings shall be available for int...    Yogini Choudhari   \n",
       "37  Details: The current session in use for the us...    Yogini Choudhari   \n",
       "38  Details: The following are the required fields...    Yogini Choudhari   \n",
       "\n",
       "         Application  \n",
       "0   Sapphire and PSC  \n",
       "1   Sapphire and PSC  \n",
       "2           Sapphire  \n",
       "3           Sapphire  \n",
       "4   Sapphire and PSC  \n",
       "5           Sapphire  \n",
       "11          Sapphire  \n",
       "12          Sapphire  \n",
       "13          Sapphire  \n",
       "14  Sapphire and PSC  \n",
       "15  Sapphire and PSC  \n",
       "16          Sapphire  \n",
       "17          Sapphire  \n",
       "18          Sapphire  \n",
       "19          Sapphire  \n",
       "20          Sapphire  \n",
       "21          Sapphire  \n",
       "22          Sapphire  \n",
       "23          Sapphire  \n",
       "24          Sapphire  \n",
       "25          Sapphire  \n",
       "26          Sapphire  \n",
       "32          Sapphire  \n",
       "33          Sapphire  \n",
       "34  Sapphire and PSC  \n",
       "35  Sapphire and PSC  \n",
       "36  Sapphire and PSC  \n",
       "37          Sapphire  \n",
       "38          Sapphire  "
      ],
      "text/html": "<div>\n<style scoped>\n    .dataframe tbody tr th:only-of-type {\n        vertical-align: middle;\n    }\n\n    .dataframe tbody tr th {\n        vertical-align: top;\n    }\n\n    .dataframe thead th {\n        text-align: right;\n    }\n</style>\n<table border=\"1\" class=\"dataframe\">\n  <thead>\n    <tr style=\"text-align: right;\">\n      <th></th>\n      <th>PRD</th>\n      <th>SRS ID</th>\n      <th>Method</th>\n      <th>Test Name</th>\n      <th>V&amp;V Test Report</th>\n      <th>TC ID</th>\n      <th>Test Status</th>\n      <th>Release</th>\n      <th>Name</th>\n      <th>Owner</th>\n      <th>Application</th>\n    </tr>\n  </thead>\n  <tbody>\n    <tr>\n      <th>0</th>\n      <td>US44174</td>\n      <td>NaN</td>\n      <td>Automated</td>\n      <td>The system shall support authorizing external ...</td>\n      <td>NaN</td>\n      <td>TC941</td>\n      <td>Test Written</td>\n      <td>R1.33</td>\n      <td>Details:Following access levels are supported:...</td>\n      <td>Anoof Ali</td>\n      <td>Sapphire and PSC</td>\n    </tr>\n    <tr>\n      <th>1</th>\n      <td>US1549</td>\n      <td>NaN</td>\n      <td>Automated</td>\n      <td>The system shall provide the ability to assign...</td>\n      <td>NaN</td>\n      <td>TC1325</td>\n      <td>Test Written</td>\n      <td>R1.33</td>\n      <td>Following roles are available for assignment: ...</td>\n      <td>Anoof Ali</td>\n      <td>Sapphire and PSC</td>\n    </tr>\n    <tr>\n      <th>2</th>\n      <td>US3019</td>\n      <td>NaN</td>\n      <td>Manual</td>\n      <td>The system shall support generating performanc...</td>\n      <td>NaN</td>\n      <td>TC1699</td>\n      <td>Test Written</td>\n      <td>R1.33</td>\n      <td>NaN</td>\n      <td>Dave W</td>\n      <td>Sapphire</td>\n    </tr>\n    <tr>\n      <th>3</th>\n      <td>US3019</td>\n      <td>NaN</td>\n      <td>Manual</td>\n      <td>When the Performance Check report is viewed fr...</td>\n      <td>NaN</td>\n      <td>TC1713</td>\n      <td>Test Written</td>\n      <td>R1.33</td>\n      <td>NaN</td>\n      <td>Dave W</td>\n      <td>Sapphire</td>\n    </tr>\n    <tr>\n      <th>4</th>\n      <td>US2419</td>\n      <td>NaN</td>\n      <td>Automated</td>\n      <td>Only the priority, start of compliance period,...</td>\n      <td>NaN</td>\n      <td>TC2068</td>\n      <td>Test Written</td>\n      <td>R1.33</td>\n      <td>Defaults 4 hours per day 70 Percent 30 Consecu...</td>\n      <td>Susan F</td>\n      <td>Sapphire and PSC</td>\n    </tr>\n    <tr>\n      <th>5</th>\n      <td>US6138</td>\n      <td>NaN</td>\n      <td>Manual</td>\n      <td>The About page shall contain the correct elements</td>\n      <td>NaN</td>\n      <td>TC4226</td>\n      <td>Not Started</td>\n      <td>R1.33</td>\n      <td>The About page shall contain the following:- P...</td>\n      <td>Susan F</td>\n      <td>Sapphire</td>\n    </tr>\n    <tr>\n      <th>11</th>\n      <td>US1560</td>\n      <td>NaN</td>\n      <td>Manual</td>\n      <td>The system shall support syncing of assignment...</td>\n      <td>NaN</td>\n      <td>TC12058</td>\n      <td>Test Written</td>\n      <td>R1.33</td>\n      <td>Following are synchronized from CO to EA:  Fin...</td>\n      <td>Revathi Annamreddy</td>\n      <td>Sapphire</td>\n    </tr>\n    <tr>\n      <th>12</th>\n      <td>US44174</td>\n      <td>NaN</td>\n      <td>Manual</td>\n      <td>When a patient that doesn’t exist in EA is tra...</td>\n      <td>NaN</td>\n      <td>TC12573</td>\n      <td>Test Written</td>\n      <td>R1.33</td>\n      <td>NaN</td>\n      <td>Andy Ostinowsky</td>\n      <td>Sapphire</td>\n    </tr>\n    <tr>\n      <th>13</th>\n      <td>US1560</td>\n      <td>NaN</td>\n      <td>Manual</td>\n      <td>The system shall support syncing of manual res...</td>\n      <td>NaN</td>\n      <td>TC12060</td>\n      <td>Test Written</td>\n      <td>R1.33</td>\n      <td>Applicable to all countries.</td>\n      <td>Revathi Annamreddy</td>\n      <td>Sapphire</td>\n    </tr>\n    <tr>\n      <th>14</th>\n      <td>US1683</td>\n      <td>NaN</td>\n      <td>Automated</td>\n      <td>Compliance rules shall have a setting that rem...</td>\n      <td>NaN</td>\n      <td>TC12420</td>\n      <td>Not Started</td>\n      <td>R1.33</td>\n      <td>NaN</td>\n      <td>Andy Ostinowsky</td>\n      <td>Sapphire and PSC</td>\n    </tr>\n    <tr>\n      <th>15</th>\n      <td>US1683</td>\n      <td>NaN</td>\n      <td>Automated</td>\n      <td>When the \"\"auto dismiss not compliant tasks\"\" ...</td>\n      <td>NaN</td>\n      <td>TC12551</td>\n      <td>Not Started</td>\n      <td>R1.33</td>\n      <td>NaN</td>\n      <td>Andy Ostinowsky</td>\n      <td>Sapphire and PSC</td>\n    </tr>\n    <tr>\n      <th>16</th>\n      <td>US45409</td>\n      <td>NaN</td>\n      <td>Automated</td>\n      <td>The system shall provide a visual indicator fo...</td>\n      <td>NaN</td>\n      <td>TC12432</td>\n      <td>Not Started</td>\n      <td>R1.33</td>\n      <td>Details:Following pages shall display the vis...</td>\n      <td>Andy Ostinowsky</td>\n      <td>Sapphire</td>\n    </tr>\n    <tr>\n      <th>17</th>\n      <td>US45409</td>\n      <td>NaN</td>\n      <td>Automated</td>\n      <td>The system shall display the mask suggestion r...</td>\n      <td>NaN</td>\n      <td>TC12433</td>\n      <td>Not Started</td>\n      <td>R1.33</td>\n      <td>Following is displayed on the equipment page ...</td>\n      <td>Andy Ostinowsky</td>\n      <td>Sapphire</td>\n    </tr>\n    <tr>\n      <th>18</th>\n      <td>US45409</td>\n      <td>NaN</td>\n      <td>Automated</td>\n      <td>The system shall provide the ability to assign...</td>\n      <td>NaN</td>\n      <td>TC12434</td>\n      <td>Not Started</td>\n      <td>R1.33</td>\n      <td>A mask suggestions from Mask Selector ca...</td>\n      <td>Andy Ostinowsky</td>\n      <td>Sapphire</td>\n    </tr>\n    <tr>\n      <th>19</th>\n      <td>US44174</td>\n      <td>NaN</td>\n      <td>Manual</td>\n      <td>The system shall auto assign care team locatio...</td>\n      <td>NaN</td>\n      <td>TC12324</td>\n      <td>Not Started</td>\n      <td>R1.33</td>\n      <td>Details: Location from where the patient was t...</td>\n      <td>Andy Ostinowsky</td>\n      <td>Sapphire</td>\n    </tr>\n    <tr>\n      <th>20</th>\n      <td>US44174</td>\n      <td>NaN</td>\n      <td>Manual</td>\n      <td>The system shall present a confirmation to the...</td>\n      <td>NaN</td>\n      <td>TC12570</td>\n      <td>Not Started</td>\n      <td>R1.33</td>\n      <td>Details: The following information shall be di...</td>\n      <td>Andy Ostinowsky</td>\n      <td>Sapphire</td>\n    </tr>\n    <tr>\n      <th>21</th>\n      <td>US44174</td>\n      <td>NaN</td>\n      <td>Manual</td>\n      <td>When transferring a patient from an external l...</td>\n      <td>NaN</td>\n      <td>TC12549</td>\n      <td>Not Started</td>\n      <td>R1.33</td>\n      <td>NaN</td>\n      <td>Andy Ostinowsky</td>\n      <td>Sapphire</td>\n    </tr>\n    <tr>\n      <th>22</th>\n      <td>US44174</td>\n      <td>NaN</td>\n      <td>Manual</td>\n      <td>The system shall provide the ability for a use...</td>\n      <td>NaN</td>\n      <td>TC12438</td>\n      <td>Not Started</td>\n      <td>R1.33</td>\n      <td>Details: 'Transfer Patient' option is availabl...</td>\n      <td>Andy Ostinowsky</td>\n      <td>Sapphire</td>\n    </tr>\n    <tr>\n      <th>23</th>\n      <td>US44174</td>\n      <td>NaN</td>\n      <td>Manual</td>\n      <td>When a patient is transferred the system shall...</td>\n      <td>NaN</td>\n      <td>TC12439</td>\n      <td>Not Started</td>\n      <td>R1.33</td>\n      <td>Patient data that will not be transferred to t...</td>\n      <td>Andy Ostinowsky</td>\n      <td>Sapphire</td>\n    </tr>\n    <tr>\n      <th>24</th>\n      <td>US44174</td>\n      <td>NaN</td>\n      <td>Manual</td>\n      <td>When a patient is transferred the system shall...</td>\n      <td>NaN</td>\n      <td>TC12569</td>\n      <td>Not Started</td>\n      <td>R1.33</td>\n      <td>The following patient data will be transferred...</td>\n      <td>Andy Ostinowsky</td>\n      <td>Sapphire</td>\n    </tr>\n    <tr>\n      <th>25</th>\n      <td>US44174</td>\n      <td>NaN</td>\n      <td>Manual</td>\n      <td>When transferring a patient, the system shall ...</td>\n      <td>NaN</td>\n      <td>TC12642</td>\n      <td>Not Started</td>\n      <td>R1.33</td>\n      <td>Details: The user must have permission to the ...</td>\n      <td>Andy Ostinowsky</td>\n      <td>Sapphire</td>\n    </tr>\n    <tr>\n      <th>26</th>\n      <td>US44174</td>\n      <td>NaN</td>\n      <td>Manual</td>\n      <td>The system shall record a patient transfer fro...</td>\n      <td>NaN</td>\n      <td>TC12440</td>\n      <td>Not Started</td>\n      <td>R1.33</td>\n      <td>The following information shall be included i...</td>\n      <td>Andy Ostinowsky</td>\n      <td>Sapphire</td>\n    </tr>\n    <tr>\n      <th>32</th>\n      <td>US1551</td>\n      <td>NaN</td>\n      <td>Automated</td>\n      <td>A Mask Selector Clinician user shall have the ...</td>\n      <td>NaN</td>\n      <td>TC12637</td>\n      <td>Test Written</td>\n      <td>R1.33</td>\n      <td>Following capabilities shall be available to t...</td>\n      <td>Yogini Choudhari</td>\n      <td>Sapphire</td>\n    </tr>\n    <tr>\n      <th>33</th>\n      <td>US1551</td>\n      <td>NaN</td>\n      <td>Automated</td>\n      <td>A Mask Selector Clinical Administrator user sh...</td>\n      <td>NaN</td>\n      <td>TC12638</td>\n      <td>Test Written</td>\n      <td>R1.33</td>\n      <td>Following capabilities shall be available to t...</td>\n      <td>Yogini Choudhari</td>\n      <td>Sapphire</td>\n    </tr>\n    <tr>\n      <th>34</th>\n      <td>US32438</td>\n      <td>NaN</td>\n      <td>Automated</td>\n      <td>The system shall support creation of users for...</td>\n      <td>NaN</td>\n      <td>TC12639</td>\n      <td>Test Written</td>\n      <td>R1.33</td>\n      <td>When add-on feature for Mask Selector tablet i...</td>\n      <td>Yogini Choudhari</td>\n      <td>Sapphire and PSC</td>\n    </tr>\n    <tr>\n      <th>35</th>\n      <td>US7871</td>\n      <td>NaN</td>\n      <td>Automated</td>\n      <td>The system shall provide an ability to configu...</td>\n      <td>NaN</td>\n      <td>TC12640</td>\n      <td>Test Written</td>\n      <td>R1.33</td>\n      <td>Add-on feature on an organization is available...</td>\n      <td>Yogini Choudhari</td>\n      <td>Sapphire and PSC</td>\n    </tr>\n    <tr>\n      <th>36</th>\n      <td>US7871</td>\n      <td>NaN</td>\n      <td>Automated</td>\n      <td>The system shall provide an ability to configu...</td>\n      <td>NaN</td>\n      <td>TC12641</td>\n      <td>Test Written</td>\n      <td>R1.33</td>\n      <td>The global settings shall be available for int...</td>\n      <td>Yogini Choudhari</td>\n      <td>Sapphire and PSC</td>\n    </tr>\n    <tr>\n      <th>37</th>\n      <td>US32438</td>\n      <td>NaN</td>\n      <td>Automated</td>\n      <td>The platform shall support logging out the use...</td>\n      <td>NaN</td>\n      <td>TC12705</td>\n      <td>Test Written</td>\n      <td>R1.33</td>\n      <td>Details: The current session in use for the us...</td>\n      <td>Yogini Choudhari</td>\n      <td>Sapphire</td>\n    </tr>\n    <tr>\n      <th>38</th>\n      <td>US32438</td>\n      <td>NaN</td>\n      <td>Automated</td>\n      <td>The platform shall allow the authorized users ...</td>\n      <td>NaN</td>\n      <td>TC12706</td>\n      <td>Test Written</td>\n      <td>R1.33</td>\n      <td>Details: The following are the required fields...</td>\n      <td>Yogini Choudhari</td>\n      <td>Sapphire</td>\n    </tr>\n  </tbody>\n</table>\n</div>"
     },
     "metadata": {},
     "execution_count": 28
    }
   ],
   "source": [
    "co_trace = reordered.loc[reordered[\"Application\"].isin([\"Sapphire and PSC\", \"Sapphire\"])]\n",
    "co_trace"
   ]
  },
  {
   "cell_type": "code",
   "execution_count": 29,
   "metadata": {},
   "outputs": [
    {
     "output_type": "execute_result",
     "data": {
      "text/plain": [
       "        PRD  SRS ID     Method  \\\n",
       "0   US44174     NaN  Automated   \n",
       "1    US1549     NaN  Automated   \n",
       "4    US2419     NaN  Automated   \n",
       "6    US4013     NaN  Automated   \n",
       "14   US1683     NaN  Automated   \n",
       "15   US1683     NaN  Automated   \n",
       "34  US32438     NaN  Automated   \n",
       "35   US7871     NaN  Automated   \n",
       "36   US7871     NaN  Automated   \n",
       "\n",
       "                                            Test Name  V&V Test Report  \\\n",
       "0   The system shall support authorizing external ...              NaN   \n",
       "1   The system shall provide the ability to assign...              NaN   \n",
       "4   Only the priority, start of compliance period,...              NaN   \n",
       "6   The system shall have the ability to display t...              NaN   \n",
       "14  Compliance rules shall have a setting that rem...              NaN   \n",
       "15  When the \"\"auto dismiss not compliant tasks\"\" ...              NaN   \n",
       "34  The system shall support creation of users for...              NaN   \n",
       "35  The system shall provide an ability to configu...              NaN   \n",
       "36  The system shall provide an ability to configu...              NaN   \n",
       "\n",
       "      TC ID   Test Status Release  \\\n",
       "0     TC941  Test Written   R1.33   \n",
       "1    TC1325  Test Written   R1.33   \n",
       "4    TC2068  Test Written   R1.33   \n",
       "6    TC2974  Test Written   R1.33   \n",
       "14  TC12420   Not Started   R1.33   \n",
       "15  TC12551   Not Started   R1.33   \n",
       "34  TC12639  Test Written   R1.33   \n",
       "35  TC12640  Test Written   R1.33   \n",
       "36  TC12641  Test Written   R1.33   \n",
       "\n",
       "                                                 Name             Owner  \\\n",
       "0   Details:Following access levels are supported:...         Anoof Ali   \n",
       "1   Following roles are available for assignment: ...         Anoof Ali   \n",
       "4   Defaults 4 hours per day 70 Percent 30 Consecu...           Susan F   \n",
       "6   List of Agreements: Care Orchestrator Agreemen...         Anoof Ali   \n",
       "14                                                NaN   Andy Ostinowsky   \n",
       "15                                                NaN   Andy Ostinowsky   \n",
       "34  When add-on feature for Mask Selector tablet i...  Yogini Choudhari   \n",
       "35  Add-on feature on an organization is available...  Yogini Choudhari   \n",
       "36  The global settings shall be available for int...  Yogini Choudhari   \n",
       "\n",
       "         Application  \n",
       "0   Sapphire and PSC  \n",
       "1   Sapphire and PSC  \n",
       "4   Sapphire and PSC  \n",
       "6                PSC  \n",
       "14  Sapphire and PSC  \n",
       "15  Sapphire and PSC  \n",
       "34  Sapphire and PSC  \n",
       "35  Sapphire and PSC  \n",
       "36  Sapphire and PSC  "
      ],
      "text/html": "<div>\n<style scoped>\n    .dataframe tbody tr th:only-of-type {\n        vertical-align: middle;\n    }\n\n    .dataframe tbody tr th {\n        vertical-align: top;\n    }\n\n    .dataframe thead th {\n        text-align: right;\n    }\n</style>\n<table border=\"1\" class=\"dataframe\">\n  <thead>\n    <tr style=\"text-align: right;\">\n      <th></th>\n      <th>PRD</th>\n      <th>SRS ID</th>\n      <th>Method</th>\n      <th>Test Name</th>\n      <th>V&amp;V Test Report</th>\n      <th>TC ID</th>\n      <th>Test Status</th>\n      <th>Release</th>\n      <th>Name</th>\n      <th>Owner</th>\n      <th>Application</th>\n    </tr>\n  </thead>\n  <tbody>\n    <tr>\n      <th>0</th>\n      <td>US44174</td>\n      <td>NaN</td>\n      <td>Automated</td>\n      <td>The system shall support authorizing external ...</td>\n      <td>NaN</td>\n      <td>TC941</td>\n      <td>Test Written</td>\n      <td>R1.33</td>\n      <td>Details:Following access levels are supported:...</td>\n      <td>Anoof Ali</td>\n      <td>Sapphire and PSC</td>\n    </tr>\n    <tr>\n      <th>1</th>\n      <td>US1549</td>\n      <td>NaN</td>\n      <td>Automated</td>\n      <td>The system shall provide the ability to assign...</td>\n      <td>NaN</td>\n      <td>TC1325</td>\n      <td>Test Written</td>\n      <td>R1.33</td>\n      <td>Following roles are available for assignment: ...</td>\n      <td>Anoof Ali</td>\n      <td>Sapphire and PSC</td>\n    </tr>\n    <tr>\n      <th>4</th>\n      <td>US2419</td>\n      <td>NaN</td>\n      <td>Automated</td>\n      <td>Only the priority, start of compliance period,...</td>\n      <td>NaN</td>\n      <td>TC2068</td>\n      <td>Test Written</td>\n      <td>R1.33</td>\n      <td>Defaults 4 hours per day 70 Percent 30 Consecu...</td>\n      <td>Susan F</td>\n      <td>Sapphire and PSC</td>\n    </tr>\n    <tr>\n      <th>6</th>\n      <td>US4013</td>\n      <td>NaN</td>\n      <td>Automated</td>\n      <td>The system shall have the ability to display t...</td>\n      <td>NaN</td>\n      <td>TC2974</td>\n      <td>Test Written</td>\n      <td>R1.33</td>\n      <td>List of Agreements: Care Orchestrator Agreemen...</td>\n      <td>Anoof Ali</td>\n      <td>PSC</td>\n    </tr>\n    <tr>\n      <th>14</th>\n      <td>US1683</td>\n      <td>NaN</td>\n      <td>Automated</td>\n      <td>Compliance rules shall have a setting that rem...</td>\n      <td>NaN</td>\n      <td>TC12420</td>\n      <td>Not Started</td>\n      <td>R1.33</td>\n      <td>NaN</td>\n      <td>Andy Ostinowsky</td>\n      <td>Sapphire and PSC</td>\n    </tr>\n    <tr>\n      <th>15</th>\n      <td>US1683</td>\n      <td>NaN</td>\n      <td>Automated</td>\n      <td>When the \"\"auto dismiss not compliant tasks\"\" ...</td>\n      <td>NaN</td>\n      <td>TC12551</td>\n      <td>Not Started</td>\n      <td>R1.33</td>\n      <td>NaN</td>\n      <td>Andy Ostinowsky</td>\n      <td>Sapphire and PSC</td>\n    </tr>\n    <tr>\n      <th>34</th>\n      <td>US32438</td>\n      <td>NaN</td>\n      <td>Automated</td>\n      <td>The system shall support creation of users for...</td>\n      <td>NaN</td>\n      <td>TC12639</td>\n      <td>Test Written</td>\n      <td>R1.33</td>\n      <td>When add-on feature for Mask Selector tablet i...</td>\n      <td>Yogini Choudhari</td>\n      <td>Sapphire and PSC</td>\n    </tr>\n    <tr>\n      <th>35</th>\n      <td>US7871</td>\n      <td>NaN</td>\n      <td>Automated</td>\n      <td>The system shall provide an ability to configu...</td>\n      <td>NaN</td>\n      <td>TC12640</td>\n      <td>Test Written</td>\n      <td>R1.33</td>\n      <td>Add-on feature on an organization is available...</td>\n      <td>Yogini Choudhari</td>\n      <td>Sapphire and PSC</td>\n    </tr>\n    <tr>\n      <th>36</th>\n      <td>US7871</td>\n      <td>NaN</td>\n      <td>Automated</td>\n      <td>The system shall provide an ability to configu...</td>\n      <td>NaN</td>\n      <td>TC12641</td>\n      <td>Test Written</td>\n      <td>R1.33</td>\n      <td>The global settings shall be available for int...</td>\n      <td>Yogini Choudhari</td>\n      <td>Sapphire and PSC</td>\n    </tr>\n  </tbody>\n</table>\n</div>"
     },
     "metadata": {},
     "execution_count": 29
    }
   ],
   "source": [
    "psc_trace = reordered.loc[reordered[\"Application\"].isin([\"PSC\", \"Sapphire and PSC\"])]\n",
    "psc_trace"
   ]
  },
  {
   "cell_type": "code",
   "execution_count": null,
   "metadata": {},
   "outputs": [],
   "source": []
  },
  {
   "cell_type": "code",
   "execution_count": 3,
   "metadata": {},
   "outputs": [],
   "source": [
    "valid_manual_tests, invalid_manual_tests = check_manual(\"../data/ER2228014 v51 ATT1 Manual As-Runs.docx\")"
   ]
  },
  {
   "cell_type": "code",
   "execution_count": 4,
   "metadata": {},
   "outputs": [
    {
     "output_type": "execute_result",
     "data": {
      "text/plain": [
       "                                             test_name  status\n",
       "0    PRD US13044 SRS TC12480 TC12574 Verify Subscri...  Passed\n",
       "1    PRD US13044 SRS TC12480 TC12575 Verify Subscri...  Passed\n",
       "2    PRD US13044 SRS TC12480 TC12576 Verify Subscri...  Passed\n",
       "3    PRD US13044 SRS TC12480 TC12580 Verify Subscri...  Passed\n",
       "4                                   Toggle off - F5890  Passed\n",
       "..                                                 ...     ...\n",
       "130        EU Toggle and Configuration Regression Test  Passed\n",
       "131  UC US45400 MaskSelector tablet app integration...  Passed\n",
       "132  UC US45400 MaskSelector tablet app integration...  Passed\n",
       "133  UC US45400 MaskSelector tablet app integration...  Passed\n",
       "134                                  F5056 Toggle Test  Passed\n",
       "\n",
       "[135 rows x 2 columns]"
      ],
      "text/html": "<div>\n<style scoped>\n    .dataframe tbody tr th:only-of-type {\n        vertical-align: middle;\n    }\n\n    .dataframe tbody tr th {\n        vertical-align: top;\n    }\n\n    .dataframe thead th {\n        text-align: right;\n    }\n</style>\n<table border=\"1\" class=\"dataframe\">\n  <thead>\n    <tr style=\"text-align: right;\">\n      <th></th>\n      <th>test_name</th>\n      <th>status</th>\n    </tr>\n  </thead>\n  <tbody>\n    <tr>\n      <th>0</th>\n      <td>PRD US13044 SRS TC12480 TC12574 Verify Subscri...</td>\n      <td>Passed</td>\n    </tr>\n    <tr>\n      <th>1</th>\n      <td>PRD US13044 SRS TC12480 TC12575 Verify Subscri...</td>\n      <td>Passed</td>\n    </tr>\n    <tr>\n      <th>2</th>\n      <td>PRD US13044 SRS TC12480 TC12576 Verify Subscri...</td>\n      <td>Passed</td>\n    </tr>\n    <tr>\n      <th>3</th>\n      <td>PRD US13044 SRS TC12480 TC12580 Verify Subscri...</td>\n      <td>Passed</td>\n    </tr>\n    <tr>\n      <th>4</th>\n      <td>Toggle off - F5890</td>\n      <td>Passed</td>\n    </tr>\n    <tr>\n      <th>...</th>\n      <td>...</td>\n      <td>...</td>\n    </tr>\n    <tr>\n      <th>130</th>\n      <td>EU Toggle and Configuration Regression Test</td>\n      <td>Passed</td>\n    </tr>\n    <tr>\n      <th>131</th>\n      <td>UC US45400 MaskSelector tablet app integration...</td>\n      <td>Passed</td>\n    </tr>\n    <tr>\n      <th>132</th>\n      <td>UC US45400 MaskSelector tablet app integration...</td>\n      <td>Passed</td>\n    </tr>\n    <tr>\n      <th>133</th>\n      <td>UC US45400 MaskSelector tablet app integration...</td>\n      <td>Passed</td>\n    </tr>\n    <tr>\n      <th>134</th>\n      <td>F5056 Toggle Test</td>\n      <td>Passed</td>\n    </tr>\n  </tbody>\n</table>\n<p>135 rows × 2 columns</p>\n</div>"
     },
     "metadata": {},
     "execution_count": 4
    }
   ],
   "source": [
    "valid_manual_tests"
   ]
  },
  {
   "cell_type": "code",
   "execution_count": 5,
   "metadata": {},
   "outputs": [
    {
     "output_type": "execute_result",
     "data": {
      "text/plain": [
       "Empty DataFrame\n",
       "Columns: [test_name, status]\n",
       "Index: []"
      ],
      "text/html": "<div>\n<style scoped>\n    .dataframe tbody tr th:only-of-type {\n        vertical-align: middle;\n    }\n\n    .dataframe tbody tr th {\n        vertical-align: top;\n    }\n\n    .dataframe thead th {\n        text-align: right;\n    }\n</style>\n<table border=\"1\" class=\"dataframe\">\n  <thead>\n    <tr style=\"text-align: right;\">\n      <th></th>\n      <th>test_name</th>\n      <th>status</th>\n    </tr>\n  </thead>\n  <tbody>\n  </tbody>\n</table>\n</div>"
     },
     "metadata": {},
     "execution_count": 5
    }
   ],
   "source": [
    "invalid_manual_tests"
   ]
  },
  {
   "cell_type": "code",
   "execution_count": 5,
   "metadata": {},
   "outputs": [
    {
     "output_type": "execute_result",
     "data": {
      "text/plain": [
       "0"
      ]
     },
     "metadata": {},
     "execution_count": 5
    }
   ],
   "source": [
    "len(invalid_manual_tests)"
   ]
  },
  {
   "cell_type": "code",
   "execution_count": 6,
   "metadata": {},
   "outputs": [
    {
     "output_type": "stream",
     "name": "stdout",
     "text": [
      "Loading api test files from ../data/RestApiTests\n"
     ]
    }
   ],
   "source": [
    "folder_path = \"../data/RestApiTests\"\n",
    "valid_api, invalid_api = check_rest_api(folder_path)"
   ]
  },
  {
   "cell_type": "code",
   "execution_count": 7,
   "metadata": {},
   "outputs": [
    {
     "output_type": "execute_result",
     "data": {
      "text/plain": [
       "                                               test_name  status   rc  \\\n",
       "0      TC6281 com.philips.sapphire.systemintegrationt...  passed  RC1   \n",
       "1      TC6281 com.philips.sapphire.systemintegrationt...  passed  RC1   \n",
       "2      TC5871 com.philips.sapphire.systemintegrationt...  passed  RC1   \n",
       "3      TC6282 com.philips.sapphire.systemintegrationt...  passed  RC1   \n",
       "4      TC5867 TC5868 TC5869 TC5872 TC5873 TC5874 TC58...  passed  RC1   \n",
       "...                                                  ...     ...  ...   \n",
       "12739  TC460 TC464 TC1126 TC1189 TC2149 com.philips.s...  passed  RC4   \n",
       "12740  TC460 TC464 TC1126 TC1189 TC2148 com.philips.s...  passed  RC4   \n",
       "12741  TC460 TC464 TC1126 TC1189 TC2146 com.philips.s...  passed  RC4   \n",
       "12742  TC237 TC2069 TC2542 com.philips.sapphire.syste...  passed  RC4   \n",
       "12743  TC2331 com.philips.sapphire.systemintegrationt...  passed  RC4   \n",
       "\n",
       "           name                                          file_name  \n",
       "0      Akshitha  ..\\data\\RestApiTests\\RC1\\Akshitha\\20200924T110...  \n",
       "1      Akshitha  ..\\data\\RestApiTests\\RC1\\Akshitha\\20200924T110...  \n",
       "2      Akshitha  ..\\data\\RestApiTests\\RC1\\Akshitha\\20200924T110...  \n",
       "3      Akshitha  ..\\data\\RestApiTests\\RC1\\Akshitha\\20200924T110...  \n",
       "4      Akshitha  ..\\data\\RestApiTests\\RC1\\Akshitha\\20200924T110...  \n",
       "...         ...                                                ...  \n",
       "12739    Mardis  ..\\data\\RestApiTests\\RC4\\Mardis\\Mardis\\2020100...  \n",
       "12740    Mardis  ..\\data\\RestApiTests\\RC4\\Mardis\\Mardis\\2020100...  \n",
       "12741    Mardis  ..\\data\\RestApiTests\\RC4\\Mardis\\Mardis\\2020100...  \n",
       "12742    Mardis  ..\\data\\RestApiTests\\RC4\\Mardis\\Mardis\\2020100...  \n",
       "12743    Mardis  ..\\data\\RestApiTests\\RC4\\Mardis\\Mardis\\2020100...  \n",
       "\n",
       "[10671 rows x 5 columns]"
      ],
      "text/html": "<div>\n<style scoped>\n    .dataframe tbody tr th:only-of-type {\n        vertical-align: middle;\n    }\n\n    .dataframe tbody tr th {\n        vertical-align: top;\n    }\n\n    .dataframe thead th {\n        text-align: right;\n    }\n</style>\n<table border=\"1\" class=\"dataframe\">\n  <thead>\n    <tr style=\"text-align: right;\">\n      <th></th>\n      <th>test_name</th>\n      <th>status</th>\n      <th>rc</th>\n      <th>name</th>\n      <th>file_name</th>\n    </tr>\n  </thead>\n  <tbody>\n    <tr>\n      <th>0</th>\n      <td>TC6281 com.philips.sapphire.systemintegrationt...</td>\n      <td>passed</td>\n      <td>RC1</td>\n      <td>Akshitha</td>\n      <td>..\\data\\RestApiTests\\RC1\\Akshitha\\20200924T110...</td>\n    </tr>\n    <tr>\n      <th>1</th>\n      <td>TC6281 com.philips.sapphire.systemintegrationt...</td>\n      <td>passed</td>\n      <td>RC1</td>\n      <td>Akshitha</td>\n      <td>..\\data\\RestApiTests\\RC1\\Akshitha\\20200924T110...</td>\n    </tr>\n    <tr>\n      <th>2</th>\n      <td>TC5871 com.philips.sapphire.systemintegrationt...</td>\n      <td>passed</td>\n      <td>RC1</td>\n      <td>Akshitha</td>\n      <td>..\\data\\RestApiTests\\RC1\\Akshitha\\20200924T110...</td>\n    </tr>\n    <tr>\n      <th>3</th>\n      <td>TC6282 com.philips.sapphire.systemintegrationt...</td>\n      <td>passed</td>\n      <td>RC1</td>\n      <td>Akshitha</td>\n      <td>..\\data\\RestApiTests\\RC1\\Akshitha\\20200924T110...</td>\n    </tr>\n    <tr>\n      <th>4</th>\n      <td>TC5867 TC5868 TC5869 TC5872 TC5873 TC5874 TC58...</td>\n      <td>passed</td>\n      <td>RC1</td>\n      <td>Akshitha</td>\n      <td>..\\data\\RestApiTests\\RC1\\Akshitha\\20200924T110...</td>\n    </tr>\n    <tr>\n      <th>...</th>\n      <td>...</td>\n      <td>...</td>\n      <td>...</td>\n      <td>...</td>\n      <td>...</td>\n    </tr>\n    <tr>\n      <th>12739</th>\n      <td>TC460 TC464 TC1126 TC1189 TC2149 com.philips.s...</td>\n      <td>passed</td>\n      <td>RC4</td>\n      <td>Mardis</td>\n      <td>..\\data\\RestApiTests\\RC4\\Mardis\\Mardis\\2020100...</td>\n    </tr>\n    <tr>\n      <th>12740</th>\n      <td>TC460 TC464 TC1126 TC1189 TC2148 com.philips.s...</td>\n      <td>passed</td>\n      <td>RC4</td>\n      <td>Mardis</td>\n      <td>..\\data\\RestApiTests\\RC4\\Mardis\\Mardis\\2020100...</td>\n    </tr>\n    <tr>\n      <th>12741</th>\n      <td>TC460 TC464 TC1126 TC1189 TC2146 com.philips.s...</td>\n      <td>passed</td>\n      <td>RC4</td>\n      <td>Mardis</td>\n      <td>..\\data\\RestApiTests\\RC4\\Mardis\\Mardis\\2020100...</td>\n    </tr>\n    <tr>\n      <th>12742</th>\n      <td>TC237 TC2069 TC2542 com.philips.sapphire.syste...</td>\n      <td>passed</td>\n      <td>RC4</td>\n      <td>Mardis</td>\n      <td>..\\data\\RestApiTests\\RC4\\Mardis\\Mardis\\2020100...</td>\n    </tr>\n    <tr>\n      <th>12743</th>\n      <td>TC2331 com.philips.sapphire.systemintegrationt...</td>\n      <td>passed</td>\n      <td>RC4</td>\n      <td>Mardis</td>\n      <td>..\\data\\RestApiTests\\RC4\\Mardis\\Mardis\\2020100...</td>\n    </tr>\n  </tbody>\n</table>\n<p>10671 rows × 5 columns</p>\n</div>"
     },
     "metadata": {},
     "execution_count": 7
    }
   ],
   "source": [
    "valid_api"
   ]
  },
  {
   "cell_type": "code",
   "execution_count": 8,
   "metadata": {},
   "outputs": [
    {
     "output_type": "execute_result",
     "data": {
      "text/plain": [
       "                                              test_name        status   rc  \\\n",
       "245   com.philips.sapphire.systemintegrationtests.te...       skipped  RC1   \n",
       "267   TC4154 com.philips.sapphire.systemintegrationt...       skipped  RC1   \n",
       "283   TC2254 TC4154 com.philips.sapphire.systeminteg...       skipped  RC1   \n",
       "399              Unknown massPatientSyncPerformanceTest  inconclusive  RC1   \n",
       "400              Unknown massPatientSyncPerformanceTest  inconclusive  RC1   \n",
       "...                                                 ...           ...  ...   \n",
       "9461  TC460 TC464 TC1126 TC1189 TC2148 com.philips.s...       skipped  RC3   \n",
       "9465  TC460 TC464 TC1126 TC1189 TC2143 com.philips.s...       skipped  RC3   \n",
       "9468  TC460 TC464 TC1126 TC1189 TC2146 com.philips.s...       skipped  RC3   \n",
       "9475  TC460 TC464 TC1126 TC1189 TC2147 com.philips.s...       skipped  RC3   \n",
       "9478  TC460 TC464 TC1126 TC1189 TC2151 com.philips.s...       skipped  RC3   \n",
       "\n",
       "         name                                          file_name  \n",
       "245    Carlos  ..\\data\\RestApiTests\\RC1\\Carlos\\20200924T19501...  \n",
       "267    Carlos  ..\\data\\RestApiTests\\RC1\\Carlos\\20200924T19501...  \n",
       "283    Carlos  ..\\data\\RestApiTests\\RC1\\Carlos\\20200924T19501...  \n",
       "399   Subhash  ..\\data\\RestApiTests\\RC1\\Subhash\\testResults_2...  \n",
       "400   Subhash  ..\\data\\RestApiTests\\RC1\\Subhash\\testResults_2...  \n",
       "...       ...                                                ...  \n",
       "9461  Fischer  ..\\data\\RestApiTests\\RC3\\Fischer\\Fischer\\20201...  \n",
       "9465  Fischer  ..\\data\\RestApiTests\\RC3\\Fischer\\Fischer\\20201...  \n",
       "9468  Fischer  ..\\data\\RestApiTests\\RC3\\Fischer\\Fischer\\20201...  \n",
       "9475  Fischer  ..\\data\\RestApiTests\\RC3\\Fischer\\Fischer\\20201...  \n",
       "9478  Fischer  ..\\data\\RestApiTests\\RC3\\Fischer\\Fischer\\20201...  \n",
       "\n",
       "[2073 rows x 5 columns]"
      ],
      "text/html": "<div>\n<style scoped>\n    .dataframe tbody tr th:only-of-type {\n        vertical-align: middle;\n    }\n\n    .dataframe tbody tr th {\n        vertical-align: top;\n    }\n\n    .dataframe thead th {\n        text-align: right;\n    }\n</style>\n<table border=\"1\" class=\"dataframe\">\n  <thead>\n    <tr style=\"text-align: right;\">\n      <th></th>\n      <th>test_name</th>\n      <th>status</th>\n      <th>rc</th>\n      <th>name</th>\n      <th>file_name</th>\n    </tr>\n  </thead>\n  <tbody>\n    <tr>\n      <th>245</th>\n      <td>com.philips.sapphire.systemintegrationtests.te...</td>\n      <td>skipped</td>\n      <td>RC1</td>\n      <td>Carlos</td>\n      <td>..\\data\\RestApiTests\\RC1\\Carlos\\20200924T19501...</td>\n    </tr>\n    <tr>\n      <th>267</th>\n      <td>TC4154 com.philips.sapphire.systemintegrationt...</td>\n      <td>skipped</td>\n      <td>RC1</td>\n      <td>Carlos</td>\n      <td>..\\data\\RestApiTests\\RC1\\Carlos\\20200924T19501...</td>\n    </tr>\n    <tr>\n      <th>283</th>\n      <td>TC2254 TC4154 com.philips.sapphire.systeminteg...</td>\n      <td>skipped</td>\n      <td>RC1</td>\n      <td>Carlos</td>\n      <td>..\\data\\RestApiTests\\RC1\\Carlos\\20200924T19501...</td>\n    </tr>\n    <tr>\n      <th>399</th>\n      <td>Unknown massPatientSyncPerformanceTest</td>\n      <td>inconclusive</td>\n      <td>RC1</td>\n      <td>Subhash</td>\n      <td>..\\data\\RestApiTests\\RC1\\Subhash\\testResults_2...</td>\n    </tr>\n    <tr>\n      <th>400</th>\n      <td>Unknown massPatientSyncPerformanceTest</td>\n      <td>inconclusive</td>\n      <td>RC1</td>\n      <td>Subhash</td>\n      <td>..\\data\\RestApiTests\\RC1\\Subhash\\testResults_2...</td>\n    </tr>\n    <tr>\n      <th>...</th>\n      <td>...</td>\n      <td>...</td>\n      <td>...</td>\n      <td>...</td>\n      <td>...</td>\n    </tr>\n    <tr>\n      <th>9461</th>\n      <td>TC460 TC464 TC1126 TC1189 TC2148 com.philips.s...</td>\n      <td>skipped</td>\n      <td>RC3</td>\n      <td>Fischer</td>\n      <td>..\\data\\RestApiTests\\RC3\\Fischer\\Fischer\\20201...</td>\n    </tr>\n    <tr>\n      <th>9465</th>\n      <td>TC460 TC464 TC1126 TC1189 TC2143 com.philips.s...</td>\n      <td>skipped</td>\n      <td>RC3</td>\n      <td>Fischer</td>\n      <td>..\\data\\RestApiTests\\RC3\\Fischer\\Fischer\\20201...</td>\n    </tr>\n    <tr>\n      <th>9468</th>\n      <td>TC460 TC464 TC1126 TC1189 TC2146 com.philips.s...</td>\n      <td>skipped</td>\n      <td>RC3</td>\n      <td>Fischer</td>\n      <td>..\\data\\RestApiTests\\RC3\\Fischer\\Fischer\\20201...</td>\n    </tr>\n    <tr>\n      <th>9475</th>\n      <td>TC460 TC464 TC1126 TC1189 TC2147 com.philips.s...</td>\n      <td>skipped</td>\n      <td>RC3</td>\n      <td>Fischer</td>\n      <td>..\\data\\RestApiTests\\RC3\\Fischer\\Fischer\\20201...</td>\n    </tr>\n    <tr>\n      <th>9478</th>\n      <td>TC460 TC464 TC1126 TC1189 TC2151 com.philips.s...</td>\n      <td>skipped</td>\n      <td>RC3</td>\n      <td>Fischer</td>\n      <td>..\\data\\RestApiTests\\RC3\\Fischer\\Fischer\\20201...</td>\n    </tr>\n  </tbody>\n</table>\n<p>2073 rows × 5 columns</p>\n</div>"
     },
     "metadata": {},
     "execution_count": 8
    }
   ],
   "source": [
    "invalid_api"
   ]
  },
  {
   "cell_type": "code",
   "execution_count": 9,
   "metadata": {},
   "outputs": [],
   "source": [
    "valid_performance, invalid_performance = check_performance_tests(\"../data/PerformanceTestResultsByTC_2020_10_12.xlsx\")"
   ]
  },
  {
   "cell_type": "code",
   "execution_count": 10,
   "metadata": {},
   "outputs": [
    {
     "output_type": "execute_result",
     "data": {
      "text/plain": [
       "             TC(s) and Script name PASS/FAIL  \\\n",
       "0   TC10051 patient record display      PASS   \n",
       "1     TC10051 patient list display      PASS   \n",
       "2          TC10052 Business report      FAIL   \n",
       "3   TC10051 patient search display      PASS   \n",
       "4          TC10054 Waveform Report      PASS   \n",
       "5           TC10054 Trilogy Report      PASS   \n",
       "6                TC10054 O2 Report      PASS   \n",
       "7          TC10051 Document Upload      PASS   \n",
       "8           TC10051 Task List view      PASS   \n",
       "9          TC10053 SD Card Uploads      PASS   \n",
       "10    TC10054 Sleep Summary Report      FAIL   \n",
       "11    TC10054 Sleep Detail  Report      FAIL   \n",
       "\n",
       "                                                Notes  \n",
       "0   Response time is right at SLA, however.  Needs...  \n",
       "1                                                None  \n",
       "2   Viewing the report passes, export fails DE6069...  \n",
       "3                                                None  \n",
       "4   PASS / Slightly high - needs to be investigate...  \n",
       "5                                                None  \n",
       "6   PASS / Slightly high - needs to be investigate...  \n",
       "7                                                None  \n",
       "8                                                None  \n",
       "9                                                None  \n",
       "10                                             DE5602  \n",
       "11                                             DE5602  "
      ],
      "text/html": "<div>\n<style scoped>\n    .dataframe tbody tr th:only-of-type {\n        vertical-align: middle;\n    }\n\n    .dataframe tbody tr th {\n        vertical-align: top;\n    }\n\n    .dataframe thead th {\n        text-align: right;\n    }\n</style>\n<table border=\"1\" class=\"dataframe\">\n  <thead>\n    <tr style=\"text-align: right;\">\n      <th></th>\n      <th>TC(s) and Script name</th>\n      <th>PASS/FAIL</th>\n      <th>Notes</th>\n    </tr>\n  </thead>\n  <tbody>\n    <tr>\n      <th>0</th>\n      <td>TC10051 patient record display</td>\n      <td>PASS</td>\n      <td>Response time is right at SLA, however.  Needs...</td>\n    </tr>\n    <tr>\n      <th>1</th>\n      <td>TC10051 patient list display</td>\n      <td>PASS</td>\n      <td>None</td>\n    </tr>\n    <tr>\n      <th>2</th>\n      <td>TC10052 Business report</td>\n      <td>FAIL</td>\n      <td>Viewing the report passes, export fails DE6069...</td>\n    </tr>\n    <tr>\n      <th>3</th>\n      <td>TC10051 patient search display</td>\n      <td>PASS</td>\n      <td>None</td>\n    </tr>\n    <tr>\n      <th>4</th>\n      <td>TC10054 Waveform Report</td>\n      <td>PASS</td>\n      <td>PASS / Slightly high - needs to be investigate...</td>\n    </tr>\n    <tr>\n      <th>5</th>\n      <td>TC10054 Trilogy Report</td>\n      <td>PASS</td>\n      <td>None</td>\n    </tr>\n    <tr>\n      <th>6</th>\n      <td>TC10054 O2 Report</td>\n      <td>PASS</td>\n      <td>PASS / Slightly high - needs to be investigate...</td>\n    </tr>\n    <tr>\n      <th>7</th>\n      <td>TC10051 Document Upload</td>\n      <td>PASS</td>\n      <td>None</td>\n    </tr>\n    <tr>\n      <th>8</th>\n      <td>TC10051 Task List view</td>\n      <td>PASS</td>\n      <td>None</td>\n    </tr>\n    <tr>\n      <th>9</th>\n      <td>TC10053 SD Card Uploads</td>\n      <td>PASS</td>\n      <td>None</td>\n    </tr>\n    <tr>\n      <th>10</th>\n      <td>TC10054 Sleep Summary Report</td>\n      <td>FAIL</td>\n      <td>DE5602</td>\n    </tr>\n    <tr>\n      <th>11</th>\n      <td>TC10054 Sleep Detail  Report</td>\n      <td>FAIL</td>\n      <td>DE5602</td>\n    </tr>\n  </tbody>\n</table>\n</div>"
     },
     "metadata": {},
     "execution_count": 10
    }
   ],
   "source": [
    "valid_performance"
   ]
  },
  {
   "cell_type": "code",
   "execution_count": 11,
   "metadata": {},
   "outputs": [
    {
     "output_type": "execute_result",
     "data": {
      "text/plain": [
       "Empty DataFrame\n",
       "Columns: [TC(s) and Script name, PASS/FAIL, Notes]\n",
       "Index: []"
      ],
      "text/html": "<div>\n<style scoped>\n    .dataframe tbody tr th:only-of-type {\n        vertical-align: middle;\n    }\n\n    .dataframe tbody tr th {\n        vertical-align: top;\n    }\n\n    .dataframe thead th {\n        text-align: right;\n    }\n</style>\n<table border=\"1\" class=\"dataframe\">\n  <thead>\n    <tr style=\"text-align: right;\">\n      <th></th>\n      <th>TC(s) and Script name</th>\n      <th>PASS/FAIL</th>\n      <th>Notes</th>\n    </tr>\n  </thead>\n  <tbody>\n  </tbody>\n</table>\n</div>"
     },
     "metadata": {},
     "execution_count": 11
    }
   ],
   "source": [
    "invalid_performance"
   ]
  },
  {
   "cell_type": "code",
   "execution_count": 12,
   "metadata": {},
   "outputs": [],
   "source": [
    "valid_component, invalid_component = check_component_tests(\"../data/1.33 MSGateway.docx\")"
   ]
  },
  {
   "cell_type": "code",
   "execution_count": 13,
   "metadata": {},
   "outputs": [
    {
     "output_type": "execute_result",
     "data": {
      "text/plain": [
       "                                             test_name status\n",
       "0    CARE-30043 – Summary:testDeleteMaskSuggestions...   PASS\n",
       "1    CARE-28230 – Summary:testSearchPatientsWithGiv...   PASS\n",
       "2    CARE-28231 – Summary:testSearchPatientsWithGiv...   PASS\n",
       "3                  CARE-30041 – Summary:testGetPatient   PASS\n",
       "4    CARE-28396 – Summary:testSearchPatientsWithGiv...   PASS\n",
       "..                                                 ...    ...\n",
       "153  CARE-29978 – Summary:getMaskCoefficients_inval...   PASS\n",
       "154  CARE-29982 – Summary:getMaskCoefficients_mask_...   PASS\n",
       "155  CARE-29983 – Summary:deleteMaskCoefficients_ma...   PASS\n",
       "156  CARE-29984 – Summary:upsertMaskCoefficients_us...   PASS\n",
       "157  CARE-29985 – Summary:upsertMaskCoefficients_in...   PASS\n",
       "\n",
       "[158 rows x 2 columns]"
      ],
      "text/html": "<div>\n<style scoped>\n    .dataframe tbody tr th:only-of-type {\n        vertical-align: middle;\n    }\n\n    .dataframe tbody tr th {\n        vertical-align: top;\n    }\n\n    .dataframe thead th {\n        text-align: right;\n    }\n</style>\n<table border=\"1\" class=\"dataframe\">\n  <thead>\n    <tr style=\"text-align: right;\">\n      <th></th>\n      <th>test_name</th>\n      <th>status</th>\n    </tr>\n  </thead>\n  <tbody>\n    <tr>\n      <th>0</th>\n      <td>CARE-30043 – Summary:testDeleteMaskSuggestions...</td>\n      <td>PASS</td>\n    </tr>\n    <tr>\n      <th>1</th>\n      <td>CARE-28230 – Summary:testSearchPatientsWithGiv...</td>\n      <td>PASS</td>\n    </tr>\n    <tr>\n      <th>2</th>\n      <td>CARE-28231 – Summary:testSearchPatientsWithGiv...</td>\n      <td>PASS</td>\n    </tr>\n    <tr>\n      <th>3</th>\n      <td>CARE-30041 – Summary:testGetPatient</td>\n      <td>PASS</td>\n    </tr>\n    <tr>\n      <th>4</th>\n      <td>CARE-28396 – Summary:testSearchPatientsWithGiv...</td>\n      <td>PASS</td>\n    </tr>\n    <tr>\n      <th>...</th>\n      <td>...</td>\n      <td>...</td>\n    </tr>\n    <tr>\n      <th>153</th>\n      <td>CARE-29978 – Summary:getMaskCoefficients_inval...</td>\n      <td>PASS</td>\n    </tr>\n    <tr>\n      <th>154</th>\n      <td>CARE-29982 – Summary:getMaskCoefficients_mask_...</td>\n      <td>PASS</td>\n    </tr>\n    <tr>\n      <th>155</th>\n      <td>CARE-29983 – Summary:deleteMaskCoefficients_ma...</td>\n      <td>PASS</td>\n    </tr>\n    <tr>\n      <th>156</th>\n      <td>CARE-29984 – Summary:upsertMaskCoefficients_us...</td>\n      <td>PASS</td>\n    </tr>\n    <tr>\n      <th>157</th>\n      <td>CARE-29985 – Summary:upsertMaskCoefficients_in...</td>\n      <td>PASS</td>\n    </tr>\n  </tbody>\n</table>\n<p>158 rows × 2 columns</p>\n</div>"
     },
     "metadata": {},
     "execution_count": 13
    }
   ],
   "source": [
    "valid_component"
   ]
  },
  {
   "cell_type": "code",
   "execution_count": 14,
   "metadata": {},
   "outputs": [
    {
     "output_type": "execute_result",
     "data": {
      "text/plain": [
       "Empty DataFrame\n",
       "Columns: [test_name, status]\n",
       "Index: []"
      ],
      "text/html": "<div>\n<style scoped>\n    .dataframe tbody tr th:only-of-type {\n        vertical-align: middle;\n    }\n\n    .dataframe tbody tr th {\n        vertical-align: top;\n    }\n\n    .dataframe thead th {\n        text-align: right;\n    }\n</style>\n<table border=\"1\" class=\"dataframe\">\n  <thead>\n    <tr style=\"text-align: right;\">\n      <th></th>\n      <th>test_name</th>\n      <th>status</th>\n    </tr>\n  </thead>\n  <tbody>\n  </tbody>\n</table>\n</div>"
     },
     "metadata": {},
     "execution_count": 14
    }
   ],
   "source": [
    "invalid_component"
   ]
  },
  {
   "cell_type": "code",
   "execution_count": 2,
   "metadata": {},
   "outputs": [
    {
     "output_type": "stream",
     "name": "stdout",
     "text": [
      "Loading CO from: ../data/ER 2228015 v42 ATT1 Sapphire 1.32 Trace Matrix.xlsx\n",
      "Loading in worksheet titled: Care Orchestrator PRD / SRS Trace Matrix\n"
     ]
    }
   ],
   "source": [
    "trace = read_trace(\"../data/ER 2228015 v42 ATT1 Sapphire 1.32 Trace Matrix.xlsx\", \"CO\")\n",
    "prd_prefix = \"US\"\n",
    "srs_prefix = \"TC\"\n",
    "\n",
    "obs_srs_file_path = \"../data/Obsolete SRS_Test Cases_11.16 pull.csv\"\n",
    "obs_srs=pd.read_csv(obs_srs_file_path)\n",
    "obs_srs_list=obs_srs[\"Formatted ID\"].unique()\n",
    "\n",
    "active_prd = pd.read_excel(\"../data/1.33 PRD.xlsx\")\n",
    "active_prd_list = active_prd[\"ID\"].unique()\n",
    "active_prd_list = active_prd_list[~pd.isnull(active_prd_list)]"
   ]
  },
  {
   "cell_type": "code",
   "execution_count": 3,
   "metadata": {},
   "outputs": [],
   "source": [
    "prd_result, invalid_prd = check_prd_has_srs(trace, prd_prefix, srs_prefix)"
   ]
  },
  {
   "cell_type": "code",
   "execution_count": 4,
   "metadata": {},
   "outputs": [
    {
     "output_type": "execute_result",
     "data": {
      "text/plain": [
       "                        PRD  SRS ID\n",
       "0                   US12380       9\n",
       "1            US12380 US1659       1\n",
       "2                  US12756       14\n",
       "3                   US13044     136\n",
       "4           US13044, US2978       1\n",
       "..                      ...     ...\n",
       "174  US9787, US9789, US3869       1\n",
       "175                  US9788       2\n",
       "176           US9788 US8651       2\n",
       "177                  US9789      22\n",
       "178                  US9790      13\n",
       "\n",
       "[179 rows x 2 columns]"
      ],
      "text/html": "<div>\n<style scoped>\n    .dataframe tbody tr th:only-of-type {\n        vertical-align: middle;\n    }\n\n    .dataframe tbody tr th {\n        vertical-align: top;\n    }\n\n    .dataframe thead th {\n        text-align: right;\n    }\n</style>\n<table border=\"1\" class=\"dataframe\">\n  <thead>\n    <tr style=\"text-align: right;\">\n      <th></th>\n      <th>PRD</th>\n      <th>SRS ID</th>\n    </tr>\n  </thead>\n  <tbody>\n    <tr>\n      <th>0</th>\n      <td>US12380</td>\n      <td>9</td>\n    </tr>\n    <tr>\n      <th>1</th>\n      <td>US12380 US1659</td>\n      <td>1</td>\n    </tr>\n    <tr>\n      <th>2</th>\n      <td>US12756</td>\n      <td>14</td>\n    </tr>\n    <tr>\n      <th>3</th>\n      <td>US13044</td>\n      <td>136</td>\n    </tr>\n    <tr>\n      <th>4</th>\n      <td>US13044, US2978</td>\n      <td>1</td>\n    </tr>\n    <tr>\n      <th>...</th>\n      <td>...</td>\n      <td>...</td>\n    </tr>\n    <tr>\n      <th>174</th>\n      <td>US9787, US9789, US3869</td>\n      <td>1</td>\n    </tr>\n    <tr>\n      <th>175</th>\n      <td>US9788</td>\n      <td>2</td>\n    </tr>\n    <tr>\n      <th>176</th>\n      <td>US9788 US8651</td>\n      <td>2</td>\n    </tr>\n    <tr>\n      <th>177</th>\n      <td>US9789</td>\n      <td>22</td>\n    </tr>\n    <tr>\n      <th>178</th>\n      <td>US9790</td>\n      <td>13</td>\n    </tr>\n  </tbody>\n</table>\n<p>179 rows × 2 columns</p>\n</div>"
     },
     "metadata": {},
     "execution_count": 4
    }
   ],
   "source": [
    "prd_result"
   ]
  },
  {
   "cell_type": "code",
   "execution_count": 5,
   "metadata": {},
   "outputs": [
    {
     "output_type": "execute_result",
     "data": {
      "text/plain": [
       "Empty DataFrame\n",
       "Columns: [PRD, SRS ID]\n",
       "Index: []"
      ],
      "text/html": "<div>\n<style scoped>\n    .dataframe tbody tr th:only-of-type {\n        vertical-align: middle;\n    }\n\n    .dataframe tbody tr th {\n        vertical-align: top;\n    }\n\n    .dataframe thead th {\n        text-align: right;\n    }\n</style>\n<table border=\"1\" class=\"dataframe\">\n  <thead>\n    <tr style=\"text-align: right;\">\n      <th></th>\n      <th>PRD</th>\n      <th>SRS ID</th>\n    </tr>\n  </thead>\n  <tbody>\n  </tbody>\n</table>\n</div>"
     },
     "metadata": {},
     "execution_count": 5
    }
   ],
   "source": [
    "invalid_prd"
   ]
  },
  {
   "cell_type": "code",
   "execution_count": 6,
   "metadata": {},
   "outputs": [
    {
     "output_type": "execute_result",
     "data": {
      "text/plain": [
       "set()"
      ]
     },
     "metadata": {},
     "execution_count": 6
    }
   ],
   "source": [
    "check_prd_ref_by_srs_exists(trace, active_prd_list, prd_prefix, srs_prefix)"
   ]
  },
  {
   "cell_type": "code",
   "execution_count": 1,
   "metadata": {},
   "outputs": [
    {
     "output_type": "error",
     "ename": "NameError",
     "evalue": "name 'check_srs_has_test' is not defined",
     "traceback": [
      "\u001b[1;31m---------------------------------------------------------------------------\u001b[0m",
      "\u001b[1;31mNameError\u001b[0m                                 Traceback (most recent call last)",
      "\u001b[1;32m<ipython-input-1-916bf4c3388c>\u001b[0m in \u001b[0;36m<module>\u001b[1;34m\u001b[0m\n\u001b[1;32m----> 1\u001b[1;33m \u001b[0mvalid\u001b[0m\u001b[1;33m,\u001b[0m \u001b[0minvalid\u001b[0m \u001b[1;33m=\u001b[0m \u001b[0mcheck_srs_has_test\u001b[0m\u001b[1;33m(\u001b[0m\u001b[0mtrace\u001b[0m\u001b[1;33m,\u001b[0m \u001b[0mprd_prefix\u001b[0m\u001b[1;33m,\u001b[0m \u001b[0msrs_prefix\u001b[0m\u001b[1;33m)\u001b[0m\u001b[1;33m\u001b[0m\u001b[1;33m\u001b[0m\u001b[0m\n\u001b[0m",
      "\u001b[1;31mNameError\u001b[0m: name 'check_srs_has_test' is not defined"
     ]
    }
   ],
   "source": [
    "valid, invalid = check_srs_has_test(trace, prd_prefix, srs_prefix)"
   ]
  },
  {
   "cell_type": "code",
   "execution_count": 13,
   "metadata": {},
   "outputs": [
    {
     "output_type": "execute_result",
     "data": {
      "text/plain": [
       "   hi  hi2\n",
       "0   3    2\n",
       "1   4    5"
      ],
      "text/html": "<div>\n<style scoped>\n    .dataframe tbody tr th:only-of-type {\n        vertical-align: middle;\n    }\n\n    .dataframe tbody tr th {\n        vertical-align: top;\n    }\n\n    .dataframe thead th {\n        text-align: right;\n    }\n</style>\n<table border=\"1\" class=\"dataframe\">\n  <thead>\n    <tr style=\"text-align: right;\">\n      <th></th>\n      <th>hi</th>\n      <th>hi2</th>\n    </tr>\n  </thead>\n  <tbody>\n    <tr>\n      <th>0</th>\n      <td>3</td>\n      <td>2</td>\n    </tr>\n    <tr>\n      <th>1</th>\n      <td>4</td>\n      <td>5</td>\n    </tr>\n  </tbody>\n</table>\n</div>"
     },
     "metadata": {},
     "execution_count": 13
    }
   ],
   "source": [
    "a = pd.DataFrame([{\"hi\":3, \"hi2\":2}, {\"hi\":4, \"hi2\":5}])\n",
    "a"
   ]
  },
  {
   "cell_type": "code",
   "execution_count": 25,
   "metadata": {},
   "outputs": [],
   "source": [
    "import numpy as np\n",
    "for item in a['hi']:\n",
    "    item = str(item)\n",
    "    if len(item) <= 5:\n",
    "        item = np.nan"
   ]
  },
  {
   "cell_type": "code",
   "execution_count": 26,
   "metadata": {},
   "outputs": [
    {
     "output_type": "execute_result",
     "data": {
      "text/plain": [
       "   hi  hi2\n",
       "0   3    2\n",
       "1   4    5"
      ],
      "text/html": "<div>\n<style scoped>\n    .dataframe tbody tr th:only-of-type {\n        vertical-align: middle;\n    }\n\n    .dataframe tbody tr th {\n        vertical-align: top;\n    }\n\n    .dataframe thead th {\n        text-align: right;\n    }\n</style>\n<table border=\"1\" class=\"dataframe\">\n  <thead>\n    <tr style=\"text-align: right;\">\n      <th></th>\n      <th>hi</th>\n      <th>hi2</th>\n    </tr>\n  </thead>\n  <tbody>\n    <tr>\n      <th>0</th>\n      <td>3</td>\n      <td>2</td>\n    </tr>\n    <tr>\n      <th>1</th>\n      <td>4</td>\n      <td>5</td>\n    </tr>\n  </tbody>\n</table>\n</div>"
     },
     "metadata": {},
     "execution_count": 26
    }
   ],
   "source": [
    "a"
   ]
  },
  {
   "cell_type": "code",
   "execution_count": 27,
   "metadata": {},
   "outputs": [
    {
     "output_type": "execute_result",
     "data": {
      "text/plain": [
       "           PRD   SRS ID     Method  \\\n",
       "0       US3528   TC1000  Automated   \n",
       "1       US3528   TC1000     Manual   \n",
       "2       US2978   TC1001     Manual   \n",
       "3      US18461  TC10011     Manual   \n",
       "4      US18461  TC10011     Manual   \n",
       "...        ...      ...        ...   \n",
       "92256   US3528    TC995  Automated   \n",
       "92257   US3528    TC996     Manual   \n",
       "92258   US3528    TC996     Manual   \n",
       "92259   US3528    TC996     Manual   \n",
       "92260  US32334   TC9995     Manual   \n",
       "\n",
       "                                               Test Name V&V Test Report  \n",
       "0         TC1000 tests.downloads.POU.tcCompliancePOUTest     2228014 v50  \n",
       "1      PRD US3528 US1683 SRS TC996 TC1000 TC2058 View...     2228014 v29  \n",
       "2      PRD US2978 SRS TC1001 The patient activity log...     2228014 v02  \n",
       "3      PRD US32334 SRS TC11148 TC9673 TC9757 TC10011 ...     2228014 v45  \n",
       "4      PRD US32334 SRS TC11148 TC9679 TC9758 TC10011 ...     2228014 v45  \n",
       "...                                                  ...             ...  \n",
       "92256  TC995 TC2924 TC2931 TC2932 tests.task.complian...     2228014 v50  \n",
       "92257  PRD US3528 US1683 SRS TC996 TC1000 TC2058 View...     2228014 v29  \n",
       "92258  PRD US3528 US1683 SRS TC996 TC1998 TC1999 Comp...     2228014 v33  \n",
       "92259  PRD US3528 US1683 SRS TC996 TC1998 TC1999 Comp...     2228014 v33  \n",
       "92260  PRD US32334 SRS TC11148 TC9682 TC9995 TC10011 ...     2228014 v45  \n",
       "\n",
       "[92261 rows x 5 columns]"
      ],
      "text/html": "<div>\n<style scoped>\n    .dataframe tbody tr th:only-of-type {\n        vertical-align: middle;\n    }\n\n    .dataframe tbody tr th {\n        vertical-align: top;\n    }\n\n    .dataframe thead th {\n        text-align: right;\n    }\n</style>\n<table border=\"1\" class=\"dataframe\">\n  <thead>\n    <tr style=\"text-align: right;\">\n      <th></th>\n      <th>PRD</th>\n      <th>SRS ID</th>\n      <th>Method</th>\n      <th>Test Name</th>\n      <th>V&amp;V Test Report</th>\n    </tr>\n  </thead>\n  <tbody>\n    <tr>\n      <th>0</th>\n      <td>US3528</td>\n      <td>TC1000</td>\n      <td>Automated</td>\n      <td>TC1000 tests.downloads.POU.tcCompliancePOUTest</td>\n      <td>2228014 v50</td>\n    </tr>\n    <tr>\n      <th>1</th>\n      <td>US3528</td>\n      <td>TC1000</td>\n      <td>Manual</td>\n      <td>PRD US3528 US1683 SRS TC996 TC1000 TC2058 View...</td>\n      <td>2228014 v29</td>\n    </tr>\n    <tr>\n      <th>2</th>\n      <td>US2978</td>\n      <td>TC1001</td>\n      <td>Manual</td>\n      <td>PRD US2978 SRS TC1001 The patient activity log...</td>\n      <td>2228014 v02</td>\n    </tr>\n    <tr>\n      <th>3</th>\n      <td>US18461</td>\n      <td>TC10011</td>\n      <td>Manual</td>\n      <td>PRD US32334 SRS TC11148 TC9673 TC9757 TC10011 ...</td>\n      <td>2228014 v45</td>\n    </tr>\n    <tr>\n      <th>4</th>\n      <td>US18461</td>\n      <td>TC10011</td>\n      <td>Manual</td>\n      <td>PRD US32334 SRS TC11148 TC9679 TC9758 TC10011 ...</td>\n      <td>2228014 v45</td>\n    </tr>\n    <tr>\n      <th>...</th>\n      <td>...</td>\n      <td>...</td>\n      <td>...</td>\n      <td>...</td>\n      <td>...</td>\n    </tr>\n    <tr>\n      <th>92256</th>\n      <td>US3528</td>\n      <td>TC995</td>\n      <td>Automated</td>\n      <td>TC995 TC2924 TC2931 TC2932 tests.task.complian...</td>\n      <td>2228014 v50</td>\n    </tr>\n    <tr>\n      <th>92257</th>\n      <td>US3528</td>\n      <td>TC996</td>\n      <td>Manual</td>\n      <td>PRD US3528 US1683 SRS TC996 TC1000 TC2058 View...</td>\n      <td>2228014 v29</td>\n    </tr>\n    <tr>\n      <th>92258</th>\n      <td>US3528</td>\n      <td>TC996</td>\n      <td>Manual</td>\n      <td>PRD US3528 US1683 SRS TC996 TC1998 TC1999 Comp...</td>\n      <td>2228014 v33</td>\n    </tr>\n    <tr>\n      <th>92259</th>\n      <td>US3528</td>\n      <td>TC996</td>\n      <td>Manual</td>\n      <td>PRD US3528 US1683 SRS TC996 TC1998 TC1999 Comp...</td>\n      <td>2228014 v33</td>\n    </tr>\n    <tr>\n      <th>92260</th>\n      <td>US32334</td>\n      <td>TC9995</td>\n      <td>Manual</td>\n      <td>PRD US32334 SRS TC11148 TC9682 TC9995 TC10011 ...</td>\n      <td>2228014 v45</td>\n    </tr>\n  </tbody>\n</table>\n<p>92261 rows × 5 columns</p>\n</div>"
     },
     "metadata": {},
     "execution_count": 27
    }
   ],
   "source": [
    "trace"
   ]
  },
  {
   "cell_type": "code",
   "execution_count": 28,
   "metadata": {},
   "outputs": [
    {
     "output_type": "execute_result",
     "data": {
      "text/plain": [
       "           PRD   SRS ID     Method  \\\n",
       "0       US3528   TC1000  Automated   \n",
       "1       US3528   TC1000     Manual   \n",
       "2       US2978   TC1001     Manual   \n",
       "3      US18461  TC10011     Manual   \n",
       "4      US18461  TC10011     Manual   \n",
       "...        ...      ...        ...   \n",
       "92256   US3528    TC995  Automated   \n",
       "92257   US3528    TC996     Manual   \n",
       "92258   US3528    TC996     Manual   \n",
       "92259   US3528    TC996     Manual   \n",
       "92260  US32334   TC9995     Manual   \n",
       "\n",
       "                                               Test Name V&V Test Report  \n",
       "0         TC1000 tests.downloads.POU.tcCompliancePOUTest     2228014 v50  \n",
       "1      PRD US3528 US1683 SRS TC996 TC1000 TC2058 View...     2228014 v29  \n",
       "2      PRD US2978 SRS TC1001 The patient activity log...     2228014 v02  \n",
       "3      PRD US32334 SRS TC11148 TC9673 TC9757 TC10011 ...     2228014 v45  \n",
       "4      PRD US32334 SRS TC11148 TC9679 TC9758 TC10011 ...     2228014 v45  \n",
       "...                                                  ...             ...  \n",
       "92256  TC995 TC2924 TC2931 TC2932 tests.task.complian...     2228014 v50  \n",
       "92257  PRD US3528 US1683 SRS TC996 TC1000 TC2058 View...     2228014 v29  \n",
       "92258  PRD US3528 US1683 SRS TC996 TC1998 TC1999 Comp...     2228014 v33  \n",
       "92259  PRD US3528 US1683 SRS TC996 TC1998 TC1999 Comp...     2228014 v33  \n",
       "92260  PRD US32334 SRS TC11148 TC9682 TC9995 TC10011 ...     2228014 v45  \n",
       "\n",
       "[92240 rows x 5 columns]"
      ],
      "text/html": "<div>\n<style scoped>\n    .dataframe tbody tr th:only-of-type {\n        vertical-align: middle;\n    }\n\n    .dataframe tbody tr th {\n        vertical-align: top;\n    }\n\n    .dataframe thead th {\n        text-align: right;\n    }\n</style>\n<table border=\"1\" class=\"dataframe\">\n  <thead>\n    <tr style=\"text-align: right;\">\n      <th></th>\n      <th>PRD</th>\n      <th>SRS ID</th>\n      <th>Method</th>\n      <th>Test Name</th>\n      <th>V&amp;V Test Report</th>\n    </tr>\n  </thead>\n  <tbody>\n    <tr>\n      <th>0</th>\n      <td>US3528</td>\n      <td>TC1000</td>\n      <td>Automated</td>\n      <td>TC1000 tests.downloads.POU.tcCompliancePOUTest</td>\n      <td>2228014 v50</td>\n    </tr>\n    <tr>\n      <th>1</th>\n      <td>US3528</td>\n      <td>TC1000</td>\n      <td>Manual</td>\n      <td>PRD US3528 US1683 SRS TC996 TC1000 TC2058 View...</td>\n      <td>2228014 v29</td>\n    </tr>\n    <tr>\n      <th>2</th>\n      <td>US2978</td>\n      <td>TC1001</td>\n      <td>Manual</td>\n      <td>PRD US2978 SRS TC1001 The patient activity log...</td>\n      <td>2228014 v02</td>\n    </tr>\n    <tr>\n      <th>3</th>\n      <td>US18461</td>\n      <td>TC10011</td>\n      <td>Manual</td>\n      <td>PRD US32334 SRS TC11148 TC9673 TC9757 TC10011 ...</td>\n      <td>2228014 v45</td>\n    </tr>\n    <tr>\n      <th>4</th>\n      <td>US18461</td>\n      <td>TC10011</td>\n      <td>Manual</td>\n      <td>PRD US32334 SRS TC11148 TC9679 TC9758 TC10011 ...</td>\n      <td>2228014 v45</td>\n    </tr>\n    <tr>\n      <th>...</th>\n      <td>...</td>\n      <td>...</td>\n      <td>...</td>\n      <td>...</td>\n      <td>...</td>\n    </tr>\n    <tr>\n      <th>92256</th>\n      <td>US3528</td>\n      <td>TC995</td>\n      <td>Automated</td>\n      <td>TC995 TC2924 TC2931 TC2932 tests.task.complian...</td>\n      <td>2228014 v50</td>\n    </tr>\n    <tr>\n      <th>92257</th>\n      <td>US3528</td>\n      <td>TC996</td>\n      <td>Manual</td>\n      <td>PRD US3528 US1683 SRS TC996 TC1000 TC2058 View...</td>\n      <td>2228014 v29</td>\n    </tr>\n    <tr>\n      <th>92258</th>\n      <td>US3528</td>\n      <td>TC996</td>\n      <td>Manual</td>\n      <td>PRD US3528 US1683 SRS TC996 TC1998 TC1999 Comp...</td>\n      <td>2228014 v33</td>\n    </tr>\n    <tr>\n      <th>92259</th>\n      <td>US3528</td>\n      <td>TC996</td>\n      <td>Manual</td>\n      <td>PRD US3528 US1683 SRS TC996 TC1998 TC1999 Comp...</td>\n      <td>2228014 v33</td>\n    </tr>\n    <tr>\n      <th>92260</th>\n      <td>US32334</td>\n      <td>TC9995</td>\n      <td>Manual</td>\n      <td>PRD US32334 SRS TC11148 TC9682 TC9995 TC10011 ...</td>\n      <td>2228014 v45</td>\n    </tr>\n  </tbody>\n</table>\n<p>92240 rows × 5 columns</p>\n</div>"
     },
     "metadata": {},
     "execution_count": 28
    }
   ],
   "source": [
    "trace.loc[trace['PRD'].str.startswith(prd_prefix)]"
   ]
  },
  {
   "cell_type": "code",
   "execution_count": 30,
   "metadata": {},
   "outputs": [
    {
     "output_type": "execute_result",
     "data": {
      "text/plain": [
       "          PRD   SRS ID     Method  \\\n",
       "0      US3528   TC1000  Automated   \n",
       "7      US1657  TC10013  Automated   \n",
       "8      US1657  TC10013  Automated   \n",
       "9      US1657  TC10013  Automated   \n",
       "10     US1657  TC10013  Automated   \n",
       "...       ...      ...        ...   \n",
       "92252  US1683    TC993  Automated   \n",
       "92253  US1683    TC993  Automated   \n",
       "92254  US1683    TC993  Automated   \n",
       "92255  US3528    TC995  Automated   \n",
       "92256  US3528    TC995  Automated   \n",
       "\n",
       "                                               Test Name V&V Test Report  \n",
       "0         TC1000 tests.downloads.POU.tcCompliancePOUTest     2228014 v50  \n",
       "7      TC10013 RxAttributeAvailable Dorma 100 device ...     2228014 v50  \n",
       "8      TC10013 RxAttributeAvailable Dorma 100 device ...     2228014 v50  \n",
       "9      TC10013 RxDeviceAvailable Dorma 100 device CPA...     2228014 v50  \n",
       "10     TC10013 RxDeviceAvailable Dorma 100 device CPA...     2228014 v50  \n",
       "...                                                  ...             ...  \n",
       "92252  TC993 TC1921 tests.task.compliance.F2518_Compl...     2228014 v50  \n",
       "92253  TC993 TC1921 tests.task.compliance.F2518_Compl...     2228014 v50  \n",
       "92254  TC993 TC1921 tests.task.compliance.F2518_Compl...     2228014 v50  \n",
       "92255  TC995 TC2924 TC2931 TC2932 tests.task.complian...     2228014 v50  \n",
       "92256  TC995 TC2924 TC2931 TC2932 tests.task.complian...     2228014 v50  \n",
       "\n",
       "[89331 rows x 5 columns]"
      ],
      "text/html": "<div>\n<style scoped>\n    .dataframe tbody tr th:only-of-type {\n        vertical-align: middle;\n    }\n\n    .dataframe tbody tr th {\n        vertical-align: top;\n    }\n\n    .dataframe thead th {\n        text-align: right;\n    }\n</style>\n<table border=\"1\" class=\"dataframe\">\n  <thead>\n    <tr style=\"text-align: right;\">\n      <th></th>\n      <th>PRD</th>\n      <th>SRS ID</th>\n      <th>Method</th>\n      <th>Test Name</th>\n      <th>V&amp;V Test Report</th>\n    </tr>\n  </thead>\n  <tbody>\n    <tr>\n      <th>0</th>\n      <td>US3528</td>\n      <td>TC1000</td>\n      <td>Automated</td>\n      <td>TC1000 tests.downloads.POU.tcCompliancePOUTest</td>\n      <td>2228014 v50</td>\n    </tr>\n    <tr>\n      <th>7</th>\n      <td>US1657</td>\n      <td>TC10013</td>\n      <td>Automated</td>\n      <td>TC10013 RxAttributeAvailable Dorma 100 device ...</td>\n      <td>2228014 v50</td>\n    </tr>\n    <tr>\n      <th>8</th>\n      <td>US1657</td>\n      <td>TC10013</td>\n      <td>Automated</td>\n      <td>TC10013 RxAttributeAvailable Dorma 100 device ...</td>\n      <td>2228014 v50</td>\n    </tr>\n    <tr>\n      <th>9</th>\n      <td>US1657</td>\n      <td>TC10013</td>\n      <td>Automated</td>\n      <td>TC10013 RxDeviceAvailable Dorma 100 device CPA...</td>\n      <td>2228014 v50</td>\n    </tr>\n    <tr>\n      <th>10</th>\n      <td>US1657</td>\n      <td>TC10013</td>\n      <td>Automated</td>\n      <td>TC10013 RxDeviceAvailable Dorma 100 device CPA...</td>\n      <td>2228014 v50</td>\n    </tr>\n    <tr>\n      <th>...</th>\n      <td>...</td>\n      <td>...</td>\n      <td>...</td>\n      <td>...</td>\n      <td>...</td>\n    </tr>\n    <tr>\n      <th>92252</th>\n      <td>US1683</td>\n      <td>TC993</td>\n      <td>Automated</td>\n      <td>TC993 TC1921 tests.task.compliance.F2518_Compl...</td>\n      <td>2228014 v50</td>\n    </tr>\n    <tr>\n      <th>92253</th>\n      <td>US1683</td>\n      <td>TC993</td>\n      <td>Automated</td>\n      <td>TC993 TC1921 tests.task.compliance.F2518_Compl...</td>\n      <td>2228014 v50</td>\n    </tr>\n    <tr>\n      <th>92254</th>\n      <td>US1683</td>\n      <td>TC993</td>\n      <td>Automated</td>\n      <td>TC993 TC1921 tests.task.compliance.F2518_Compl...</td>\n      <td>2228014 v50</td>\n    </tr>\n    <tr>\n      <th>92255</th>\n      <td>US3528</td>\n      <td>TC995</td>\n      <td>Automated</td>\n      <td>TC995 TC2924 TC2931 TC2932 tests.task.complian...</td>\n      <td>2228014 v50</td>\n    </tr>\n    <tr>\n      <th>92256</th>\n      <td>US3528</td>\n      <td>TC995</td>\n      <td>Automated</td>\n      <td>TC995 TC2924 TC2931 TC2932 tests.task.complian...</td>\n      <td>2228014 v50</td>\n    </tr>\n  </tbody>\n</table>\n<p>89331 rows × 5 columns</p>\n</div>"
     },
     "metadata": {},
     "execution_count": 30
    }
   ],
   "source": [
    "trace.loc[trace['Test Name'].str.startswith(srs_prefix)]"
   ]
  },
  {
   "cell_type": "code",
   "execution_count": null,
   "metadata": {},
   "outputs": [],
   "source": [
    "read"
   ]
  }
 ]
}