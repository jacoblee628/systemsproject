{
 "metadata": {
  "language_info": {
   "codemirror_mode": {
    "name": "ipython",
    "version": 3
   },
   "file_extension": ".py",
   "mimetype": "text/x-python",
   "name": "python",
   "nbconvert_exporter": "python",
   "pygments_lexer": "ipython3",
   "version": "3.7.9-final"
  },
  "orig_nbformat": 2,
  "kernelspec": {
   "name": "python3",
   "display_name": "Python 3",
   "language": "python"
  }
 },
 "nbformat": 4,
 "nbformat_minor": 2,
 "cells": [
  {
   "cell_type": "code",
   "execution_count": 1,
   "metadata": {},
   "outputs": [],
   "source": [
    "from read_write import *\n",
    "from filter_tests import *\n",
    "from validate_trace import *"
   ]
  },
  {
   "cell_type": "code",
   "execution_count": 2,
   "metadata": {},
   "outputs": [],
   "source": [
    "valid_manual_tests, invalid_manual_tests = check_manual(\"../data/ER2228014 v51 ATT1 Manual As-Runs.docx\")"
   ]
  },
  {
   "cell_type": "code",
   "execution_count": 3,
   "metadata": {},
   "outputs": [
    {
     "output_type": "execute_result",
     "data": {
      "text/plain": [
       "                                             test_name  status\n",
       "0    PRD US13044 SRS TC12480 TC12574 Verify Subscri...  Passed\n",
       "1    PRD US13044 SRS TC12480 TC12575 Verify Subscri...  Passed\n",
       "2    PRD US13044 SRS TC12480 TC12576 Verify Subscri...  Passed\n",
       "3    PRD US13044 SRS TC12480 TC12580 Verify Subscri...  Passed\n",
       "4                                   Toggle off - F5890  Passed\n",
       "..                                                 ...     ...\n",
       "130        EU Toggle and Configuration Regression Test  Passed\n",
       "131  UC US45400 MaskSelector tablet app integration...  Passed\n",
       "132  UC US45400 MaskSelector tablet app integration...  Passed\n",
       "133  UC US45400 MaskSelector tablet app integration...  Passed\n",
       "134                                  F5056 Toggle Test  Passed\n",
       "\n",
       "[135 rows x 2 columns]"
      ],
      "text/html": "<div>\n<style scoped>\n    .dataframe tbody tr th:only-of-type {\n        vertical-align: middle;\n    }\n\n    .dataframe tbody tr th {\n        vertical-align: top;\n    }\n\n    .dataframe thead th {\n        text-align: right;\n    }\n</style>\n<table border=\"1\" class=\"dataframe\">\n  <thead>\n    <tr style=\"text-align: right;\">\n      <th></th>\n      <th>test_name</th>\n      <th>status</th>\n    </tr>\n  </thead>\n  <tbody>\n    <tr>\n      <th>0</th>\n      <td>PRD US13044 SRS TC12480 TC12574 Verify Subscri...</td>\n      <td>Passed</td>\n    </tr>\n    <tr>\n      <th>1</th>\n      <td>PRD US13044 SRS TC12480 TC12575 Verify Subscri...</td>\n      <td>Passed</td>\n    </tr>\n    <tr>\n      <th>2</th>\n      <td>PRD US13044 SRS TC12480 TC12576 Verify Subscri...</td>\n      <td>Passed</td>\n    </tr>\n    <tr>\n      <th>3</th>\n      <td>PRD US13044 SRS TC12480 TC12580 Verify Subscri...</td>\n      <td>Passed</td>\n    </tr>\n    <tr>\n      <th>4</th>\n      <td>Toggle off - F5890</td>\n      <td>Passed</td>\n    </tr>\n    <tr>\n      <th>...</th>\n      <td>...</td>\n      <td>...</td>\n    </tr>\n    <tr>\n      <th>130</th>\n      <td>EU Toggle and Configuration Regression Test</td>\n      <td>Passed</td>\n    </tr>\n    <tr>\n      <th>131</th>\n      <td>UC US45400 MaskSelector tablet app integration...</td>\n      <td>Passed</td>\n    </tr>\n    <tr>\n      <th>132</th>\n      <td>UC US45400 MaskSelector tablet app integration...</td>\n      <td>Passed</td>\n    </tr>\n    <tr>\n      <th>133</th>\n      <td>UC US45400 MaskSelector tablet app integration...</td>\n      <td>Passed</td>\n    </tr>\n    <tr>\n      <th>134</th>\n      <td>F5056 Toggle Test</td>\n      <td>Passed</td>\n    </tr>\n  </tbody>\n</table>\n<p>135 rows × 2 columns</p>\n</div>"
     },
     "metadata": {},
     "execution_count": 3
    }
   ],
   "source": [
    "valid_manual_tests"
   ]
  },
  {
   "cell_type": "code",
   "execution_count": 4,
   "metadata": {},
   "outputs": [
    {
     "output_type": "execute_result",
     "data": {
      "text/plain": [
       "Empty DataFrame\n",
       "Columns: [test_name, status]\n",
       "Index: []"
      ],
      "text/html": "<div>\n<style scoped>\n    .dataframe tbody tr th:only-of-type {\n        vertical-align: middle;\n    }\n\n    .dataframe tbody tr th {\n        vertical-align: top;\n    }\n\n    .dataframe thead th {\n        text-align: right;\n    }\n</style>\n<table border=\"1\" class=\"dataframe\">\n  <thead>\n    <tr style=\"text-align: right;\">\n      <th></th>\n      <th>test_name</th>\n      <th>status</th>\n    </tr>\n  </thead>\n  <tbody>\n  </tbody>\n</table>\n</div>"
     },
     "metadata": {},
     "execution_count": 4
    }
   ],
   "source": [
    "invalid_manual_tests"
   ]
  },
  {
   "cell_type": "code",
   "execution_count": 5,
   "metadata": {},
   "outputs": [
    {
     "output_type": "execute_result",
     "data": {
      "text/plain": [
       "0"
      ]
     },
     "metadata": {},
     "execution_count": 5
    }
   ],
   "source": [
    "len(invalid_manual_tests)"
   ]
  },
  {
   "cell_type": "code",
   "execution_count": 6,
   "metadata": {},
   "outputs": [
    {
     "output_type": "stream",
     "name": "stdout",
     "text": [
      "Loading api test files from ../data/RestApiTests\n"
     ]
    }
   ],
   "source": [
    "folder_path = \"../data/RestApiTests\"\n",
    "valid_api, invalid_api = check_rest_api(folder_path)"
   ]
  },
  {
   "cell_type": "code",
   "execution_count": 7,
   "metadata": {},
   "outputs": [
    {
     "output_type": "execute_result",
     "data": {
      "text/plain": [
       "                                               test_name  status   rc  \\\n",
       "0      TC6281 com.philips.sapphire.systemintegrationt...  passed  RC1   \n",
       "1      TC6281 com.philips.sapphire.systemintegrationt...  passed  RC1   \n",
       "2      TC5871 com.philips.sapphire.systemintegrationt...  passed  RC1   \n",
       "3      TC6282 com.philips.sapphire.systemintegrationt...  passed  RC1   \n",
       "4      TC5867 TC5868 TC5869 TC5872 TC5873 TC5874 TC58...  passed  RC1   \n",
       "...                                                  ...     ...  ...   \n",
       "12739  TC460 TC464 TC1126 TC1189 TC2149 com.philips.s...  passed  RC4   \n",
       "12740  TC460 TC464 TC1126 TC1189 TC2148 com.philips.s...  passed  RC4   \n",
       "12741  TC460 TC464 TC1126 TC1189 TC2146 com.philips.s...  passed  RC4   \n",
       "12742  TC237 TC2069 TC2542 com.philips.sapphire.syste...  passed  RC4   \n",
       "12743  TC2331 com.philips.sapphire.systemintegrationt...  passed  RC4   \n",
       "\n",
       "           name                                          file_name  \n",
       "0      Akshitha  ..\\data\\RestApiTests\\RC1\\Akshitha\\20200924T110...  \n",
       "1      Akshitha  ..\\data\\RestApiTests\\RC1\\Akshitha\\20200924T110...  \n",
       "2      Akshitha  ..\\data\\RestApiTests\\RC1\\Akshitha\\20200924T110...  \n",
       "3      Akshitha  ..\\data\\RestApiTests\\RC1\\Akshitha\\20200924T110...  \n",
       "4      Akshitha  ..\\data\\RestApiTests\\RC1\\Akshitha\\20200924T110...  \n",
       "...         ...                                                ...  \n",
       "12739    Mardis  ..\\data\\RestApiTests\\RC4\\Mardis\\Mardis\\2020100...  \n",
       "12740    Mardis  ..\\data\\RestApiTests\\RC4\\Mardis\\Mardis\\2020100...  \n",
       "12741    Mardis  ..\\data\\RestApiTests\\RC4\\Mardis\\Mardis\\2020100...  \n",
       "12742    Mardis  ..\\data\\RestApiTests\\RC4\\Mardis\\Mardis\\2020100...  \n",
       "12743    Mardis  ..\\data\\RestApiTests\\RC4\\Mardis\\Mardis\\2020100...  \n",
       "\n",
       "[10671 rows x 5 columns]"
      ],
      "text/html": "<div>\n<style scoped>\n    .dataframe tbody tr th:only-of-type {\n        vertical-align: middle;\n    }\n\n    .dataframe tbody tr th {\n        vertical-align: top;\n    }\n\n    .dataframe thead th {\n        text-align: right;\n    }\n</style>\n<table border=\"1\" class=\"dataframe\">\n  <thead>\n    <tr style=\"text-align: right;\">\n      <th></th>\n      <th>test_name</th>\n      <th>status</th>\n      <th>rc</th>\n      <th>name</th>\n      <th>file_name</th>\n    </tr>\n  </thead>\n  <tbody>\n    <tr>\n      <th>0</th>\n      <td>TC6281 com.philips.sapphire.systemintegrationt...</td>\n      <td>passed</td>\n      <td>RC1</td>\n      <td>Akshitha</td>\n      <td>..\\data\\RestApiTests\\RC1\\Akshitha\\20200924T110...</td>\n    </tr>\n    <tr>\n      <th>1</th>\n      <td>TC6281 com.philips.sapphire.systemintegrationt...</td>\n      <td>passed</td>\n      <td>RC1</td>\n      <td>Akshitha</td>\n      <td>..\\data\\RestApiTests\\RC1\\Akshitha\\20200924T110...</td>\n    </tr>\n    <tr>\n      <th>2</th>\n      <td>TC5871 com.philips.sapphire.systemintegrationt...</td>\n      <td>passed</td>\n      <td>RC1</td>\n      <td>Akshitha</td>\n      <td>..\\data\\RestApiTests\\RC1\\Akshitha\\20200924T110...</td>\n    </tr>\n    <tr>\n      <th>3</th>\n      <td>TC6282 com.philips.sapphire.systemintegrationt...</td>\n      <td>passed</td>\n      <td>RC1</td>\n      <td>Akshitha</td>\n      <td>..\\data\\RestApiTests\\RC1\\Akshitha\\20200924T110...</td>\n    </tr>\n    <tr>\n      <th>4</th>\n      <td>TC5867 TC5868 TC5869 TC5872 TC5873 TC5874 TC58...</td>\n      <td>passed</td>\n      <td>RC1</td>\n      <td>Akshitha</td>\n      <td>..\\data\\RestApiTests\\RC1\\Akshitha\\20200924T110...</td>\n    </tr>\n    <tr>\n      <th>...</th>\n      <td>...</td>\n      <td>...</td>\n      <td>...</td>\n      <td>...</td>\n      <td>...</td>\n    </tr>\n    <tr>\n      <th>12739</th>\n      <td>TC460 TC464 TC1126 TC1189 TC2149 com.philips.s...</td>\n      <td>passed</td>\n      <td>RC4</td>\n      <td>Mardis</td>\n      <td>..\\data\\RestApiTests\\RC4\\Mardis\\Mardis\\2020100...</td>\n    </tr>\n    <tr>\n      <th>12740</th>\n      <td>TC460 TC464 TC1126 TC1189 TC2148 com.philips.s...</td>\n      <td>passed</td>\n      <td>RC4</td>\n      <td>Mardis</td>\n      <td>..\\data\\RestApiTests\\RC4\\Mardis\\Mardis\\2020100...</td>\n    </tr>\n    <tr>\n      <th>12741</th>\n      <td>TC460 TC464 TC1126 TC1189 TC2146 com.philips.s...</td>\n      <td>passed</td>\n      <td>RC4</td>\n      <td>Mardis</td>\n      <td>..\\data\\RestApiTests\\RC4\\Mardis\\Mardis\\2020100...</td>\n    </tr>\n    <tr>\n      <th>12742</th>\n      <td>TC237 TC2069 TC2542 com.philips.sapphire.syste...</td>\n      <td>passed</td>\n      <td>RC4</td>\n      <td>Mardis</td>\n      <td>..\\data\\RestApiTests\\RC4\\Mardis\\Mardis\\2020100...</td>\n    </tr>\n    <tr>\n      <th>12743</th>\n      <td>TC2331 com.philips.sapphire.systemintegrationt...</td>\n      <td>passed</td>\n      <td>RC4</td>\n      <td>Mardis</td>\n      <td>..\\data\\RestApiTests\\RC4\\Mardis\\Mardis\\2020100...</td>\n    </tr>\n  </tbody>\n</table>\n<p>10671 rows × 5 columns</p>\n</div>"
     },
     "metadata": {},
     "execution_count": 7
    }
   ],
   "source": [
    "valid_api"
   ]
  },
  {
   "cell_type": "code",
   "execution_count": 8,
   "metadata": {},
   "outputs": [
    {
     "output_type": "execute_result",
     "data": {
      "text/plain": [
       "                                              test_name        status   rc  \\\n",
       "245   com.philips.sapphire.systemintegrationtests.te...       skipped  RC1   \n",
       "267   TC4154 com.philips.sapphire.systemintegrationt...       skipped  RC1   \n",
       "283   TC2254 TC4154 com.philips.sapphire.systeminteg...       skipped  RC1   \n",
       "399              Unknown massPatientSyncPerformanceTest  inconclusive  RC1   \n",
       "400              Unknown massPatientSyncPerformanceTest  inconclusive  RC1   \n",
       "...                                                 ...           ...  ...   \n",
       "9461  TC460 TC464 TC1126 TC1189 TC2148 com.philips.s...       skipped  RC3   \n",
       "9465  TC460 TC464 TC1126 TC1189 TC2143 com.philips.s...       skipped  RC3   \n",
       "9468  TC460 TC464 TC1126 TC1189 TC2146 com.philips.s...       skipped  RC3   \n",
       "9475  TC460 TC464 TC1126 TC1189 TC2147 com.philips.s...       skipped  RC3   \n",
       "9478  TC460 TC464 TC1126 TC1189 TC2151 com.philips.s...       skipped  RC3   \n",
       "\n",
       "         name                                          file_name  \n",
       "245    Carlos  ..\\data\\RestApiTests\\RC1\\Carlos\\20200924T19501...  \n",
       "267    Carlos  ..\\data\\RestApiTests\\RC1\\Carlos\\20200924T19501...  \n",
       "283    Carlos  ..\\data\\RestApiTests\\RC1\\Carlos\\20200924T19501...  \n",
       "399   Subhash  ..\\data\\RestApiTests\\RC1\\Subhash\\testResults_2...  \n",
       "400   Subhash  ..\\data\\RestApiTests\\RC1\\Subhash\\testResults_2...  \n",
       "...       ...                                                ...  \n",
       "9461  Fischer  ..\\data\\RestApiTests\\RC3\\Fischer\\Fischer\\20201...  \n",
       "9465  Fischer  ..\\data\\RestApiTests\\RC3\\Fischer\\Fischer\\20201...  \n",
       "9468  Fischer  ..\\data\\RestApiTests\\RC3\\Fischer\\Fischer\\20201...  \n",
       "9475  Fischer  ..\\data\\RestApiTests\\RC3\\Fischer\\Fischer\\20201...  \n",
       "9478  Fischer  ..\\data\\RestApiTests\\RC3\\Fischer\\Fischer\\20201...  \n",
       "\n",
       "[2073 rows x 5 columns]"
      ],
      "text/html": "<div>\n<style scoped>\n    .dataframe tbody tr th:only-of-type {\n        vertical-align: middle;\n    }\n\n    .dataframe tbody tr th {\n        vertical-align: top;\n    }\n\n    .dataframe thead th {\n        text-align: right;\n    }\n</style>\n<table border=\"1\" class=\"dataframe\">\n  <thead>\n    <tr style=\"text-align: right;\">\n      <th></th>\n      <th>test_name</th>\n      <th>status</th>\n      <th>rc</th>\n      <th>name</th>\n      <th>file_name</th>\n    </tr>\n  </thead>\n  <tbody>\n    <tr>\n      <th>245</th>\n      <td>com.philips.sapphire.systemintegrationtests.te...</td>\n      <td>skipped</td>\n      <td>RC1</td>\n      <td>Carlos</td>\n      <td>..\\data\\RestApiTests\\RC1\\Carlos\\20200924T19501...</td>\n    </tr>\n    <tr>\n      <th>267</th>\n      <td>TC4154 com.philips.sapphire.systemintegrationt...</td>\n      <td>skipped</td>\n      <td>RC1</td>\n      <td>Carlos</td>\n      <td>..\\data\\RestApiTests\\RC1\\Carlos\\20200924T19501...</td>\n    </tr>\n    <tr>\n      <th>283</th>\n      <td>TC2254 TC4154 com.philips.sapphire.systeminteg...</td>\n      <td>skipped</td>\n      <td>RC1</td>\n      <td>Carlos</td>\n      <td>..\\data\\RestApiTests\\RC1\\Carlos\\20200924T19501...</td>\n    </tr>\n    <tr>\n      <th>399</th>\n      <td>Unknown massPatientSyncPerformanceTest</td>\n      <td>inconclusive</td>\n      <td>RC1</td>\n      <td>Subhash</td>\n      <td>..\\data\\RestApiTests\\RC1\\Subhash\\testResults_2...</td>\n    </tr>\n    <tr>\n      <th>400</th>\n      <td>Unknown massPatientSyncPerformanceTest</td>\n      <td>inconclusive</td>\n      <td>RC1</td>\n      <td>Subhash</td>\n      <td>..\\data\\RestApiTests\\RC1\\Subhash\\testResults_2...</td>\n    </tr>\n    <tr>\n      <th>...</th>\n      <td>...</td>\n      <td>...</td>\n      <td>...</td>\n      <td>...</td>\n      <td>...</td>\n    </tr>\n    <tr>\n      <th>9461</th>\n      <td>TC460 TC464 TC1126 TC1189 TC2148 com.philips.s...</td>\n      <td>skipped</td>\n      <td>RC3</td>\n      <td>Fischer</td>\n      <td>..\\data\\RestApiTests\\RC3\\Fischer\\Fischer\\20201...</td>\n    </tr>\n    <tr>\n      <th>9465</th>\n      <td>TC460 TC464 TC1126 TC1189 TC2143 com.philips.s...</td>\n      <td>skipped</td>\n      <td>RC3</td>\n      <td>Fischer</td>\n      <td>..\\data\\RestApiTests\\RC3\\Fischer\\Fischer\\20201...</td>\n    </tr>\n    <tr>\n      <th>9468</th>\n      <td>TC460 TC464 TC1126 TC1189 TC2146 com.philips.s...</td>\n      <td>skipped</td>\n      <td>RC3</td>\n      <td>Fischer</td>\n      <td>..\\data\\RestApiTests\\RC3\\Fischer\\Fischer\\20201...</td>\n    </tr>\n    <tr>\n      <th>9475</th>\n      <td>TC460 TC464 TC1126 TC1189 TC2147 com.philips.s...</td>\n      <td>skipped</td>\n      <td>RC3</td>\n      <td>Fischer</td>\n      <td>..\\data\\RestApiTests\\RC3\\Fischer\\Fischer\\20201...</td>\n    </tr>\n    <tr>\n      <th>9478</th>\n      <td>TC460 TC464 TC1126 TC1189 TC2151 com.philips.s...</td>\n      <td>skipped</td>\n      <td>RC3</td>\n      <td>Fischer</td>\n      <td>..\\data\\RestApiTests\\RC3\\Fischer\\Fischer\\20201...</td>\n    </tr>\n  </tbody>\n</table>\n<p>2073 rows × 5 columns</p>\n</div>"
     },
     "metadata": {},
     "execution_count": 8
    }
   ],
   "source": [
    "invalid_api"
   ]
  },
  {
   "cell_type": "code",
   "execution_count": 9,
   "metadata": {},
   "outputs": [],
   "source": [
    "valid_performance, invalid_performance = check_performance_tests(\"../data/PerformanceTestResultsByTC_2020_10_12.xlsx\")"
   ]
  },
  {
   "cell_type": "code",
   "execution_count": 10,
   "metadata": {},
   "outputs": [
    {
     "output_type": "execute_result",
     "data": {
      "text/plain": [
       "             TC(s) and Script name PASS/FAIL  \\\n",
       "0   TC10051 patient record display      PASS   \n",
       "1     TC10051 patient list display      PASS   \n",
       "2          TC10052 Business report      FAIL   \n",
       "3   TC10051 patient search display      PASS   \n",
       "4          TC10054 Waveform Report      PASS   \n",
       "5           TC10054 Trilogy Report      PASS   \n",
       "6                TC10054 O2 Report      PASS   \n",
       "7          TC10051 Document Upload      PASS   \n",
       "8           TC10051 Task List view      PASS   \n",
       "9          TC10053 SD Card Uploads      PASS   \n",
       "10    TC10054 Sleep Summary Report      FAIL   \n",
       "11    TC10054 Sleep Detail  Report      FAIL   \n",
       "\n",
       "                                                Notes  \n",
       "0   Response time is right at SLA, however.  Needs...  \n",
       "1                                                None  \n",
       "2   Viewing the report passes, export fails DE6069...  \n",
       "3                                                None  \n",
       "4   PASS / Slightly high - needs to be investigate...  \n",
       "5                                                None  \n",
       "6   PASS / Slightly high - needs to be investigate...  \n",
       "7                                                None  \n",
       "8                                                None  \n",
       "9                                                None  \n",
       "10                                             DE5602  \n",
       "11                                             DE5602  "
      ],
      "text/html": "<div>\n<style scoped>\n    .dataframe tbody tr th:only-of-type {\n        vertical-align: middle;\n    }\n\n    .dataframe tbody tr th {\n        vertical-align: top;\n    }\n\n    .dataframe thead th {\n        text-align: right;\n    }\n</style>\n<table border=\"1\" class=\"dataframe\">\n  <thead>\n    <tr style=\"text-align: right;\">\n      <th></th>\n      <th>TC(s) and Script name</th>\n      <th>PASS/FAIL</th>\n      <th>Notes</th>\n    </tr>\n  </thead>\n  <tbody>\n    <tr>\n      <th>0</th>\n      <td>TC10051 patient record display</td>\n      <td>PASS</td>\n      <td>Response time is right at SLA, however.  Needs...</td>\n    </tr>\n    <tr>\n      <th>1</th>\n      <td>TC10051 patient list display</td>\n      <td>PASS</td>\n      <td>None</td>\n    </tr>\n    <tr>\n      <th>2</th>\n      <td>TC10052 Business report</td>\n      <td>FAIL</td>\n      <td>Viewing the report passes, export fails DE6069...</td>\n    </tr>\n    <tr>\n      <th>3</th>\n      <td>TC10051 patient search display</td>\n      <td>PASS</td>\n      <td>None</td>\n    </tr>\n    <tr>\n      <th>4</th>\n      <td>TC10054 Waveform Report</td>\n      <td>PASS</td>\n      <td>PASS / Slightly high - needs to be investigate...</td>\n    </tr>\n    <tr>\n      <th>5</th>\n      <td>TC10054 Trilogy Report</td>\n      <td>PASS</td>\n      <td>None</td>\n    </tr>\n    <tr>\n      <th>6</th>\n      <td>TC10054 O2 Report</td>\n      <td>PASS</td>\n      <td>PASS / Slightly high - needs to be investigate...</td>\n    </tr>\n    <tr>\n      <th>7</th>\n      <td>TC10051 Document Upload</td>\n      <td>PASS</td>\n      <td>None</td>\n    </tr>\n    <tr>\n      <th>8</th>\n      <td>TC10051 Task List view</td>\n      <td>PASS</td>\n      <td>None</td>\n    </tr>\n    <tr>\n      <th>9</th>\n      <td>TC10053 SD Card Uploads</td>\n      <td>PASS</td>\n      <td>None</td>\n    </tr>\n    <tr>\n      <th>10</th>\n      <td>TC10054 Sleep Summary Report</td>\n      <td>FAIL</td>\n      <td>DE5602</td>\n    </tr>\n    <tr>\n      <th>11</th>\n      <td>TC10054 Sleep Detail  Report</td>\n      <td>FAIL</td>\n      <td>DE5602</td>\n    </tr>\n  </tbody>\n</table>\n</div>"
     },
     "metadata": {},
     "execution_count": 10
    }
   ],
   "source": [
    "valid_performance"
   ]
  },
  {
   "cell_type": "code",
   "execution_count": 11,
   "metadata": {},
   "outputs": [
    {
     "output_type": "execute_result",
     "data": {
      "text/plain": [
       "Empty DataFrame\n",
       "Columns: [TC(s) and Script name, PASS/FAIL, Notes]\n",
       "Index: []"
      ],
      "text/html": "<div>\n<style scoped>\n    .dataframe tbody tr th:only-of-type {\n        vertical-align: middle;\n    }\n\n    .dataframe tbody tr th {\n        vertical-align: top;\n    }\n\n    .dataframe thead th {\n        text-align: right;\n    }\n</style>\n<table border=\"1\" class=\"dataframe\">\n  <thead>\n    <tr style=\"text-align: right;\">\n      <th></th>\n      <th>TC(s) and Script name</th>\n      <th>PASS/FAIL</th>\n      <th>Notes</th>\n    </tr>\n  </thead>\n  <tbody>\n  </tbody>\n</table>\n</div>"
     },
     "metadata": {},
     "execution_count": 11
    }
   ],
   "source": [
    "invalid_performance"
   ]
  },
  {
   "cell_type": "code",
   "execution_count": 12,
   "metadata": {},
   "outputs": [],
   "source": [
    "valid_component, invalid_component = check_component_tests(\"../data/1.33 MSGateway.docx\")"
   ]
  },
  {
   "cell_type": "code",
   "execution_count": 13,
   "metadata": {},
   "outputs": [
    {
     "output_type": "execute_result",
     "data": {
      "text/plain": [
       "                                             test_name status\n",
       "0    CARE-30043 – Summary:testDeleteMaskSuggestions...   PASS\n",
       "1    CARE-28230 – Summary:testSearchPatientsWithGiv...   PASS\n",
       "2    CARE-28231 – Summary:testSearchPatientsWithGiv...   PASS\n",
       "3                  CARE-30041 – Summary:testGetPatient   PASS\n",
       "4    CARE-28396 – Summary:testSearchPatientsWithGiv...   PASS\n",
       "..                                                 ...    ...\n",
       "153  CARE-29978 – Summary:getMaskCoefficients_inval...   PASS\n",
       "154  CARE-29982 – Summary:getMaskCoefficients_mask_...   PASS\n",
       "155  CARE-29983 – Summary:deleteMaskCoefficients_ma...   PASS\n",
       "156  CARE-29984 – Summary:upsertMaskCoefficients_us...   PASS\n",
       "157  CARE-29985 – Summary:upsertMaskCoefficients_in...   PASS\n",
       "\n",
       "[158 rows x 2 columns]"
      ],
      "text/html": "<div>\n<style scoped>\n    .dataframe tbody tr th:only-of-type {\n        vertical-align: middle;\n    }\n\n    .dataframe tbody tr th {\n        vertical-align: top;\n    }\n\n    .dataframe thead th {\n        text-align: right;\n    }\n</style>\n<table border=\"1\" class=\"dataframe\">\n  <thead>\n    <tr style=\"text-align: right;\">\n      <th></th>\n      <th>test_name</th>\n      <th>status</th>\n    </tr>\n  </thead>\n  <tbody>\n    <tr>\n      <th>0</th>\n      <td>CARE-30043 – Summary:testDeleteMaskSuggestions...</td>\n      <td>PASS</td>\n    </tr>\n    <tr>\n      <th>1</th>\n      <td>CARE-28230 – Summary:testSearchPatientsWithGiv...</td>\n      <td>PASS</td>\n    </tr>\n    <tr>\n      <th>2</th>\n      <td>CARE-28231 – Summary:testSearchPatientsWithGiv...</td>\n      <td>PASS</td>\n    </tr>\n    <tr>\n      <th>3</th>\n      <td>CARE-30041 – Summary:testGetPatient</td>\n      <td>PASS</td>\n    </tr>\n    <tr>\n      <th>4</th>\n      <td>CARE-28396 – Summary:testSearchPatientsWithGiv...</td>\n      <td>PASS</td>\n    </tr>\n    <tr>\n      <th>...</th>\n      <td>...</td>\n      <td>...</td>\n    </tr>\n    <tr>\n      <th>153</th>\n      <td>CARE-29978 – Summary:getMaskCoefficients_inval...</td>\n      <td>PASS</td>\n    </tr>\n    <tr>\n      <th>154</th>\n      <td>CARE-29982 – Summary:getMaskCoefficients_mask_...</td>\n      <td>PASS</td>\n    </tr>\n    <tr>\n      <th>155</th>\n      <td>CARE-29983 – Summary:deleteMaskCoefficients_ma...</td>\n      <td>PASS</td>\n    </tr>\n    <tr>\n      <th>156</th>\n      <td>CARE-29984 – Summary:upsertMaskCoefficients_us...</td>\n      <td>PASS</td>\n    </tr>\n    <tr>\n      <th>157</th>\n      <td>CARE-29985 – Summary:upsertMaskCoefficients_in...</td>\n      <td>PASS</td>\n    </tr>\n  </tbody>\n</table>\n<p>158 rows × 2 columns</p>\n</div>"
     },
     "metadata": {},
     "execution_count": 13
    }
   ],
   "source": [
    "valid_component"
   ]
  },
  {
   "cell_type": "code",
   "execution_count": 14,
   "metadata": {},
   "outputs": [
    {
     "output_type": "execute_result",
     "data": {
      "text/plain": [
       "Empty DataFrame\n",
       "Columns: [test_name, status]\n",
       "Index: []"
      ],
      "text/html": "<div>\n<style scoped>\n    .dataframe tbody tr th:only-of-type {\n        vertical-align: middle;\n    }\n\n    .dataframe tbody tr th {\n        vertical-align: top;\n    }\n\n    .dataframe thead th {\n        text-align: right;\n    }\n</style>\n<table border=\"1\" class=\"dataframe\">\n  <thead>\n    <tr style=\"text-align: right;\">\n      <th></th>\n      <th>test_name</th>\n      <th>status</th>\n    </tr>\n  </thead>\n  <tbody>\n  </tbody>\n</table>\n</div>"
     },
     "metadata": {},
     "execution_count": 14
    }
   ],
   "source": [
    "invalid_component"
   ]
  },
  {
   "cell_type": "code",
   "execution_count": 17,
   "metadata": {},
   "outputs": [
    {
     "output_type": "stream",
     "name": "stdout",
     "text": [
      "Loading CO from: ../data/ER 2228015 v42 ATT1 Sapphire 1.32 Trace Matrix.xlsx\n",
      "Loading in worksheet titled: Care Orchestrator PRD / SRS Trace Matrix\n"
     ]
    }
   ],
   "source": [
    "trace = read_trace(\"../data/ER 2228015 v42 ATT1 Sapphire 1.32 Trace Matrix.xlsx\", \"CO\")\n",
    "prd_prefix = \"US\"\n",
    "srs_prefix = \"TC\"\n",
    "\n",
    "obs_srs_file_path = \"../data/Obsolete SRS_Test Cases_11.16 pull.csv\"\n",
    "obs_srs=pd.read_csv(obs_srs_file_path)\n",
    "obs_srs_list=obs_srs[\"Formatted ID\"].unique()\n",
    "\n",
    "active_prd = pd.read_excel(\"../data/1.33 PRD.xlsx\")\n",
    "active_prd_list = active_prd[\"ID\"].unique()\n",
    "active_prd_list = active_prd_list[~pd.isnull(active_prd_list)]"
   ]
  },
  {
   "cell_type": "code",
   "execution_count": 18,
   "metadata": {},
   "outputs": [],
   "source": [
    "prd_result, invalid_prd = check_prd_has_srs(trace, prd_prefix, srs_prefix)"
   ]
  },
  {
   "cell_type": "code",
   "execution_count": 19,
   "metadata": {},
   "outputs": [
    {
     "output_type": "execute_result",
     "data": {
      "text/plain": [
       "                        PRD  SRS ID\n",
       "0                   US12380       9\n",
       "1            US12380 US1659       1\n",
       "2                  US12756       14\n",
       "3                   US13044     136\n",
       "4           US13044, US2978       1\n",
       "..                      ...     ...\n",
       "174  US9787, US9789, US3869       1\n",
       "175                  US9788       2\n",
       "176           US9788 US8651       2\n",
       "177                  US9789      22\n",
       "178                  US9790      13\n",
       "\n",
       "[179 rows x 2 columns]"
      ],
      "text/html": "<div>\n<style scoped>\n    .dataframe tbody tr th:only-of-type {\n        vertical-align: middle;\n    }\n\n    .dataframe tbody tr th {\n        vertical-align: top;\n    }\n\n    .dataframe thead th {\n        text-align: right;\n    }\n</style>\n<table border=\"1\" class=\"dataframe\">\n  <thead>\n    <tr style=\"text-align: right;\">\n      <th></th>\n      <th>PRD</th>\n      <th>SRS ID</th>\n    </tr>\n  </thead>\n  <tbody>\n    <tr>\n      <th>0</th>\n      <td>US12380</td>\n      <td>9</td>\n    </tr>\n    <tr>\n      <th>1</th>\n      <td>US12380 US1659</td>\n      <td>1</td>\n    </tr>\n    <tr>\n      <th>2</th>\n      <td>US12756</td>\n      <td>14</td>\n    </tr>\n    <tr>\n      <th>3</th>\n      <td>US13044</td>\n      <td>136</td>\n    </tr>\n    <tr>\n      <th>4</th>\n      <td>US13044, US2978</td>\n      <td>1</td>\n    </tr>\n    <tr>\n      <th>...</th>\n      <td>...</td>\n      <td>...</td>\n    </tr>\n    <tr>\n      <th>174</th>\n      <td>US9787, US9789, US3869</td>\n      <td>1</td>\n    </tr>\n    <tr>\n      <th>175</th>\n      <td>US9788</td>\n      <td>2</td>\n    </tr>\n    <tr>\n      <th>176</th>\n      <td>US9788 US8651</td>\n      <td>2</td>\n    </tr>\n    <tr>\n      <th>177</th>\n      <td>US9789</td>\n      <td>22</td>\n    </tr>\n    <tr>\n      <th>178</th>\n      <td>US9790</td>\n      <td>13</td>\n    </tr>\n  </tbody>\n</table>\n<p>179 rows × 2 columns</p>\n</div>"
     },
     "metadata": {},
     "execution_count": 19
    }
   ],
   "source": [
    "prd_result"
   ]
  },
  {
   "cell_type": "code",
   "execution_count": 20,
   "metadata": {},
   "outputs": [
    {
     "output_type": "execute_result",
     "data": {
      "text/plain": [
       "Empty DataFrame\n",
       "Columns: [PRD, SRS ID]\n",
       "Index: []"
      ],
      "text/html": "<div>\n<style scoped>\n    .dataframe tbody tr th:only-of-type {\n        vertical-align: middle;\n    }\n\n    .dataframe tbody tr th {\n        vertical-align: top;\n    }\n\n    .dataframe thead th {\n        text-align: right;\n    }\n</style>\n<table border=\"1\" class=\"dataframe\">\n  <thead>\n    <tr style=\"text-align: right;\">\n      <th></th>\n      <th>PRD</th>\n      <th>SRS ID</th>\n    </tr>\n  </thead>\n  <tbody>\n  </tbody>\n</table>\n</div>"
     },
     "metadata": {},
     "execution_count": 20
    }
   ],
   "source": [
    "invalid_prd"
   ]
  },
  {
   "cell_type": "code",
   "execution_count": 21,
   "metadata": {},
   "outputs": [
    {
     "output_type": "execute_result",
     "data": {
      "text/plain": [
       "('Failed',\n",
       " {'US12380 US1659',\n",
       "  'US12756\\xa0',\n",
       "  'US13044, US2978',\n",
       "  'US13044,US3869',\n",
       "  'US13932 US15963',\n",
       "  'US13932,US15963',\n",
       "  'US14059 US13715',\n",
       "  'US1549\\xa0',\n",
       "  'US1552 US3869',\n",
       "  'US1552, US3869',\n",
       "  'US1554 US9981',\n",
       "  'US1554\\xa0US9981',\n",
       "  'US1658 US2421',\n",
       "  'US1659 US16110',\n",
       "  'US1659 US1685',\n",
       "  'US1659, US1685',\n",
       "  'US1659\\xa0',\n",
       "  'US1685 US16110',\n",
       "  'US1685 US1659',\n",
       "  'US1688, US13715',\n",
       "  'US1691\\xa0US1692',\n",
       "  'US1692 US2421',\n",
       "  'US1693 US1694',\n",
       "  'US1693\\xa0',\n",
       "  'US21681 US7928',\n",
       "  'US2829 US2421',\n",
       "  'US2973 US3021',\n",
       "  'US2979,\\xa0US3011,\\xa0US3865',\n",
       "  'US3015, US9994',\n",
       "  'US3015\\xa0US9994',\n",
       "  'US3018 US3528',\n",
       "  'US3021 US1685 US16110',\n",
       "  'US3021\\xa0  US9994',\n",
       "  'US3022 US1549',\n",
       "  'US3022 US1685 US16110',\n",
       "  'US3869 US13044',\n",
       "  'US3869, US13044',\n",
       "  'US3869, US1659',\n",
       "  'US3869, US19244',\n",
       "  'US4694 US4695 US9789',\n",
       "  'US4695\\xa0',\n",
       "  'US5397\\xa0US2831',\n",
       "  'US6136, US13044',\n",
       "  'US6136, US13044, US19245',\n",
       "  'US6136, US19245',\n",
       "  'US7871 US1551 US1552',\n",
       "  'US8650, US13044',\n",
       "  'US8651 US9788',\n",
       "  'US8651, US9788',\n",
       "  'US9787, US6136',\n",
       "  'US9787, US9789, US3869',\n",
       "  'US9788 US8651'})"
      ]
     },
     "metadata": {},
     "execution_count": 21
    }
   ],
   "source": [
    "check_prd_ref_by_srs_exists(trace, active_prd_list, prd_prefix, srs_prefix)"
   ]
  },
  {
   "cell_type": "code",
   "execution_count": 22,
   "metadata": {},
   "outputs": [
    {
     "output_type": "execute_result",
     "data": {
      "text/plain": [
       "(       SRS ID  Test Name\n",
       " 0      TC1000          2\n",
       " 1      TC1001          1\n",
       " 2     TC10011          4\n",
       " 3     TC10013         31\n",
       " 4     TC10014         30\n",
       " ...       ...        ...\n",
       " 2872    TC991          2\n",
       " 2873    TC993          6\n",
       " 2874    TC995          2\n",
       " 2875    TC996          3\n",
       " 2876   TC9995          1\n",
       " \n",
       " [2877 rows x 2 columns],\n",
       " Empty DataFrame\n",
       " Columns: [SRS ID, Test Name]\n",
       " Index: [])"
      ]
     },
     "metadata": {},
     "execution_count": 22
    }
   ],
   "source": [
    "check_srs_has_test(trace, prd_prefix, srs_prefix)"
   ]
  },
  {
   "cell_type": "code",
   "execution_count": null,
   "metadata": {},
   "outputs": [],
   "source": []
  }
 ]
}