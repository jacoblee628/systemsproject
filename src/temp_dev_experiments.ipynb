{
 "metadata": {
  "language_info": {
   "codemirror_mode": {
    "name": "ipython",
    "version": 3
   },
   "file_extension": ".py",
   "mimetype": "text/x-python",
   "name": "python",
   "nbconvert_exporter": "python",
   "pygments_lexer": "ipython3",
   "version": "3.7.9-final"
  },
  "orig_nbformat": 2,
  "kernelspec": {
   "name": "python3",
   "display_name": "Python 3"
  }
 },
 "nbformat": 4,
 "nbformat_minor": 2,
 "cells": [
  {
   "cell_type": "code",
   "execution_count": 5,
   "metadata": {},
   "outputs": [],
   "source": [
    "import docx\n",
    "from docx import Document\n",
    "import openpyxl as pyxl\n",
    "from openpyxl import Workbook\n",
    "import pandas as pd"
   ]
  },
  {
   "source": [
    "## manual tests docx"
   ],
   "cell_type": "markdown",
   "metadata": {}
  },
  {
   "cell_type": "code",
   "execution_count": 6,
   "metadata": {},
   "outputs": [],
   "source": [
    "with open('..\\data\\ER2228014 v51 ATT1 Manual As-Runs.docx', 'rb') as f:\n",
    "    document = Document(f)"
   ]
  },
  {
   "cell_type": "code",
   "execution_count": 26,
   "metadata": {},
   "outputs": [
    {
     "output_type": "execute_result",
     "data": {
      "text/plain": [
       "'Passed'"
      ]
     },
     "metadata": {},
     "execution_count": 26
    }
   ],
   "source": [
    "document.tables[1].cell(0,1).text"
   ]
  },
  {
   "cell_type": "code",
   "execution_count": 27,
   "metadata": {},
   "outputs": [
    {
     "output_type": "execute_result",
     "data": {
      "text/plain": [
       "'Description'"
      ]
     },
     "metadata": {},
     "execution_count": 27
    }
   ],
   "source": [
    "document.tables[2].cell(0,1).text"
   ]
  },
  {
   "cell_type": "code",
   "execution_count": 32,
   "metadata": {},
   "outputs": [],
   "source": [
    "statuses = []\n",
    "for i, table in enumerate(document.tables):\n",
    "    if table.cell(0,0).text == \"Status:\":\n",
    "        statuses.append(table.cell(0,1).text)\n",
    "    # print(table.cell(0,0).text)\n",
    "    # if len(statuses) == 10:\n",
    "        # break"
   ]
  },
  {
   "cell_type": "code",
   "execution_count": 33,
   "metadata": {},
   "outputs": [
    {
     "output_type": "stream",
     "name": "stdout",
     "text": [
      "135\n['Passed', 'Passed', 'Passed', 'Passed', 'Passed', 'Passed', 'Passed', 'Passed', 'Passed', 'Passed']\n"
     ]
    }
   ],
   "source": [
    "print(len(statuses))\n",
    "print(statuses[0:10])"
   ]
  },
  {
   "cell_type": "code",
   "execution_count": 46,
   "metadata": {
    "tags": []
   },
   "outputs": [],
   "source": [
    "test_names = []\n",
    "for i, paragraph in enumerate(document.paragraphs):\n",
    "    if \"Run ID\" in paragraph.text:\n",
    "        test_names.append(document.paragraphs[i-1].text)\n",
    "        # print(document.paragraphs[i-1].text)\n",
    "    # print(paragraph.text)\n",
    "    # if \"PRD\" in paragraph.text:\n",
    "        # test_names.append(paragraph.text)\n",
    "        # print(paragraph.text)\n",
    "        # break"
   ]
  },
  {
   "cell_type": "code",
   "execution_count": 47,
   "metadata": {},
   "outputs": [
    {
     "output_type": "stream",
     "name": "stdout",
     "text": [
      "135\n['PRD US13044 SRS TC12480 TC12574 Verify Subscription Message sent for Patient Equipment', 'PRD US13044 SRS TC12480 TC12575 Verify Subscription Message sent for Patient Accessories', 'PRD US13044 SRS TC12480 TC12576 Verify Subscription Message sent for Patient Task Notes', 'PRD US13044 SRS TC12480 TC12580 Verify Subscription Message sent for Patient Activity Notes', 'Toggle off - F5890', 'F6176 Patients and Tasks Reports Sticky Headers', 'PRD US32438 SRS TC12432 TC12433 TC12434 Patient Mask Suggestions', 'PRD US1554 SRS TC12438 TC12549 TC12324 TC12439 TC12440 TC12570 TC12642 TC12569 Patient Transfer To Search Location', 'F4329 - Publishing the Equipment and Accessories info in Kafka Publisher - Toggle ON', 'F4329 - EA to CO migration for  the Equipment and Accessories info in Kafka Publisher - Toggle ON']\n"
     ]
    }
   ],
   "source": [
    "print(len(test_names))\n",
    "print(test_names[0:10])"
   ]
  },
  {
   "cell_type": "code",
   "execution_count": 49,
   "metadata": {},
   "outputs": [
    {
     "output_type": "execute_result",
     "data": {
      "text/plain": [
       "                                             test_name  status\n",
       "0    PRD US13044 SRS TC12480 TC12574 Verify Subscri...  Passed\n",
       "1    PRD US13044 SRS TC12480 TC12575 Verify Subscri...  Passed\n",
       "2    PRD US13044 SRS TC12480 TC12576 Verify Subscri...  Passed\n",
       "3    PRD US13044 SRS TC12480 TC12580 Verify Subscri...  Passed\n",
       "4                                   Toggle off - F5890  Passed\n",
       "..                                                 ...     ...\n",
       "130        EU Toggle and Configuration Regression Test  Passed\n",
       "131  UC US45400 MaskSelector tablet app integration...  Passed\n",
       "132  UC US45400 MaskSelector tablet app integration...  Passed\n",
       "133  UC US45400 MaskSelector tablet app integration...  Passed\n",
       "134                                  F5056 Toggle Test  Passed\n",
       "\n",
       "[135 rows x 2 columns]"
      ],
      "text/html": "<div>\n<style scoped>\n    .dataframe tbody tr th:only-of-type {\n        vertical-align: middle;\n    }\n\n    .dataframe tbody tr th {\n        vertical-align: top;\n    }\n\n    .dataframe thead th {\n        text-align: right;\n    }\n</style>\n<table border=\"1\" class=\"dataframe\">\n  <thead>\n    <tr style=\"text-align: right;\">\n      <th></th>\n      <th>test_name</th>\n      <th>status</th>\n    </tr>\n  </thead>\n  <tbody>\n    <tr>\n      <th>0</th>\n      <td>PRD US13044 SRS TC12480 TC12574 Verify Subscri...</td>\n      <td>Passed</td>\n    </tr>\n    <tr>\n      <th>1</th>\n      <td>PRD US13044 SRS TC12480 TC12575 Verify Subscri...</td>\n      <td>Passed</td>\n    </tr>\n    <tr>\n      <th>2</th>\n      <td>PRD US13044 SRS TC12480 TC12576 Verify Subscri...</td>\n      <td>Passed</td>\n    </tr>\n    <tr>\n      <th>3</th>\n      <td>PRD US13044 SRS TC12480 TC12580 Verify Subscri...</td>\n      <td>Passed</td>\n    </tr>\n    <tr>\n      <th>4</th>\n      <td>Toggle off - F5890</td>\n      <td>Passed</td>\n    </tr>\n    <tr>\n      <th>...</th>\n      <td>...</td>\n      <td>...</td>\n    </tr>\n    <tr>\n      <th>130</th>\n      <td>EU Toggle and Configuration Regression Test</td>\n      <td>Passed</td>\n    </tr>\n    <tr>\n      <th>131</th>\n      <td>UC US45400 MaskSelector tablet app integration...</td>\n      <td>Passed</td>\n    </tr>\n    <tr>\n      <th>132</th>\n      <td>UC US45400 MaskSelector tablet app integration...</td>\n      <td>Passed</td>\n    </tr>\n    <tr>\n      <th>133</th>\n      <td>UC US45400 MaskSelector tablet app integration...</td>\n      <td>Passed</td>\n    </tr>\n    <tr>\n      <th>134</th>\n      <td>F5056 Toggle Test</td>\n      <td>Passed</td>\n    </tr>\n  </tbody>\n</table>\n<p>135 rows × 2 columns</p>\n</div>"
     },
     "metadata": {},
     "execution_count": 49
    }
   ],
   "source": [
    "df = pd.DataFrame({\"test_name\":test_names, \"status\":statuses})\n",
    "df"
   ]
  },
  {
   "cell_type": "code",
   "execution_count": null,
   "metadata": {},
   "outputs": [],
   "source": [
    "def load_manual_tests(file_path, return_df=True):\n",
    "    # Make sure file is in docx format, not doc\n",
    "    assert \".docx\" in file_path, \"File must be converted from .doc to .docx. Do this in Microsoft Word by selecting 'File -> Save As -> .docx'\"\n",
    "\n",
    "    # Open the file and read with python-docx package \n",
    "    with open(file_path, 'rb') as f:\n",
    "        document = Document(f)\n",
    "\n",
    "    # Get the test statuses\n",
    "    statuses = []\n",
    "    for i, table in enumerate(document.tables):\n",
    "        if table.cell(0,0).text == \"Status:\":\n",
    "            statuses.append(table.cell(0,1).text)\n",
    "    \n",
    "    # Get the test names\n",
    "    test_names = []\n",
    "    for i, paragraph in enumerate(document.paragraphs):\n",
    "        if \"Run ID\" in paragraph.text:\n",
    "            test_names.append(document.paragraphs[i-1].text)\n",
    "\n",
    "    # Output as either pandas dataframe or dict, depending on return_df setting.\n",
    "    data = {\"test_name\":test_names, \"status\":statuses}\n",
    "\n",
    "    if return_df:\n",
    "        return pd.DataFrame(data)\n",
    "    else:\n",
    "        return data"
   ]
  },
  {
   "source": [
    "## Trace matrix stuff"
   ],
   "cell_type": "markdown",
   "metadata": {}
  },
  {
   "cell_type": "code",
   "execution_count": null,
   "metadata": {},
   "outputs": [],
   "source": [
    "def load_trace(file_path, matrix_type, return_df=True):\n",
    "    \"\"\"Loads trace matrix .xlsx file and extracts data\n",
    "    \n",
    "    Args:\n",
    "        file_path (String): path to the trace file\n",
    "        matrix_type (String): \"CO\" or \"PSC\"\n",
    "        return_df (bool, optional): If true (default), returns a pandas dataframe. Else, returns list of lists.\n",
    "\n",
    "    Returns:\n",
    "        list or pd.DataFrame: the trace data\n",
    "    \"\"\"\n",
    "    print(f\"Loading {matrix_type} from: {file_path}\")\n",
    "\n",
    "    # Some asserts to make sure inputs are valid\n",
    "    assert \".xlsx\" in file_path, \"Trace file must be a .xlsx file\"\n",
    "    matrix_type = matrix_type.upper()\n",
    "    assert matrix_type in [\"CO\", \"PSC\"], \"Trace matrix type must be either 'CO' or 'PSC'\"\n",
    "    \n",
    "    # Load in the actual excel file\n",
    "    wb = pyxl.load_workbook(file_path)\n",
    "    \n",
    "    # Get the appropriate matrix from the workbook\n",
    "    if matrix_type == \"CO\":\n",
    "        ws = wb['CO Trace Matrix']\n",
    "    else:\n",
    "        ws = wb['PSC Trace Matrix']\n",
    "        \n",
    "    # get title of workbook\n",
    "    title = ws['A1'].value\n",
    "    print(f\"Loading in worksheet titled: {title}\")\n",
    "    \n",
    "    # extract headers for the table\n",
    "    headers = [cell.value for cell in ws['A3':'E3'][0]]\n",
    "    \n",
    "    # load in the data row by row\n",
    "    data = []\n",
    "    for row in ws.iter_rows(min_row=4, max_col=5, values_only=True):\n",
    "        row_data = [cell for cell in row]\n",
    "        \n",
    "        # Stop if all the row data is none\n",
    "        # apparently the blank rows in the bottom of the worksheet are populated...\n",
    "        if all([cell == None for cell in row_data]):\n",
    "            break\n",
    "        data.append(row_data)\n",
    "\n",
    "    # Returns either pandas dataframe or a list of lists\n",
    "    if return_df:\n",
    "        return pd.DataFrame(data, columns=headers)\n",
    "    else:\n",
    "        return data\n"
   ]
  },
  {
   "cell_type": "code",
   "execution_count": null,
   "metadata": {},
   "outputs": [],
   "source": [
    "trace_path = \"..\\data\\ER 2228015 v42 ATT1 Sapphire 1.32 Trace Matrix.xlsx\""
   ]
  },
  {
   "cell_type": "code",
   "execution_count": null,
   "metadata": {},
   "outputs": [],
   "source": [
    "load_trace(trace_path, \"CO\", return_df=True)"
   ]
  },
  {
   "cell_type": "code",
   "execution_count": null,
   "metadata": {},
   "outputs": [],
   "source": [
    "wb = pyxl.load_workbook(trace_path)\n",
    "wb.worksheets"
   ]
  },
  {
   "cell_type": "code",
   "execution_count": null,
   "metadata": {},
   "outputs": [],
   "source": [
    "ws = wb['CO Trace Matrix']"
   ]
  },
  {
   "cell_type": "code",
   "execution_count": null,
   "metadata": {},
   "outputs": [],
   "source": [
    "ws['A5'].value"
   ]
  },
  {
   "cell_type": "code",
   "execution_count": null,
   "metadata": {},
   "outputs": [],
   "source": [
    "for row in ws.iter_rows(min_row=1, max_row=10, max_col=5, values_only=True):\n",
    "    print(row)"
   ]
  },
  {
   "cell_type": "code",
   "execution_count": null,
   "metadata": {},
   "outputs": [],
   "source": [
    "title = ws['A1'].value\n",
    "title"
   ]
  },
  {
   "cell_type": "code",
   "execution_count": null,
   "metadata": {},
   "outputs": [],
   "source": [
    "headers = [cell.value for cell in ws['A3':'E3'][0]]\n",
    "headers"
   ]
  },
  {
   "cell_type": "code",
   "execution_count": null,
   "metadata": {},
   "outputs": [],
   "source": [
    "data = []\n",
    "for row in ws.iter_rows(min_row=4, max_col=5, values_only=True):\n",
    "    row_data = [cell for cell in row]\n",
    "    if all([cell == None for cell in row_data]):\n",
    "        break\n",
    "    data.append(row_data)\n",
    "\n",
    "# data = [[cell for cell in row] for row in ws.iter_rows(min_row=4, max_col=5, values_only=True)]"
   ]
  },
  {
   "cell_type": "code",
   "execution_count": null,
   "metadata": {},
   "outputs": [],
   "source": [
    "pd.DataFrame(data, columns=headers)"
   ]
  },
  {
   "cell_type": "code",
   "execution_count": null,
   "metadata": {},
   "outputs": [],
   "source": []
  },
  {
   "cell_type": "code",
   "execution_count": null,
   "metadata": {},
   "outputs": [],
   "source": []
  }
 ]
}