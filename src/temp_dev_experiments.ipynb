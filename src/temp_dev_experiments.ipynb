{
 "metadata": {
  "language_info": {
   "codemirror_mode": {
    "name": "ipython",
    "version": 3
   },
   "file_extension": ".py",
   "mimetype": "text/x-python",
   "name": "python",
   "nbconvert_exporter": "python",
   "pygments_lexer": "ipython3",
   "version": "3.7.9-final"
  },
  "orig_nbformat": 2,
  "kernelspec": {
   "name": "python3",
   "display_name": "Python 3"
  }
 },
 "nbformat": 4,
 "nbformat_minor": 2,
 "cells": [
  {
   "cell_type": "code",
   "execution_count": 1,
   "metadata": {},
   "outputs": [],
   "source": [
    "import docx\n",
    "from docx import Document\n",
    "import openpyxl as pyxl\n",
    "from openpyxl import Workbook\n",
    "import pandas as pd"
   ]
  },
  {
   "cell_type": "code",
   "execution_count": 2,
   "metadata": {},
   "outputs": [],
   "source": [
    "def load_trace(file_path, return_df=True):\n",
    "    wb = pyxl.load_workbook(file_path)\n",
    "    ws = wb['PSC Trace Matrix']\n",
    "    headers = [cell.value for cell in ws['A3':'E3'][0]]\n",
    "    data = []\n",
    "    for row in ws.iter_rows(min_row=4, max_col=5, values_only=True):\n",
    "        row_data = [cell for cell in row]\n",
    "        if all([cell == None for cell in row_data]):\n",
    "            break\n",
    "        data.append(row_data)\n",
    "\n",
    "    if return_df:\n",
    "        return pd.DataFrame(data, columns=headers)\n",
    "    else:\n",
    "        return data"
   ]
  },
  {
   "cell_type": "code",
   "execution_count": 4,
   "metadata": {},
   "outputs": [
    {
     "output_type": "error",
     "ename": "TypeError",
     "evalue": "load_trace() got multiple values for argument 'return_df'",
     "traceback": [
      "\u001b[1;31m---------------------------------------------------------------------------\u001b[0m",
      "\u001b[1;31mTypeError\u001b[0m                                 Traceback (most recent call last)",
      "\u001b[1;32m<ipython-input-4-4b7be98f56ae>\u001b[0m in \u001b[0;36m<module>\u001b[1;34m\u001b[0m\n\u001b[1;32m----> 1\u001b[1;33m \u001b[0mload_trace\u001b[0m\u001b[1;33m(\u001b[0m\u001b[0mtrace_path\u001b[0m\u001b[1;33m,\u001b[0m \u001b[1;34m\"PRC\"\u001b[0m\u001b[1;33m,\u001b[0m \u001b[0mreturn_df\u001b[0m\u001b[1;33m=\u001b[0m\u001b[1;32mTrue\u001b[0m\u001b[1;33m)\u001b[0m\u001b[1;33m\u001b[0m\u001b[1;33m\u001b[0m\u001b[0m\n\u001b[0m",
      "\u001b[1;31mTypeError\u001b[0m: load_trace() got multiple values for argument 'return_df'"
     ]
    }
   ],
   "source": [
    "load_trace(trace_path, \"PRC\", return_df=True)"
   ]
  },
  {
   "cell_type": "code",
   "execution_count": 3,
   "metadata": {},
   "outputs": [],
   "source": [
    "trace_path = \"..\\data\\ER 2228015 v42 ATT1 Sapphire 1.32 Trace Matrix.xlsx\""
   ]
  },
  {
   "cell_type": "code",
   "execution_count": 14,
   "metadata": {},
   "outputs": [
    {
     "output_type": "execute_result",
     "data": {
      "text/plain": [
       "[<Worksheet \"Obsoleted requirements mapping\">,\n",
       " <Worksheet \"Renamed Tests\">,\n",
       " <Worksheet \"CO Trace Matrix\">,\n",
       " <Worksheet \"PSC Trace Matrix\">,\n",
       " <Worksheet \"Use Case Trace Matrix\">]"
      ]
     },
     "metadata": {},
     "execution_count": 14
    }
   ],
   "source": [
    "wb = pyxl.load_workbook(trace_path)\n",
    "wb.worksheets"
   ]
  },
  {
   "cell_type": "code",
   "execution_count": 15,
   "metadata": {},
   "outputs": [],
   "source": [
    "ws = wb['CO Trace Matrix']"
   ]
  },
  {
   "cell_type": "code",
   "execution_count": 17,
   "metadata": {},
   "outputs": [
    {
     "output_type": "execute_result",
     "data": {
      "text/plain": [
       "'US3528'"
      ]
     },
     "metadata": {},
     "execution_count": 17
    }
   ],
   "source": [
    "ws['A5'].value"
   ]
  },
  {
   "cell_type": "code",
   "execution_count": 19,
   "metadata": {},
   "outputs": [
    {
     "output_type": "stream",
     "name": "stdout",
     "text": [
      "('Care Orchestrator PRD / SRS Trace Matrix', None, None, None, None)\n(None, None, None, None, None)\n('PRD', 'SRS ID', 'Method', 'Test Name', 'V&V Test Report')\n('US3528', 'TC1000', 'Automated', 'TC1000 tests.downloads.POU.tcCompliancePOUTest', '2228014 v50')\n('US3528', 'TC1000', 'Manual', 'PRD US3528 US1683 SRS TC996 TC1000 TC2058 View Compliance Achieved task detail', '2228014 v29')\n('US2978', 'TC1001', 'Manual', 'PRD US2978 SRS TC1001 The patient activity log can be filtered by date with options of 7, 30, 90 and All Days', '2228014 v02')\n('US18461', 'TC10011', 'Manual', 'PRD US32334 SRS TC11148 TC9673 TC9757 TC10011 Prescription delivered rule task details', '2228014 v45')\n('US18461', 'TC10011', 'Manual', 'PRD US32334 SRS TC11148 TC9679 TC9758 TC10011 Prescription Not delivered rule and task detail', '2228014 v45')\n('US18461', 'TC10011', 'Manual', 'PRD US32334 SRS TC11148 TC9682 TC9995 TC10011 Prescription rejected rule and task detail', '2228014 v45')\n('US18461', 'TC10011', 'Manual', 'PRD US32334 SRS TC11148 TC9685 TC9759 TC10011 Prescription update by external user rule and task detail', '2228014 v45')\n"
     ]
    }
   ],
   "source": [
    "for row in ws.iter_rows(min_row=1, max_row=10, max_col=5, values_only=True):\n",
    "    print(row)"
   ]
  },
  {
   "cell_type": "code",
   "execution_count": 21,
   "metadata": {},
   "outputs": [
    {
     "output_type": "execute_result",
     "data": {
      "text/plain": [
       "'Care Orchestrator PRD / SRS Trace Matrix'"
      ]
     },
     "metadata": {},
     "execution_count": 21
    }
   ],
   "source": [
    "title = ws['A1'].value\n",
    "title"
   ]
  },
  {
   "cell_type": "code",
   "execution_count": 39,
   "metadata": {},
   "outputs": [
    {
     "output_type": "execute_result",
     "data": {
      "text/plain": [
       "['PRD', 'SRS ID', 'Method', 'Test Name', 'V&V Test Report']"
      ]
     },
     "metadata": {},
     "execution_count": 39
    }
   ],
   "source": [
    "headers = [cell.value for cell in ws['A3':'E3'][0]]\n",
    "headers"
   ]
  },
  {
   "cell_type": "code",
   "execution_count": 57,
   "metadata": {},
   "outputs": [
    {
     "output_type": "stream",
     "name": "stdout",
     "text": [
      "[None, None, None, None, None]\n"
     ]
    }
   ],
   "source": [
    "data = []\n",
    "for row in ws.iter_rows(min_row=4, max_col=5, values_only=True):\n",
    "    row_data = [cell for cell in row]\n",
    "    if all([cell == None for cell in row_data]):\n",
    "        break\n",
    "    data.append(row_data)\n",
    "\n",
    "# data = [[cell for cell in row] for row in ws.iter_rows(min_row=4, max_col=5, values_only=True)]"
   ]
  },
  {
   "cell_type": "code",
   "execution_count": 58,
   "metadata": {},
   "outputs": [
    {
     "output_type": "execute_result",
     "data": {
      "text/plain": [
       "           PRD   SRS ID     Method  \\\n",
       "0       US3528   TC1000  Automated   \n",
       "1       US3528   TC1000     Manual   \n",
       "2       US2978   TC1001     Manual   \n",
       "3      US18461  TC10011     Manual   \n",
       "4      US18461  TC10011     Manual   \n",
       "...        ...      ...        ...   \n",
       "92256   US3528    TC995  Automated   \n",
       "92257   US3528    TC996     Manual   \n",
       "92258   US3528    TC996     Manual   \n",
       "92259   US3528    TC996     Manual   \n",
       "92260  US32334   TC9995     Manual   \n",
       "\n",
       "                                               Test Name V&V Test Report  \n",
       "0         TC1000 tests.downloads.POU.tcCompliancePOUTest     2228014 v50  \n",
       "1      PRD US3528 US1683 SRS TC996 TC1000 TC2058 View...     2228014 v29  \n",
       "2      PRD US2978 SRS TC1001 The patient activity log...     2228014 v02  \n",
       "3      PRD US32334 SRS TC11148 TC9673 TC9757 TC10011 ...     2228014 v45  \n",
       "4      PRD US32334 SRS TC11148 TC9679 TC9758 TC10011 ...     2228014 v45  \n",
       "...                                                  ...             ...  \n",
       "92256  TC995 TC2924 TC2931 TC2932 tests.task.complian...     2228014 v50  \n",
       "92257  PRD US3528 US1683 SRS TC996 TC1000 TC2058 View...     2228014 v29  \n",
       "92258  PRD US3528 US1683 SRS TC996 TC1998 TC1999 Comp...     2228014 v33  \n",
       "92259  PRD US3528 US1683 SRS TC996 TC1998 TC1999 Comp...     2228014 v33  \n",
       "92260  PRD US32334 SRS TC11148 TC9682 TC9995 TC10011 ...     2228014 v45  \n",
       "\n",
       "[92261 rows x 5 columns]"
      ],
      "text/html": "<div>\n<style scoped>\n    .dataframe tbody tr th:only-of-type {\n        vertical-align: middle;\n    }\n\n    .dataframe tbody tr th {\n        vertical-align: top;\n    }\n\n    .dataframe thead th {\n        text-align: right;\n    }\n</style>\n<table border=\"1\" class=\"dataframe\">\n  <thead>\n    <tr style=\"text-align: right;\">\n      <th></th>\n      <th>PRD</th>\n      <th>SRS ID</th>\n      <th>Method</th>\n      <th>Test Name</th>\n      <th>V&amp;V Test Report</th>\n    </tr>\n  </thead>\n  <tbody>\n    <tr>\n      <th>0</th>\n      <td>US3528</td>\n      <td>TC1000</td>\n      <td>Automated</td>\n      <td>TC1000 tests.downloads.POU.tcCompliancePOUTest</td>\n      <td>2228014 v50</td>\n    </tr>\n    <tr>\n      <th>1</th>\n      <td>US3528</td>\n      <td>TC1000</td>\n      <td>Manual</td>\n      <td>PRD US3528 US1683 SRS TC996 TC1000 TC2058 View...</td>\n      <td>2228014 v29</td>\n    </tr>\n    <tr>\n      <th>2</th>\n      <td>US2978</td>\n      <td>TC1001</td>\n      <td>Manual</td>\n      <td>PRD US2978 SRS TC1001 The patient activity log...</td>\n      <td>2228014 v02</td>\n    </tr>\n    <tr>\n      <th>3</th>\n      <td>US18461</td>\n      <td>TC10011</td>\n      <td>Manual</td>\n      <td>PRD US32334 SRS TC11148 TC9673 TC9757 TC10011 ...</td>\n      <td>2228014 v45</td>\n    </tr>\n    <tr>\n      <th>4</th>\n      <td>US18461</td>\n      <td>TC10011</td>\n      <td>Manual</td>\n      <td>PRD US32334 SRS TC11148 TC9679 TC9758 TC10011 ...</td>\n      <td>2228014 v45</td>\n    </tr>\n    <tr>\n      <th>...</th>\n      <td>...</td>\n      <td>...</td>\n      <td>...</td>\n      <td>...</td>\n      <td>...</td>\n    </tr>\n    <tr>\n      <th>92256</th>\n      <td>US3528</td>\n      <td>TC995</td>\n      <td>Automated</td>\n      <td>TC995 TC2924 TC2931 TC2932 tests.task.complian...</td>\n      <td>2228014 v50</td>\n    </tr>\n    <tr>\n      <th>92257</th>\n      <td>US3528</td>\n      <td>TC996</td>\n      <td>Manual</td>\n      <td>PRD US3528 US1683 SRS TC996 TC1000 TC2058 View...</td>\n      <td>2228014 v29</td>\n    </tr>\n    <tr>\n      <th>92258</th>\n      <td>US3528</td>\n      <td>TC996</td>\n      <td>Manual</td>\n      <td>PRD US3528 US1683 SRS TC996 TC1998 TC1999 Comp...</td>\n      <td>2228014 v33</td>\n    </tr>\n    <tr>\n      <th>92259</th>\n      <td>US3528</td>\n      <td>TC996</td>\n      <td>Manual</td>\n      <td>PRD US3528 US1683 SRS TC996 TC1998 TC1999 Comp...</td>\n      <td>2228014 v33</td>\n    </tr>\n    <tr>\n      <th>92260</th>\n      <td>US32334</td>\n      <td>TC9995</td>\n      <td>Manual</td>\n      <td>PRD US32334 SRS TC11148 TC9682 TC9995 TC10011 ...</td>\n      <td>2228014 v45</td>\n    </tr>\n  </tbody>\n</table>\n<p>92261 rows × 5 columns</p>\n</div>"
     },
     "metadata": {},
     "execution_count": 58
    }
   ],
   "source": [
    "pd.DataFrame(data, columns=headers)"
   ]
  },
  {
   "cell_type": "code",
   "execution_count": null,
   "metadata": {},
   "outputs": [],
   "source": []
  }
 ]
}