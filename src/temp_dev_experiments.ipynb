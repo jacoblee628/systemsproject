{
 "metadata": {
  "language_info": {
   "codemirror_mode": {
    "name": "ipython",
    "version": 3
   },
   "file_extension": ".py",
   "mimetype": "text/x-python",
   "name": "python",
   "nbconvert_exporter": "python",
   "pygments_lexer": "ipython3",
   "version": "3.7.9-final"
  },
  "orig_nbformat": 2,
  "kernelspec": {
   "name": "python3",
   "display_name": "Python 3",
   "language": "python"
  }
 },
 "nbformat": 4,
 "nbformat_minor": 2,
 "cells": [
  {
   "cell_type": "code",
   "execution_count": 1,
   "metadata": {},
   "outputs": [],
   "source": [
    "import docx\n",
    "from docx import Document\n",
    "import openpyxl as pyxl\n",
    "from openpyxl import Workbook\n",
    "import pandas as pd\n",
    "import pathlib\n",
    "from pathlib import Path"
   ]
  },
  {
   "source": [
    "## prd excel that ryan sent"
   ],
   "cell_type": "markdown",
   "metadata": {}
  },
  {
   "cell_type": "code",
   "execution_count": 2,
   "metadata": {},
   "outputs": [],
   "source": [
    "wb = pyxl.load_workbook(\"../data/1.33 PRD.xlsx\")"
   ]
  },
  {
   "cell_type": "code",
   "execution_count": 7,
   "metadata": {},
   "outputs": [],
   "source": [
    "ws = wb.worksheets[0]"
   ]
  },
  {
   "cell_type": "code",
   "execution_count": 19,
   "metadata": {},
   "outputs": [
    {
     "output_type": "error",
     "ename": "AttributeError",
     "evalue": "'str' object has no attribute 'decode'",
     "traceback": [
      "\u001b[1;31m---------------------------------------------------------------------------\u001b[0m",
      "\u001b[1;31mAttributeError\u001b[0m                            Traceback (most recent call last)",
      "\u001b[1;32m<ipython-input-19-264d95ca34ec>\u001b[0m in \u001b[0;36m<module>\u001b[1;34m\u001b[0m\n\u001b[0;32m      1\u001b[0m \u001b[1;32mfor\u001b[0m \u001b[0mi\u001b[0m\u001b[1;33m,\u001b[0m \u001b[0mrow\u001b[0m \u001b[1;32min\u001b[0m \u001b[0menumerate\u001b[0m\u001b[1;33m(\u001b[0m\u001b[0mws\u001b[0m\u001b[1;33m.\u001b[0m\u001b[0mrows\u001b[0m\u001b[1;33m)\u001b[0m\u001b[1;33m:\u001b[0m\u001b[1;33m\u001b[0m\u001b[1;33m\u001b[0m\u001b[0m\n\u001b[1;32m----> 2\u001b[1;33m     \u001b[0mdata\u001b[0m \u001b[1;33m=\u001b[0m \u001b[1;33m[\u001b[0m\u001b[0mc\u001b[0m\u001b[1;33m.\u001b[0m\u001b[0mvalue\u001b[0m\u001b[1;33m.\u001b[0m\u001b[0mdecode\u001b[0m\u001b[1;33m(\u001b[0m\u001b[1;34m\"utf-8\"\u001b[0m\u001b[1;33m)\u001b[0m \u001b[1;32mif\u001b[0m \u001b[0mc\u001b[0m\u001b[1;33m.\u001b[0m\u001b[0mvalue\u001b[0m \u001b[1;32mis\u001b[0m \u001b[1;32mnot\u001b[0m \u001b[1;32mNone\u001b[0m \u001b[1;32melse\u001b[0m \u001b[1;32mNone\u001b[0m \u001b[1;32mfor\u001b[0m \u001b[0mc\u001b[0m \u001b[1;32min\u001b[0m \u001b[0mrow\u001b[0m\u001b[1;33m]\u001b[0m\u001b[1;33m\u001b[0m\u001b[1;33m\u001b[0m\u001b[0m\n\u001b[0m\u001b[0;32m      3\u001b[0m     \u001b[0mprint\u001b[0m\u001b[1;33m(\u001b[0m\u001b[0mdata\u001b[0m\u001b[1;33m)\u001b[0m\u001b[1;33m\u001b[0m\u001b[1;33m\u001b[0m\u001b[0m\n\u001b[0;32m      4\u001b[0m     \u001b[1;32mif\u001b[0m \u001b[0mi\u001b[0m \u001b[1;33m==\u001b[0m \u001b[1;36m10\u001b[0m\u001b[1;33m:\u001b[0m\u001b[1;33m\u001b[0m\u001b[1;33m\u001b[0m\u001b[0m\n\u001b[0;32m      5\u001b[0m         \u001b[1;32mbreak\u001b[0m\u001b[1;33m\u001b[0m\u001b[1;33m\u001b[0m\u001b[0m\n",
      "\u001b[1;32m<ipython-input-19-264d95ca34ec>\u001b[0m in \u001b[0;36m<listcomp>\u001b[1;34m(.0)\u001b[0m\n\u001b[0;32m      1\u001b[0m \u001b[1;32mfor\u001b[0m \u001b[0mi\u001b[0m\u001b[1;33m,\u001b[0m \u001b[0mrow\u001b[0m \u001b[1;32min\u001b[0m \u001b[0menumerate\u001b[0m\u001b[1;33m(\u001b[0m\u001b[0mws\u001b[0m\u001b[1;33m.\u001b[0m\u001b[0mrows\u001b[0m\u001b[1;33m)\u001b[0m\u001b[1;33m:\u001b[0m\u001b[1;33m\u001b[0m\u001b[1;33m\u001b[0m\u001b[0m\n\u001b[1;32m----> 2\u001b[1;33m     \u001b[0mdata\u001b[0m \u001b[1;33m=\u001b[0m \u001b[1;33m[\u001b[0m\u001b[0mc\u001b[0m\u001b[1;33m.\u001b[0m\u001b[0mvalue\u001b[0m\u001b[1;33m.\u001b[0m\u001b[0mdecode\u001b[0m\u001b[1;33m(\u001b[0m\u001b[1;34m\"utf-8\"\u001b[0m\u001b[1;33m)\u001b[0m \u001b[1;32mif\u001b[0m \u001b[0mc\u001b[0m\u001b[1;33m.\u001b[0m\u001b[0mvalue\u001b[0m \u001b[1;32mis\u001b[0m \u001b[1;32mnot\u001b[0m \u001b[1;32mNone\u001b[0m \u001b[1;32melse\u001b[0m \u001b[1;32mNone\u001b[0m \u001b[1;32mfor\u001b[0m \u001b[0mc\u001b[0m \u001b[1;32min\u001b[0m \u001b[0mrow\u001b[0m\u001b[1;33m]\u001b[0m\u001b[1;33m\u001b[0m\u001b[1;33m\u001b[0m\u001b[0m\n\u001b[0m\u001b[0;32m      3\u001b[0m     \u001b[0mprint\u001b[0m\u001b[1;33m(\u001b[0m\u001b[0mdata\u001b[0m\u001b[1;33m)\u001b[0m\u001b[1;33m\u001b[0m\u001b[1;33m\u001b[0m\u001b[0m\n\u001b[0;32m      4\u001b[0m     \u001b[1;32mif\u001b[0m \u001b[0mi\u001b[0m \u001b[1;33m==\u001b[0m \u001b[1;36m10\u001b[0m\u001b[1;33m:\u001b[0m\u001b[1;33m\u001b[0m\u001b[1;33m\u001b[0m\u001b[0m\n\u001b[0;32m      5\u001b[0m         \u001b[1;32mbreak\u001b[0m\u001b[1;33m\u001b[0m\u001b[1;33m\u001b[0m\u001b[0m\n",
      "\u001b[1;31mAttributeError\u001b[0m: 'str' object has no attribute 'decode'"
     ]
    }
   ],
   "source": [
    "for i, row in enumerate(ws.rows):\n",
    "    data = [c.value.encode(\"utf-8\") if c.value is not None else None for c in row]\n",
    "    print(data)\n",
    "    if i == 10:\n",
    "        break"
   ]
  },
  {
   "source": [
    "## logic stuff"
   ],
   "cell_type": "markdown",
   "metadata": {}
  },
  {
   "cell_type": "code",
   "execution_count": 3,
   "metadata": {},
   "outputs": [],
   "source": [
    "from read_write import read_trace, read_manual_tests"
   ]
  },
  {
   "cell_type": "code",
   "execution_count": 155,
   "metadata": {},
   "outputs": [
    {
     "output_type": "stream",
     "name": "stdout",
     "text": [
      "Loading CO from: ..\\data\\ER 2228015 v42 ATT1 Sapphire 1.32 Trace Matrix.xlsx\n",
      "Loading in worksheet titled: Care Orchestrator PRD / SRS Trace Matrix\n"
     ]
    }
   ],
   "source": [
    "trace = read_trace(\"..\\data\\ER 2228015 v42 ATT1 Sapphire 1.32 Trace Matrix.xlsx\", \"CO\")"
   ]
  },
  {
   "cell_type": "code",
   "execution_count": 156,
   "metadata": {},
   "outputs": [
    {
     "output_type": "execute_result",
     "data": {
      "text/plain": [
       "           PRD   SRS ID     Method  \\\n",
       "0       US3528   TC1000  Automated   \n",
       "1       US3528   TC1000     Manual   \n",
       "2       US2978   TC1001     Manual   \n",
       "3      US18461  TC10011     Manual   \n",
       "4      US18461  TC10011     Manual   \n",
       "...        ...      ...        ...   \n",
       "92256   US3528    TC995  Automated   \n",
       "92257   US3528    TC996     Manual   \n",
       "92258   US3528    TC996     Manual   \n",
       "92259   US3528    TC996     Manual   \n",
       "92260  US32334   TC9995     Manual   \n",
       "\n",
       "                                               Test Name V&V Test Report  \n",
       "0         TC1000 tests.downloads.POU.tcCompliancePOUTest     2228014 v50  \n",
       "1      PRD US3528 US1683 SRS TC996 TC1000 TC2058 View...     2228014 v29  \n",
       "2      PRD US2978 SRS TC1001 The patient activity log...     2228014 v02  \n",
       "3      PRD US32334 SRS TC11148 TC9673 TC9757 TC10011 ...     2228014 v45  \n",
       "4      PRD US32334 SRS TC11148 TC9679 TC9758 TC10011 ...     2228014 v45  \n",
       "...                                                  ...             ...  \n",
       "92256  TC995 TC2924 TC2931 TC2932 tests.task.complian...     2228014 v50  \n",
       "92257  PRD US3528 US1683 SRS TC996 TC1000 TC2058 View...     2228014 v29  \n",
       "92258  PRD US3528 US1683 SRS TC996 TC1998 TC1999 Comp...     2228014 v33  \n",
       "92259  PRD US3528 US1683 SRS TC996 TC1998 TC1999 Comp...     2228014 v33  \n",
       "92260  PRD US32334 SRS TC11148 TC9682 TC9995 TC10011 ...     2228014 v45  \n",
       "\n",
       "[92261 rows x 5 columns]"
      ],
      "text/html": "<div>\n<style scoped>\n    .dataframe tbody tr th:only-of-type {\n        vertical-align: middle;\n    }\n\n    .dataframe tbody tr th {\n        vertical-align: top;\n    }\n\n    .dataframe thead th {\n        text-align: right;\n    }\n</style>\n<table border=\"1\" class=\"dataframe\">\n  <thead>\n    <tr style=\"text-align: right;\">\n      <th></th>\n      <th>PRD</th>\n      <th>SRS ID</th>\n      <th>Method</th>\n      <th>Test Name</th>\n      <th>V&amp;V Test Report</th>\n    </tr>\n  </thead>\n  <tbody>\n    <tr>\n      <th>0</th>\n      <td>US3528</td>\n      <td>TC1000</td>\n      <td>Automated</td>\n      <td>TC1000 tests.downloads.POU.tcCompliancePOUTest</td>\n      <td>2228014 v50</td>\n    </tr>\n    <tr>\n      <th>1</th>\n      <td>US3528</td>\n      <td>TC1000</td>\n      <td>Manual</td>\n      <td>PRD US3528 US1683 SRS TC996 TC1000 TC2058 View...</td>\n      <td>2228014 v29</td>\n    </tr>\n    <tr>\n      <th>2</th>\n      <td>US2978</td>\n      <td>TC1001</td>\n      <td>Manual</td>\n      <td>PRD US2978 SRS TC1001 The patient activity log...</td>\n      <td>2228014 v02</td>\n    </tr>\n    <tr>\n      <th>3</th>\n      <td>US18461</td>\n      <td>TC10011</td>\n      <td>Manual</td>\n      <td>PRD US32334 SRS TC11148 TC9673 TC9757 TC10011 ...</td>\n      <td>2228014 v45</td>\n    </tr>\n    <tr>\n      <th>4</th>\n      <td>US18461</td>\n      <td>TC10011</td>\n      <td>Manual</td>\n      <td>PRD US32334 SRS TC11148 TC9679 TC9758 TC10011 ...</td>\n      <td>2228014 v45</td>\n    </tr>\n    <tr>\n      <th>...</th>\n      <td>...</td>\n      <td>...</td>\n      <td>...</td>\n      <td>...</td>\n      <td>...</td>\n    </tr>\n    <tr>\n      <th>92256</th>\n      <td>US3528</td>\n      <td>TC995</td>\n      <td>Automated</td>\n      <td>TC995 TC2924 TC2931 TC2932 tests.task.complian...</td>\n      <td>2228014 v50</td>\n    </tr>\n    <tr>\n      <th>92257</th>\n      <td>US3528</td>\n      <td>TC996</td>\n      <td>Manual</td>\n      <td>PRD US3528 US1683 SRS TC996 TC1000 TC2058 View...</td>\n      <td>2228014 v29</td>\n    </tr>\n    <tr>\n      <th>92258</th>\n      <td>US3528</td>\n      <td>TC996</td>\n      <td>Manual</td>\n      <td>PRD US3528 US1683 SRS TC996 TC1998 TC1999 Comp...</td>\n      <td>2228014 v33</td>\n    </tr>\n    <tr>\n      <th>92259</th>\n      <td>US3528</td>\n      <td>TC996</td>\n      <td>Manual</td>\n      <td>PRD US3528 US1683 SRS TC996 TC1998 TC1999 Comp...</td>\n      <td>2228014 v33</td>\n    </tr>\n    <tr>\n      <th>92260</th>\n      <td>US32334</td>\n      <td>TC9995</td>\n      <td>Manual</td>\n      <td>PRD US32334 SRS TC11148 TC9682 TC9995 TC10011 ...</td>\n      <td>2228014 v45</td>\n    </tr>\n  </tbody>\n</table>\n<p>92261 rows × 5 columns</p>\n</div>"
     },
     "metadata": {},
     "execution_count": 156
    }
   ],
   "source": [
    "trace"
   ]
  },
  {
   "cell_type": "code",
   "execution_count": 162,
   "metadata": {},
   "outputs": [
    {
     "output_type": "error",
     "ename": "AssertionError",
     "evalue": "Error: Couldn't parse same number of test names and test statuses.\n# test names: {len(test_names)}, # statuses: {len(statuses)}",
     "traceback": [
      "\u001b[1;31m---------------------------------------------------------------------------\u001b[0m",
      "\u001b[1;31mAssertionError\u001b[0m                            Traceback (most recent call last)",
      "\u001b[1;32m<ipython-input-162-8db7016ab140>\u001b[0m in \u001b[0;36m<module>\u001b[1;34m\u001b[0m\n\u001b[1;32m----> 1\u001b[1;33m \u001b[0mtests\u001b[0m \u001b[1;33m=\u001b[0m \u001b[0mload_manual_tests\u001b[0m\u001b[1;33m(\u001b[0m\u001b[1;34m\"../data/ER2228014 v51 ATT1 Manual As-Runs.docx\"\u001b[0m\u001b[1;33m,\u001b[0m \u001b[0mreturn_df\u001b[0m\u001b[1;33m=\u001b[0m\u001b[1;32mTrue\u001b[0m\u001b[1;33m)\u001b[0m\u001b[1;33m\u001b[0m\u001b[1;33m\u001b[0m\u001b[0m\n\u001b[0m",
      "\u001b[1;32md:\\OneDrive\\Documents\\Github\\systemsproject\\src\\read_write.py\u001b[0m in \u001b[0;36mload_manual_tests\u001b[1;34m(file_path, return_df)\u001b[0m\n\u001b[0;32m     88\u001b[0m \u001b[1;33m\u001b[0m\u001b[0m\n\u001b[0;32m     89\u001b[0m     \u001b[1;31m# Make sure same number of test names and statuses\u001b[0m\u001b[1;33m\u001b[0m\u001b[1;33m\u001b[0m\u001b[1;33m\u001b[0m\u001b[0m\n\u001b[1;32m---> 90\u001b[1;33m         \u001b[1;32massert\u001b[0m \u001b[0mlen\u001b[0m\u001b[1;33m(\u001b[0m\u001b[0mtest_names\u001b[0m\u001b[1;33m)\u001b[0m \u001b[1;33m==\u001b[0m \u001b[0mlen\u001b[0m\u001b[1;33m(\u001b[0m\u001b[0mstatuses\u001b[0m\u001b[1;33m)\u001b[0m\u001b[1;33m,\u001b[0m \u001b[1;34m\"Error: Couldn't parse same number of test names and test statuses.\\n# test names: {len(test_names)}, # statuses: {len(statuses)}\"\u001b[0m\u001b[1;33m\u001b[0m\u001b[1;33m\u001b[0m\u001b[0m\n\u001b[0m\u001b[0;32m     91\u001b[0m \u001b[1;33m\u001b[0m\u001b[0m\n\u001b[0;32m     92\u001b[0m \u001b[1;33m\u001b[0m\u001b[0m\n",
      "\u001b[1;31mAssertionError\u001b[0m: Error: Couldn't parse same number of test names and test statuses.\n# test names: {len(test_names)}, # statuses: {len(statuses)}"
     ]
    }
   ],
   "source": [
    "tests = load_manual_tests(\"../data/ER2228014 v51 ATT1 Manual As-Runs.docx\", return_df=True)"
   ]
  },
  {
   "source": [
    "## rest api folder"
   ],
   "cell_type": "markdown",
   "metadata": {}
  },
  {
   "cell_type": "code",
   "execution_count": 144,
   "metadata": {},
   "outputs": [],
   "source": [
    "def read_rest_api_tests(folder_path, return_df=True):\n",
    "    if isinstance(folder_path, str):\n",
    "        folder_path = Path(folder_path)\n",
    "    \n",
    "    # Read all .txt files recursively in the folders\n",
    "    file_list = list(folder_path.glob(\"*/*/*.txt\"))\n",
    "\n",
    "    # Load in the data from each file, add to a single list\n",
    "    data = []\n",
    "    for file_name in file_list:\n",
    "        data.extend(read_group_by_method_txt(file_name, return_df=False))\n",
    "    \n",
    "    if return_df:\n",
    "        return pd.DataFrame(data)\n",
    "    else:\n",
    "        return data"
   ]
  },
  {
   "cell_type": "code",
   "execution_count": 149,
   "metadata": {},
   "outputs": [
    {
     "output_type": "execute_result",
     "data": {
      "text/plain": [
       "                                              test_name  status   rc  \\\n",
       "0     TC6281 com.philips.sapphire.systemintegrationt...  passed  RC1   \n",
       "1     TC6281 com.philips.sapphire.systemintegrationt...  passed  RC1   \n",
       "2     TC5871 com.philips.sapphire.systemintegrationt...  passed  RC1   \n",
       "3     TC6282 com.philips.sapphire.systemintegrationt...  passed  RC1   \n",
       "4     TC5867 TC5868 TC5869 TC5872 TC5873 TC5874 TC58...  passed  RC1   \n",
       "...                                                 ...     ...  ...   \n",
       "7928  TC460 TC464 TC1126 TC1189 TC2149 com.philips.s...  passed  RC4   \n",
       "7929  TC460 TC464 TC1126 TC1189 TC2148 com.philips.s...  passed  RC4   \n",
       "7930  TC460 TC464 TC1126 TC1189 TC2146 com.philips.s...  passed  RC4   \n",
       "7931  TC237 TC2069 TC2542 com.philips.sapphire.syste...  passed  RC4   \n",
       "7932  TC2331 com.philips.sapphire.systemintegrationt...  passed  RC4   \n",
       "\n",
       "          name                                       file_name  \n",
       "0     Akshitha  20200924T110349Z-LegacyTrace-GroupByMethod.txt  \n",
       "1     Akshitha  20200924T110349Z-LegacyTrace-GroupByMethod.txt  \n",
       "2     Akshitha  20200924T110349Z-LegacyTrace-GroupByMethod.txt  \n",
       "3     Akshitha  20200924T110349Z-LegacyTrace-GroupByMethod.txt  \n",
       "4     Akshitha  20200924T110349Z-LegacyTrace-GroupByMethod.txt  \n",
       "...        ...                                             ...  \n",
       "7928    Mardis  20201008T125700Z-LegacyTrace-GroupByMethod.txt  \n",
       "7929    Mardis  20201008T125700Z-LegacyTrace-GroupByMethod.txt  \n",
       "7930    Mardis  20201008T125700Z-LegacyTrace-GroupByMethod.txt  \n",
       "7931    Mardis  20201008T131155Z-LegacyTrace-GroupByMethod.txt  \n",
       "7932    Mardis  20201008T131635Z-LegacyTrace-GroupByMethod.txt  \n",
       "\n",
       "[7933 rows x 5 columns]"
      ],
      "text/html": "<div>\n<style scoped>\n    .dataframe tbody tr th:only-of-type {\n        vertical-align: middle;\n    }\n\n    .dataframe tbody tr th {\n        vertical-align: top;\n    }\n\n    .dataframe thead th {\n        text-align: right;\n    }\n</style>\n<table border=\"1\" class=\"dataframe\">\n  <thead>\n    <tr style=\"text-align: right;\">\n      <th></th>\n      <th>test_name</th>\n      <th>status</th>\n      <th>rc</th>\n      <th>name</th>\n      <th>file_name</th>\n    </tr>\n  </thead>\n  <tbody>\n    <tr>\n      <th>0</th>\n      <td>TC6281 com.philips.sapphire.systemintegrationt...</td>\n      <td>passed</td>\n      <td>RC1</td>\n      <td>Akshitha</td>\n      <td>20200924T110349Z-LegacyTrace-GroupByMethod.txt</td>\n    </tr>\n    <tr>\n      <th>1</th>\n      <td>TC6281 com.philips.sapphire.systemintegrationt...</td>\n      <td>passed</td>\n      <td>RC1</td>\n      <td>Akshitha</td>\n      <td>20200924T110349Z-LegacyTrace-GroupByMethod.txt</td>\n    </tr>\n    <tr>\n      <th>2</th>\n      <td>TC5871 com.philips.sapphire.systemintegrationt...</td>\n      <td>passed</td>\n      <td>RC1</td>\n      <td>Akshitha</td>\n      <td>20200924T110349Z-LegacyTrace-GroupByMethod.txt</td>\n    </tr>\n    <tr>\n      <th>3</th>\n      <td>TC6282 com.philips.sapphire.systemintegrationt...</td>\n      <td>passed</td>\n      <td>RC1</td>\n      <td>Akshitha</td>\n      <td>20200924T110349Z-LegacyTrace-GroupByMethod.txt</td>\n    </tr>\n    <tr>\n      <th>4</th>\n      <td>TC5867 TC5868 TC5869 TC5872 TC5873 TC5874 TC58...</td>\n      <td>passed</td>\n      <td>RC1</td>\n      <td>Akshitha</td>\n      <td>20200924T110349Z-LegacyTrace-GroupByMethod.txt</td>\n    </tr>\n    <tr>\n      <th>...</th>\n      <td>...</td>\n      <td>...</td>\n      <td>...</td>\n      <td>...</td>\n      <td>...</td>\n    </tr>\n    <tr>\n      <th>7928</th>\n      <td>TC460 TC464 TC1126 TC1189 TC2149 com.philips.s...</td>\n      <td>passed</td>\n      <td>RC4</td>\n      <td>Mardis</td>\n      <td>20201008T125700Z-LegacyTrace-GroupByMethod.txt</td>\n    </tr>\n    <tr>\n      <th>7929</th>\n      <td>TC460 TC464 TC1126 TC1189 TC2148 com.philips.s...</td>\n      <td>passed</td>\n      <td>RC4</td>\n      <td>Mardis</td>\n      <td>20201008T125700Z-LegacyTrace-GroupByMethod.txt</td>\n    </tr>\n    <tr>\n      <th>7930</th>\n      <td>TC460 TC464 TC1126 TC1189 TC2146 com.philips.s...</td>\n      <td>passed</td>\n      <td>RC4</td>\n      <td>Mardis</td>\n      <td>20201008T125700Z-LegacyTrace-GroupByMethod.txt</td>\n    </tr>\n    <tr>\n      <th>7931</th>\n      <td>TC237 TC2069 TC2542 com.philips.sapphire.syste...</td>\n      <td>passed</td>\n      <td>RC4</td>\n      <td>Mardis</td>\n      <td>20201008T131155Z-LegacyTrace-GroupByMethod.txt</td>\n    </tr>\n    <tr>\n      <th>7932</th>\n      <td>TC2331 com.philips.sapphire.systemintegrationt...</td>\n      <td>passed</td>\n      <td>RC4</td>\n      <td>Mardis</td>\n      <td>20201008T131635Z-LegacyTrace-GroupByMethod.txt</td>\n    </tr>\n  </tbody>\n</table>\n<p>7933 rows × 5 columns</p>\n</div>"
     },
     "metadata": {},
     "execution_count": 149
    }
   ],
   "source": [
    "read_rest_api_tests(\"../data/RestApiTests\")"
   ]
  },
  {
   "cell_type": "code",
   "execution_count": 80,
   "metadata": {
    "tags": []
   },
   "outputs": [],
   "source": [
    "p = Path(\"../data/RestApiTests\")\n",
    "file_list = []\n",
    "for f in p.glob(\"*/*/*\"):\n",
    "    # Make sure they're .txt files\n",
    "    if \".txt\" not in file_path.name:\n",
    "        continue\n",
    "    # Add file path to list (pathlib path object)\n",
    "    file_list.append(f)"
   ]
  },
  {
   "cell_type": "code",
   "execution_count": 114,
   "metadata": {},
   "outputs": [
    {
     "output_type": "execute_result",
     "data": {
      "text/plain": [
       "('..',\n",
       " 'data',\n",
       " 'RestApiTests',\n",
       " 'RC1',\n",
       " 'Akshitha',\n",
       " '20200924T110349Z-LegacyTrace-GroupByMethod.txt')"
      ]
     },
     "metadata": {},
     "execution_count": 114
    }
   ],
   "source": [
    "file_path = file_list[0]\n",
    "file_list[0].parts"
   ]
  },
  {
   "cell_type": "code",
   "execution_count": 110,
   "metadata": {},
   "outputs": [
    {
     "output_type": "execute_result",
     "data": {
      "text/plain": [
       "'Akshitha'"
      ]
     },
     "metadata": {},
     "execution_count": 110
    }
   ],
   "source": [
    "file_list[0].parts[-2]"
   ]
  },
  {
   "cell_type": "code",
   "execution_count": 129,
   "metadata": {},
   "outputs": [],
   "source": [
    "data = []\n",
    "for file_name in file_list:\n",
    "    data.extend(read_group_by_method_txt(file_name, return_df=False))"
   ]
  },
  {
   "cell_type": "code",
   "execution_count": 115,
   "metadata": {},
   "outputs": [
    {
     "output_type": "execute_result",
     "data": {
      "text/plain": [
       "['TC6281 com.philips.sapphire.systemintegrationtests.F3288_Visit_Summary_From_AmWell.checkAimIsExternalService|passed',\n",
       " 'TC6281 com.philips.sapphire.systemintegrationtests.F3288_Visit_Summary_From_AmWell.checkNotEnabledExternalServicesIsNotSet|passed',\n",
       " 'TC5871 com.philips.sapphire.systemintegrationtests.F3288_Visit_Summary_From_AmWell.duplicateFirstNameLastNameDOB|passed',\n",
       " 'TC6282 com.philips.sapphire.systemintegrationtests.F3288_Visit_Summary_From_AmWell.checkAmWellTestIsCareTeam|passed',\n",
       " 'TC5867 TC5868 TC5869 TC5872 TC5873 TC5874 TC5875 TC5876 TC5877 com.philips.sapphire.systemintegrationtests.F3288_Visit_Summary_From_AmWell.AttachAVisitSummaryDocumentToPatient|passed']"
      ]
     },
     "metadata": {},
     "execution_count": 115
    }
   ],
   "source": [
    "# Read in file using pathlib method, split on new line symbols\n",
    "lines = file_path.read_text().split(\"\\n\")\n",
    "\n",
    "# Remove blank lines\n",
    "lines = [line for line in lines if len(line) > 0]\n",
    "lines"
   ]
  },
  {
   "cell_type": "code",
   "execution_count": 130,
   "metadata": {},
   "outputs": [
    {
     "output_type": "stream",
     "name": "stdout",
     "text": [
      "1450\n"
     ]
    },
    {
     "output_type": "execute_result",
     "data": {
      "text/plain": [
       "[{'test_name': 'TC6281 com.philips.sapphire.systemintegrationtests.F3288_Visit_Summary_From_AmWell.checkAimIsExternalService',\n",
       "  'status': 'passed',\n",
       "  'rc': 'RC1',\n",
       "  'name': 'Akshitha',\n",
       "  'file_name': '20200924T110349Z-LegacyTrace-GroupByMethod.txt'},\n",
       " {'test_name': 'TC6281 com.philips.sapphire.systemintegrationtests.F3288_Visit_Summary_From_AmWell.checkNotEnabledExternalServicesIsNotSet',\n",
       "  'status': 'passed',\n",
       "  'rc': 'RC1',\n",
       "  'name': 'Akshitha',\n",
       "  'file_name': '20200924T110349Z-LegacyTrace-GroupByMethod.txt'},\n",
       " {'test_name': 'TC5871 com.philips.sapphire.systemintegrationtests.F3288_Visit_Summary_From_AmWell.duplicateFirstNameLastNameDOB',\n",
       "  'status': 'passed',\n",
       "  'rc': 'RC1',\n",
       "  'name': 'Akshitha',\n",
       "  'file_name': '20200924T110349Z-LegacyTrace-GroupByMethod.txt'},\n",
       " {'test_name': 'TC6282 com.philips.sapphire.systemintegrationtests.F3288_Visit_Summary_From_AmWell.checkAmWellTestIsCareTeam',\n",
       "  'status': 'passed',\n",
       "  'rc': 'RC1',\n",
       "  'name': 'Akshitha',\n",
       "  'file_name': '20200924T110349Z-LegacyTrace-GroupByMethod.txt'},\n",
       " {'test_name': 'TC5867 TC5868 TC5869 TC5872 TC5873 TC5874 TC5875 TC5876 TC5877 com.philips.sapphire.systemintegrationtests.F3288_Visit_Summary_From_AmWell.AttachAVisitSummaryDocumentToPatient',\n",
       "  'status': 'passed',\n",
       "  'rc': 'RC1',\n",
       "  'name': 'Akshitha',\n",
       "  'file_name': '20200924T110349Z-LegacyTrace-GroupByMethod.txt'}]"
      ]
     },
     "metadata": {},
     "execution_count": 130
    }
   ],
   "source": [
    "print(len(data))\n",
    "data[0:5]"
   ]
  },
  {
   "cell_type": "code",
   "execution_count": 140,
   "metadata": {},
   "outputs": [],
   "source": [
    "def read_group_by_method_txt(file_path, return_df=True):\n",
    "    # If receive str, convert to pathlib object\n",
    "    if isinstance(file_path, str):\n",
    "        file_path = Path(file_path) \n",
    "\n",
    "    # Read in file using pathlib method, split on new line symbols\n",
    "    lines = file_path.read_text().split(\"\\n\")\n",
    "\n",
    "    # Remove blank lines\n",
    "    lines = [line for line in lines if len(line) > 0]\n",
    "\n",
    "    data = []\n",
    "    for line in lines:\n",
    "        # split on the | char; should only be one of them\n",
    "        line_data = line.split(\"|\")\n",
    "\n",
    "        # For some reason if theres multiple of that char, only consider the last one\n",
    "        if len(line_data) > 2:\n",
    "            print(f\"found line with multiple '|' chars: {line}\")\n",
    "            line_data = \"\".join(line_data[:-1]) + [line_data[-1]]\n",
    "        \n",
    "        # Store data in list\n",
    "        data.append({\n",
    "            'test_name':line_data[0],\n",
    "            'status':line_data[1],\n",
    "            'rc': file_path.parts[-3],\n",
    "            'name': file_path.parts[-2],\n",
    "            'file_name': file_path.parts[-1]\n",
    "        })\n",
    "\n",
    "    if return_df:\n",
    "        return pd.DataFrame(data)\n",
    "    else:\n",
    "        return data"
   ]
  },
  {
   "cell_type": "code",
   "execution_count": 116,
   "metadata": {},
   "outputs": [],
   "source": [
    "data = []\n",
    "for line in lines:\n",
    "    # split on the | char; should only be one of them\n",
    "    line_data = line.split(\"|\")\n",
    "\n",
    "    # For some reason if theres multiple of that char, only consider the last one\n",
    "    if len(line_data) > 2:\n",
    "        print(f\"found line with multiple '|' chars: {line}\")\n",
    "        line_data = \"\".join(line_data[:-1]) + [line_data[-1]]\n",
    "    \n",
    "    # Store data in list\n",
    "    data.append({\n",
    "        'test_name':line_data[0],\n",
    "        'status':line_data[1],\n",
    "        'rc': file_path.parts[-3],\n",
    "        'name': file_path.parts[-2],\n",
    "        'file_name': file_path.parts[-1]\n",
    "    })\n"
   ]
  },
  {
   "cell_type": "code",
   "execution_count": 117,
   "metadata": {},
   "outputs": [
    {
     "output_type": "execute_result",
     "data": {
      "text/plain": [
       "[{'test_name': 'TC6281 com.philips.sapphire.systemintegrationtests.F3288_Visit_Summary_From_AmWell.checkAimIsExternalService',\n",
       "  'status': 'passed',\n",
       "  'rc': 'RC1',\n",
       "  'name': 'Akshitha',\n",
       "  'file_name': '20200924T110349Z-LegacyTrace-GroupByMethod.txt'},\n",
       " {'test_name': 'TC6281 com.philips.sapphire.systemintegrationtests.F3288_Visit_Summary_From_AmWell.checkNotEnabledExternalServicesIsNotSet',\n",
       "  'status': 'passed',\n",
       "  'rc': 'RC1',\n",
       "  'name': 'Akshitha',\n",
       "  'file_name': '20200924T110349Z-LegacyTrace-GroupByMethod.txt'},\n",
       " {'test_name': 'TC5871 com.philips.sapphire.systemintegrationtests.F3288_Visit_Summary_From_AmWell.duplicateFirstNameLastNameDOB',\n",
       "  'status': 'passed',\n",
       "  'rc': 'RC1',\n",
       "  'name': 'Akshitha',\n",
       "  'file_name': '20200924T110349Z-LegacyTrace-GroupByMethod.txt'},\n",
       " {'test_name': 'TC6282 com.philips.sapphire.systemintegrationtests.F3288_Visit_Summary_From_AmWell.checkAmWellTestIsCareTeam',\n",
       "  'status': 'passed',\n",
       "  'rc': 'RC1',\n",
       "  'name': 'Akshitha',\n",
       "  'file_name': '20200924T110349Z-LegacyTrace-GroupByMethod.txt'},\n",
       " {'test_name': 'TC5867 TC5868 TC5869 TC5872 TC5873 TC5874 TC5875 TC5876 TC5877 com.philips.sapphire.systemintegrationtests.F3288_Visit_Summary_From_AmWell.AttachAVisitSummaryDocumentToPatient',\n",
       "  'status': 'passed',\n",
       "  'rc': 'RC1',\n",
       "  'name': 'Akshitha',\n",
       "  'file_name': '20200924T110349Z-LegacyTrace-GroupByMethod.txt'}]"
      ]
     },
     "metadata": {},
     "execution_count": 117
    }
   ],
   "source": [
    "data"
   ]
  },
  {
   "source": [
    "## performance test results by tc"
   ],
   "cell_type": "markdown",
   "metadata": {}
  },
  {
   "cell_type": "code",
   "execution_count": 69,
   "metadata": {},
   "outputs": [],
   "source": [
    "def read_performance_test_results_by_tc(file_path, return_df=True):\n",
    "    # Load workbook\n",
    "    wb = pyxl.load_workbook(file_path)\n",
    "\n",
    "    # Read table values (includes header at row 1)\n",
    "    contents = []\n",
    "    for row in wb.worksheets[0].values:\n",
    "        # Break if all the values in the row are empty\n",
    "        if all([value is None for value in row]):\n",
    "            break\n",
    "        contents.append(row)\n",
    "    \n",
    "    df = pd.DataFrame(contents[1:], columns=contents[0])\n",
    "\n",
    "    # Return pandas dataframe if specified, otherwise return a list of dicts\n",
    "    if return_df:\n",
    "        return df\n",
    "    else:\n",
    "        return df.to_dict('records')"
   ]
  },
  {
   "cell_type": "code",
   "execution_count": 70,
   "metadata": {},
   "outputs": [
    {
     "output_type": "execute_result",
     "data": {
      "text/plain": [
       "{'TC(s) and Script name': 'TC10051 patient record display',\n",
       " 'PASS/FAIL': 'PASS',\n",
       " 'Notes': 'Response time is right at SLA, however.  Needs more investigation'}"
      ]
     },
     "metadata": {},
     "execution_count": 70
    }
   ],
   "source": [
    "out = read_performance_test_results_by_tc(\"../data/PerformanceTestResultsByTC_2020_10_12.xlsx\", False)\n",
    "out[0]"
   ]
  },
  {
   "cell_type": "code",
   "execution_count": 37,
   "metadata": {},
   "outputs": [
    {
     "output_type": "execute_result",
     "data": {
      "text/plain": [
       "[<Worksheet \"Sheet1\">]"
      ]
     },
     "metadata": {},
     "execution_count": 37
    }
   ],
   "source": [
    "wb = pyxl.load_workbook(\"../data/PerformanceTestResultsByTC_2020_10_12.xlsx\")"
   ]
  },
  {
   "cell_type": "code",
   "execution_count": 59,
   "metadata": {},
   "outputs": [],
   "source": [
    "contents = []\n",
    "for row in wb.worksheets[0].values:\n",
    "    if all([value is None for value in row]):\n",
    "        break\n",
    "    contents.append(row)"
   ]
  },
  {
   "cell_type": "code",
   "execution_count": 60,
   "metadata": {},
   "outputs": [
    {
     "output_type": "execute_result",
     "data": {
      "text/plain": [
       "[('TC(s) and Script name', 'PASS/FAIL', 'Notes'),\n",
       " ('TC10051 patient record display',\n",
       "  'PASS',\n",
       "  'Response time is right at SLA, however.  Needs more investigation'),\n",
       " ('TC10051 patient list display', 'PASS', None),\n",
       " ('TC10052 Business report',\n",
       "  'FAIL',\n",
       "  'Viewing the report passes, export fails DE6069 and DE 6070 filed'),\n",
       " ('TC10051 patient search display', 'PASS', None),\n",
       " ('TC10054 Waveform Report',\n",
       "  'PASS',\n",
       "  'PASS / Slightly high - needs to be investigated in next release'),\n",
       " ('TC10054 Trilogy Report', 'PASS', None),\n",
       " ('TC10054 O2 Report',\n",
       "  'PASS',\n",
       "  'PASS / Slightly high - needs to be investigated in next release'),\n",
       " ('TC10051 Document Upload', 'PASS', None),\n",
       " ('TC10051 Task List view', 'PASS', None),\n",
       " ('TC10053 SD Card Uploads', 'PASS', None),\n",
       " ('TC10054 Sleep Summary Report', 'FAIL', 'DE5602'),\n",
       " ('TC10054 Sleep Detail  Report', 'FAIL', 'DE5602')]"
      ]
     },
     "metadata": {},
     "execution_count": 60
    }
   ],
   "source": [
    "contents"
   ]
  },
  {
   "cell_type": "code",
   "execution_count": 62,
   "metadata": {},
   "outputs": [
    {
     "output_type": "execute_result",
     "data": {
      "text/plain": [
       "             TC(s) and Script name PASS/FAIL  \\\n",
       "0   TC10051 patient record display      PASS   \n",
       "1     TC10051 patient list display      PASS   \n",
       "2          TC10052 Business report      FAIL   \n",
       "3   TC10051 patient search display      PASS   \n",
       "4          TC10054 Waveform Report      PASS   \n",
       "5           TC10054 Trilogy Report      PASS   \n",
       "6                TC10054 O2 Report      PASS   \n",
       "7          TC10051 Document Upload      PASS   \n",
       "8           TC10051 Task List view      PASS   \n",
       "9          TC10053 SD Card Uploads      PASS   \n",
       "10    TC10054 Sleep Summary Report      FAIL   \n",
       "11    TC10054 Sleep Detail  Report      FAIL   \n",
       "\n",
       "                                                Notes  \n",
       "0   Response time is right at SLA, however.  Needs...  \n",
       "1                                                None  \n",
       "2   Viewing the report passes, export fails DE6069...  \n",
       "3                                                None  \n",
       "4   PASS / Slightly high - needs to be investigate...  \n",
       "5                                                None  \n",
       "6   PASS / Slightly high - needs to be investigate...  \n",
       "7                                                None  \n",
       "8                                                None  \n",
       "9                                                None  \n",
       "10                                             DE5602  \n",
       "11                                             DE5602  "
      ],
      "text/html": "<div>\n<style scoped>\n    .dataframe tbody tr th:only-of-type {\n        vertical-align: middle;\n    }\n\n    .dataframe tbody tr th {\n        vertical-align: top;\n    }\n\n    .dataframe thead th {\n        text-align: right;\n    }\n</style>\n<table border=\"1\" class=\"dataframe\">\n  <thead>\n    <tr style=\"text-align: right;\">\n      <th></th>\n      <th>TC(s) and Script name</th>\n      <th>PASS/FAIL</th>\n      <th>Notes</th>\n    </tr>\n  </thead>\n  <tbody>\n    <tr>\n      <th>0</th>\n      <td>TC10051 patient record display</td>\n      <td>PASS</td>\n      <td>Response time is right at SLA, however.  Needs...</td>\n    </tr>\n    <tr>\n      <th>1</th>\n      <td>TC10051 patient list display</td>\n      <td>PASS</td>\n      <td>None</td>\n    </tr>\n    <tr>\n      <th>2</th>\n      <td>TC10052 Business report</td>\n      <td>FAIL</td>\n      <td>Viewing the report passes, export fails DE6069...</td>\n    </tr>\n    <tr>\n      <th>3</th>\n      <td>TC10051 patient search display</td>\n      <td>PASS</td>\n      <td>None</td>\n    </tr>\n    <tr>\n      <th>4</th>\n      <td>TC10054 Waveform Report</td>\n      <td>PASS</td>\n      <td>PASS / Slightly high - needs to be investigate...</td>\n    </tr>\n    <tr>\n      <th>5</th>\n      <td>TC10054 Trilogy Report</td>\n      <td>PASS</td>\n      <td>None</td>\n    </tr>\n    <tr>\n      <th>6</th>\n      <td>TC10054 O2 Report</td>\n      <td>PASS</td>\n      <td>PASS / Slightly high - needs to be investigate...</td>\n    </tr>\n    <tr>\n      <th>7</th>\n      <td>TC10051 Document Upload</td>\n      <td>PASS</td>\n      <td>None</td>\n    </tr>\n    <tr>\n      <th>8</th>\n      <td>TC10051 Task List view</td>\n      <td>PASS</td>\n      <td>None</td>\n    </tr>\n    <tr>\n      <th>9</th>\n      <td>TC10053 SD Card Uploads</td>\n      <td>PASS</td>\n      <td>None</td>\n    </tr>\n    <tr>\n      <th>10</th>\n      <td>TC10054 Sleep Summary Report</td>\n      <td>FAIL</td>\n      <td>DE5602</td>\n    </tr>\n    <tr>\n      <th>11</th>\n      <td>TC10054 Sleep Detail  Report</td>\n      <td>FAIL</td>\n      <td>DE5602</td>\n    </tr>\n  </tbody>\n</table>\n</div>"
     },
     "metadata": {},
     "execution_count": 62
    }
   ],
   "source": [
    "pd.DataFrame(contents[1:], columns=contents[0])"
   ]
  },
  {
   "source": [
    "## care docs"
   ],
   "cell_type": "markdown",
   "metadata": {}
  },
  {
   "cell_type": "code",
   "execution_count": 4,
   "metadata": {},
   "outputs": [],
   "source": [
    "with open(r'../data/CARE-45278.docx', 'rb') as f:\n",
    "    document = Document(f)"
   ]
  },
  {
   "cell_type": "code",
   "execution_count": null,
   "metadata": {},
   "outputs": [],
   "source": [
    "test_names = []\n",
    "for p in document.paragraphs:\n",
    "    if \"Test:\" in p.text and \"\\t\" not in p.text:\n",
    "        test_names.append(p.text)\n",
    "\n",
    "statuses = []\n",
    "for table in document.tables:\n",
    "    if \"Execution Status\" in table.cell(0,0).text:\n",
    "        statuses.append(table.cell(1,0).text)"
   ]
  },
  {
   "cell_type": "code",
   "execution_count": 24,
   "metadata": {},
   "outputs": [],
   "source": [
    "non_it = []\n",
    "for i, p in enumerate(document.paragraphs):\n",
    "    # print(p.text)\n",
    "    # if \"Test:\" != p.text[:5]:\n",
    "    if all([e not in p.text for e in [\"\\t\", \"Requirements:\", \"is associated with\"]]):\n",
    "        if len(p.text) < 3:\n",
    "            continue\n",
    "        non_it.append(p.text)\n",
    "        # print(p.text)\n",
    "        # break"
   ]
  },
  {
   "cell_type": "code",
   "execution_count": 33,
   "metadata": {},
   "outputs": [
    {
     "output_type": "stream",
     "name": "stdout",
     "text": [
      "23010\n"
     ]
    }
   ],
   "source": [
    "print(len(non_it))\n",
    "# non_it[100:200]"
   ]
  },
  {
   "cell_type": "code",
   "execution_count": 31,
   "metadata": {},
   "outputs": [],
   "source": [
    "non_it = non_it[4:]"
   ]
  },
  {
   "cell_type": "code",
   "execution_count": 32,
   "metadata": {},
   "outputs": [
    {
     "output_type": "execute_result",
     "data": {
      "text/plain": [
       "['Test: CARE-26487 – Summary:getDeviceAssignmentsForPatientId_bubblesException',\n",
       " 'Test: CARE-26489 – Summary:getDeviceAssignmentsForPatientId_callsEquipmentServiceCorrectPatientId',\n",
       " 'Test: CARE-26488 – Summary:getDeviceAssignmentsForPatientId_invalidPatientIdThrows',\n",
       " 'Test: CARE-14825 – Summary:testPublishWithNoTherapyData',\n",
       " 'Test: CARE-14826 – Summary:testPublishAlwaysBasedOnCurrentComplianceHours',\n",
       " 'Test: CARE-14827 – Summary:testPublishWithLessSleepTherapyData',\n",
       " 'Test: CARE-14821 – Summary:testPublishWithNoComplianceHours',\n",
       " 'Test: CARE-14822 – Summary:testPublishWithEqualAndMoreSleepTherapyData',\n",
       " 'Test: CARE-5009 – Summary:testPatientUsageSummarySentSuccessfully',\n",
       " 'Test: CARE-14823 – Summary:testPublishWithEqualAndMoreCombinedTherapyData',\n",
       " 'Test: CARE-14824 – Summary:testPublishWithEqualAndMoreVentTherapyData',\n",
       " 'Test: CARE-35154 – Summary:testPatientUsageSummariesSentSuccessfully',\n",
       " 'Test: CARE-35155 – Summary:testPatientUsageNoSummariesNotSent',\n",
       " 'Test: CARE-14820 – Summary:testPublishWithLessCombinedTherapyData',\n",
       " 'Test: CARE-5008 – Summary:testPublishException',\n",
       " 'Test: CARE-5007 – Summary:testMultiplePatientUsageSummarySentSuccessfully',\n",
       " 'Test: CARE-14819 – Summary:testPublishWithLessVentTherapyData',\n",
       " 'Test: CARE-4900 – Summary:testValidateWithNullValue',\n",
       " 'Test: CARE-4899 – Summary:testSupportsWithPatientUsage',\n",
       " 'Test: CARE-4896 – Summary:testSupportsWithNotPatientUsage',\n",
       " 'Test: CARE-4898 – Summary:testValidateWithEmptyValue',\n",
       " 'Test: CARE-4897 – Summary:testDefaultUsage',\n",
       " 'Test: CARE-4903 – Summary:testGetByIdException',\n",
       " 'Test: CARE-4902 – Summary:testGetByIdNotFound',\n",
       " 'Test: CARE-4901 – Summary:testGetByIdSuccess',\n",
       " 'Test: CARE-4904 – Summary:testCreateUsageCompliance_callsFeignClientWithProperlyCreatedComplianceRequest',\n",
       " 'Test: CARE-4905 – Summary:getFirstTherapyDateForPatientId',\n",
       " 'Test: CARE-25977 – Summary:containsNullDate',\n",
       " 'Test: CARE-25978 – Summary:createRangeWithoutEnd',\n",
       " 'Test: CARE-25975 – Summary:unionWhenRangeIsWithinEntireRange',\n",
       " 'Test: CARE-25976 – Summary:doesNotOverlapsWhenStartIsNextDay',\n",
       " 'Test: CARE-25979 – Summary:unionRangeWithNull',\n",
       " 'Test: CARE-25991 – Summary:overlapsWhenRangeContainsEnd',\n",
       " 'Test: CARE-25970 – Summary:containsDateWhenDateIsAfterStartAndNullEnd',\n",
       " 'Test: CARE-25992 – Summary:createRangeWithNullEnd',\n",
       " 'Test: CARE-25990 – Summary:doesNotUnionWhenStartIsNextDay',\n",
       " 'Test: CARE-25973 – Summary:overlapsRangeWithNull',\n",
       " 'Test: CARE-25974 – Summary:unionWhenRangeContainsStart',\n",
       " 'Test: CARE-25971 – Summary:daysInRangeWithStartAndEndSet',\n",
       " 'Test: CARE-25972 – Summary:unionWhenOpenRangeContainsEntireRange',\n",
       " 'Test: CARE-26392 – Summary:compare',\n",
       " 'Test: CARE-25966 – Summary:unionWhenRangeContainsEntireRange',\n",
       " 'Test: CARE-25988 – Summary:unionEndAndStartEqual',\n",
       " 'Test: CARE-25989 – Summary:overlapsWhenRangeContainsEntireRange',\n",
       " 'Test: CARE-25967 – Summary:overlapsWhenRangeContainsStart',\n",
       " 'Test: CARE-25986 – Summary:daysInRangeWithStartAndNullEnd',\n",
       " 'Test: CARE-25964 – Summary:containsDateInMiddle',\n",
       " 'Test: CARE-25965 – Summary:overlapsEndAndStartEqual',\n",
       " 'Test: CARE-25987 – Summary:unionWhenRangeContainsEnd',\n",
       " 'Test: CARE-25968 – Summary:unionWhenRangeContainsOpenRange']"
      ]
     },
     "metadata": {},
     "execution_count": 32
    }
   ],
   "source": [
    "non_it[0:50]"
   ]
  },
  {
   "cell_type": "code",
   "execution_count": 34,
   "metadata": {},
   "outputs": [
    {
     "output_type": "stream",
     "name": "stdout",
     "text": [
      "Test Execution: CARE-38650 – Summary:\nTest Execution: CARE-33317 – Summary:\nTest Execution: CARE-44144 – Summary:\nTest Execution: CARE-42484 – Summary:\nTest Execution: CARE-44271 – Summary:\nTest Execution: CARE-38609 – Summary:\nTest Execution: CARE-38608 – Summary:\nTest Execution: CARE-40333 – Summary:\nTest Execution: CARE-44754 – Summary:\nTest Execution: CARE-44793 – Summary:\nTest Execution: CARE-44937 – Summary:\nTest Execution: CARE-45073 – Summary:\nTest Execution: CARE-45079 – Summary:\nTest Execution: CARE-44976 – Summary:\nTest Execution: CARE-44970 – Summary:\nTest Execution: CARE-44974 – Summary:\nTest Execution: CARE-44809 – Summary:\nTest Execution: CARE-44288 – Summary:\nTest Execution: CARE-40519 – Summary:\nTest Execution: CARE-38168 – Summary:\nTest Execution: CARE-20053 – Summary:\nTest Execution: CARE-43568 – Summary:\nTest Execution: CARE-28615 – Summary:\nTest Execution: CARE-28616 – Summary:\nTest Execution: CARE-40693 – Summary:\nTest Execution: CARE-41486 – Summary:\nTest Execution: CARE-41481 – Summary:\nTest Execution: CARE-41483 – Summary:\nTest Execution: CARE-41482 – Summary:\nTest Execution: CARE-41485 – Summary:\nTest Execution: CARE-38206 – Summary:\nTest Execution: CARE-38714 – Summary:\nTest Execution: CARE-38688 – Summary:\nTest Execution: CARE-38431 – Summary:\nTest Execution: CARE-44639 – Summary:\nTest Execution: CARE-45010 – Summary:\nTest Execution: CARE-44958 – Summary:\nTest Execution: CARE-39294 – Summary:\nTest Execution: CARE-42930 – Summary:\nTest Execution: CARE-27806 – Summary:\nTest Execution: CARE-27805 – Summary:\nTest Execution: CARE-31345 – Summary:\nTest Execution: CARE-44356 – Summary:\nTest Execution: CARE-44355 – Summary:\nTest Execution: CARE-40932 – Summary:\nTest Execution: CARE-40933 – Summary:\nTest Execution: CARE-38652 – Summary:\nTest Execution: CARE-38649 – Summary:\nTest Execution: CARE-44004 – Summary:\nTest Execution: CARE-44200 – Summary:\nTest Execution: CARE-43361 – Summary:\nTest Execution: CARE-33968 – Summary:\nTest Execution: CARE-33967 – Summary:\nTest Execution: CARE-44967 – Summary:\nTest Execution: CARE-44962 – Summary:\nTest Execution: CARE-44960 – Summary:\nTest Execution: CARE-44964 – Summary:\nAppendix A: Approval\nThe undersigned acknowledge they have reviewed the Test Plan and agree with the approach it presents. Changes to this Test Plan will be coordinated with and approved by the undersigned or their designated representatives.\n"
     ]
    }
   ],
   "source": [
    "for l in non_it:\n",
    "    if \"Test:\" not in l:\n",
    "        print(l)"
   ]
  },
  {
   "cell_type": "code",
   "execution_count": 28,
   "metadata": {},
   "outputs": [
    {
     "output_type": "error",
     "ename": "NameError",
     "evalue": "name 'test_names' is not defined",
     "traceback": [
      "\u001b[1;31m---------------------------------------------------------------------------\u001b[0m",
      "\u001b[1;31mNameError\u001b[0m                                 Traceback (most recent call last)",
      "\u001b[1;32m<ipython-input-28-1552eb29bd3c>\u001b[0m in \u001b[0;36m<module>\u001b[1;34m\u001b[0m\n\u001b[1;32m----> 1\u001b[1;33m \u001b[0mprint\u001b[0m\u001b[1;33m(\u001b[0m\u001b[0mlen\u001b[0m\u001b[1;33m(\u001b[0m\u001b[0mtest_names\u001b[0m\u001b[1;33m)\u001b[0m\u001b[1;33m)\u001b[0m\u001b[1;33m\u001b[0m\u001b[1;33m\u001b[0m\u001b[0m\n\u001b[0m\u001b[0;32m      2\u001b[0m \u001b[0mtest_names\u001b[0m\u001b[1;33m[\u001b[0m\u001b[1;33m-\u001b[0m\u001b[1;36m10\u001b[0m\u001b[1;33m:\u001b[0m\u001b[1;33m]\u001b[0m\u001b[1;33m\u001b[0m\u001b[1;33m\u001b[0m\u001b[0m\n",
      "\u001b[1;31mNameError\u001b[0m: name 'test_names' is not defined"
     ]
    }
   ],
   "source": [
    "print(len(test_names))\n",
    "test_names[-10:]"
   ]
  },
  {
   "cell_type": "code",
   "execution_count": 106,
   "metadata": {
    "tags": []
   },
   "outputs": [],
   "source": [
    "for test_name in test_names:\n",
    "    # if \"Test\" != test_name[0:4]:\n",
    "    #     print(test_name)"
   ]
  },
  {
   "cell_type": "code",
   "execution_count": 96,
   "metadata": {},
   "outputs": [
    {
     "output_type": "stream",
     "name": "stdout",
     "text": [
      "22960\n"
     ]
    },
    {
     "output_type": "execute_result",
     "data": {
      "text/plain": [
       "['PASS',\n",
       " 'PASS',\n",
       " 'PASS',\n",
       " 'PASS',\n",
       " 'PASS',\n",
       " 'PASS',\n",
       " 'PASS',\n",
       " 'PASS',\n",
       " 'PASS',\n",
       " 'PASS']"
      ]
     },
     "metadata": {},
     "execution_count": 96
    }
   ],
   "source": [
    "print(len(statuses))\n",
    "statuses[0:10]"
   ]
  },
  {
   "cell_type": "code",
   "execution_count": 98,
   "metadata": {},
   "outputs": [
    {
     "output_type": "execute_result",
     "data": {
      "text/plain": [
       "{'PASS', 'TODO'}"
      ]
     },
     "metadata": {},
     "execution_count": 98
    }
   ],
   "source": [
    "set(statuses)"
   ]
  },
  {
   "source": [
    "## msgateway tests docx"
   ],
   "cell_type": "markdown",
   "metadata": {}
  },
  {
   "cell_type": "code",
   "execution_count": 61,
   "metadata": {},
   "outputs": [
    {
     "output_type": "error",
     "ename": "PermissionError",
     "evalue": "[Errno 13] Permission denied: '../data/1.33 MSGateway.docx'",
     "traceback": [
      "\u001b[1;31m---------------------------------------------------------------------------\u001b[0m",
      "\u001b[1;31mPermissionError\u001b[0m                           Traceback (most recent call last)",
      "\u001b[1;32m<ipython-input-61-a9466cb25dc1>\u001b[0m in \u001b[0;36m<module>\u001b[1;34m\u001b[0m\n\u001b[1;32m----> 1\u001b[1;33m \u001b[1;32mwith\u001b[0m \u001b[0mopen\u001b[0m\u001b[1;33m(\u001b[0m\u001b[1;34mr'../data/1.33 MSGateway.docx'\u001b[0m\u001b[1;33m,\u001b[0m \u001b[1;34m'rb'\u001b[0m\u001b[1;33m)\u001b[0m \u001b[1;32mas\u001b[0m \u001b[0mf\u001b[0m\u001b[1;33m:\u001b[0m\u001b[1;33m\u001b[0m\u001b[1;33m\u001b[0m\u001b[0m\n\u001b[0m\u001b[0;32m      2\u001b[0m     \u001b[0mdocument\u001b[0m \u001b[1;33m=\u001b[0m \u001b[0mDocument\u001b[0m\u001b[1;33m(\u001b[0m\u001b[0mf\u001b[0m\u001b[1;33m)\u001b[0m\u001b[1;33m\u001b[0m\u001b[1;33m\u001b[0m\u001b[0m\n",
      "\u001b[1;31mPermissionError\u001b[0m: [Errno 13] Permission denied: '../data/1.33 MSGateway.docx'"
     ]
    }
   ],
   "source": [
    "with open(r'../data/1.33 MSGateway.docx', 'rb') as f:\n",
    "    document = Document(f)"
   ]
  },
  {
   "cell_type": "code",
   "execution_count": 84,
   "metadata": {},
   "outputs": [],
   "source": [
    "def load_msgateway_results(file_path, return_df=True):\n",
    "    # Read the document\n",
    "    with open(file_path, 'rb') as f:\n",
    "        document = Document(f)\n",
    "\n",
    "    # Get the names of the tests\n",
    "    test_names = []\n",
    "    for p in document.paragraphs:\n",
    "        if \"Test:\" in p.text and \"\\t\" not in p.text:\n",
    "            test_names.append(p.text)\n",
    "\n",
    "    statuses = []\n",
    "    for table in document.tables:\n",
    "        if \"Execution Status\" in table.cell(0,0).text:\n",
    "            statuses.append(table.cell(1,0).text)\n",
    "\n",
    "    # Output as either pandas dataframe or dict, depending on return_df setting.\n",
    "    data = {\"test_name\":test_names, \"status\":statuses}\n",
    "\n",
    "    if return_df:\n",
    "        return pd.DataFrame(data)\n",
    "    else:\n",
    "        return data"
   ]
  },
  {
   "cell_type": "code",
   "execution_count": null,
   "metadata": {},
   "outputs": [],
   "source": []
  },
  {
   "cell_type": "code",
   "execution_count": 87,
   "metadata": {},
   "outputs": [
    {
     "output_type": "error",
     "ename": "ValueError",
     "evalue": "arrays must all be same length",
     "traceback": [
      "\u001b[1;31m---------------------------------------------------------------------------\u001b[0m",
      "\u001b[1;31mValueError\u001b[0m                                Traceback (most recent call last)",
      "\u001b[1;32m<ipython-input-87-2eb95a46db06>\u001b[0m in \u001b[0;36m<module>\u001b[1;34m\u001b[0m\n\u001b[1;32m----> 1\u001b[1;33m \u001b[0mload_msgateway_results\u001b[0m\u001b[1;33m(\u001b[0m\u001b[1;34m\"../data/CARE-45278.docx\"\u001b[0m\u001b[1;33m)\u001b[0m\u001b[1;33m\u001b[0m\u001b[1;33m\u001b[0m\u001b[0m\n\u001b[0m",
      "\u001b[1;32m<ipython-input-84-c5029885c964>\u001b[0m in \u001b[0;36mload_msgateway_results\u001b[1;34m(file_path, return_df)\u001b[0m\n\u001b[0;32m     19\u001b[0m \u001b[1;33m\u001b[0m\u001b[0m\n\u001b[0;32m     20\u001b[0m     \u001b[1;32mif\u001b[0m \u001b[0mreturn_df\u001b[0m\u001b[1;33m:\u001b[0m\u001b[1;33m\u001b[0m\u001b[1;33m\u001b[0m\u001b[0m\n\u001b[1;32m---> 21\u001b[1;33m         \u001b[1;32mreturn\u001b[0m \u001b[0mpd\u001b[0m\u001b[1;33m.\u001b[0m\u001b[0mDataFrame\u001b[0m\u001b[1;33m(\u001b[0m\u001b[0mdata\u001b[0m\u001b[1;33m)\u001b[0m\u001b[1;33m\u001b[0m\u001b[1;33m\u001b[0m\u001b[0m\n\u001b[0m\u001b[0;32m     22\u001b[0m     \u001b[1;32melse\u001b[0m\u001b[1;33m:\u001b[0m\u001b[1;33m\u001b[0m\u001b[1;33m\u001b[0m\u001b[0m\n\u001b[0;32m     23\u001b[0m         \u001b[1;32mreturn\u001b[0m \u001b[0mdata\u001b[0m\u001b[1;33m\u001b[0m\u001b[1;33m\u001b[0m\u001b[0m\n",
      "\u001b[1;32m~\\Anaconda3\\lib\\site-packages\\pandas\\core\\frame.py\u001b[0m in \u001b[0;36m__init__\u001b[1;34m(self, data, index, columns, dtype, copy)\u001b[0m\n\u001b[0;32m    433\u001b[0m             )\n\u001b[0;32m    434\u001b[0m         \u001b[1;32melif\u001b[0m \u001b[0misinstance\u001b[0m\u001b[1;33m(\u001b[0m\u001b[0mdata\u001b[0m\u001b[1;33m,\u001b[0m \u001b[0mdict\u001b[0m\u001b[1;33m)\u001b[0m\u001b[1;33m:\u001b[0m\u001b[1;33m\u001b[0m\u001b[1;33m\u001b[0m\u001b[0m\n\u001b[1;32m--> 435\u001b[1;33m             \u001b[0mmgr\u001b[0m \u001b[1;33m=\u001b[0m \u001b[0minit_dict\u001b[0m\u001b[1;33m(\u001b[0m\u001b[0mdata\u001b[0m\u001b[1;33m,\u001b[0m \u001b[0mindex\u001b[0m\u001b[1;33m,\u001b[0m \u001b[0mcolumns\u001b[0m\u001b[1;33m,\u001b[0m \u001b[0mdtype\u001b[0m\u001b[1;33m=\u001b[0m\u001b[0mdtype\u001b[0m\u001b[1;33m)\u001b[0m\u001b[1;33m\u001b[0m\u001b[1;33m\u001b[0m\u001b[0m\n\u001b[0m\u001b[0;32m    436\u001b[0m         \u001b[1;32melif\u001b[0m \u001b[0misinstance\u001b[0m\u001b[1;33m(\u001b[0m\u001b[0mdata\u001b[0m\u001b[1;33m,\u001b[0m \u001b[0mma\u001b[0m\u001b[1;33m.\u001b[0m\u001b[0mMaskedArray\u001b[0m\u001b[1;33m)\u001b[0m\u001b[1;33m:\u001b[0m\u001b[1;33m\u001b[0m\u001b[1;33m\u001b[0m\u001b[0m\n\u001b[0;32m    437\u001b[0m             \u001b[1;32mimport\u001b[0m \u001b[0mnumpy\u001b[0m\u001b[1;33m.\u001b[0m\u001b[0mma\u001b[0m\u001b[1;33m.\u001b[0m\u001b[0mmrecords\u001b[0m \u001b[1;32mas\u001b[0m \u001b[0mmrecords\u001b[0m\u001b[1;33m\u001b[0m\u001b[1;33m\u001b[0m\u001b[0m\n",
      "\u001b[1;32m~\\Anaconda3\\lib\\site-packages\\pandas\\core\\internals\\construction.py\u001b[0m in \u001b[0;36minit_dict\u001b[1;34m(data, index, columns, dtype)\u001b[0m\n\u001b[0;32m    252\u001b[0m             \u001b[0marr\u001b[0m \u001b[1;32mif\u001b[0m \u001b[1;32mnot\u001b[0m \u001b[0mis_datetime64tz_dtype\u001b[0m\u001b[1;33m(\u001b[0m\u001b[0marr\u001b[0m\u001b[1;33m)\u001b[0m \u001b[1;32melse\u001b[0m \u001b[0marr\u001b[0m\u001b[1;33m.\u001b[0m\u001b[0mcopy\u001b[0m\u001b[1;33m(\u001b[0m\u001b[1;33m)\u001b[0m \u001b[1;32mfor\u001b[0m \u001b[0marr\u001b[0m \u001b[1;32min\u001b[0m \u001b[0marrays\u001b[0m\u001b[1;33m\u001b[0m\u001b[1;33m\u001b[0m\u001b[0m\n\u001b[0;32m    253\u001b[0m         ]\n\u001b[1;32m--> 254\u001b[1;33m     \u001b[1;32mreturn\u001b[0m \u001b[0marrays_to_mgr\u001b[0m\u001b[1;33m(\u001b[0m\u001b[0marrays\u001b[0m\u001b[1;33m,\u001b[0m \u001b[0mdata_names\u001b[0m\u001b[1;33m,\u001b[0m \u001b[0mindex\u001b[0m\u001b[1;33m,\u001b[0m \u001b[0mcolumns\u001b[0m\u001b[1;33m,\u001b[0m \u001b[0mdtype\u001b[0m\u001b[1;33m=\u001b[0m\u001b[0mdtype\u001b[0m\u001b[1;33m)\u001b[0m\u001b[1;33m\u001b[0m\u001b[1;33m\u001b[0m\u001b[0m\n\u001b[0m\u001b[0;32m    255\u001b[0m \u001b[1;33m\u001b[0m\u001b[0m\n\u001b[0;32m    256\u001b[0m \u001b[1;33m\u001b[0m\u001b[0m\n",
      "\u001b[1;32m~\\Anaconda3\\lib\\site-packages\\pandas\\core\\internals\\construction.py\u001b[0m in \u001b[0;36marrays_to_mgr\u001b[1;34m(arrays, arr_names, index, columns, dtype)\u001b[0m\n\u001b[0;32m     62\u001b[0m     \u001b[1;31m# figure out the index, if necessary\u001b[0m\u001b[1;33m\u001b[0m\u001b[1;33m\u001b[0m\u001b[1;33m\u001b[0m\u001b[0m\n\u001b[0;32m     63\u001b[0m     \u001b[1;32mif\u001b[0m \u001b[0mindex\u001b[0m \u001b[1;32mis\u001b[0m \u001b[1;32mNone\u001b[0m\u001b[1;33m:\u001b[0m\u001b[1;33m\u001b[0m\u001b[1;33m\u001b[0m\u001b[0m\n\u001b[1;32m---> 64\u001b[1;33m         \u001b[0mindex\u001b[0m \u001b[1;33m=\u001b[0m \u001b[0mextract_index\u001b[0m\u001b[1;33m(\u001b[0m\u001b[0marrays\u001b[0m\u001b[1;33m)\u001b[0m\u001b[1;33m\u001b[0m\u001b[1;33m\u001b[0m\u001b[0m\n\u001b[0m\u001b[0;32m     65\u001b[0m     \u001b[1;32melse\u001b[0m\u001b[1;33m:\u001b[0m\u001b[1;33m\u001b[0m\u001b[1;33m\u001b[0m\u001b[0m\n\u001b[0;32m     66\u001b[0m         \u001b[0mindex\u001b[0m \u001b[1;33m=\u001b[0m \u001b[0mensure_index\u001b[0m\u001b[1;33m(\u001b[0m\u001b[0mindex\u001b[0m\u001b[1;33m)\u001b[0m\u001b[1;33m\u001b[0m\u001b[1;33m\u001b[0m\u001b[0m\n",
      "\u001b[1;32m~\\Anaconda3\\lib\\site-packages\\pandas\\core\\internals\\construction.py\u001b[0m in \u001b[0;36mextract_index\u001b[1;34m(data)\u001b[0m\n\u001b[0;32m    363\u001b[0m             \u001b[0mlengths\u001b[0m \u001b[1;33m=\u001b[0m \u001b[0mlist\u001b[0m\u001b[1;33m(\u001b[0m\u001b[0mset\u001b[0m\u001b[1;33m(\u001b[0m\u001b[0mraw_lengths\u001b[0m\u001b[1;33m)\u001b[0m\u001b[1;33m)\u001b[0m\u001b[1;33m\u001b[0m\u001b[1;33m\u001b[0m\u001b[0m\n\u001b[0;32m    364\u001b[0m             \u001b[1;32mif\u001b[0m \u001b[0mlen\u001b[0m\u001b[1;33m(\u001b[0m\u001b[0mlengths\u001b[0m\u001b[1;33m)\u001b[0m \u001b[1;33m>\u001b[0m \u001b[1;36m1\u001b[0m\u001b[1;33m:\u001b[0m\u001b[1;33m\u001b[0m\u001b[1;33m\u001b[0m\u001b[0m\n\u001b[1;32m--> 365\u001b[1;33m                 \u001b[1;32mraise\u001b[0m \u001b[0mValueError\u001b[0m\u001b[1;33m(\u001b[0m\u001b[1;34m\"arrays must all be same length\"\u001b[0m\u001b[1;33m)\u001b[0m\u001b[1;33m\u001b[0m\u001b[1;33m\u001b[0m\u001b[0m\n\u001b[0m\u001b[0;32m    366\u001b[0m \u001b[1;33m\u001b[0m\u001b[0m\n\u001b[0;32m    367\u001b[0m             \u001b[1;32mif\u001b[0m \u001b[0mhave_dicts\u001b[0m\u001b[1;33m:\u001b[0m\u001b[1;33m\u001b[0m\u001b[1;33m\u001b[0m\u001b[0m\n",
      "\u001b[1;31mValueError\u001b[0m: arrays must all be same length"
     ]
    }
   ],
   "source": [
    "load_msgateway_results(\"../data/CARE-45278.docx\")"
   ]
  },
  {
   "cell_type": "code",
   "execution_count": 76,
   "metadata": {},
   "outputs": [
    {
     "output_type": "execute_result",
     "data": {
      "text/plain": [
       "'Execution Status'"
      ]
     },
     "metadata": {},
     "execution_count": 76
    }
   ],
   "source": [
    "document.tables[2].cell(0,0).text"
   ]
  },
  {
   "cell_type": "code",
   "execution_count": 70,
   "metadata": {},
   "outputs": [
    {
     "output_type": "execute_result",
     "data": {
      "text/plain": [
       "'PASS'"
      ]
     },
     "metadata": {},
     "execution_count": 70
    }
   ],
   "source": [
    "document.tables[10].cell(1,0).text"
   ]
  },
  {
   "cell_type": "code",
   "execution_count": 78,
   "metadata": {},
   "outputs": [],
   "source": [
    "statuses = []\n",
    "for table in document.tables:\n",
    "    if \"Execution Status\" in table.cell(0,0).text:\n",
    "        statuses.append(table.cell(1,0).text)"
   ]
  },
  {
   "cell_type": "code",
   "execution_count": 81,
   "metadata": {},
   "outputs": [
    {
     "output_type": "stream",
     "name": "stdout",
     "text": [
      "158\n"
     ]
    },
    {
     "output_type": "execute_result",
     "data": {
      "text/plain": [
       "['PASS',\n",
       " 'PASS',\n",
       " 'PASS',\n",
       " 'PASS',\n",
       " 'PASS',\n",
       " 'PASS',\n",
       " 'PASS',\n",
       " 'PASS',\n",
       " 'PASS',\n",
       " 'PASS']"
      ]
     },
     "metadata": {},
     "execution_count": 81
    }
   ],
   "source": [
    "print(len(statuses))\n",
    "statuses[0:10]"
   ]
  },
  {
   "cell_type": "code",
   "execution_count": 53,
   "metadata": {},
   "outputs": [],
   "source": [
    "test_names = []\n",
    "for p in document.paragraphs:\n",
    "    if \"Test:\" in p.text and \"\\t\" not in p.text:\n",
    "        test_names.append(p.text)"
   ]
  },
  {
   "cell_type": "code",
   "execution_count": 55,
   "metadata": {},
   "outputs": [
    {
     "output_type": "stream",
     "name": "stdout",
     "text": [
      "158\n"
     ]
    },
    {
     "output_type": "execute_result",
     "data": {
      "text/plain": [
       "['Test: CARE-30043 – Summary:testDeleteMaskSuggestionsForPatient',\n",
       " 'Test: CARE-28230 – Summary:testSearchPatientsWithGivenFirstNameWithWhiteSpaces',\n",
       " 'Test: CARE-28231 – Summary:testSearchPatientsWithGivenLFirstNameAsWhiteSpaceOnly',\n",
       " 'Test: CARE-30041 – Summary:testGetPatient',\n",
       " 'Test: CARE-28396 – Summary:testSearchPatientsWithGivenFirstNameDoesntReturnAnyResults',\n",
       " 'Test: CARE-30042 – Summary:testGetMaskSuggestionsForPatient_returnSuggestions',\n",
       " 'Test: CARE-30040 – Summary:testSaveMaskSuggestionsForPatient',\n",
       " 'Test: CARE-28150 – Summary:testSearchPatientsWithNoGivenCriteria',\n",
       " 'Test: CARE-28151 – Summary:testSearchPatientsWithGivenLastName',\n",
       " 'Test: CARE-29086 – Summary:testInsertPatient',\n",
       " 'Test: CARE-32458 – Summary:testGetMaskSuggestionsForPatient_returnNull_notFoundExceptionThrown',\n",
       " 'Test: CARE-32446 – Summary:testSearchPatientsWithGivenFirstNameReturnsNull',\n",
       " 'Test: CARE-32445 – Summary:testGetPatient_returnsPatient',\n",
       " 'Test: CARE-30505 – Summary:getPatientRequiredAndUniqueFieldsByTopOrg_getOrgSettingsByTopOrgInvokedWithRequiredPatientFieldCategory',\n",
       " 'Test: CARE-28149 – Summary:testSearchPatientsWithGivenDateOfBirth',\n",
       " 'Test: CARE-28227 – Summary:testSearchPatientsWithGivenFirstNameAsEmptyString',\n",
       " 'Test: CARE-28228 – Summary:testSearchPatientsWithGivenLastNameAsEmptyString',\n",
       " 'Test: CARE-28229 – Summary:testSearchPatientsWithGivenLastNameAsWhiteSpaceOnly',\n",
       " 'Test: CARE-28148 – Summary:testSearchPatientsWithGivenFirstName',\n",
       " 'Test: CARE-30506 – Summary:getOrgSettingsByTopOrg_getsTopOrgAndInvokesOrgV2Service',\n",
       " 'Test: CARE-30736 – Summary:getOrgSettingsByTopOrg_OrgV2ServiceThrowsUnknownException',\n",
       " 'Test: CARE-32464 – Summary:getMaskCoefficients_returnsCoefficients',\n",
       " 'Test: CARE-32469 – Summary:updateMaskCoefficients_returnsCoefficients',\n",
       " 'Test: CARE-32468 – Summary:deleteMaskCoefficients_returnsCoefficients',\n",
       " 'Test: CARE-32467 – Summary:updateMaskCoefficients_ThrowsValidationException',\n",
       " 'Test: CARE-32466 – Summary:deleteMaskCoefficients_ThrowsNotFoundException',\n",
       " 'Test: CARE-32465 – Summary:getMaskCoefficients_ThrowsNotFoundException',\n",
       " 'Test: CARE-42650 – Summary:getMaskSelectorRoles_NullPSetIds_AppropriateRolesReturned',\n",
       " 'Test: CARE-42649 – Summary:getMaskSelectorPermissionSetIds_NullRoles_AppropriatePsetIdsReturned',\n",
       " 'Test: CARE-42648 – Summary:getMaskSelectorPermissionSetIds_ForMaskSelectorAdmin_AppropriatePsetIdsReturned',\n",
       " 'Test: CARE-42656 – Summary:getMaskSelectorRoles_ForMaskSelectorAdminAndClinician_AppropriateRolesReturned',\n",
       " 'Test: CARE-42655 – Summary:getMaskSelectorPermissionSetIds_NotMaskSelectorAdminAndClinician_AppropriatePsetIdsReturned',\n",
       " 'Test: CARE-42647 – Summary:getMaskSelectorPermissionSetIds_ForMaskSelectorClinician_AppropriatePsetIdsReturned',\n",
       " 'Test: CARE-42652 – Summary:getMaskSelectorPermissionSetIds_ForMaskSelectorAdminAndClinician_AppropriatePsetIdsReturned',\n",
       " 'Test: CARE-42651 – Summary:getMaskSelectorRoles_NotMaskSelectorAdminAndClinician_AppropriateRolesReturned',\n",
       " 'Test: CARE-42654 – Summary:getMaskSelectorRoles_ForMaskSelectorAdmin_AppropriateRolesReturned',\n",
       " 'Test: CARE-42653 – Summary:getMaskSelectorRoles_ForMaskSelectorClinician_AppropriateRolesReturned',\n",
       " 'Test: CARE-30044 – Summary:test_deleteMaskSuggestions_callsFeignClient',\n",
       " 'Test: CARE-30045 – Summary:test_getMaskSuggestions_calls_FeignClient',\n",
       " 'Test: CARE-30046 – Summary:test_saveMaskSuggestions_callsFeignClient',\n",
       " 'Test: CARE-42661 – Summary:createUser_OrgThrowsRuntimeException_ThrowsRuntimeException',\n",
       " 'Test: CARE-42660 – Summary:updateUser_OrgThrowsRuntimeException_ThrowsRuntimeException',\n",
       " 'Test: CARE-42659 – Summary:createUser_NullUser_ThrowsValidationException',\n",
       " 'Test: CARE-42666 – Summary:updateUser_NullUser_ThrowsValidationException',\n",
       " 'Test: CARE-42658 – Summary:updateUser_WithValidUserInput_successfullyCreatesAndReturnsUser',\n",
       " 'Test: CARE-42657 – Summary:updateUser_UserIdMismatch_ThrowsValidationException',\n",
       " 'Test: CARE-42663 – Summary:getUser_NullUserId_ThrowsValidationException',\n",
       " 'Test: CARE-42662 – Summary:getUser_WithValidUserId_ReturnsUser',\n",
       " 'Test: CARE-42665 – Summary:createUser_WithValidUserInput_successfullyCreatesAndReturnsUser',\n",
       " 'Test: CARE-42664 – Summary:getUser_UserNotFound_ThrowsNotFoundException',\n",
       " 'Test: CARE-42667 – Summary:search_WithValidUserId_ReturnsUser',\n",
       " 'Test: CARE-42698 – Summary:search_WithNoResults_ReturnsEmptyResults',\n",
       " 'Test: CARE-42697 – Summary:search_WhenAnyExceptionOccurs_ThrowsException',\n",
       " 'Test: CARE-28152 – Summary:testGetPatientSearchResultsWithSearchCriteriaCallsPatientSearchFeignClient',\n",
       " 'Test: CARE-28429 – Summary:insertPatient_calls_PatientFeignClient',\n",
       " 'Test: CARE-28389 – Summary:getPatient_calls_PatientFeignClient',\n",
       " 'Test: CARE-29175 – Summary:insertPatient_inserts_patient_successfully_returns_201',\n",
       " 'Test: CARE-28391 – Summary:getPatient_patientId_wrong_format',\n",
       " 'Test: CARE-30522 – Summary:getPatientRequiredFields_Returns200_WithRequiredAndUniqueFieldsAsNull',\n",
       " 'Test: CARE-30521 – Summary:getPatientRequiredFields_Returns200_WithRequiredAndUniqueFields',\n",
       " 'Test: CARE-28949 – Summary:getPatient_patient_doesnt_exist_returns_404',\n",
       " 'Test: CARE-30937 – Summary:getPatientRequiredFields_UserNotLoggedIn_GatewayReturns401',\n",
       " 'Test: CARE-30935 – Summary:getPatientRequiredFields_OrgServiceV2ReturnsInternalServerError_GatewayReturns500',\n",
       " 'Test: CARE-30936 – Summary:getPatientRequiredFields_OrgServiceV2ReturnsNotFound_GatewayReturns404',\n",
       " 'Test: CARE-28948 – Summary:getPatient_invalid_patientId_id_400',\n",
       " 'Test: CARE-41534 – Summary:insertPatient_inserts_patient_NullActive_returns_400',\n",
       " 'Test: CARE-28952 – Summary:getPatient_not_logged_in_returns_401',\n",
       " 'Test: CARE-41533 – Summary:insertPatient_inserts_patient_NullFirstName_returns_400',\n",
       " 'Test: CARE-28954 – Summary:getPatient_returns_200',\n",
       " 'Test: CARE-41535 – Summary:insertPatient_inserts_patient_NullDateOfBirth_returns_400',\n",
       " 'Test: CARE-28950 – Summary:insertPatient_invalid_not_logged_in_returns_401',\n",
       " 'Test: CARE-41532 – Summary:insertPatient_inserts_patient_NullLastName_returns_400',\n",
       " 'Test: CARE-28951 – Summary:insertPatient_invalid_Body_returns_400',\n",
       " 'Test: CARE-41476 – Summary:insertPatient_inserts_patient_NullTimezone_returns_400',\n",
       " 'Test: CARE-41531 – Summary:insertPatient_inserts_patient_NullCountryCode_returns_400',\n",
       " 'Test: CARE-26960 – Summary:validateImplementationAgainstDesignSpec',\n",
       " 'Test: CARE-30098 – Summary:savePatientMaskSuggestions_whenUserIsNotLoggedIn_returns_401',\n",
       " 'Test: CARE-30099 – Summary:getPatientMaskSuggestions_whenPatientHasMaskSuggestion_returns_200',\n",
       " 'Test: CARE-30109 – Summary:deletePatientMaskSuggestions_whenPatientHasSuggestionts_return204',\n",
       " 'Test: CARE-30403 – Summary:savePatientMaskSuggestions_whenMaskSuggestionsObjectIsNull_returns_400',\n",
       " 'Test: CARE-30106 – Summary:getPatientMaskSuggestions_whenUserIsNotLoggedIn_returns_401',\n",
       " 'Test: CARE-30107 – Summary:savePatientMaskSuggestions_whenPatientHasMaskSuggestion_returns_200',\n",
       " 'Test: CARE-30104 – Summary:getPatientMaskSuggestions_whenPatientIdIsInvalid_returns_400',\n",
       " 'Test: CARE-30105 – Summary:getPatienMaskSuggestionst_whenNoMaskSuggestionsExist_returns_404',\n",
       " 'Test: CARE-30102 – Summary:savePatientMaskSuggestions_whenPatientIdIsInvalid_returns_400',\n",
       " 'Test: CARE-30103 – Summary:getPatientMaskSuggestions_whenPatientDoesNotExist_returns_404',\n",
       " 'Test: CARE-30100 – Summary:deletePatientMaskSuggestions_whenUserIsNotLoggedIn_returns_401',\n",
       " 'Test: CARE-30101 – Summary:deletePatientMaskSuggestions_whenPatientIdIsInvalid_returns_400',\n",
       " 'Test: CARE-42638 – Summary:updateUser_UserNotFound_ReturnsNotFound',\n",
       " 'Test: CARE-42637 – Summary:createUser_NotFoundError_ReturnsNotFoundException',\n",
       " 'Test: CARE-42629 – Summary:createUser_RuntimeError_ReturnsInternalServerError',\n",
       " 'Test: CARE-42639 – Summary:updateUser_ValidInput_IsSuccessful',\n",
       " 'Test: CARE-42628 – Summary:createUser_ValidInput_IsSuccessful',\n",
       " 'Test: CARE-42634 – Summary:createUser_NoValidPermission_IsSuccessful',\n",
       " 'Test: CARE-42645 – Summary:getUser_ValidInput_IsSuccessful',\n",
       " 'Test: CARE-42633 – Summary:updateUser_InvalidInput_IsSuccessful',\n",
       " 'Test: CARE-42644 – Summary:getUser_UserNotFound_ReturnsNotFound',\n",
       " 'Test: CARE-42636 – Summary:getUser_NotAuthorized_ReturnsUnauthorized',\n",
       " 'Test: CARE-42635 – Summary:getUser_NoValidPermission_ReturnsForbidden',\n",
       " 'Test: CARE-42630 – Summary:createUser_NotAuthorized_ReturnsUnauthorized',\n",
       " 'Test: CARE-42641 – Summary:getUser_RuntimeError_ReturnsInternalServerError',\n",
       " 'Test: CARE-42640 – Summary:getUser_InvalidInput_ReturnsBadRequest',\n",
       " 'Test: CARE-42643 – Summary:createUser_InvalidInput_ReturnsBadRequest',\n",
       " 'Test: CARE-42632 – Summary:updateUser_NoValidPermission_IsSuccessful',\n",
       " 'Test: CARE-42642 – Summary:updateUser_Unauthorized_ReturnsUnauthorized',\n",
       " 'Test: CARE-42631 – Summary:updateUser_RuntimeError_ReturnsInternalServerError',\n",
       " 'Test: CARE-33440 – Summary:logout_returnsSuccess',\n",
       " 'Test: CARE-36040 – Summary:validateToken_toggledOff_throwsNotFound',\n",
       " 'Test: CARE-33839 – Summary:validateToken_loggedOut_returnsFailure',\n",
       " 'Test: CARE-33838 – Summary:logins_invalidCredential_returnsFailure',\n",
       " 'Test: CARE-33439 – Summary:logins_returnsSuccess',\n",
       " 'Test: CARE-33438 – Summary:validateToken_returnsSuccess',\n",
       " 'Test: CARE-36039 – Summary:logins_toggledOff_throwsNotFound',\n",
       " 'Test: CARE-33841 – Summary:logins_lockedAccount_returnsFailure',\n",
       " 'Test: CARE-33840 – Summary:logins_expiredPassword_returnsFailure',\n",
       " 'Test: CARE-28154 – Summary:searchPatientsWithFirstNameLastNameAndDateOfBirth',\n",
       " 'Test: CARE-28155 – Summary:searchPatientsWithFirstNameLastNameAndDateOfBirth_NoAuthToken',\n",
       " 'Test: CARE-28156 – Summary:searchPatientsWithGivenLastName',\n",
       " 'Test: CARE-28157 – Summary:searchPatientsWithFirstNameLastNameAndDateOfBirth_WhenNoResultsFromInternalSvc',\n",
       " 'Test: CARE-28158 – Summary:searchPatientsWithGivenFirstName',\n",
       " 'Test: CARE-28159 – Summary:searchPatientsWithGivenDateOfBirth',\n",
       " 'Test: CARE-31157 – Summary:searchPatients_WhenThrowsValidationExceptionFromInternalSvc',\n",
       " 'Test: CARE-43407 – Summary:createPassword_notImplemented',\n",
       " 'Test: CARE-43406 – Summary:forgotPassword_notImplemented',\n",
       " 'Test: CARE-43367 – Summary:generateRandomPassword_returnsSuccess',\n",
       " 'Test: CARE-43369 – Summary:changeExpiredPassword_returnsSuccess',\n",
       " 'Test: CARE-43368 – Summary:getUniqueUsername_returnsSuccess',\n",
       " 'Test: CARE-32431 – Summary:testMappingMaskSuggestionsCM_withNullScanDate_GatewayToClient',\n",
       " 'Test: CARE-29571 – Summary:Verify_Gateway_To_Client_PatientContract_mapping',\n",
       " 'Test: CARE-29572 – Summary:Verify_Client_to_Gateway_patient_mapping',\n",
       " 'Test: CARE-32430 – Summary:Verify_Client_to_Gateway_patient_mapping_withNullDates',\n",
       " 'Test: CARE-30511 – Summary:mapOrgSettingsToPatientRequiredFields_mapsRequiredAndUniqueFields',\n",
       " 'Test: CARE-30047 – Summary:testMappingMaskSuggestionsCM_ClientToGateway',\n",
       " 'Test: CARE-30652 – Summary:mapOrgSettingsToPatientRequiredFields_UniqueFieldsValueAsEmptyString_DoesNotMapValue',\n",
       " 'Test: CARE-30048 – Summary:testMappingMaskSuggestionsCM_GatewayToClient',\n",
       " 'Test: CARE-30510 – Summary:mapOrgSettingsToPatientRequiredFields_mapsMultipleEnabledRequiredAndUniqueFields',\n",
       " 'Test: CARE-30650 – Summary:mapOrgSettingsToPatientRequiredFields_RequiredFieldsValueAsNull_DoesNotMapValue',\n",
       " 'Test: CARE-30651 – Summary:mapOrgSettingsToPatientRequiredFields_RequiredFieldsValueAsEmptyString_DoesNotMapValue',\n",
       " 'Test: CARE-32432 – Summary:Verify_Gateway_To_Client_PatientContract_mapping_withNullDates',\n",
       " 'Test: CARE-30739 – Summary:mapOrgSettingsToPatientRequiredFields_ChildSettingIdNotEqualToPatientFieldUniqueness_DoesNotMapValue',\n",
       " 'Test: CARE-30508 – Summary:mapOrgSettingsToPatientRequiredFields_mapsEnabledRequiredAndUniqueFields',\n",
       " 'Test: CARE-30649 – Summary:mapOrgSettingsToPatientRequiredFields_UniqueFieldsValueAsNull_DoesNotMapValue',\n",
       " 'Test: CARE-32429 – Summary:testMappingMaskSuggestionsCM_withNullScanDate_ClientToGateway',\n",
       " 'Test: CARE-42366 – Summary:testMappingPatientSearchResultCMToPatientSearchResult',\n",
       " 'Test: CARE-29973 – Summary:Verify_MaskCoefficientsContract_to_MaskCoefficients',\n",
       " 'Test: CARE-29980 – Summary:upsertMaskCoefficients_invalid_MaskCoefficientObject_returns_400',\n",
       " 'Test: CARE-29981 – Summary:upsertMaskCoefficients_returns_201',\n",
       " 'Test: CARE-31400 – Summary:upsertMaskCoefficients_feign_client_returns_400',\n",
       " 'Test: CARE-29979 – Summary:getMaskCoefficients_user_not_logged_in_returns_401',\n",
       " 'Test: CARE-29986 – Summary:deleteMaskCoefficients_returns_204',\n",
       " 'Test: CARE-29975 – Summary:getMaskCoefficients_returns_coefficients_200',\n",
       " 'Test: CARE-29976 – Summary:deleteMaskCoefficients_invalid_patientId_returns_400',\n",
       " 'Test: CARE-29977 – Summary:deleteMaskCoefficients_user_not_logged_in_returns_401',\n",
       " 'Test: CARE-29978 – Summary:getMaskCoefficients_invalid_patientId_returns_400',\n",
       " 'Test: CARE-29982 – Summary:getMaskCoefficients_mask_coefficients_do_not_exists_returns_404',\n",
       " 'Test: CARE-29983 – Summary:deleteMaskCoefficients_mask_coefficients_do_not_exists_returns_404',\n",
       " 'Test: CARE-29984 – Summary:upsertMaskCoefficients_user_not_logged_in_returns_401',\n",
       " 'Test: CARE-29985 – Summary:upsertMaskCoefficients_invalid_patientId_returns_400']"
      ]
     },
     "metadata": {},
     "execution_count": 55
    }
   ],
   "source": [
    "print(len(test_names))\n",
    "test_names"
   ]
  },
  {
   "source": [
    "## manual tests docx"
   ],
   "cell_type": "markdown",
   "metadata": {}
  },
  {
   "cell_type": "code",
   "execution_count": 6,
   "metadata": {},
   "outputs": [],
   "source": [
    "with open('..\\data\\ER2228014 v51 ATT1 Manual As-Runs.docx', 'rb') as f:\n",
    "    document = Document(f)"
   ]
  },
  {
   "cell_type": "code",
   "execution_count": 26,
   "metadata": {},
   "outputs": [
    {
     "output_type": "execute_result",
     "data": {
      "text/plain": [
       "'Passed'"
      ]
     },
     "metadata": {},
     "execution_count": 26
    }
   ],
   "source": [
    "document.tables[1].cell(0,1).text"
   ]
  },
  {
   "cell_type": "code",
   "execution_count": 27,
   "metadata": {},
   "outputs": [
    {
     "output_type": "execute_result",
     "data": {
      "text/plain": [
       "'Description'"
      ]
     },
     "metadata": {},
     "execution_count": 27
    }
   ],
   "source": [
    "document.tables[2].cell(0,1).text"
   ]
  },
  {
   "cell_type": "code",
   "execution_count": 32,
   "metadata": {},
   "outputs": [],
   "source": [
    "statuses = []\n",
    "for i, table in enumerate(document.tables):\n",
    "    if table.cell(0,0).text == \"Status:\":\n",
    "        statuses.append(table.cell(0,1).text)\n",
    "    # print(table.cell(0,0).text)\n",
    "    # if len(statuses) == 10:\n",
    "        # break"
   ]
  },
  {
   "cell_type": "code",
   "execution_count": 33,
   "metadata": {},
   "outputs": [
    {
     "output_type": "stream",
     "name": "stdout",
     "text": [
      "135\n['Passed', 'Passed', 'Passed', 'Passed', 'Passed', 'Passed', 'Passed', 'Passed', 'Passed', 'Passed']\n"
     ]
    }
   ],
   "source": [
    "print(len(statuses))\n",
    "print(statuses[0:10])"
   ]
  },
  {
   "cell_type": "code",
   "execution_count": 46,
   "metadata": {
    "tags": []
   },
   "outputs": [],
   "source": [
    "test_names = []\n",
    "for i, paragraph in enumerate(document.paragraphs):\n",
    "    if \"Run ID\" in paragraph.text:\n",
    "        test_names.append(document.paragraphs[i-1].text)\n",
    "        # print(document.paragraphs[i-1].text)\n",
    "    # print(paragraph.text)\n",
    "    # if \"PRD\" in paragraph.text:\n",
    "        # test_names.append(paragraph.text)\n",
    "        # print(paragraph.text)\n",
    "        # break"
   ]
  },
  {
   "cell_type": "code",
   "execution_count": 47,
   "metadata": {},
   "outputs": [
    {
     "output_type": "stream",
     "name": "stdout",
     "text": [
      "135\n['PRD US13044 SRS TC12480 TC12574 Verify Subscription Message sent for Patient Equipment', 'PRD US13044 SRS TC12480 TC12575 Verify Subscription Message sent for Patient Accessories', 'PRD US13044 SRS TC12480 TC12576 Verify Subscription Message sent for Patient Task Notes', 'PRD US13044 SRS TC12480 TC12580 Verify Subscription Message sent for Patient Activity Notes', 'Toggle off - F5890', 'F6176 Patients and Tasks Reports Sticky Headers', 'PRD US32438 SRS TC12432 TC12433 TC12434 Patient Mask Suggestions', 'PRD US1554 SRS TC12438 TC12549 TC12324 TC12439 TC12440 TC12570 TC12642 TC12569 Patient Transfer To Search Location', 'F4329 - Publishing the Equipment and Accessories info in Kafka Publisher - Toggle ON', 'F4329 - EA to CO migration for  the Equipment and Accessories info in Kafka Publisher - Toggle ON']\n"
     ]
    }
   ],
   "source": [
    "print(len(test_names))\n",
    "print(test_names[0:10])"
   ]
  },
  {
   "cell_type": "code",
   "execution_count": 49,
   "metadata": {},
   "outputs": [
    {
     "output_type": "execute_result",
     "data": {
      "text/plain": [
       "                                             test_name  status\n",
       "0    PRD US13044 SRS TC12480 TC12574 Verify Subscri...  Passed\n",
       "1    PRD US13044 SRS TC12480 TC12575 Verify Subscri...  Passed\n",
       "2    PRD US13044 SRS TC12480 TC12576 Verify Subscri...  Passed\n",
       "3    PRD US13044 SRS TC12480 TC12580 Verify Subscri...  Passed\n",
       "4                                   Toggle off - F5890  Passed\n",
       "..                                                 ...     ...\n",
       "130        EU Toggle and Configuration Regression Test  Passed\n",
       "131  UC US45400 MaskSelector tablet app integration...  Passed\n",
       "132  UC US45400 MaskSelector tablet app integration...  Passed\n",
       "133  UC US45400 MaskSelector tablet app integration...  Passed\n",
       "134                                  F5056 Toggle Test  Passed\n",
       "\n",
       "[135 rows x 2 columns]"
      ],
      "text/html": "<div>\n<style scoped>\n    .dataframe tbody tr th:only-of-type {\n        vertical-align: middle;\n    }\n\n    .dataframe tbody tr th {\n        vertical-align: top;\n    }\n\n    .dataframe thead th {\n        text-align: right;\n    }\n</style>\n<table border=\"1\" class=\"dataframe\">\n  <thead>\n    <tr style=\"text-align: right;\">\n      <th></th>\n      <th>test_name</th>\n      <th>status</th>\n    </tr>\n  </thead>\n  <tbody>\n    <tr>\n      <th>0</th>\n      <td>PRD US13044 SRS TC12480 TC12574 Verify Subscri...</td>\n      <td>Passed</td>\n    </tr>\n    <tr>\n      <th>1</th>\n      <td>PRD US13044 SRS TC12480 TC12575 Verify Subscri...</td>\n      <td>Passed</td>\n    </tr>\n    <tr>\n      <th>2</th>\n      <td>PRD US13044 SRS TC12480 TC12576 Verify Subscri...</td>\n      <td>Passed</td>\n    </tr>\n    <tr>\n      <th>3</th>\n      <td>PRD US13044 SRS TC12480 TC12580 Verify Subscri...</td>\n      <td>Passed</td>\n    </tr>\n    <tr>\n      <th>4</th>\n      <td>Toggle off - F5890</td>\n      <td>Passed</td>\n    </tr>\n    <tr>\n      <th>...</th>\n      <td>...</td>\n      <td>...</td>\n    </tr>\n    <tr>\n      <th>130</th>\n      <td>EU Toggle and Configuration Regression Test</td>\n      <td>Passed</td>\n    </tr>\n    <tr>\n      <th>131</th>\n      <td>UC US45400 MaskSelector tablet app integration...</td>\n      <td>Passed</td>\n    </tr>\n    <tr>\n      <th>132</th>\n      <td>UC US45400 MaskSelector tablet app integration...</td>\n      <td>Passed</td>\n    </tr>\n    <tr>\n      <th>133</th>\n      <td>UC US45400 MaskSelector tablet app integration...</td>\n      <td>Passed</td>\n    </tr>\n    <tr>\n      <th>134</th>\n      <td>F5056 Toggle Test</td>\n      <td>Passed</td>\n    </tr>\n  </tbody>\n</table>\n<p>135 rows × 2 columns</p>\n</div>"
     },
     "metadata": {},
     "execution_count": 49
    }
   ],
   "source": [
    "df = pd.DataFrame({\"test_name\":test_names, \"status\":statuses})\n",
    "df"
   ]
  },
  {
   "cell_type": "code",
   "execution_count": null,
   "metadata": {},
   "outputs": [],
   "source": [
    "def load_manual_tests(file_path, return_df=True):\n",
    "    # Make sure file is in docx format, not doc\n",
    "    assert \".docx\" in file_path, \"File must be converted from .doc to .docx. Do this in Microsoft Word by selecting 'File -> Save As -> .docx'\"\n",
    "\n",
    "    # Open the file and read with python-docx package \n",
    "    with open(file_path, 'rb') as f:\n",
    "        document = Document(f)\n",
    "\n",
    "    # Get the test statuses\n",
    "    statuses = []\n",
    "    for i, table in enumerate(document.tables):\n",
    "        if table.cell(0,0).text == \"Status:\":\n",
    "            statuses.append(table.cell(0,1).text)\n",
    "    \n",
    "    # Get the test names\n",
    "    test_names = []\n",
    "    for i, paragraph in enumerate(document.paragraphs):\n",
    "        if \"Run ID\" in paragraph.text:\n",
    "            test_names.append(document.paragraphs[i-1].text)\n",
    "\n",
    "    # Output as either pandas dataframe or dict, depending on return_df setting.\n",
    "    data = {\"test_name\":test_names, \"status\":statuses}\n",
    "\n",
    "    if return_df:\n",
    "        return pd.DataFrame(data)\n",
    "    else:\n",
    "        return data"
   ]
  },
  {
   "source": [
    "## Trace matrix stuff"
   ],
   "cell_type": "markdown",
   "metadata": {}
  },
  {
   "cell_type": "code",
   "execution_count": null,
   "metadata": {},
   "outputs": [],
   "source": [
    "def load_trace(file_path, matrix_type, return_df=True):\n",
    "    \"\"\"Loads trace matrix .xlsx file and extracts data\n",
    "    \n",
    "    Args:\n",
    "        file_path (String): path to the trace file\n",
    "        matrix_type (String): \"CO\" or \"PSC\"\n",
    "        return_df (bool, optional): If true (default), returns a pandas dataframe. Else, returns list of lists.\n",
    "\n",
    "    Returns:\n",
    "        list or pd.DataFrame: the trace data\n",
    "    \"\"\"\n",
    "    print(f\"Loading {matrix_type} from: {file_path}\")\n",
    "\n",
    "    # Some asserts to make sure inputs are valid\n",
    "    assert \".xlsx\" in file_path, \"Trace file must be a .xlsx file\"\n",
    "    matrix_type = matrix_type.upper()\n",
    "    assert matrix_type in [\"CO\", \"PSC\"], \"Trace matrix type must be either 'CO' or 'PSC'\"\n",
    "    \n",
    "    # Load in the actual excel file\n",
    "    wb = pyxl.load_workbook(file_path)\n",
    "    \n",
    "    # Get the appropriate matrix from the workbook\n",
    "    if matrix_type == \"CO\":\n",
    "        ws = wb['CO Trace Matrix']\n",
    "    else:\n",
    "        ws = wb['PSC Trace Matrix']\n",
    "        \n",
    "    # get title of workbook\n",
    "    title = ws['A1'].value\n",
    "    print(f\"Loading in worksheet titled: {title}\")\n",
    "    \n",
    "    # extract headers for the table\n",
    "    headers = [cell.value for cell in ws['A3':'E3'][0]]\n",
    "    \n",
    "    # load in the data row by row\n",
    "    data = []\n",
    "    for row in ws.iter_rows(min_row=4, max_col=5, values_only=True):\n",
    "        row_data = [cell for cell in row]\n",
    "        \n",
    "        # Stop if all the row data is none\n",
    "        # apparently the blank rows in the bottom of the worksheet are populated...\n",
    "        if all([cell == None for cell in row_data]):\n",
    "            break\n",
    "        data.append(row_data)\n",
    "\n",
    "    # Returns either pandas dataframe or a list of lists\n",
    "    if return_df:\n",
    "        return pd.DataFrame(data, columns=headers)\n",
    "    else:\n",
    "        return data\n"
   ]
  },
  {
   "cell_type": "code",
   "execution_count": null,
   "metadata": {},
   "outputs": [],
   "source": [
    "trace_path = \"..\\data\\ER 2228015 v42 ATT1 Sapphire 1.32 Trace Matrix.xlsx\""
   ]
  },
  {
   "cell_type": "code",
   "execution_count": null,
   "metadata": {},
   "outputs": [],
   "source": [
    "load_trace(trace_path, \"CO\", return_df=True)"
   ]
  },
  {
   "cell_type": "code",
   "execution_count": null,
   "metadata": {},
   "outputs": [],
   "source": [
    "wb = pyxl.load_workbook(trace_path)\n",
    "wb.worksheets"
   ]
  },
  {
   "cell_type": "code",
   "execution_count": null,
   "metadata": {},
   "outputs": [],
   "source": [
    "ws = wb['CO Trace Matrix']"
   ]
  },
  {
   "cell_type": "code",
   "execution_count": null,
   "metadata": {},
   "outputs": [],
   "source": [
    "ws['A5'].value"
   ]
  },
  {
   "cell_type": "code",
   "execution_count": null,
   "metadata": {},
   "outputs": [],
   "source": [
    "for row in ws.iter_rows(min_row=1, max_row=10, max_col=5, values_only=True):\n",
    "    print(row)"
   ]
  },
  {
   "cell_type": "code",
   "execution_count": null,
   "metadata": {},
   "outputs": [],
   "source": [
    "title = ws['A1'].value\n",
    "title"
   ]
  },
  {
   "cell_type": "code",
   "execution_count": null,
   "metadata": {},
   "outputs": [],
   "source": [
    "headers = [cell.value for cell in ws['A3':'E3'][0]]\n",
    "headers"
   ]
  },
  {
   "cell_type": "code",
   "execution_count": null,
   "metadata": {},
   "outputs": [],
   "source": [
    "data = []\n",
    "for row in ws.iter_rows(min_row=4, max_col=5, values_only=True):\n",
    "    row_data = [cell for cell in row]\n",
    "    if all([cell == None for cell in row_data]):\n",
    "        break\n",
    "    data.append(row_data)\n",
    "\n",
    "# data = [[cell for cell in row] for row in ws.iter_rows(min_row=4, max_col=5, values_only=True)]"
   ]
  },
  {
   "cell_type": "code",
   "execution_count": null,
   "metadata": {},
   "outputs": [],
   "source": [
    "pd.DataFrame(data, columns=headers)"
   ]
  },
  {
   "cell_type": "code",
   "execution_count": null,
   "metadata": {},
   "outputs": [],
   "source": []
  },
  {
   "cell_type": "code",
   "execution_count": null,
   "metadata": {},
   "outputs": [],
   "source": []
  }
 ]
}